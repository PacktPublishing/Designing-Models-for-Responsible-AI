{
 "cells": [
  {
   "cell_type": "markdown",
   "metadata": {
    "id": "PgCoQoxIRzOU"
   },
   "source": [
    "This is an example taken from https://colab.research.google.com/github/wandb/examples/\n",
    "It helps us to understand how Weights & Biases can be used for machine learning experiment tracking, model checkpointing, and collaboration with your team. Here we mainly focus on how to train and track a training experiment using Pytorch Neural Network, after setting up an account on W&B."
   ]
  },
  {
   "cell_type": "markdown",
   "metadata": {
    "id": "Nh45j86CRzOY"
   },
   "source": [
    "<img src=\"http://wandb.me/logo-im-png\" width=\"400\" alt=\"Weights & Biases\" />\n",
    "<!--- @wandbcode{intro-colab} -->"
   ]
  },
  {
   "cell_type": "markdown",
   "metadata": {
    "id": "AOxuQqHZRzOa"
   },
   "source": [
    "## 🪄 Install `wandb` library and login\n",
    "\n",
    "\n",
    "Start by installing the library and logging in to your free account.\n",
    "\n"
   ]
  },
  {
   "cell_type": "code",
   "execution_count": 2,
   "metadata": {
    "colab": {
     "base_uri": "https://localhost:8080/"
    },
    "id": "-9-KfhzwRzOb",
    "outputId": "36f22572-b03c-4092-d214-ca3d5ee7d5df"
   },
   "outputs": [
    {
     "name": "stdout",
     "output_type": "stream",
     "text": [
      "\u001b[K     |████████████████████████████████| 1.9 MB 4.4 MB/s \n",
      "\u001b[K     |████████████████████████████████| 182 kB 29.1 MB/s \n",
      "\u001b[K     |████████████████████████████████| 166 kB 27.2 MB/s \n",
      "\u001b[K     |████████████████████████████████| 63 kB 1.5 MB/s \n",
      "\u001b[K     |████████████████████████████████| 166 kB 34.8 MB/s \n",
      "\u001b[K     |████████████████████████████████| 162 kB 25.2 MB/s \n",
      "\u001b[K     |████████████████████████████████| 162 kB 23.7 MB/s \n",
      "\u001b[K     |████████████████████████████████| 158 kB 24.1 MB/s \n",
      "\u001b[K     |████████████████████████████████| 157 kB 28.0 MB/s \n",
      "\u001b[K     |████████████████████████████████| 157 kB 26.6 MB/s \n",
      "\u001b[K     |████████████████████████████████| 157 kB 25.0 MB/s \n",
      "\u001b[K     |████████████████████████████████| 157 kB 27.0 MB/s \n",
      "\u001b[K     |████████████████████████████████| 157 kB 25.4 MB/s \n",
      "\u001b[K     |████████████████████████████████| 157 kB 33.0 MB/s \n",
      "\u001b[K     |████████████████████████████████| 157 kB 30.6 MB/s \n",
      "\u001b[K     |████████████████████████████████| 156 kB 30.5 MB/s \n",
      "\u001b[?25h  Building wheel for pathtools (setup.py) ... \u001b[?25l\u001b[?25hdone\n"
     ]
    }
   ],
   "source": [
    "!pip install wandb -qU"
   ]
  },
  {
   "cell_type": "code",
   "execution_count": 7,
   "metadata": {
    "colab": {
     "base_uri": "https://localhost:8080/"
    },
    "id": "5I-5VhZTRzOc",
    "outputId": "61f45d00-ee24-4e9f-aa93-2e39a9d79aed"
   },
   "outputs": [
    {
     "name": "stderr",
     "output_type": "stream",
     "text": [
      "\u001b[34m\u001b[1mwandb\u001b[0m: \u001b[33mWARNING\u001b[0m If you're specifying your api key in code, ensure this code is not shared publicly.\n",
      "\u001b[34m\u001b[1mwandb\u001b[0m: \u001b[33mWARNING\u001b[0m Consider setting the WANDB_API_KEY environment variable, or running `wandb login` from the command line.\n",
      "\u001b[34m\u001b[1mwandb\u001b[0m: Appending key for api.wandb.ai to your netrc file: /root/.netrc\n"
     ]
    },
    {
     "data": {
      "text/plain": [
       "True"
      ]
     },
     "execution_count": 7,
     "metadata": {},
     "output_type": "execute_result"
    }
   ],
   "source": [
    "# Log in to your W&B account\n",
    "import wandb\n",
    "wandb.login(key='') #please specify our own login key"
   ]
  },
  {
   "cell_type": "markdown",
   "metadata": {
    "id": "AXE1gsWvRzOd"
   },
   "source": [
    "## 👟 Run an experiment\n",
    "1️⃣. **Start a new run** and pass in hyperparameters to track\n",
    "\n",
    "2️⃣. **Log metrics** from training or evaluation\n",
    "\n",
    "3️⃣. **Visualize results** in the dashboard"
   ]
  },
  {
   "cell_type": "code",
   "execution_count": 8,
   "metadata": {
    "colab": {
     "base_uri": "https://localhost:8080/",
     "height": 1000,
     "referenced_widgets": [
      "3c0519d015c54d3abf16d1a03c299472",
      "8a0eb5f0286446a5811dd14875d63fda",
      "7aafd8dd5d5f4774bc86960368f32e0b",
      "87a4b3e5ee184f00be1fa332bb3a057f",
      "7831957c8af84088890d532970cda39e",
      "86592396c9d7433a91fb0660ce70511b",
      "331f1bacee6b42ebbeaa13584b89e4fd",
      "2463a623d51f4901bdab1a084b2f5c61"
     ]
    },
    "id": "87iwVdMIRzOe",
    "outputId": "bc4bbf63-431b-49ec-8e69-f2e08d62f053"
   },
   "outputs": [
    {
     "data": {
      "text/html": [
       "Tracking run with wandb version 0.13.4"
      ],
      "text/plain": [
       "<IPython.core.display.HTML object>"
      ]
     },
     "metadata": {},
     "output_type": "display_data"
    },
    {
     "data": {
      "text/html": [
       "Run data is saved locally in <code>/content/wandb/run-20221025_090015-3opced76</code>"
      ],
      "text/plain": [
       "<IPython.core.display.HTML object>"
      ]
     },
     "metadata": {},
     "output_type": "display_data"
    },
    {
     "data": {
      "text/html": [
       "Syncing run <strong><a href=\"https://wandb.ai/sharmi1206/basic-intro/runs/3opced76\" target=\"_blank\">experiment_0</a></strong> to <a href=\"https://wandb.ai/sharmi1206/basic-intro\" target=\"_blank\">Weights & Biases</a> (<a href=\"https://wandb.me/run\" target=\"_blank\">docs</a>)<br/>"
      ],
      "text/plain": [
       "<IPython.core.display.HTML object>"
      ]
     },
     "metadata": {},
     "output_type": "display_data"
    },
    {
     "data": {
      "text/html": [
       "Waiting for W&B process to finish... <strong style=\"color:green\">(success).</strong>"
      ],
      "text/plain": [
       "<IPython.core.display.HTML object>"
      ]
     },
     "metadata": {},
     "output_type": "display_data"
    },
    {
     "data": {
      "text/html": [
       "<style>\n",
       "    table.wandb td:nth-child(1) { padding: 0 10px; text-align: left ; width: auto;} td:nth-child(2) {text-align: left ; width: 100%}\n",
       "    .wandb-row { display: flex; flex-direction: row; flex-wrap: wrap; justify-content: flex-start; width: 100% }\n",
       "    .wandb-col { display: flex; flex-direction: column; flex-basis: 100%; flex: 1; padding: 10px; }\n",
       "    </style>\n",
       "<div class=\"wandb-row\"><div class=\"wandb-col\"><h3>Run history:</h3><br/><table class=\"wandb\"><tr><td>acc</td><td>▁▆▄▅▆█▇▇▇███▇█▇▇██</td></tr><tr><td>loss</td><td>█▃▃▂▁▁▂▂▂▁▂▂▂▂▁▁▁▁</td></tr></table><br/></div><div class=\"wandb-col\"><h3>Run summary:</h3><br/><table class=\"wandb\"><tr><td>acc</td><td>0.95993</td></tr><tr><td>loss</td><td>0.03696</td></tr></table><br/></div></div>"
      ],
      "text/plain": [
       "<IPython.core.display.HTML object>"
      ]
     },
     "metadata": {},
     "output_type": "display_data"
    },
    {
     "data": {
      "text/html": [
       "Synced <strong style=\"color:#cdcd00\">experiment_0</strong>: <a href=\"https://wandb.ai/sharmi1206/basic-intro/runs/3opced76\" target=\"_blank\">https://wandb.ai/sharmi1206/basic-intro/runs/3opced76</a><br/>Synced 4 W&B file(s), 0 media file(s), 0 artifact file(s) and 0 other file(s)"
      ],
      "text/plain": [
       "<IPython.core.display.HTML object>"
      ]
     },
     "metadata": {},
     "output_type": "display_data"
    },
    {
     "data": {
      "text/html": [
       "Find logs at: <code>./wandb/run-20221025_090015-3opced76/logs</code>"
      ],
      "text/plain": [
       "<IPython.core.display.HTML object>"
      ]
     },
     "metadata": {},
     "output_type": "display_data"
    },
    {
     "data": {
      "text/html": [
       "Tracking run with wandb version 0.13.4"
      ],
      "text/plain": [
       "<IPython.core.display.HTML object>"
      ]
     },
     "metadata": {},
     "output_type": "display_data"
    },
    {
     "data": {
      "text/html": [
       "Run data is saved locally in <code>/content/wandb/run-20221025_090020-qgqhms5u</code>"
      ],
      "text/plain": [
       "<IPython.core.display.HTML object>"
      ]
     },
     "metadata": {},
     "output_type": "display_data"
    },
    {
     "data": {
      "text/html": [
       "Syncing run <strong><a href=\"https://wandb.ai/sharmi1206/basic-intro/runs/qgqhms5u\" target=\"_blank\">experiment_1</a></strong> to <a href=\"https://wandb.ai/sharmi1206/basic-intro\" target=\"_blank\">Weights & Biases</a> (<a href=\"https://wandb.me/run\" target=\"_blank\">docs</a>)<br/>"
      ],
      "text/plain": [
       "<IPython.core.display.HTML object>"
      ]
     },
     "metadata": {},
     "output_type": "display_data"
    },
    {
     "data": {
      "text/html": [
       "Waiting for W&B process to finish... <strong style=\"color:green\">(success).</strong>"
      ],
      "text/plain": [
       "<IPython.core.display.HTML object>"
      ]
     },
     "metadata": {},
     "output_type": "display_data"
    },
    {
     "data": {
      "text/html": [
       "<style>\n",
       "    table.wandb td:nth-child(1) { padding: 0 10px; text-align: left ; width: auto;} td:nth-child(2) {text-align: left ; width: 100%}\n",
       "    .wandb-row { display: flex; flex-direction: row; flex-wrap: wrap; justify-content: flex-start; width: 100% }\n",
       "    .wandb-col { display: flex; flex-direction: column; flex-basis: 100%; flex: 1; padding: 10px; }\n",
       "    </style>\n",
       "<div class=\"wandb-row\"><div class=\"wandb-col\"><h3>Run history:</h3><br/><table class=\"wandb\"><tr><td>acc</td><td>▁▆▄▆▇▇▇▇▇▇██▇███▇█</td></tr><tr><td>loss</td><td>██▃▂▂▂▂▁▁▁▁▁▁▁▁▁▁▁</td></tr></table><br/></div><div class=\"wandb-col\"><h3>Run summary:</h3><br/><table class=\"wandb\"><tr><td>acc</td><td>0.86254</td></tr><tr><td>loss</td><td>0.09406</td></tr></table><br/></div></div>"
      ],
      "text/plain": [
       "<IPython.core.display.HTML object>"
      ]
     },
     "metadata": {},
     "output_type": "display_data"
    },
    {
     "data": {
      "text/html": [
       "Synced <strong style=\"color:#cdcd00\">experiment_1</strong>: <a href=\"https://wandb.ai/sharmi1206/basic-intro/runs/qgqhms5u\" target=\"_blank\">https://wandb.ai/sharmi1206/basic-intro/runs/qgqhms5u</a><br/>Synced 4 W&B file(s), 0 media file(s), 0 artifact file(s) and 0 other file(s)"
      ],
      "text/plain": [
       "<IPython.core.display.HTML object>"
      ]
     },
     "metadata": {},
     "output_type": "display_data"
    },
    {
     "data": {
      "text/html": [
       "Find logs at: <code>./wandb/run-20221025_090020-qgqhms5u/logs</code>"
      ],
      "text/plain": [
       "<IPython.core.display.HTML object>"
      ]
     },
     "metadata": {},
     "output_type": "display_data"
    },
    {
     "data": {
      "text/html": [
       "Tracking run with wandb version 0.13.4"
      ],
      "text/plain": [
       "<IPython.core.display.HTML object>"
      ]
     },
     "metadata": {},
     "output_type": "display_data"
    },
    {
     "data": {
      "text/html": [
       "Run data is saved locally in <code>/content/wandb/run-20221025_090024-339me9ep</code>"
      ],
      "text/plain": [
       "<IPython.core.display.HTML object>"
      ]
     },
     "metadata": {},
     "output_type": "display_data"
    },
    {
     "data": {
      "text/html": [
       "Syncing run <strong><a href=\"https://wandb.ai/sharmi1206/basic-intro/runs/339me9ep\" target=\"_blank\">experiment_2</a></strong> to <a href=\"https://wandb.ai/sharmi1206/basic-intro\" target=\"_blank\">Weights & Biases</a> (<a href=\"https://wandb.me/run\" target=\"_blank\">docs</a>)<br/>"
      ],
      "text/plain": [
       "<IPython.core.display.HTML object>"
      ]
     },
     "metadata": {},
     "output_type": "display_data"
    },
    {
     "data": {
      "text/html": [
       "Waiting for W&B process to finish... <strong style=\"color:green\">(success).</strong>"
      ],
      "text/plain": [
       "<IPython.core.display.HTML object>"
      ]
     },
     "metadata": {},
     "output_type": "display_data"
    },
    {
     "data": {
      "text/html": [
       "<style>\n",
       "    table.wandb td:nth-child(1) { padding: 0 10px; text-align: left ; width: auto;} td:nth-child(2) {text-align: left ; width: 100%}\n",
       "    .wandb-row { display: flex; flex-direction: row; flex-wrap: wrap; justify-content: flex-start; width: 100% }\n",
       "    .wandb-col { display: flex; flex-direction: column; flex-basis: 100%; flex: 1; padding: 10px; }\n",
       "    </style>\n",
       "<div class=\"wandb-row\"><div class=\"wandb-col\"><h3>Run history:</h3><br/><table class=\"wandb\"><tr><td>acc</td><td>▁▆▅▆▇▇▇▇█▇▇█▇█████</td></tr><tr><td>loss</td><td>█▃▃▄▁▁▂▂▁▁▂▂▁▁▁▂▂▁</td></tr></table><br/></div><div class=\"wandb-col\"><h3>Run summary:</h3><br/><table class=\"wandb\"><tr><td>acc</td><td>0.78601</td></tr><tr><td>loss</td><td>0.20111</td></tr></table><br/></div></div>"
      ],
      "text/plain": [
       "<IPython.core.display.HTML object>"
      ]
     },
     "metadata": {},
     "output_type": "display_data"
    },
    {
     "data": {
      "text/html": [
       "Synced <strong style=\"color:#cdcd00\">experiment_2</strong>: <a href=\"https://wandb.ai/sharmi1206/basic-intro/runs/339me9ep\" target=\"_blank\">https://wandb.ai/sharmi1206/basic-intro/runs/339me9ep</a><br/>Synced 4 W&B file(s), 0 media file(s), 0 artifact file(s) and 0 other file(s)"
      ],
      "text/plain": [
       "<IPython.core.display.HTML object>"
      ]
     },
     "metadata": {},
     "output_type": "display_data"
    },
    {
     "data": {
      "text/html": [
       "Find logs at: <code>./wandb/run-20221025_090024-339me9ep/logs</code>"
      ],
      "text/plain": [
       "<IPython.core.display.HTML object>"
      ]
     },
     "metadata": {},
     "output_type": "display_data"
    },
    {
     "data": {
      "text/html": [
       "Tracking run with wandb version 0.13.4"
      ],
      "text/plain": [
       "<IPython.core.display.HTML object>"
      ]
     },
     "metadata": {},
     "output_type": "display_data"
    },
    {
     "data": {
      "text/html": [
       "Run data is saved locally in <code>/content/wandb/run-20221025_090029-2ucsp7ts</code>"
      ],
      "text/plain": [
       "<IPython.core.display.HTML object>"
      ]
     },
     "metadata": {},
     "output_type": "display_data"
    },
    {
     "data": {
      "text/html": [
       "Syncing run <strong><a href=\"https://wandb.ai/sharmi1206/basic-intro/runs/2ucsp7ts\" target=\"_blank\">experiment_3</a></strong> to <a href=\"https://wandb.ai/sharmi1206/basic-intro\" target=\"_blank\">Weights & Biases</a> (<a href=\"https://wandb.me/run\" target=\"_blank\">docs</a>)<br/>"
      ],
      "text/plain": [
       "<IPython.core.display.HTML object>"
      ]
     },
     "metadata": {},
     "output_type": "display_data"
    },
    {
     "data": {
      "text/html": [
       "Waiting for W&B process to finish... <strong style=\"color:green\">(success).</strong>"
      ],
      "text/plain": [
       "<IPython.core.display.HTML object>"
      ]
     },
     "metadata": {},
     "output_type": "display_data"
    },
    {
     "data": {
      "text/html": [
       "<style>\n",
       "    table.wandb td:nth-child(1) { padding: 0 10px; text-align: left ; width: auto;} td:nth-child(2) {text-align: left ; width: 100%}\n",
       "    .wandb-row { display: flex; flex-direction: row; flex-wrap: wrap; justify-content: flex-start; width: 100% }\n",
       "    .wandb-col { display: flex; flex-direction: column; flex-basis: 100%; flex: 1; padding: 10px; }\n",
       "    </style>\n",
       "<div class=\"wandb-row\"><div class=\"wandb-col\"><h3>Run history:</h3><br/><table class=\"wandb\"><tr><td>acc</td><td>▁▆▅████▇█▇█████▇██</td></tr><tr><td>loss</td><td>█▇▃▃▁▁▂▂▂▂▁▂▁▁▂▁▂▁</td></tr></table><br/></div><div class=\"wandb-col\"><h3>Run summary:</h3><br/><table class=\"wandb\"><tr><td>acc</td><td>0.84449</td></tr><tr><td>loss</td><td>0.13137</td></tr></table><br/></div></div>"
      ],
      "text/plain": [
       "<IPython.core.display.HTML object>"
      ]
     },
     "metadata": {},
     "output_type": "display_data"
    },
    {
     "data": {
      "text/html": [
       "Synced <strong style=\"color:#cdcd00\">experiment_3</strong>: <a href=\"https://wandb.ai/sharmi1206/basic-intro/runs/2ucsp7ts\" target=\"_blank\">https://wandb.ai/sharmi1206/basic-intro/runs/2ucsp7ts</a><br/>Synced 4 W&B file(s), 0 media file(s), 0 artifact file(s) and 0 other file(s)"
      ],
      "text/plain": [
       "<IPython.core.display.HTML object>"
      ]
     },
     "metadata": {},
     "output_type": "display_data"
    },
    {
     "data": {
      "text/html": [
       "Find logs at: <code>./wandb/run-20221025_090029-2ucsp7ts/logs</code>"
      ],
      "text/plain": [
       "<IPython.core.display.HTML object>"
      ]
     },
     "metadata": {},
     "output_type": "display_data"
    },
    {
     "data": {
      "text/html": [
       "Tracking run with wandb version 0.13.4"
      ],
      "text/plain": [
       "<IPython.core.display.HTML object>"
      ]
     },
     "metadata": {},
     "output_type": "display_data"
    },
    {
     "data": {
      "text/html": [
       "Run data is saved locally in <code>/content/wandb/run-20221025_090034-1237k2om</code>"
      ],
      "text/plain": [
       "<IPython.core.display.HTML object>"
      ]
     },
     "metadata": {},
     "output_type": "display_data"
    },
    {
     "data": {
      "text/html": [
       "Syncing run <strong><a href=\"https://wandb.ai/sharmi1206/basic-intro/runs/1237k2om\" target=\"_blank\">experiment_4</a></strong> to <a href=\"https://wandb.ai/sharmi1206/basic-intro\" target=\"_blank\">Weights & Biases</a> (<a href=\"https://wandb.me/run\" target=\"_blank\">docs</a>)<br/>"
      ],
      "text/plain": [
       "<IPython.core.display.HTML object>"
      ]
     },
     "metadata": {},
     "output_type": "display_data"
    },
    {
     "data": {
      "text/html": [
       "Waiting for W&B process to finish... <strong style=\"color:green\">(success).</strong>"
      ],
      "text/plain": [
       "<IPython.core.display.HTML object>"
      ]
     },
     "metadata": {},
     "output_type": "display_data"
    },
    {
     "data": {
      "text/html": [
       "<style>\n",
       "    table.wandb td:nth-child(1) { padding: 0 10px; text-align: left ; width: auto;} td:nth-child(2) {text-align: left ; width: 100%}\n",
       "    .wandb-row { display: flex; flex-direction: row; flex-wrap: wrap; justify-content: flex-start; width: 100% }\n",
       "    .wandb-col { display: flex; flex-direction: column; flex-basis: 100%; flex: 1; padding: 10px; }\n",
       "    </style>\n",
       "<div class=\"wandb-row\"><div class=\"wandb-col\"><h3>Run history:</h3><br/><table class=\"wandb\"><tr><td>acc</td><td>▁▃▆▆▆▇▇▇██▇▇█▇██▇█</td></tr><tr><td>loss</td><td>█▆▃▂▂▃▂▁▁▁▁▁▂▁▁▁▁▁</td></tr></table><br/></div><div class=\"wandb-col\"><h3>Run summary:</h3><br/><table class=\"wandb\"><tr><td>acc</td><td>0.8309</td></tr><tr><td>loss</td><td>0.18071</td></tr></table><br/></div></div>"
      ],
      "text/plain": [
       "<IPython.core.display.HTML object>"
      ]
     },
     "metadata": {},
     "output_type": "display_data"
    },
    {
     "data": {
      "text/html": [
       "Synced <strong style=\"color:#cdcd00\">experiment_4</strong>: <a href=\"https://wandb.ai/sharmi1206/basic-intro/runs/1237k2om\" target=\"_blank\">https://wandb.ai/sharmi1206/basic-intro/runs/1237k2om</a><br/>Synced 4 W&B file(s), 0 media file(s), 0 artifact file(s) and 0 other file(s)"
      ],
      "text/plain": [
       "<IPython.core.display.HTML object>"
      ]
     },
     "metadata": {},
     "output_type": "display_data"
    },
    {
     "data": {
      "text/html": [
       "Find logs at: <code>./wandb/run-20221025_090034-1237k2om/logs</code>"
      ],
      "text/plain": [
       "<IPython.core.display.HTML object>"
      ]
     },
     "metadata": {},
     "output_type": "display_data"
    },
    {
     "data": {
      "text/html": [
       "Tracking run with wandb version 0.13.4"
      ],
      "text/plain": [
       "<IPython.core.display.HTML object>"
      ]
     },
     "metadata": {},
     "output_type": "display_data"
    },
    {
     "data": {
      "text/html": [
       "Run data is saved locally in <code>/content/wandb/run-20221025_090039-38ubzct5</code>"
      ],
      "text/plain": [
       "<IPython.core.display.HTML object>"
      ]
     },
     "metadata": {},
     "output_type": "display_data"
    },
    {
     "data": {
      "text/html": [
       "Syncing run <strong><a href=\"https://wandb.ai/sharmi1206/basic-intro/runs/38ubzct5\" target=\"_blank\">experiment_5</a></strong> to <a href=\"https://wandb.ai/sharmi1206/basic-intro\" target=\"_blank\">Weights & Biases</a> (<a href=\"https://wandb.me/run\" target=\"_blank\">docs</a>)<br/>"
      ],
      "text/plain": [
       "<IPython.core.display.HTML object>"
      ]
     },
     "metadata": {},
     "output_type": "display_data"
    },
    {
     "data": {
      "text/html": [
       "Waiting for W&B process to finish... <strong style=\"color:green\">(success).</strong>"
      ],
      "text/plain": [
       "<IPython.core.display.HTML object>"
      ]
     },
     "metadata": {},
     "output_type": "display_data"
    },
    {
     "data": {
      "application/vnd.jupyter.widget-view+json": {
       "model_id": "3c0519d015c54d3abf16d1a03c299472",
       "version_major": 2,
       "version_minor": 0
      },
      "text/plain": [
       "VBox(children=(Label(value='0.001 MB of 0.008 MB uploaded (0.000 MB deduped)\\r'), FloatProgress(value=0.137016…"
      ]
     },
     "metadata": {},
     "output_type": "display_data"
    },
    {
     "data": {
      "text/html": [
       "<style>\n",
       "    table.wandb td:nth-child(1) { padding: 0 10px; text-align: left ; width: auto;} td:nth-child(2) {text-align: left ; width: 100%}\n",
       "    .wandb-row { display: flex; flex-direction: row; flex-wrap: wrap; justify-content: flex-start; width: 100% }\n",
       "    .wandb-col { display: flex; flex-direction: column; flex-basis: 100%; flex: 1; padding: 10px; }\n",
       "    </style>\n",
       "<div class=\"wandb-row\"><div class=\"wandb-col\"><h3>Run history:</h3><br/><table class=\"wandb\"><tr><td>acc</td><td>▁▆▇▆▇▇▇▇▇████▇████</td></tr><tr><td>loss</td><td>█▇▃▂▃▁▁▁▃▂▁▂▂▁▁▁▁▂</td></tr></table><br/></div><div class=\"wandb-col\"><h3>Run summary:</h3><br/><table class=\"wandb\"><tr><td>acc</td><td>0.97506</td></tr><tr><td>loss</td><td>0.05058</td></tr></table><br/></div></div>"
      ],
      "text/plain": [
       "<IPython.core.display.HTML object>"
      ]
     },
     "metadata": {},
     "output_type": "display_data"
    },
    {
     "data": {
      "text/html": [
       "Synced <strong style=\"color:#cdcd00\">experiment_5</strong>: <a href=\"https://wandb.ai/sharmi1206/basic-intro/runs/38ubzct5\" target=\"_blank\">https://wandb.ai/sharmi1206/basic-intro/runs/38ubzct5</a><br/>Synced 4 W&B file(s), 0 media file(s), 0 artifact file(s) and 0 other file(s)"
      ],
      "text/plain": [
       "<IPython.core.display.HTML object>"
      ]
     },
     "metadata": {},
     "output_type": "display_data"
    },
    {
     "data": {
      "text/html": [
       "Find logs at: <code>./wandb/run-20221025_090039-38ubzct5/logs</code>"
      ],
      "text/plain": [
       "<IPython.core.display.HTML object>"
      ]
     },
     "metadata": {},
     "output_type": "display_data"
    },
    {
     "data": {
      "text/html": [
       "Tracking run with wandb version 0.13.4"
      ],
      "text/plain": [
       "<IPython.core.display.HTML object>"
      ]
     },
     "metadata": {},
     "output_type": "display_data"
    },
    {
     "data": {
      "text/html": [
       "Run data is saved locally in <code>/content/wandb/run-20221025_090044-2kk9xcbq</code>"
      ],
      "text/plain": [
       "<IPython.core.display.HTML object>"
      ]
     },
     "metadata": {},
     "output_type": "display_data"
    },
    {
     "data": {
      "text/html": [
       "Syncing run <strong><a href=\"https://wandb.ai/sharmi1206/basic-intro/runs/2kk9xcbq\" target=\"_blank\">experiment_6</a></strong> to <a href=\"https://wandb.ai/sharmi1206/basic-intro\" target=\"_blank\">Weights & Biases</a> (<a href=\"https://wandb.me/run\" target=\"_blank\">docs</a>)<br/>"
      ],
      "text/plain": [
       "<IPython.core.display.HTML object>"
      ]
     },
     "metadata": {},
     "output_type": "display_data"
    },
    {
     "data": {
      "text/html": [
       "Waiting for W&B process to finish... <strong style=\"color:green\">(success).</strong>"
      ],
      "text/plain": [
       "<IPython.core.display.HTML object>"
      ]
     },
     "metadata": {},
     "output_type": "display_data"
    },
    {
     "data": {
      "text/html": [
       "<style>\n",
       "    table.wandb td:nth-child(1) { padding: 0 10px; text-align: left ; width: auto;} td:nth-child(2) {text-align: left ; width: 100%}\n",
       "    .wandb-row { display: flex; flex-direction: row; flex-wrap: wrap; justify-content: flex-start; width: 100% }\n",
       "    .wandb-col { display: flex; flex-direction: column; flex-basis: 100%; flex: 1; padding: 10px; }\n",
       "    </style>\n",
       "<div class=\"wandb-row\"><div class=\"wandb-col\"><h3>Run history:</h3><br/><table class=\"wandb\"><tr><td>acc</td><td>▁▄▅█▇▇▇█▇█▇███████</td></tr><tr><td>loss</td><td>▇█▃▃▃▂▁▁▁▂▂▁▂▁▂▂▁▁</td></tr></table><br/></div><div class=\"wandb-col\"><h3>Run summary:</h3><br/><table class=\"wandb\"><tr><td>acc</td><td>0.97775</td></tr><tr><td>loss</td><td>0.00957</td></tr></table><br/></div></div>"
      ],
      "text/plain": [
       "<IPython.core.display.HTML object>"
      ]
     },
     "metadata": {},
     "output_type": "display_data"
    },
    {
     "data": {
      "text/html": [
       "Synced <strong style=\"color:#cdcd00\">experiment_6</strong>: <a href=\"https://wandb.ai/sharmi1206/basic-intro/runs/2kk9xcbq\" target=\"_blank\">https://wandb.ai/sharmi1206/basic-intro/runs/2kk9xcbq</a><br/>Synced 4 W&B file(s), 0 media file(s), 0 artifact file(s) and 0 other file(s)"
      ],
      "text/plain": [
       "<IPython.core.display.HTML object>"
      ]
     },
     "metadata": {},
     "output_type": "display_data"
    },
    {
     "data": {
      "text/html": [
       "Find logs at: <code>./wandb/run-20221025_090044-2kk9xcbq/logs</code>"
      ],
      "text/plain": [
       "<IPython.core.display.HTML object>"
      ]
     },
     "metadata": {},
     "output_type": "display_data"
    },
    {
     "data": {
      "text/html": [
       "Tracking run with wandb version 0.13.4"
      ],
      "text/plain": [
       "<IPython.core.display.HTML object>"
      ]
     },
     "metadata": {},
     "output_type": "display_data"
    },
    {
     "data": {
      "text/html": [
       "Run data is saved locally in <code>/content/wandb/run-20221025_090049-qqt3f4hv</code>"
      ],
      "text/plain": [
       "<IPython.core.display.HTML object>"
      ]
     },
     "metadata": {},
     "output_type": "display_data"
    },
    {
     "data": {
      "text/html": [
       "Syncing run <strong><a href=\"https://wandb.ai/sharmi1206/basic-intro/runs/qqt3f4hv\" target=\"_blank\">experiment_7</a></strong> to <a href=\"https://wandb.ai/sharmi1206/basic-intro\" target=\"_blank\">Weights & Biases</a> (<a href=\"https://wandb.me/run\" target=\"_blank\">docs</a>)<br/>"
      ],
      "text/plain": [
       "<IPython.core.display.HTML object>"
      ]
     },
     "metadata": {},
     "output_type": "display_data"
    },
    {
     "data": {
      "text/html": [
       "Waiting for W&B process to finish... <strong style=\"color:green\">(success).</strong>"
      ],
      "text/plain": [
       "<IPython.core.display.HTML object>"
      ]
     },
     "metadata": {},
     "output_type": "display_data"
    },
    {
     "data": {
      "text/html": [
       "<style>\n",
       "    table.wandb td:nth-child(1) { padding: 0 10px; text-align: left ; width: auto;} td:nth-child(2) {text-align: left ; width: 100%}\n",
       "    .wandb-row { display: flex; flex-direction: row; flex-wrap: wrap; justify-content: flex-start; width: 100% }\n",
       "    .wandb-col { display: flex; flex-direction: column; flex-basis: 100%; flex: 1; padding: 10px; }\n",
       "    </style>\n",
       "<div class=\"wandb-row\"><div class=\"wandb-col\"><h3>Run history:</h3><br/><table class=\"wandb\"><tr><td>acc</td><td>▂▁▇▇▇▆█▇████▇▇▇▇▇█</td></tr><tr><td>loss</td><td>▆█▅▃▃▁▂▁▁▁▁▁▂▂▂▁▁▁</td></tr></table><br/></div><div class=\"wandb-col\"><h3>Run summary:</h3><br/><table class=\"wandb\"><tr><td>acc</td><td>0.96468</td></tr><tr><td>loss</td><td>0.03202</td></tr></table><br/></div></div>"
      ],
      "text/plain": [
       "<IPython.core.display.HTML object>"
      ]
     },
     "metadata": {},
     "output_type": "display_data"
    },
    {
     "data": {
      "text/html": [
       "Synced <strong style=\"color:#cdcd00\">experiment_7</strong>: <a href=\"https://wandb.ai/sharmi1206/basic-intro/runs/qqt3f4hv\" target=\"_blank\">https://wandb.ai/sharmi1206/basic-intro/runs/qqt3f4hv</a><br/>Synced 4 W&B file(s), 0 media file(s), 0 artifact file(s) and 0 other file(s)"
      ],
      "text/plain": [
       "<IPython.core.display.HTML object>"
      ]
     },
     "metadata": {},
     "output_type": "display_data"
    },
    {
     "data": {
      "text/html": [
       "Find logs at: <code>./wandb/run-20221025_090049-qqt3f4hv/logs</code>"
      ],
      "text/plain": [
       "<IPython.core.display.HTML object>"
      ]
     },
     "metadata": {},
     "output_type": "display_data"
    },
    {
     "data": {
      "text/html": [
       "Tracking run with wandb version 0.13.4"
      ],
      "text/plain": [
       "<IPython.core.display.HTML object>"
      ]
     },
     "metadata": {},
     "output_type": "display_data"
    },
    {
     "data": {
      "text/html": [
       "Run data is saved locally in <code>/content/wandb/run-20221025_090053-3nr2cwn9</code>"
      ],
      "text/plain": [
       "<IPython.core.display.HTML object>"
      ]
     },
     "metadata": {},
     "output_type": "display_data"
    },
    {
     "data": {
      "text/html": [
       "Syncing run <strong><a href=\"https://wandb.ai/sharmi1206/basic-intro/runs/3nr2cwn9\" target=\"_blank\">experiment_8</a></strong> to <a href=\"https://wandb.ai/sharmi1206/basic-intro\" target=\"_blank\">Weights & Biases</a> (<a href=\"https://wandb.me/run\" target=\"_blank\">docs</a>)<br/>"
      ],
      "text/plain": [
       "<IPython.core.display.HTML object>"
      ]
     },
     "metadata": {},
     "output_type": "display_data"
    },
    {
     "data": {
      "text/html": [
       "Waiting for W&B process to finish... <strong style=\"color:green\">(success).</strong>"
      ],
      "text/plain": [
       "<IPython.core.display.HTML object>"
      ]
     },
     "metadata": {},
     "output_type": "display_data"
    },
    {
     "data": {
      "text/html": [
       "<style>\n",
       "    table.wandb td:nth-child(1) { padding: 0 10px; text-align: left ; width: auto;} td:nth-child(2) {text-align: left ; width: 100%}\n",
       "    .wandb-row { display: flex; flex-direction: row; flex-wrap: wrap; justify-content: flex-start; width: 100% }\n",
       "    .wandb-col { display: flex; flex-direction: column; flex-basis: 100%; flex: 1; padding: 10px; }\n",
       "    </style>\n",
       "<div class=\"wandb-row\"><div class=\"wandb-col\"><h3>Run history:</h3><br/><table class=\"wandb\"><tr><td>acc</td><td>▁▃▃▄▇▄▆▅▇█▆▇█▇▇▇██</td></tr><tr><td>loss</td><td>█▃▃▃▃▂▂▂▁▂▂▂▂▁▂▁▁▁</td></tr></table><br/></div><div class=\"wandb-col\"><h3>Run summary:</h3><br/><table class=\"wandb\"><tr><td>acc</td><td>0.79705</td></tr><tr><td>loss</td><td>0.19784</td></tr></table><br/></div></div>"
      ],
      "text/plain": [
       "<IPython.core.display.HTML object>"
      ]
     },
     "metadata": {},
     "output_type": "display_data"
    },
    {
     "data": {
      "text/html": [
       "Synced <strong style=\"color:#cdcd00\">experiment_8</strong>: <a href=\"https://wandb.ai/sharmi1206/basic-intro/runs/3nr2cwn9\" target=\"_blank\">https://wandb.ai/sharmi1206/basic-intro/runs/3nr2cwn9</a><br/>Synced 4 W&B file(s), 0 media file(s), 0 artifact file(s) and 0 other file(s)"
      ],
      "text/plain": [
       "<IPython.core.display.HTML object>"
      ]
     },
     "metadata": {},
     "output_type": "display_data"
    },
    {
     "data": {
      "text/html": [
       "Find logs at: <code>./wandb/run-20221025_090053-3nr2cwn9/logs</code>"
      ],
      "text/plain": [
       "<IPython.core.display.HTML object>"
      ]
     },
     "metadata": {},
     "output_type": "display_data"
    },
    {
     "data": {
      "text/html": [
       "Tracking run with wandb version 0.13.4"
      ],
      "text/plain": [
       "<IPython.core.display.HTML object>"
      ]
     },
     "metadata": {},
     "output_type": "display_data"
    },
    {
     "data": {
      "text/html": [
       "Run data is saved locally in <code>/content/wandb/run-20221025_090058-17stouqs</code>"
      ],
      "text/plain": [
       "<IPython.core.display.HTML object>"
      ]
     },
     "metadata": {},
     "output_type": "display_data"
    },
    {
     "data": {
      "text/html": [
       "Syncing run <strong><a href=\"https://wandb.ai/sharmi1206/basic-intro/runs/17stouqs\" target=\"_blank\">experiment_9</a></strong> to <a href=\"https://wandb.ai/sharmi1206/basic-intro\" target=\"_blank\">Weights & Biases</a> (<a href=\"https://wandb.me/run\" target=\"_blank\">docs</a>)<br/>"
      ],
      "text/plain": [
       "<IPython.core.display.HTML object>"
      ]
     },
     "metadata": {},
     "output_type": "display_data"
    },
    {
     "data": {
      "text/html": [
       "Waiting for W&B process to finish... <strong style=\"color:green\">(success).</strong>"
      ],
      "text/plain": [
       "<IPython.core.display.HTML object>"
      ]
     },
     "metadata": {},
     "output_type": "display_data"
    },
    {
     "data": {
      "text/html": [
       "<style>\n",
       "    table.wandb td:nth-child(1) { padding: 0 10px; text-align: left ; width: auto;} td:nth-child(2) {text-align: left ; width: 100%}\n",
       "    .wandb-row { display: flex; flex-direction: row; flex-wrap: wrap; justify-content: flex-start; width: 100% }\n",
       "    .wandb-col { display: flex; flex-direction: column; flex-basis: 100%; flex: 1; padding: 10px; }\n",
       "    </style>\n",
       "<div class=\"wandb-row\"><div class=\"wandb-col\"><h3>Run history:</h3><br/><table class=\"wandb\"><tr><td>acc</td><td>▁▃▇▇█▇▇▇██▇▇█▇█▇█▇</td></tr><tr><td>loss</td><td>█▇▅▂▁▁▂▂▁▁▂▁▁▁▁▁▁▂</td></tr></table><br/></div><div class=\"wandb-col\"><h3>Run summary:</h3><br/><table class=\"wandb\"><tr><td>acc</td><td>0.77502</td></tr><tr><td>loss</td><td>0.23179</td></tr></table><br/></div></div>"
      ],
      "text/plain": [
       "<IPython.core.display.HTML object>"
      ]
     },
     "metadata": {},
     "output_type": "display_data"
    },
    {
     "data": {
      "text/html": [
       "Synced <strong style=\"color:#cdcd00\">experiment_9</strong>: <a href=\"https://wandb.ai/sharmi1206/basic-intro/runs/17stouqs\" target=\"_blank\">https://wandb.ai/sharmi1206/basic-intro/runs/17stouqs</a><br/>Synced 4 W&B file(s), 0 media file(s), 0 artifact file(s) and 0 other file(s)"
      ],
      "text/plain": [
       "<IPython.core.display.HTML object>"
      ]
     },
     "metadata": {},
     "output_type": "display_data"
    },
    {
     "data": {
      "text/html": [
       "Find logs at: <code>./wandb/run-20221025_090058-17stouqs/logs</code>"
      ],
      "text/plain": [
       "<IPython.core.display.HTML object>"
      ]
     },
     "metadata": {},
     "output_type": "display_data"
    }
   ],
   "source": [
    "import random\n",
    "\n",
    "# Launch 5 simulated experiments\n",
    "total_runs = 10\n",
    "for run in range(total_runs):\n",
    "  # 🐝 1️⃣ Start a new run to track this script\n",
    "  wandb.init(\n",
    "      # Set the project where this run will be logged\n",
    "      project=\"basic-intro\", \n",
    "      # We pass a run name (otherwise it’ll be randomly assigned, like sunshine-lollypop-10)\n",
    "      name=f\"experiment_{run}\", \n",
    "      # Track hyperparameters and run metadata\n",
    "      config={\n",
    "      \"learning_rate\": 0.02,\n",
    "      \"architecture\": \"CNN\",\n",
    "      \"dataset\": \"CIFAR-10\",\n",
    "      \"epochs\": 20,\n",
    "      })\n",
    "  \n",
    "  # This simple block simulates a training loop logging metrics\n",
    "  epochs = 20\n",
    "  offset = random.random() / 5\n",
    "  for epoch in range(2, epochs):\n",
    "      acc = 1 - 2 ** -epoch - random.random() / epoch - offset\n",
    "      loss = 2 ** -epoch + random.random() / epoch + offset\n",
    "      \n",
    "      # 🐝 2️⃣ Log metrics from your script to W&B\n",
    "      wandb.log({\"acc\": acc, \"loss\": loss})\n",
    "      \n",
    "  # Mark the run as finished\n",
    "  wandb.finish()"
   ]
  },
  {
   "cell_type": "markdown",
   "metadata": {
    "id": "7UEqYznXRzOf"
   },
   "source": [
    "3️⃣ You can find your interactive dashboard by clicking any of the  👆 wandb links above."
   ]
  },
  {
   "cell_type": "markdown",
   "metadata": {
    "id": "W5MqMk7oRzOf"
   },
   "source": [
    "# 🔥 Simple Pytorch Neural Network\n",
    "\n",
    "💪 Run this model to train a simple MNIST classifier, and click on the project page link to see your results stream in live to a W&B project.\n",
    "\n",
    "\n",
    "Any run in `wandb` automatically logs [metrics](https://docs.wandb.ai/ref/app/pages/run-page#charts-tab),\n",
    "[system information](https://docs.wandb.ai/ref/app/pages/run-page#system-tab),\n",
    "[hyperparameters](https://docs.wandb.ai/ref/app/pages/run-page#overview-tab),\n",
    "[terminal output](https://docs.wandb.ai/ref/app/pages/run-page#logs-tab) and\n",
    "you'll see an [interactive table](https://docs.wandb.ai/guides/data-vis)\n",
    "with model inputs and outputs."
   ]
  },
  {
   "cell_type": "markdown",
   "metadata": {
    "id": "ntVty9qBRzOf"
   },
   "source": [
    "## Set up Dataloader"
   ]
  },
  {
   "cell_type": "code",
   "execution_count": 10,
   "metadata": {
    "id": "YYlb5ijeRzOg"
   },
   "outputs": [],
   "source": [
    "#@title\n",
    "import wandb\n",
    "import math\n",
    "import random\n",
    "import torch, torchvision\n",
    "import torch.nn as nn\n",
    "import torchvision.transforms as T\n",
    "\n",
    "device = \"cuda:0\" if torch.cuda.is_available() else \"cpu\"\n",
    "\n",
    "def get_dataloader(is_train, batch_size, slice=5):\n",
    "    \"Get a training dataloader\"\n",
    "    full_dataset = torchvision.datasets.MNIST(root=\".\", train=is_train, transform=T.ToTensor(), download=True)\n",
    "    sub_dataset = torch.utils.data.Subset(full_dataset, indices=range(0, len(full_dataset), slice))\n",
    "    loader = torch.utils.data.DataLoader(dataset=sub_dataset, \n",
    "                                         batch_size=batch_size, \n",
    "                                         shuffle=True if is_train else False, \n",
    "                                         pin_memory=True, num_workers=2)\n",
    "    return loader\n",
    "\n",
    "def get_model(dropout):\n",
    "    \"A simple model\"\n",
    "    model = nn.Sequential(nn.Flatten(),\n",
    "                         nn.Linear(32*32, 256),\n",
    "                         nn.BatchNorm1d(256),\n",
    "                         nn.ReLU(),\n",
    "                         nn.Dropout(dropout),\n",
    "                         nn.Linear(256,10)).to(device)\n",
    "    return model\n",
    "\n",
    "def validate_model(model, valid_dl, loss_func, log_images=False, batch_idx=0):\n",
    "    \"Compute performance of the model on the validation dataset and log a wandb.Table\"\n",
    "    model.eval()\n",
    "    val_loss = 0.\n",
    "    with torch.inference_mode():\n",
    "        correct = 0\n",
    "        for i, (images, labels) in enumerate(valid_dl):\n",
    "            images, labels = images.to(device), labels.to(device)\n",
    "\n",
    "            # Forward pass ➡\n",
    "            outputs = model(images)\n",
    "            val_loss += loss_func(outputs, labels)*labels.size(0)\n",
    "\n",
    "            # Compute accuracy and accumulate\n",
    "            _, predicted = torch.max(outputs.data, 1)\n",
    "            correct += (predicted == labels).sum().item()\n",
    "\n",
    "            # Log one batch of images to the dashboard, always same batch_idx.\n",
    "            if i==batch_idx and log_images:\n",
    "                log_image_table(images, predicted, labels, outputs.softmax(dim=1))\n",
    "    return val_loss / len(valid_dl.dataset), correct / len(valid_dl.dataset)\n",
    "\n",
    "def log_image_table(images, predicted, labels, probs):\n",
    "    \"Log a wandb.Table with (img, pred, target, scores)\"\n",
    "    # 🐝 Create a wandb Table to log images, labels and predictions to\n",
    "    table = wandb.Table(columns=[\"image\", \"pred\", \"target\"]+[f\"score_{i}\" for i in range(10)])\n",
    "    for img, pred, targ, prob in zip(images.to(\"cpu\"), predicted.to(\"cpu\"), labels.to(\"cpu\"), probs.to(\"cpu\")):\n",
    "        table.add_data(wandb.Image(img[0].numpy()*255), pred, targ, *prob.numpy())\n",
    "    wandb.log({\"predictions_table\":table}, commit=False)"
   ]
  },
  {
   "cell_type": "markdown",
   "metadata": {
    "id": "2RMi51UtRzOg"
   },
   "source": [
    "## Train Your Model"
   ]
  },
  {
   "cell_type": "code",
   "execution_count": 9,
   "metadata": {
    "colab": {
     "base_uri": "https://localhost:8080/",
     "height": 1000
    },
    "id": "ARSi09hjRzOg",
    "outputId": "e0e9fb9f-05c6-475c-88b6-1439b621e53d"
   },
   "outputs": [
    {
     "data": {
      "text/html": [
       "Tracking run with wandb version 0.13.4"
      ],
      "text/plain": [
       "<IPython.core.display.HTML object>"
      ]
     },
     "metadata": {},
     "output_type": "display_data"
    },
    {
     "data": {
      "text/html": [
       "Run data is saved locally in <code>/content/wandb/run-20221025_090102-3utxmkpb</code>"
      ],
      "text/plain": [
       "<IPython.core.display.HTML object>"
      ]
     },
     "metadata": {},
     "output_type": "display_data"
    },
    {
     "data": {
      "text/html": [
       "Syncing run <strong><a href=\"https://wandb.ai/sharmi1206/pytorch-intro/runs/3utxmkpb\" target=\"_blank\">crisp-firefly-6</a></strong> to <a href=\"https://wandb.ai/sharmi1206/pytorch-intro\" target=\"_blank\">Weights & Biases</a> (<a href=\"https://wandb.me/run\" target=\"_blank\">docs</a>)<br/>"
      ],
      "text/plain": [
       "<IPython.core.display.HTML object>"
      ]
     },
     "metadata": {},
     "output_type": "display_data"
    },
    {
     "name": "stdout",
     "output_type": "stream",
     "text": [
      "Train Loss: 0.538, Valid Loss: 0.345946, Accuracy: 0.90\n",
      "Train Loss: 0.683, Valid Loss: 0.286832, Accuracy: 0.91\n",
      "Train Loss: 0.471, Valid Loss: 0.259266, Accuracy: 0.92\n",
      "Train Loss: 0.412, Valid Loss: 0.243488, Accuracy: 0.93\n",
      "Train Loss: 0.289, Valid Loss: 0.237428, Accuracy: 0.93\n",
      "Train Loss: 0.345, Valid Loss: 0.227471, Accuracy: 0.93\n",
      "Train Loss: 0.318, Valid Loss: 0.220237, Accuracy: 0.93\n",
      "Train Loss: 0.284, Valid Loss: 0.210837, Accuracy: 0.94\n",
      "Train Loss: 0.657, Valid Loss: 0.206419, Accuracy: 0.94\n",
      "Train Loss: 0.130, Valid Loss: 0.201418, Accuracy: 0.94\n",
      "Train Loss: 0.099, Valid Loss: 0.200119, Accuracy: 0.94\n",
      "Train Loss: 0.256, Valid Loss: 0.192761, Accuracy: 0.94\n",
      "Train Loss: 0.347, Valid Loss: 0.191222, Accuracy: 0.94\n",
      "Train Loss: 0.116, Valid Loss: 0.196548, Accuracy: 0.94\n",
      "Train Loss: 0.157, Valid Loss: 0.183463, Accuracy: 0.95\n",
      "Train Loss: 0.103, Valid Loss: 0.186012, Accuracy: 0.94\n",
      "Train Loss: 0.185, Valid Loss: 0.181211, Accuracy: 0.94\n",
      "Train Loss: 0.209, Valid Loss: 0.183602, Accuracy: 0.94\n",
      "Train Loss: 0.361, Valid Loss: 0.177340, Accuracy: 0.94\n",
      "Train Loss: 0.287, Valid Loss: 0.176817, Accuracy: 0.94\n"
     ]
    },
    {
     "data": {
      "text/html": [
       "Waiting for W&B process to finish... <strong style=\"color:green\">(success).</strong>"
      ],
      "text/plain": [
       "<IPython.core.display.HTML object>"
      ]
     },
     "metadata": {},
     "output_type": "display_data"
    },
    {
     "data": {
      "text/html": [
       "<style>\n",
       "    table.wandb td:nth-child(1) { padding: 0 10px; text-align: left ; width: auto;} td:nth-child(2) {text-align: left ; width: 100%}\n",
       "    .wandb-row { display: flex; flex-direction: row; flex-wrap: wrap; justify-content: flex-start; width: 100% }\n",
       "    .wandb-col { display: flex; flex-direction: column; flex-basis: 100%; flex: 1; padding: 10px; }\n",
       "    </style>\n",
       "<div class=\"wandb-row\"><div class=\"wandb-col\"><h3>Run history:</h3><br/><table class=\"wandb\"><tr><td>train/epoch</td><td>▁▁▁▁▂▂▂▂▂▃▃▃▃▃▃▄▄▄▄▄▅▅▅▅▅▅▆▆▆▆▆▇▇▇▇▇▇███</td></tr><tr><td>train/example_ct</td><td>▁▁▁▁▂▂▂▂▂▃▃▃▃▃▃▄▄▄▄▄▅▅▅▅▅▅▆▆▆▆▆▇▇▇▇▇▇███</td></tr><tr><td>train/train_loss</td><td>█▅▅▄▃▄▆▄▃▄▅▂▃▄▄▅▃▂▃▂▃▂▂▁▄▁▁▃▃▂▁▁▂▂▂▂▃▂▁▁</td></tr><tr><td>val/val_accuracy</td><td>▁▂▄▅▄▅▆▆▆▇▆▇▆▇█▇▇█▇▇</td></tr><tr><td>val/val_loss</td><td>█▆▄▄▄▃▃▂▂▂▂▂▂▂▁▁▁▁▁▁</td></tr></table><br/></div><div class=\"wandb-col\"><h3>Run summary:</h3><br/><table class=\"wandb\"><tr><td>test_accuracy</td><td>0.8</td></tr><tr><td>train/epoch</td><td>20.0</td></tr><tr><td>train/example_ct</td><td>240000</td></tr><tr><td>train/train_loss</td><td>0.28726</td></tr><tr><td>val/val_accuracy</td><td>0.9405</td></tr><tr><td>val/val_loss</td><td>0.17682</td></tr></table><br/></div></div>"
      ],
      "text/plain": [
       "<IPython.core.display.HTML object>"
      ]
     },
     "metadata": {},
     "output_type": "display_data"
    },
    {
     "data": {
      "text/html": [
       "Synced <strong style=\"color:#cdcd00\">crisp-firefly-6</strong>: <a href=\"https://wandb.ai/sharmi1206/pytorch-intro/runs/3utxmkpb\" target=\"_blank\">https://wandb.ai/sharmi1206/pytorch-intro/runs/3utxmkpb</a><br/>Synced 5 W&B file(s), 1 media file(s), 129 artifact file(s) and 0 other file(s)"
      ],
      "text/plain": [
       "<IPython.core.display.HTML object>"
      ]
     },
     "metadata": {},
     "output_type": "display_data"
    },
    {
     "data": {
      "text/html": [
       "Find logs at: <code>./wandb/run-20221025_090102-3utxmkpb/logs</code>"
      ],
      "text/plain": [
       "<IPython.core.display.HTML object>"
      ]
     },
     "metadata": {},
     "output_type": "display_data"
    },
    {
     "data": {
      "text/html": [
       "Tracking run with wandb version 0.13.4"
      ],
      "text/plain": [
       "<IPython.core.display.HTML object>"
      ]
     },
     "metadata": {},
     "output_type": "display_data"
    },
    {
     "data": {
      "text/html": [
       "Run data is saved locally in <code>/content/wandb/run-20221025_090218-2biik55p</code>"
      ],
      "text/plain": [
       "<IPython.core.display.HTML object>"
      ]
     },
     "metadata": {},
     "output_type": "display_data"
    },
    {
     "data": {
      "text/html": [
       "Syncing run <strong><a href=\"https://wandb.ai/sharmi1206/pytorch-intro/runs/2biik55p\" target=\"_blank\">chocolate-cosmos-7</a></strong> to <a href=\"https://wandb.ai/sharmi1206/pytorch-intro\" target=\"_blank\">Weights & Biases</a> (<a href=\"https://wandb.me/run\" target=\"_blank\">docs</a>)<br/>"
      ],
      "text/plain": [
       "<IPython.core.display.HTML object>"
      ]
     },
     "metadata": {},
     "output_type": "display_data"
    },
    {
     "name": "stdout",
     "output_type": "stream",
     "text": [
      "Train Loss: 0.330, Valid Loss: 0.262032, Accuracy: 0.93\n",
      "Train Loss: 0.307, Valid Loss: 0.219681, Accuracy: 0.93\n",
      "Train Loss: 0.153, Valid Loss: 0.199535, Accuracy: 0.94\n",
      "Train Loss: 0.109, Valid Loss: 0.171429, Accuracy: 0.95\n",
      "Train Loss: 0.135, Valid Loss: 0.175242, Accuracy: 0.95\n",
      "Train Loss: 0.076, Valid Loss: 0.160210, Accuracy: 0.95\n",
      "Train Loss: 0.025, Valid Loss: 0.156895, Accuracy: 0.95\n",
      "Train Loss: 0.012, Valid Loss: 0.146056, Accuracy: 0.96\n",
      "Train Loss: 0.051, Valid Loss: 0.148607, Accuracy: 0.95\n",
      "Train Loss: 0.141, Valid Loss: 0.149910, Accuracy: 0.96\n",
      "Train Loss: 0.040, Valid Loss: 0.150638, Accuracy: 0.96\n",
      "Train Loss: 0.024, Valid Loss: 0.155221, Accuracy: 0.95\n",
      "Train Loss: 0.028, Valid Loss: 0.148495, Accuracy: 0.95\n",
      "Train Loss: 0.057, Valid Loss: 0.161325, Accuracy: 0.96\n",
      "Train Loss: 0.017, Valid Loss: 0.167858, Accuracy: 0.95\n",
      "Train Loss: 0.042, Valid Loss: 0.157609, Accuracy: 0.95\n",
      "Train Loss: 0.021, Valid Loss: 0.153134, Accuracy: 0.96\n",
      "Train Loss: 0.022, Valid Loss: 0.160536, Accuracy: 0.96\n",
      "Train Loss: 0.083, Valid Loss: 0.155547, Accuracy: 0.96\n",
      "Train Loss: 0.168, Valid Loss: 0.162379, Accuracy: 0.95\n"
     ]
    },
    {
     "data": {
      "text/html": [
       "Waiting for W&B process to finish... <strong style=\"color:green\">(success).</strong>"
      ],
      "text/plain": [
       "<IPython.core.display.HTML object>"
      ]
     },
     "metadata": {},
     "output_type": "display_data"
    },
    {
     "data": {
      "text/html": [
       "<style>\n",
       "    table.wandb td:nth-child(1) { padding: 0 10px; text-align: left ; width: auto;} td:nth-child(2) {text-align: left ; width: 100%}\n",
       "    .wandb-row { display: flex; flex-direction: row; flex-wrap: wrap; justify-content: flex-start; width: 100% }\n",
       "    .wandb-col { display: flex; flex-direction: column; flex-basis: 100%; flex: 1; padding: 10px; }\n",
       "    </style>\n",
       "<div class=\"wandb-row\"><div class=\"wandb-col\"><h3>Run history:</h3><br/><table class=\"wandb\"><tr><td>train/epoch</td><td>▁▁▁▁▂▂▂▂▂▃▃▃▃▃▃▄▄▄▄▄▅▅▅▅▅▅▆▆▆▆▆▇▇▇▇▇▇███</td></tr><tr><td>train/example_ct</td><td>▁▁▁▁▂▂▂▂▂▃▃▃▃▃▃▄▄▄▄▄▅▅▅▅▅▅▆▆▆▆▆▇▇▇▇▇▇███</td></tr><tr><td>train/train_loss</td><td>█▄▅▄▃▃▂▂▂▂▂▂▁▂▂▁▁▂▂▂▁▂▁▂▂▁▁▁▂▁▁▁▁▂▂▁▁▂▂▂</td></tr><tr><td>val/val_accuracy</td><td>▁▃▄▅▆▆▇█▇▇▇▇▇█▇▇███▇</td></tr><tr><td>val/val_loss</td><td>█▅▄▃▃▂▂▁▁▁▁▂▁▂▂▂▁▂▂▂</td></tr></table><br/></div><div class=\"wandb-col\"><h3>Run summary:</h3><br/><table class=\"wandb\"><tr><td>test_accuracy</td><td>0.8</td></tr><tr><td>train/epoch</td><td>20.0</td></tr><tr><td>train/example_ct</td><td>240000</td></tr><tr><td>train/train_loss</td><td>0.16783</td></tr><tr><td>val/val_accuracy</td><td>0.955</td></tr><tr><td>val/val_loss</td><td>0.16238</td></tr></table><br/></div></div>"
      ],
      "text/plain": [
       "<IPython.core.display.HTML object>"
      ]
     },
     "metadata": {},
     "output_type": "display_data"
    },
    {
     "data": {
      "text/html": [
       "Synced <strong style=\"color:#cdcd00\">chocolate-cosmos-7</strong>: <a href=\"https://wandb.ai/sharmi1206/pytorch-intro/runs/2biik55p\" target=\"_blank\">https://wandb.ai/sharmi1206/pytorch-intro/runs/2biik55p</a><br/>Synced 5 W&B file(s), 1 media file(s), 129 artifact file(s) and 0 other file(s)"
      ],
      "text/plain": [
       "<IPython.core.display.HTML object>"
      ]
     },
     "metadata": {},
     "output_type": "display_data"
    },
    {
     "data": {
      "text/html": [
       "Find logs at: <code>./wandb/run-20221025_090218-2biik55p/logs</code>"
      ],
      "text/plain": [
       "<IPython.core.display.HTML object>"
      ]
     },
     "metadata": {},
     "output_type": "display_data"
    },
    {
     "data": {
      "text/html": [
       "Tracking run with wandb version 0.13.4"
      ],
      "text/plain": [
       "<IPython.core.display.HTML object>"
      ]
     },
     "metadata": {},
     "output_type": "display_data"
    },
    {
     "data": {
      "text/html": [
       "Run data is saved locally in <code>/content/wandb/run-20221025_090332-34u60ana</code>"
      ],
      "text/plain": [
       "<IPython.core.display.HTML object>"
      ]
     },
     "metadata": {},
     "output_type": "display_data"
    },
    {
     "data": {
      "text/html": [
       "Syncing run <strong><a href=\"https://wandb.ai/sharmi1206/pytorch-intro/runs/34u60ana\" target=\"_blank\">polar-forest-8</a></strong> to <a href=\"https://wandb.ai/sharmi1206/pytorch-intro\" target=\"_blank\">Weights & Biases</a> (<a href=\"https://wandb.me/run\" target=\"_blank\">docs</a>)<br/>"
      ],
      "text/plain": [
       "<IPython.core.display.HTML object>"
      ]
     },
     "metadata": {},
     "output_type": "display_data"
    },
    {
     "name": "stdout",
     "output_type": "stream",
     "text": [
      "Train Loss: 0.261, Valid Loss: 0.269500, Accuracy: 0.92\n",
      "Train Loss: 0.309, Valid Loss: 0.216647, Accuracy: 0.94\n",
      "Train Loss: 0.277, Valid Loss: 0.190791, Accuracy: 0.94\n",
      "Train Loss: 0.285, Valid Loss: 0.179711, Accuracy: 0.94\n",
      "Train Loss: 0.093, Valid Loss: 0.168203, Accuracy: 0.95\n",
      "Train Loss: 0.077, Valid Loss: 0.155528, Accuracy: 0.95\n",
      "Train Loss: 0.044, Valid Loss: 0.153432, Accuracy: 0.95\n",
      "Train Loss: 0.225, Valid Loss: 0.146848, Accuracy: 0.95\n",
      "Train Loss: 0.064, Valid Loss: 0.158515, Accuracy: 0.95\n",
      "Train Loss: 0.313, Valid Loss: 0.151116, Accuracy: 0.95\n",
      "Train Loss: 0.046, Valid Loss: 0.136666, Accuracy: 0.96\n",
      "Train Loss: 0.008, Valid Loss: 0.144247, Accuracy: 0.96\n",
      "Train Loss: 0.240, Valid Loss: 0.133902, Accuracy: 0.96\n",
      "Train Loss: 0.105, Valid Loss: 0.148344, Accuracy: 0.96\n",
      "Train Loss: 0.018, Valid Loss: 0.150337, Accuracy: 0.95\n",
      "Train Loss: 0.085, Valid Loss: 0.152747, Accuracy: 0.96\n",
      "Train Loss: 0.145, Valid Loss: 0.147039, Accuracy: 0.96\n",
      "Train Loss: 0.058, Valid Loss: 0.145244, Accuracy: 0.96\n",
      "Train Loss: 0.019, Valid Loss: 0.143501, Accuracy: 0.96\n",
      "Train Loss: 0.059, Valid Loss: 0.150917, Accuracy: 0.95\n"
     ]
    },
    {
     "data": {
      "text/html": [
       "Waiting for W&B process to finish... <strong style=\"color:green\">(success).</strong>"
      ],
      "text/plain": [
       "<IPython.core.display.HTML object>"
      ]
     },
     "metadata": {},
     "output_type": "display_data"
    },
    {
     "data": {
      "text/html": [
       "<style>\n",
       "    table.wandb td:nth-child(1) { padding: 0 10px; text-align: left ; width: auto;} td:nth-child(2) {text-align: left ; width: 100%}\n",
       "    .wandb-row { display: flex; flex-direction: row; flex-wrap: wrap; justify-content: flex-start; width: 100% }\n",
       "    .wandb-col { display: flex; flex-direction: column; flex-basis: 100%; flex: 1; padding: 10px; }\n",
       "    </style>\n",
       "<div class=\"wandb-row\"><div class=\"wandb-col\"><h3>Run history:</h3><br/><table class=\"wandb\"><tr><td>train/epoch</td><td>▁▁▁▁▂▂▂▂▂▃▃▃▃▃▃▄▄▄▄▄▅▅▅▅▅▅▆▆▆▆▆▇▇▇▇▇▇███</td></tr><tr><td>train/example_ct</td><td>▁▁▁▁▂▂▂▂▂▃▃▃▃▃▃▄▄▄▄▄▅▅▅▅▅▅▆▆▆▆▆▇▇▇▇▇▇███</td></tr><tr><td>train/train_loss</td><td>█▄▃▅▂▂▂▃▃▂▂▂▂▂▂▁▂▂▁▂▂▂▁▁▁▃▂▁▁▁▁▁▁▂▁▂▁▁▁▁</td></tr><tr><td>val/val_accuracy</td><td>▁▃▄▅▆▇▆▇▇▇████▇▇███▇</td></tr><tr><td>val/val_loss</td><td>█▅▄▃▃▂▂▂▂▂▁▂▁▂▂▂▂▂▁▂</td></tr></table><br/></div><div class=\"wandb-col\"><h3>Run summary:</h3><br/><table class=\"wandb\"><tr><td>test_accuracy</td><td>0.8</td></tr><tr><td>train/epoch</td><td>20.0</td></tr><tr><td>train/example_ct</td><td>240000</td></tr><tr><td>train/train_loss</td><td>0.05924</td></tr><tr><td>val/val_accuracy</td><td>0.952</td></tr><tr><td>val/val_loss</td><td>0.15092</td></tr></table><br/></div></div>"
      ],
      "text/plain": [
       "<IPython.core.display.HTML object>"
      ]
     },
     "metadata": {},
     "output_type": "display_data"
    },
    {
     "data": {
      "text/html": [
       "Synced <strong style=\"color:#cdcd00\">polar-forest-8</strong>: <a href=\"https://wandb.ai/sharmi1206/pytorch-intro/runs/34u60ana\" target=\"_blank\">https://wandb.ai/sharmi1206/pytorch-intro/runs/34u60ana</a><br/>Synced 5 W&B file(s), 1 media file(s), 129 artifact file(s) and 0 other file(s)"
      ],
      "text/plain": [
       "<IPython.core.display.HTML object>"
      ]
     },
     "metadata": {},
     "output_type": "display_data"
    },
    {
     "data": {
      "text/html": [
       "Find logs at: <code>./wandb/run-20221025_090332-34u60ana/logs</code>"
      ],
      "text/plain": [
       "<IPython.core.display.HTML object>"
      ]
     },
     "metadata": {},
     "output_type": "display_data"
    },
    {
     "data": {
      "text/html": [
       "Tracking run with wandb version 0.13.4"
      ],
      "text/plain": [
       "<IPython.core.display.HTML object>"
      ]
     },
     "metadata": {},
     "output_type": "display_data"
    },
    {
     "data": {
      "text/html": [
       "Run data is saved locally in <code>/content/wandb/run-20221025_090445-3wglubr9</code>"
      ],
      "text/plain": [
       "<IPython.core.display.HTML object>"
      ]
     },
     "metadata": {},
     "output_type": "display_data"
    },
    {
     "data": {
      "text/html": [
       "Syncing run <strong><a href=\"https://wandb.ai/sharmi1206/pytorch-intro/runs/3wglubr9\" target=\"_blank\">snowy-terrain-9</a></strong> to <a href=\"https://wandb.ai/sharmi1206/pytorch-intro\" target=\"_blank\">Weights & Biases</a> (<a href=\"https://wandb.me/run\" target=\"_blank\">docs</a>)<br/>"
      ],
      "text/plain": [
       "<IPython.core.display.HTML object>"
      ]
     },
     "metadata": {},
     "output_type": "display_data"
    },
    {
     "name": "stdout",
     "output_type": "stream",
     "text": [
      "Train Loss: 0.119, Valid Loss: 0.245016, Accuracy: 0.93\n",
      "Train Loss: 0.409, Valid Loss: 0.212966, Accuracy: 0.93\n",
      "Train Loss: 0.108, Valid Loss: 0.190256, Accuracy: 0.94\n",
      "Train Loss: 0.317, Valid Loss: 0.174174, Accuracy: 0.94\n",
      "Train Loss: 0.180, Valid Loss: 0.165155, Accuracy: 0.95\n",
      "Train Loss: 0.207, Valid Loss: 0.167066, Accuracy: 0.95\n",
      "Train Loss: 0.036, Valid Loss: 0.154895, Accuracy: 0.95\n",
      "Train Loss: 0.060, Valid Loss: 0.148212, Accuracy: 0.95\n",
      "Train Loss: 0.059, Valid Loss: 0.149658, Accuracy: 0.95\n",
      "Train Loss: 0.073, Valid Loss: 0.149387, Accuracy: 0.95\n",
      "Train Loss: 0.020, Valid Loss: 0.137227, Accuracy: 0.96\n",
      "Train Loss: 0.011, Valid Loss: 0.150689, Accuracy: 0.96\n",
      "Train Loss: 0.080, Valid Loss: 0.144276, Accuracy: 0.95\n",
      "Train Loss: 0.071, Valid Loss: 0.158557, Accuracy: 0.95\n",
      "Train Loss: 0.047, Valid Loss: 0.149366, Accuracy: 0.96\n",
      "Train Loss: 0.037, Valid Loss: 0.150438, Accuracy: 0.95\n",
      "Train Loss: 0.039, Valid Loss: 0.157798, Accuracy: 0.96\n",
      "Train Loss: 0.077, Valid Loss: 0.161429, Accuracy: 0.96\n",
      "Train Loss: 0.183, Valid Loss: 0.153507, Accuracy: 0.95\n",
      "Train Loss: 0.007, Valid Loss: 0.161483, Accuracy: 0.95\n"
     ]
    },
    {
     "data": {
      "text/html": [
       "Waiting for W&B process to finish... <strong style=\"color:green\">(success).</strong>"
      ],
      "text/plain": [
       "<IPython.core.display.HTML object>"
      ]
     },
     "metadata": {},
     "output_type": "display_data"
    },
    {
     "data": {
      "text/html": [
       "<style>\n",
       "    table.wandb td:nth-child(1) { padding: 0 10px; text-align: left ; width: auto;} td:nth-child(2) {text-align: left ; width: 100%}\n",
       "    .wandb-row { display: flex; flex-direction: row; flex-wrap: wrap; justify-content: flex-start; width: 100% }\n",
       "    .wandb-col { display: flex; flex-direction: column; flex-basis: 100%; flex: 1; padding: 10px; }\n",
       "    </style>\n",
       "<div class=\"wandb-row\"><div class=\"wandb-col\"><h3>Run history:</h3><br/><table class=\"wandb\"><tr><td>train/epoch</td><td>▁▁▁▁▂▂▂▂▂▃▃▃▃▃▃▄▄▄▄▄▅▅▅▅▅▅▆▆▆▆▆▇▇▇▇▇▇███</td></tr><tr><td>train/example_ct</td><td>▁▁▁▁▂▂▂▂▂▃▃▃▃▃▃▄▄▄▄▄▅▅▅▅▅▅▆▆▆▆▆▇▇▇▇▇▇███</td></tr><tr><td>train/train_loss</td><td>█▄▂▃▂▄▃▃▂▂▁▂▁▂▂▁▁▂▁▂▁▁▁▂▁▁▁▂▁▁▁▁▁▂▁▁▁▁▁▂</td></tr><tr><td>val/val_accuracy</td><td>▁▂▃▄▆▅▇▆▆▇█▇▇▆█▇▇▇▇▇</td></tr><tr><td>val/val_loss</td><td>█▆▄▃▃▃▂▂▂▂▁▂▁▂▂▂▂▃▂▃</td></tr></table><br/></div><div class=\"wandb-col\"><h3>Run summary:</h3><br/><table class=\"wandb\"><tr><td>test_accuracy</td><td>0.8</td></tr><tr><td>train/epoch</td><td>20.0</td></tr><tr><td>train/example_ct</td><td>240000</td></tr><tr><td>train/train_loss</td><td>0.00665</td></tr><tr><td>val/val_accuracy</td><td>0.953</td></tr><tr><td>val/val_loss</td><td>0.16148</td></tr></table><br/></div></div>"
      ],
      "text/plain": [
       "<IPython.core.display.HTML object>"
      ]
     },
     "metadata": {},
     "output_type": "display_data"
    },
    {
     "data": {
      "text/html": [
       "Synced <strong style=\"color:#cdcd00\">snowy-terrain-9</strong>: <a href=\"https://wandb.ai/sharmi1206/pytorch-intro/runs/3wglubr9\" target=\"_blank\">https://wandb.ai/sharmi1206/pytorch-intro/runs/3wglubr9</a><br/>Synced 5 W&B file(s), 1 media file(s), 129 artifact file(s) and 0 other file(s)"
      ],
      "text/plain": [
       "<IPython.core.display.HTML object>"
      ]
     },
     "metadata": {},
     "output_type": "display_data"
    },
    {
     "data": {
      "text/html": [
       "Find logs at: <code>./wandb/run-20221025_090445-3wglubr9/logs</code>"
      ],
      "text/plain": [
       "<IPython.core.display.HTML object>"
      ]
     },
     "metadata": {},
     "output_type": "display_data"
    },
    {
     "data": {
      "text/html": [
       "Tracking run with wandb version 0.13.4"
      ],
      "text/plain": [
       "<IPython.core.display.HTML object>"
      ]
     },
     "metadata": {},
     "output_type": "display_data"
    },
    {
     "data": {
      "text/html": [
       "Run data is saved locally in <code>/content/wandb/run-20221025_090602-xb6c6fjk</code>"
      ],
      "text/plain": [
       "<IPython.core.display.HTML object>"
      ]
     },
     "metadata": {},
     "output_type": "display_data"
    },
    {
     "data": {
      "text/html": [
       "Syncing run <strong><a href=\"https://wandb.ai/sharmi1206/pytorch-intro/runs/xb6c6fjk\" target=\"_blank\">usual-capybara-10</a></strong> to <a href=\"https://wandb.ai/sharmi1206/pytorch-intro\" target=\"_blank\">Weights & Biases</a> (<a href=\"https://wandb.me/run\" target=\"_blank\">docs</a>)<br/>"
      ],
      "text/plain": [
       "<IPython.core.display.HTML object>"
      ]
     },
     "metadata": {},
     "output_type": "display_data"
    },
    {
     "name": "stdout",
     "output_type": "stream",
     "text": [
      "Train Loss: 0.321, Valid Loss: 0.264122, Accuracy: 0.92\n",
      "Train Loss: 0.179, Valid Loss: 0.212144, Accuracy: 0.94\n",
      "Train Loss: 0.154, Valid Loss: 0.186276, Accuracy: 0.94\n",
      "Train Loss: 0.098, Valid Loss: 0.169114, Accuracy: 0.95\n",
      "Train Loss: 0.058, Valid Loss: 0.171764, Accuracy: 0.95\n",
      "Train Loss: 0.102, Valid Loss: 0.158962, Accuracy: 0.95\n",
      "Train Loss: 0.047, Valid Loss: 0.158981, Accuracy: 0.95\n",
      "Train Loss: 0.078, Valid Loss: 0.158298, Accuracy: 0.95\n",
      "Train Loss: 0.124, Valid Loss: 0.135745, Accuracy: 0.96\n",
      "Train Loss: 0.113, Valid Loss: 0.140872, Accuracy: 0.95\n",
      "Train Loss: 0.125, Valid Loss: 0.147893, Accuracy: 0.95\n",
      "Train Loss: 0.026, Valid Loss: 0.145661, Accuracy: 0.95\n",
      "Train Loss: 0.048, Valid Loss: 0.138221, Accuracy: 0.96\n",
      "Train Loss: 0.151, Valid Loss: 0.144991, Accuracy: 0.96\n",
      "Train Loss: 0.147, Valid Loss: 0.141671, Accuracy: 0.95\n",
      "Train Loss: 0.080, Valid Loss: 0.146887, Accuracy: 0.96\n",
      "Train Loss: 0.051, Valid Loss: 0.138932, Accuracy: 0.96\n",
      "Train Loss: 0.022, Valid Loss: 0.144466, Accuracy: 0.96\n",
      "Train Loss: 0.019, Valid Loss: 0.143774, Accuracy: 0.96\n",
      "Train Loss: 0.121, Valid Loss: 0.148902, Accuracy: 0.96\n"
     ]
    },
    {
     "data": {
      "text/html": [
       "Waiting for W&B process to finish... <strong style=\"color:green\">(success).</strong>"
      ],
      "text/plain": [
       "<IPython.core.display.HTML object>"
      ]
     },
     "metadata": {},
     "output_type": "display_data"
    },
    {
     "data": {
      "text/html": [
       "<style>\n",
       "    table.wandb td:nth-child(1) { padding: 0 10px; text-align: left ; width: auto;} td:nth-child(2) {text-align: left ; width: 100%}\n",
       "    .wandb-row { display: flex; flex-direction: row; flex-wrap: wrap; justify-content: flex-start; width: 100% }\n",
       "    .wandb-col { display: flex; flex-direction: column; flex-basis: 100%; flex: 1; padding: 10px; }\n",
       "    </style>\n",
       "<div class=\"wandb-row\"><div class=\"wandb-col\"><h3>Run history:</h3><br/><table class=\"wandb\"><tr><td>train/epoch</td><td>▁▁▁▁▂▂▂▂▂▃▃▃▃▃▃▄▄▄▄▄▅▅▅▅▅▅▆▆▆▆▆▇▇▇▇▇▇███</td></tr><tr><td>train/example_ct</td><td>▁▁▁▁▂▂▂▂▂▃▃▃▃▃▃▄▄▄▄▄▅▅▅▅▅▅▆▆▆▆▆▇▇▇▇▇▇███</td></tr><tr><td>train/train_loss</td><td>█▄▅▃▃▄▂▃▁▃▂▂▁▂▂▁▂▂▂▁▂▂▁▁▁▂▁▁▁▁▁▁▁▁▁▁▁▁▂▁</td></tr><tr><td>val/val_accuracy</td><td>▁▄▅▆▆▆▆▇▇▇▇▇▇▇▇████▇</td></tr><tr><td>val/val_loss</td><td>█▅▄▃▃▂▂▂▁▁▂▂▁▂▁▂▁▁▁▂</td></tr></table><br/></div><div class=\"wandb-col\"><h3>Run summary:</h3><br/><table class=\"wandb\"><tr><td>test_accuracy</td><td>0.8</td></tr><tr><td>train/epoch</td><td>20.0</td></tr><tr><td>train/example_ct</td><td>240000</td></tr><tr><td>train/train_loss</td><td>0.12063</td></tr><tr><td>val/val_accuracy</td><td>0.9555</td></tr><tr><td>val/val_loss</td><td>0.1489</td></tr></table><br/></div></div>"
      ],
      "text/plain": [
       "<IPython.core.display.HTML object>"
      ]
     },
     "metadata": {},
     "output_type": "display_data"
    },
    {
     "data": {
      "text/html": [
       "Synced <strong style=\"color:#cdcd00\">usual-capybara-10</strong>: <a href=\"https://wandb.ai/sharmi1206/pytorch-intro/runs/xb6c6fjk\" target=\"_blank\">https://wandb.ai/sharmi1206/pytorch-intro/runs/xb6c6fjk</a><br/>Synced 5 W&B file(s), 1 media file(s), 129 artifact file(s) and 0 other file(s)"
      ],
      "text/plain": [
       "<IPython.core.display.HTML object>"
      ]
     },
     "metadata": {},
     "output_type": "display_data"
    },
    {
     "data": {
      "text/html": [
       "Find logs at: <code>./wandb/run-20221025_090602-xb6c6fjk/logs</code>"
      ],
      "text/plain": [
       "<IPython.core.display.HTML object>"
      ]
     },
     "metadata": {},
     "output_type": "display_data"
    }
   ],
   "source": [
    "# Launch 5 experiments, trying different dropout rates\n",
    "for _ in range(5):\n",
    "    # 🐝 initialise a wandb run\n",
    "    wandb.init(\n",
    "        project=\"pytorch-intro\",\n",
    "        config={\n",
    "            \"epochs\": 20,\n",
    "            \"batch_size\": 64,\n",
    "            \"lr\": 1e-3,\n",
    "            \"dropout\": random.uniform(0.02, 0.90),\n",
    "            })\n",
    "    \n",
    "    # Copy your config \n",
    "    config = wandb.config\n",
    "\n",
    "    # Get the data\n",
    "    train_dl = get_dataloader(is_train=True, batch_size=config.batch_size)\n",
    "    valid_dl = get_dataloader(is_train=False, batch_size=2*config.batch_size)\n",
    "    n_steps_per_epoch = math.ceil(len(train_dl.dataset) / config.batch_size)\n",
    "    \n",
    "    # A simple MLP model\n",
    "    model = get_model(config.dropout)\n",
    "\n",
    "    # Make the loss and optimizer\n",
    "    loss_func = nn.CrossEntropyLoss()\n",
    "    optimizer = torch.optim.Adam(model.parameters(), lr=config.lr)\n",
    "\n",
    "   # Training\n",
    "    example_ct = 0\n",
    "    step_ct = 0\n",
    "    for epoch in range(config.epochs):\n",
    "        model.train()\n",
    "        for step, (images, labels) in enumerate(train_dl):\n",
    "            images, labels = images.to(device), labels.to(device)\n",
    "\n",
    "            outputs = model(images)\n",
    "            train_loss = loss_func(outputs, labels)\n",
    "            optimizer.zero_grad()\n",
    "            train_loss.backward()\n",
    "            optimizer.step()\n",
    "            \n",
    "            example_ct += len(images)\n",
    "            metrics = {\"train/train_loss\": train_loss, \n",
    "                       \"train/epoch\": (step + 1 + (n_steps_per_epoch * epoch)) / n_steps_per_epoch, \n",
    "                       \"train/example_ct\": example_ct}\n",
    "            \n",
    "            if step + 1 < n_steps_per_epoch:\n",
    "                # 🐝 Log train metrics to wandb \n",
    "                wandb.log(metrics)\n",
    "                \n",
    "            step_ct += 1\n",
    "\n",
    "        val_loss, accuracy = validate_model(model, valid_dl, loss_func, log_images=(epoch==(config.epochs-1)))\n",
    "\n",
    "        # 🐝 Log train and validation metrics to wandb\n",
    "        val_metrics = {\"val/val_loss\": val_loss, \n",
    "                       \"val/val_accuracy\": accuracy}\n",
    "        wandb.log({**metrics, **val_metrics})\n",
    "        \n",
    "        print(f\"Train Loss: {train_loss:.3f}, Valid Loss: {val_loss:3f}, Accuracy: {accuracy:.2f}\")\n",
    "\n",
    "    # If you had a test set, this is how you could log it as a Summary metric\n",
    "    wandb.summary['test_accuracy'] = 0.8\n",
    "\n",
    "    # 🐝 Close your wandb run \n",
    "    wandb.finish()"
   ]
  },
  {
   "cell_type": "markdown",
   "metadata": {
    "id": "CC-LX7GdRzOh"
   },
   "source": [
    "You have now trained your first model using wandb! 👆 Click on the wandb link above to see your metrics"
   ]
  }
 ],
 "metadata": {
  "colab": {
   "collapsed_sections": [],
   "provenance": []
  },
  "kernelspec": {
   "display_name": "Python 3",
   "language": "python",
   "name": "python3"
  },
  "language_info": {
   "codemirror_mode": {
    "name": "ipython",
    "version": 3
   },
   "file_extension": ".py",
   "mimetype": "text/x-python",
   "name": "python",
   "nbconvert_exporter": "python",
   "pygments_lexer": "ipython3",
   "version": "3.8.8"
  },
  "widgets": {
   "application/vnd.jupyter.widget-state+json": {
    "2463a623d51f4901bdab1a084b2f5c61": {
     "model_module": "@jupyter-widgets/controls",
     "model_module_version": "1.5.0",
     "model_name": "ProgressStyleModel",
     "state": {
      "_model_module": "@jupyter-widgets/controls",
      "_model_module_version": "1.5.0",
      "_model_name": "ProgressStyleModel",
      "_view_count": null,
      "_view_module": "@jupyter-widgets/base",
      "_view_module_version": "1.2.0",
      "_view_name": "StyleView",
      "bar_color": null,
      "description_width": ""
     }
    },
    "331f1bacee6b42ebbeaa13584b89e4fd": {
     "model_module": "@jupyter-widgets/base",
     "model_module_version": "1.2.0",
     "model_name": "LayoutModel",
     "state": {
      "_model_module": "@jupyter-widgets/base",
      "_model_module_version": "1.2.0",
      "_model_name": "LayoutModel",
      "_view_count": null,
      "_view_module": "@jupyter-widgets/base",
      "_view_module_version": "1.2.0",
      "_view_name": "LayoutView",
      "align_content": null,
      "align_items": null,
      "align_self": null,
      "border": null,
      "bottom": null,
      "display": null,
      "flex": null,
      "flex_flow": null,
      "grid_area": null,
      "grid_auto_columns": null,
      "grid_auto_flow": null,
      "grid_auto_rows": null,
      "grid_column": null,
      "grid_gap": null,
      "grid_row": null,
      "grid_template_areas": null,
      "grid_template_columns": null,
      "grid_template_rows": null,
      "height": null,
      "justify_content": null,
      "justify_items": null,
      "left": null,
      "margin": null,
      "max_height": null,
      "max_width": null,
      "min_height": null,
      "min_width": null,
      "object_fit": null,
      "object_position": null,
      "order": null,
      "overflow": null,
      "overflow_x": null,
      "overflow_y": null,
      "padding": null,
      "right": null,
      "top": null,
      "visibility": null,
      "width": null
     }
    },
    "3c0519d015c54d3abf16d1a03c299472": {
     "model_module": "@jupyter-widgets/controls",
     "model_module_version": "1.5.0",
     "model_name": "VBoxModel",
     "state": {
      "_dom_classes": [],
      "_model_module": "@jupyter-widgets/controls",
      "_model_module_version": "1.5.0",
      "_model_name": "VBoxModel",
      "_view_count": null,
      "_view_module": "@jupyter-widgets/controls",
      "_view_module_version": "1.5.0",
      "_view_name": "VBoxView",
      "box_style": "",
      "children": [
       "IPY_MODEL_8a0eb5f0286446a5811dd14875d63fda",
       "IPY_MODEL_7aafd8dd5d5f4774bc86960368f32e0b"
      ],
      "layout": "IPY_MODEL_87a4b3e5ee184f00be1fa332bb3a057f"
     }
    },
    "7831957c8af84088890d532970cda39e": {
     "model_module": "@jupyter-widgets/base",
     "model_module_version": "1.2.0",
     "model_name": "LayoutModel",
     "state": {
      "_model_module": "@jupyter-widgets/base",
      "_model_module_version": "1.2.0",
      "_model_name": "LayoutModel",
      "_view_count": null,
      "_view_module": "@jupyter-widgets/base",
      "_view_module_version": "1.2.0",
      "_view_name": "LayoutView",
      "align_content": null,
      "align_items": null,
      "align_self": null,
      "border": null,
      "bottom": null,
      "display": null,
      "flex": null,
      "flex_flow": null,
      "grid_area": null,
      "grid_auto_columns": null,
      "grid_auto_flow": null,
      "grid_auto_rows": null,
      "grid_column": null,
      "grid_gap": null,
      "grid_row": null,
      "grid_template_areas": null,
      "grid_template_columns": null,
      "grid_template_rows": null,
      "height": null,
      "justify_content": null,
      "justify_items": null,
      "left": null,
      "margin": null,
      "max_height": null,
      "max_width": null,
      "min_height": null,
      "min_width": null,
      "object_fit": null,
      "object_position": null,
      "order": null,
      "overflow": null,
      "overflow_x": null,
      "overflow_y": null,
      "padding": null,
      "right": null,
      "top": null,
      "visibility": null,
      "width": null
     }
    },
    "7aafd8dd5d5f4774bc86960368f32e0b": {
     "model_module": "@jupyter-widgets/controls",
     "model_module_version": "1.5.0",
     "model_name": "FloatProgressModel",
     "state": {
      "_dom_classes": [],
      "_model_module": "@jupyter-widgets/controls",
      "_model_module_version": "1.5.0",
      "_model_name": "FloatProgressModel",
      "_view_count": null,
      "_view_module": "@jupyter-widgets/controls",
      "_view_module_version": "1.5.0",
      "_view_name": "ProgressView",
      "bar_style": "",
      "description": "",
      "description_tooltip": null,
      "layout": "IPY_MODEL_331f1bacee6b42ebbeaa13584b89e4fd",
      "max": 1,
      "min": 0,
      "orientation": "horizontal",
      "style": "IPY_MODEL_2463a623d51f4901bdab1a084b2f5c61",
      "value": 0.13701670365611493
     }
    },
    "86592396c9d7433a91fb0660ce70511b": {
     "model_module": "@jupyter-widgets/controls",
     "model_module_version": "1.5.0",
     "model_name": "DescriptionStyleModel",
     "state": {
      "_model_module": "@jupyter-widgets/controls",
      "_model_module_version": "1.5.0",
      "_model_name": "DescriptionStyleModel",
      "_view_count": null,
      "_view_module": "@jupyter-widgets/base",
      "_view_module_version": "1.2.0",
      "_view_name": "StyleView",
      "description_width": ""
     }
    },
    "87a4b3e5ee184f00be1fa332bb3a057f": {
     "model_module": "@jupyter-widgets/base",
     "model_module_version": "1.2.0",
     "model_name": "LayoutModel",
     "state": {
      "_model_module": "@jupyter-widgets/base",
      "_model_module_version": "1.2.0",
      "_model_name": "LayoutModel",
      "_view_count": null,
      "_view_module": "@jupyter-widgets/base",
      "_view_module_version": "1.2.0",
      "_view_name": "LayoutView",
      "align_content": null,
      "align_items": null,
      "align_self": null,
      "border": null,
      "bottom": null,
      "display": null,
      "flex": null,
      "flex_flow": null,
      "grid_area": null,
      "grid_auto_columns": null,
      "grid_auto_flow": null,
      "grid_auto_rows": null,
      "grid_column": null,
      "grid_gap": null,
      "grid_row": null,
      "grid_template_areas": null,
      "grid_template_columns": null,
      "grid_template_rows": null,
      "height": null,
      "justify_content": null,
      "justify_items": null,
      "left": null,
      "margin": null,
      "max_height": null,
      "max_width": null,
      "min_height": null,
      "min_width": null,
      "object_fit": null,
      "object_position": null,
      "order": null,
      "overflow": null,
      "overflow_x": null,
      "overflow_y": null,
      "padding": null,
      "right": null,
      "top": null,
      "visibility": null,
      "width": null
     }
    },
    "8a0eb5f0286446a5811dd14875d63fda": {
     "model_module": "@jupyter-widgets/controls",
     "model_module_version": "1.5.0",
     "model_name": "LabelModel",
     "state": {
      "_dom_classes": [],
      "_model_module": "@jupyter-widgets/controls",
      "_model_module_version": "1.5.0",
      "_model_name": "LabelModel",
      "_view_count": null,
      "_view_module": "@jupyter-widgets/controls",
      "_view_module_version": "1.5.0",
      "_view_name": "LabelView",
      "description": "",
      "description_tooltip": null,
      "layout": "IPY_MODEL_7831957c8af84088890d532970cda39e",
      "placeholder": "​",
      "style": "IPY_MODEL_86592396c9d7433a91fb0660ce70511b",
      "value": "0.001 MB of 0.008 MB uploaded (0.000 MB deduped)\r"
     }
    }
   }
  }
 },
 "nbformat": 4,
 "nbformat_minor": 1
}
