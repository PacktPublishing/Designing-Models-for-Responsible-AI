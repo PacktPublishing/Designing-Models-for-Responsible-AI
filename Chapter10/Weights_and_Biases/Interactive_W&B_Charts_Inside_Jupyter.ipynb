{
 "cells": [
  {
   "cell_type": "markdown",
   "metadata": {},
   "source": [
    "This is an example taken from https://colab.research.google.com/github/wandb/examples/\n",
    "It helps us to understand how Weights & Biases can be used for machine learning experiment tracking, model checkpointing, and collaboration with your team. Here we mainly focus on how to train and track a training experiment using Pytorch Neural Network, after setting up an account on W&B."
   ]
  },
  {
   "cell_type": "markdown",
   "metadata": {
    "id": "CdJtAd8XJvT-"
   },
   "source": [
    "<img src=\"https://wandb.me/logo-im-png\" width=\"400\" alt=\"Weights & Biases\" />\n"
   ]
  },
  {
   "cell_type": "markdown",
   "metadata": {
    "id": "DRPlB915JvT_"
   },
   "source": [
    "\n",
    "Use Weights & Biases for machine learning experiment tracking, dataset versioning, and project collaboration.\n"
   ]
  },
  {
   "cell_type": "markdown",
   "metadata": {
    "id": "hye_IOCAJvUA"
   },
   "source": [
    "<img src=\"http://wandb.me/mini-diagram\" width=\"650\" alt=\"Weights & Biases\" />"
   ]
  },
  {
   "cell_type": "markdown",
   "metadata": {
    "id": "e_a3OudqJvUA"
   },
   "source": [
    "# Use W&B without leaving Jupyter\n"
   ]
  },
  {
   "cell_type": "markdown",
   "metadata": {
    "id": "J6FXRDihJvUB"
   },
   "source": [
    "Jupyter is the preferred development environment for many ML practitioners\n",
    "because it supports rapid experimentation and\n",
    "highly visual workflows (including creating charts).\n",
    "Plus tools like Google Colab, Kaggle Kernels, and Paperspace Gradient\n",
    "make it easy to share and collaborate on notebooks.\n",
    "\n",
    "Quick experiments, visualization, and collaboration\n",
    "are core values of W&B,\n",
    "so we've made it easy to use W&B inside Jupyter.\n",
    "\n",
    "In a nutshell, the steps are:\n",
    "\n",
    "1. Use one of two methods to get hold of a `Run`, `Sweep`, or `Report` object, depending on whether you're logging to a new experiment or analyzing an old one.\n",
    "2. `.display` the object to get a live dashboard beneath a cell.\n",
    "3. Interact with the dashboard: log new results, create charts, or review metadata."
   ]
  },
  {
   "cell_type": "markdown",
   "metadata": {
    "id": "juIsgBeUJvUB"
   },
   "source": [
    "Here's a (static) preview of one such dashboard:"
   ]
  },
  {
   "cell_type": "markdown",
   "metadata": {
    "id": "kikR1ENiJvUC"
   },
   "source": [
    "\n",
    "<img src=\"https://i.imgur.com/LhtnH1B.png\" alt= \"weights and biases jupyter integration\" width=\"500\" />\n",
    "\n"
   ]
  },
  {
   "cell_type": "markdown",
   "metadata": {
    "id": "CpYMVY6cJvUD"
   },
   "source": [
    "## Import, install, and log in"
   ]
  },
  {
   "cell_type": "code",
   "execution_count": 1,
   "metadata": {
    "colab": {
     "base_uri": "https://localhost:8080/"
    },
    "id": "REkPrfhhJvUD",
    "outputId": "47f8df15-8ef4-4a18-be24-913a18db83f1"
   },
   "outputs": [
    {
     "name": "stdout",
     "output_type": "stream",
     "text": [
      "\u001b[2K     \u001b[90m━━━━━━━━━━━━━━━━━━━━━━━━━━━━━━━━━━━━━━━━\u001b[0m \u001b[32m2.0/2.0 MB\u001b[0m \u001b[31m15.9 MB/s\u001b[0m eta \u001b[36m0:00:00\u001b[0m\n",
      "\u001b[2K     \u001b[90m━━━━━━━━━━━━━━━━━━━━━━━━━━━━━━━━━━━━━━\u001b[0m \u001b[32m184.0/184.0 KB\u001b[0m \u001b[31m10.5 MB/s\u001b[0m eta \u001b[36m0:00:00\u001b[0m\n",
      "\u001b[?25h  Preparing metadata (setup.py) ... \u001b[?25l\u001b[?25hdone\n",
      "\u001b[2K     \u001b[90m━━━━━━━━━━━━━━━━━━━━━━━━━━━━━━━━━━━━━━\u001b[0m \u001b[32m177.4/177.4 KB\u001b[0m \u001b[31m10.3 MB/s\u001b[0m eta \u001b[36m0:00:00\u001b[0m\n",
      "\u001b[2K     \u001b[90m━━━━━━━━━━━━━━━━━━━━━━━━━━━━━━━━━━━━━━━━\u001b[0m \u001b[32m62.7/62.7 KB\u001b[0m \u001b[31m3.2 MB/s\u001b[0m eta \u001b[36m0:00:00\u001b[0m\n",
      "\u001b[2K     \u001b[90m━━━━━━━━━━━━━━━━━━━━━━━━━━━━━━━━━━━━━━\u001b[0m \u001b[32m140.6/140.6 KB\u001b[0m \u001b[31m10.0 MB/s\u001b[0m eta \u001b[36m0:00:00\u001b[0m\n",
      "\u001b[?25h  Building wheel for pathtools (setup.py) ... \u001b[?25l\u001b[?25hdone\n"
     ]
    }
   ],
   "source": [
    "!pip install wandb -qU"
   ]
  },
  {
   "cell_type": "code",
   "execution_count": 2,
   "metadata": {
    "colab": {
     "base_uri": "https://localhost:8080/",
     "height": 142
    },
    "id": "3zOFeHhyJvUF",
    "outputId": "08df32b3-f1dd-465a-f865-4b72ef049369"
   },
   "outputs": [
    {
     "name": "stderr",
     "output_type": "stream",
     "text": [
      "ERROR:wandb.jupyter:Failed to detect the name of this notebook, you can set it manually with the WANDB_NOTEBOOK_NAME environment variable to enable code saving.\n"
     ]
    },
    {
     "data": {
      "application/javascript": [
       "\n",
       "        window._wandbApiKey = new Promise((resolve, reject) => {\n",
       "            function loadScript(url) {\n",
       "            return new Promise(function(resolve, reject) {\n",
       "                let newScript = document.createElement(\"script\");\n",
       "                newScript.onerror = reject;\n",
       "                newScript.onload = resolve;\n",
       "                document.body.appendChild(newScript);\n",
       "                newScript.src = url;\n",
       "            });\n",
       "            }\n",
       "            loadScript(\"https://cdn.jsdelivr.net/npm/postmate/build/postmate.min.js\").then(() => {\n",
       "            const iframe = document.createElement('iframe')\n",
       "            iframe.style.cssText = \"width:0;height:0;border:none\"\n",
       "            document.body.appendChild(iframe)\n",
       "            const handshake = new Postmate({\n",
       "                container: iframe,\n",
       "                url: 'https://wandb.ai/authorize'\n",
       "            });\n",
       "            const timeout = setTimeout(() => reject(\"Couldn't auto authenticate\"), 5000)\n",
       "            handshake.then(function(child) {\n",
       "                child.on('authorize', data => {\n",
       "                    clearTimeout(timeout)\n",
       "                    resolve(data)\n",
       "                });\n",
       "            });\n",
       "            })\n",
       "        });\n",
       "    "
      ],
      "text/plain": [
       "<IPython.core.display.Javascript object>"
      ]
     },
     "metadata": {},
     "output_type": "display_data"
    },
    {
     "name": "stderr",
     "output_type": "stream",
     "text": [
      "\u001b[34m\u001b[1mwandb\u001b[0m: Logging into wandb.ai. (Learn how to deploy a W&B server locally: https://wandb.me/wandb-server)\n",
      "\u001b[34m\u001b[1mwandb\u001b[0m: You can find your API key in your browser here: https://wandb.ai/authorize\n",
      "wandb: Paste an API key from your profile and hit enter, or press ctrl+c to quit: "
     ]
    },
    {
     "name": "stdout",
     "output_type": "stream",
     "text": [
      "··········\n"
     ]
    },
    {
     "name": "stderr",
     "output_type": "stream",
     "text": [
      "\u001b[34m\u001b[1mwandb\u001b[0m: Appending key for api.wandb.ai to your netrc file: /root/.netrc\n"
     ]
    },
    {
     "data": {
      "text/plain": [
       "True"
      ]
     },
     "execution_count": 2,
     "metadata": {},
     "output_type": "execute_result"
    }
   ],
   "source": [
    "import wandb\n",
    "wandb.login()"
   ]
  },
  {
   "cell_type": "markdown",
   "metadata": {
    "id": "mmbsXQapJvUF"
   },
   "source": [
    "## Method 1: `display` and log to a live W&B `Run`"
   ]
  },
  {
   "cell_type": "markdown",
   "metadata": {
    "id": "8SLocP-vJvUF"
   },
   "source": [
    "The result of the last line of each cell in a Jupyter notebook is \"displayed\" automatically.\n",
    "\n",
    "Our W&B pages hook into this system:\n",
    "they are rendered as an interactive window."
   ]
  },
  {
   "cell_type": "markdown",
   "metadata": {
    "id": "dtV8ErJFJvUG"
   },
   "source": [
    "First we need to kick the run off with\n",
    "[`wandb.init`](https://docs.wandb.ai/guides/track/launch)."
   ]
  },
  {
   "cell_type": "code",
   "execution_count": 3,
   "metadata": {
    "colab": {
     "base_uri": "https://localhost:8080/",
     "height": 122
    },
    "id": "FooeOWpoJvUG",
    "outputId": "bba12cd9-bea4-4c63-c36f-5120e856a220"
   },
   "outputs": [
    {
     "name": "stderr",
     "output_type": "stream",
     "text": [
      "\u001b[34m\u001b[1mwandb\u001b[0m: Currently logged in as: \u001b[33msharmi1206\u001b[0m. Use \u001b[1m`wandb login --relogin`\u001b[0m to force relogin\n"
     ]
    },
    {
     "data": {
      "text/html": [
       "Tracking run with wandb version 0.13.9"
      ],
      "text/plain": [
       "<IPython.core.display.HTML object>"
      ]
     },
     "metadata": {},
     "output_type": "display_data"
    },
    {
     "data": {
      "text/html": [
       "Run data is saved locally in <code>/content/wandb/run-20230117_055846-sk6wztc4</code>"
      ],
      "text/plain": [
       "<IPython.core.display.HTML object>"
      ]
     },
     "metadata": {},
     "output_type": "display_data"
    },
    {
     "data": {
      "text/html": [
       "Syncing run <strong><a href=\"https://wandb.ai/sharmi1206/jupyter-projo/runs/sk6wztc4\" target=\"_blank\">grateful-morning-1</a></strong> to <a href=\"https://wandb.ai/sharmi1206/jupyter-projo\" target=\"_blank\">Weights & Biases</a> (<a href=\"https://wandb.me/run\" target=\"_blank\">docs</a>)<br/>"
      ],
      "text/plain": [
       "<IPython.core.display.HTML object>"
      ]
     },
     "metadata": {},
     "output_type": "display_data"
    },
    {
     "data": {
      "text/html": [
       " View project at <a href=\"https://wandb.ai/sharmi1206/jupyter-projo\" target=\"_blank\">https://wandb.ai/sharmi1206/jupyter-projo</a>"
      ],
      "text/plain": [
       "<IPython.core.display.HTML object>"
      ]
     },
     "metadata": {},
     "output_type": "display_data"
    },
    {
     "data": {
      "text/html": [
       " View run at <a href=\"https://wandb.ai/sharmi1206/jupyter-projo/runs/sk6wztc4\" target=\"_blank\">https://wandb.ai/sharmi1206/jupyter-projo/runs/sk6wztc4</a>"
      ],
      "text/plain": [
       "<IPython.core.display.HTML object>"
      ]
     },
     "metadata": {},
     "output_type": "display_data"
    }
   ],
   "source": [
    "run = wandb.init(project=\"jupyter-projo\",\n",
    "                 config={\"batch_size\": 128,\n",
    "                         \"learning_rate\": 0.01,\n",
    "                         \"dataset\": \"CIFAR-100\"})"
   ]
  },
  {
   "cell_type": "markdown",
   "metadata": {
    "id": "Xcv_TkVMJvUG"
   },
   "source": [
    "Then we create an interactive dashboard of the size we want for the run and display it."
   ]
  },
  {
   "cell_type": "code",
   "execution_count": 4,
   "metadata": {
    "colab": {
     "base_uri": "https://localhost:8080/",
     "height": 795
    },
    "id": "rOtj-95qJvUH",
    "outputId": "9095e345-2526-4c10-ffb1-9c25aa81fed8"
   },
   "outputs": [
    {
     "name": "stderr",
     "output_type": "stream",
     "text": [
      "/usr/local/lib/python3.8/dist-packages/IPython/core/display.py:701: UserWarning: Consider using IPython.display.IFrame instead\n",
      "  warnings.warn(\"Consider using IPython.display.IFrame instead\")\n"
     ]
    },
    {
     "data": {
      "text/html": [
       "<iframe src=\"https://wandb.ai/sharmi1206/jupyter-projo/runs/sk6wztc4?jupyter=true\" style=\"border:none;width:100%;height:720px;\"></iframe>"
      ],
      "text/plain": [
       "<IPython.core.display.HTML object>"
      ]
     },
     "metadata": {},
     "output_type": "display_data"
    },
    {
     "data": {
      "text/plain": [
       "True"
      ]
     },
     "execution_count": 4,
     "metadata": {},
     "output_type": "execute_result"
    }
   ],
   "source": [
    "run.display(height=720)"
   ]
  },
  {
   "cell_type": "markdown",
   "metadata": {
    "id": "taQ-3e8kJvUH"
   },
   "source": [
    "Anything logged as part of this experiment (until you call `wandb.finish`)\n",
    "will be added to that chart.\n",
    "\n",
    "Run the cell below to watch the metrics stream in live!"
   ]
  },
  {
   "cell_type": "code",
   "execution_count": 5,
   "metadata": {
    "id": "UujY2z1_JvUH"
   },
   "outputs": [],
   "source": [
    "import time\n",
    "\n",
    "for ii in range(30):\n",
    "  wandb.log({\"acc\": 1 - 2 ** -ii, \"loss\": 2 ** -ii})\n",
    "  time.sleep(0.5)"
   ]
  },
  {
   "cell_type": "markdown",
   "metadata": {
    "id": "48Qf_YmzJvUH"
   },
   "source": [
    "> **Anything else you can do from the\n",
    "[Run Page](https://docs.wandb.ai/ref/app/pages/run-page)\n",
    "can be done here** --\n",
    "[edit a chart](https://docs.wandb.ai/ref/app/pages/run-page#charts-tab),\n",
    "create a shareable link to it,\n",
    "and send it to collaborator;\n",
    "review your [system metrics](https://docs.wandb.ai/ref/app/pages/run-page#system-tabs)\n",
    "or the\n",
    "[logs from the standard out](https://docs.wandb.ai/ref/app/pages/run-page#logs-tab)\n",
    "or the\n",
    "[datasets and models you've logged](https://docs.wandb.ai/ref/app/pages/run-page#artifacts-tab);\n",
    "check the\n",
    "[configuration metadata](https://docs.wandb.ai/ref/app/pages/run-page#overview-tab).\n"
   ]
  },
  {
   "cell_type": "markdown",
   "metadata": {
    "id": "-lEy9H_UJvUI"
   },
   "source": [
    "`wandb` also prints a URL. That URL points to [the webpage](https://docs.wandb.ai/ref/app/pages/run-page)\n",
    "where your run's results are stored -- nothing to worry about if your notebook crashes or your kernel dies, it's all there!"
   ]
  },
  {
   "cell_type": "markdown",
   "metadata": {
    "id": "QfI_mJuqJvUI"
   },
   "source": [
    "### Finishing the run"
   ]
  },
  {
   "cell_type": "markdown",
   "metadata": {
    "id": "PnWofYn3JvUJ"
   },
   "source": [
    "When you are done with your experiment,\n",
    "call `wandb.finish` to let us know there's nothing more to log.\n",
    "\n",
    "We'll print out a handy summary and history of your run,\n",
    "plus links to the webpages where all your run's information is stored.\n",
    "\n",
    "> **Hot Tip!** If you turn on [code saving](https://docs.wandb.ai/ref/app/features/panels/code) in your W&B [settings](https://wandb.ai/settings),\n",
    "we'll also save a copy of the notebook and its \"session history\": all the cells you ran, in order, in the state that you ran them in, with their outputs. Handy!"
   ]
  },
  {
   "cell_type": "code",
   "execution_count": 6,
   "metadata": {
    "colab": {
     "base_uri": "https://localhost:8080/",
     "height": 291,
     "referenced_widgets": [
      "c03344f66d1044b091490fc04cd4e80b",
      "3318bd79a387454fb4292aa5804a59b8",
      "df467d1b7b374a669c35601e6ac51620",
      "2c4feb49b19543f48b2b59493d55b964",
      "1ced8ce1aea94065ad44641a074d36aa",
      "35c8ba10fa3a4da08cf6f322fff8d194",
      "7afb3a14f08040d499a08ea2a65babc4",
      "069da0bf0b8c4ca39fa7cd8c50ffed52"
     ]
    },
    "id": "cTXTsXAvJvUJ",
    "outputId": "b1ef9b56-c9af-48fa-bc0f-a67f56906fc5"
   },
   "outputs": [
    {
     "data": {
      "text/html": [
       "Waiting for W&B process to finish... <strong style=\"color:green\">(success).</strong>"
      ],
      "text/plain": [
       "<IPython.core.display.HTML object>"
      ]
     },
     "metadata": {},
     "output_type": "display_data"
    },
    {
     "data": {
      "application/vnd.jupyter.widget-view+json": {
       "model_id": "c03344f66d1044b091490fc04cd4e80b",
       "version_major": 2,
       "version_minor": 0
      },
      "text/plain": [
       "VBox(children=(Label(value='0.001 MB of 0.009 MB uploaded (0.000 MB deduped)\\r'), FloatProgress(value=0.065987…"
      ]
     },
     "metadata": {},
     "output_type": "display_data"
    },
    {
     "data": {
      "text/html": [
       "<style>\n",
       "    table.wandb td:nth-child(1) { padding: 0 10px; text-align: left ; width: auto;} td:nth-child(2) {text-align: left ; width: 100%}\n",
       "    .wandb-row { display: flex; flex-direction: row; flex-wrap: wrap; justify-content: flex-start; width: 100% }\n",
       "    .wandb-col { display: flex; flex-direction: column; flex-basis: 100%; flex: 1; padding: 10px; }\n",
       "    </style>\n",
       "<div class=\"wandb-row\"><div class=\"wandb-col\"><h3>Run history:</h3><br/><table class=\"wandb\"><tr><td>acc</td><td>▁▅▆▇██████████████████████████</td></tr><tr><td>loss</td><td>█▄▃▂▁▁▁▁▁▁▁▁▁▁▁▁▁▁▁▁▁▁▁▁▁▁▁▁▁▁</td></tr></table><br/></div><div class=\"wandb-col\"><h3>Run summary:</h3><br/><table class=\"wandb\"><tr><td>acc</td><td>1.0</td></tr><tr><td>loss</td><td>0.0</td></tr></table><br/></div></div>"
      ],
      "text/plain": [
       "<IPython.core.display.HTML object>"
      ]
     },
     "metadata": {},
     "output_type": "display_data"
    },
    {
     "data": {
      "text/html": [
       " View run <strong style=\"color:#cdcd00\">grateful-morning-1</strong> at: <a href=\"https://wandb.ai/sharmi1206/jupyter-projo/runs/sk6wztc4\" target=\"_blank\">https://wandb.ai/sharmi1206/jupyter-projo/runs/sk6wztc4</a><br/>Synced 5 W&B file(s), 0 media file(s), 0 artifact file(s) and 0 other file(s)"
      ],
      "text/plain": [
       "<IPython.core.display.HTML object>"
      ]
     },
     "metadata": {},
     "output_type": "display_data"
    },
    {
     "data": {
      "text/html": [
       "Find logs at: <code>./wandb/run-20230117_055846-sk6wztc4/logs</code>"
      ],
      "text/plain": [
       "<IPython.core.display.HTML object>"
      ]
     },
     "metadata": {},
     "output_type": "display_data"
    }
   ],
   "source": [
    "if wandb.run is not None:\n",
    "  wandb.finish()"
   ]
  },
  {
   "cell_type": "markdown",
   "metadata": {
    "id": "XkdBTBXwJvUK"
   },
   "source": [
    "## Method 2: `display` and analyze a finished W&B `Run`"
   ]
  },
  {
   "cell_type": "markdown",
   "metadata": {
    "id": "3U-63SEiJvUK"
   },
   "source": [
    "Interaction with W&B dashboards for training runs\n",
    "isn't limited to watching information come in live\n",
    "from the comfort of a notebook interface.\n",
    "\n",
    "All of the information you log to or create within W&B\n",
    "is available in perpetuity and programmatically via the W&B\n",
    "[Public API](https://docs.wandb.ai/guides/track/public-api-guide)."
   ]
  },
  {
   "cell_type": "code",
   "execution_count": 7,
   "metadata": {
    "id": "ZYtfQBtbJvUK"
   },
   "outputs": [],
   "source": [
    "api = wandb.Api()"
   ]
  },
  {
   "cell_type": "markdown",
   "metadata": {
    "id": "qTDGHMAzJvUK"
   },
   "source": [
    "In this example, we'll take a look at the training run for a chess piece detector\n",
    "created using [YOLOv5](https://ultralytics.com/yolov5),\n",
    "which includes a [W&B integration](https://docs.wandb.ai/guides/integrations/yolov5).\n",
    "\n",
    "You can train your own with [this colab](http://wandb.me/yolo-chess)."
   ]
  },
  {
   "cell_type": "code",
   "execution_count": 8,
   "metadata": {
    "colab": {
     "base_uri": "https://localhost:8080/",
     "height": 1000
    },
    "id": "xxJ1uixvJvUK",
    "outputId": "c651de23-1231-4630-9137-8a5fc7ad8af0"
   },
   "outputs": [
    {
     "data": {
      "text/html": [
       "<iframe src=\"https://wandb.ai/wandb/yolo-chess/runs/33fp7u8d?jupyter=true\" style=\"border:none;width:100%;height:1080px;\"></iframe>"
      ],
      "text/plain": [
       "<IPython.core.display.HTML object>"
      ]
     },
     "metadata": {},
     "output_type": "display_data"
    },
    {
     "data": {
      "text/plain": [
       "True"
      ]
     },
     "execution_count": 8,
     "metadata": {},
     "output_type": "execute_result"
    }
   ],
   "source": [
    "team, project, run_id = \"wandb\", \"yolo-chess\", \"33fp7u8d\"\n",
    "run = api.run(f\"{team}/{project}/{run_id}\")\n",
    "\n",
    "run.display(height=1080)  # you may need to zoom out to see the whole window!"
   ]
  },
  {
   "cell_type": "markdown",
   "metadata": {
    "id": "eR53pheeJvUL"
   },
   "source": [
    "# But it's not just about `Run`s"
   ]
  },
  {
   "cell_type": "markdown",
   "metadata": {
    "id": "U44OLTBpJvUL"
   },
   "source": [
    "Anything you can do in a W&B workspace can be done from inside Jupyter\n",
    "if you have the URL for the workspace.\n",
    "\n",
    "That means that, without leaving Jupyter, you can use W&B to:"
   ]
  },
  {
   "cell_type": "markdown",
   "metadata": {
    "id": "va5ou6nGJvUL"
   },
   "source": [
    "### Interactively analyze data in [Tables](https://docs.wandb.ai/guides/data-vis)"
   ]
  },
  {
   "cell_type": "markdown",
   "metadata": {
    "id": "rgMnrdYnJvUL"
   },
   "source": [
    "And it doesn't have to be your own work -- it can be a `coworker`'s page as well."
   ]
  },
  {
   "cell_type": "code",
   "execution_count": 9,
   "metadata": {
    "colab": {
     "base_uri": "https://localhost:8080/",
     "height": 759
    },
    "id": "nySyzxThJvUL",
    "outputId": "73ff45ca-95ec-4fa3-ae46-e3121657835a"
   },
   "outputs": [
    {
     "data": {
      "text/html": [
       "<iframe src=\"https://wandb.ai/stacey/model_iterz/runs/10x1nnh2?jupyter=true\" style=\"border:none;width:100%;height:720px;\"></iframe>"
      ],
      "text/plain": [
       "<IPython.core.display.HTML object>"
      ]
     },
     "metadata": {},
     "output_type": "display_data"
    },
    {
     "data": {
      "text/plain": [
       "True"
      ]
     },
     "execution_count": 9,
     "metadata": {},
     "output_type": "execute_result"
    }
   ],
   "source": [
    "coworker, project, run_id = \"stacey\", \"model_iterz\", \"10x1nnh2\"\n",
    "run = api.run(f\"{coworker}/{project}/{run_id}\")\n",
    "\n",
    "run.display(height=720)"
   ]
  },
  {
   "cell_type": "markdown",
   "metadata": {
    "id": "hw0avdp6JvUM"
   },
   "source": [
    "### Analyze the results of hyperparameter [Sweeps](https://docs.wandb.ai/guides/sweeps)"
   ]
  },
  {
   "cell_type": "code",
   "execution_count": 10,
   "metadata": {
    "colab": {
     "base_uri": "https://localhost:8080/",
     "height": 1000
    },
    "id": "mhDL-JHBJvUM",
    "outputId": "efa15ee0-149f-46b8-a1a4-4152b78f7a03"
   },
   "outputs": [
    {
     "data": {
      "text/html": [
       "<iframe src=\"https://wandb.ai/charlesfrye/mnist-sweeps/sweeps/n60n6wv1?jupyter=true\" style=\"border:none;width:100%;height:1080px;\"></iframe>"
      ],
      "text/plain": [
       "<IPython.core.display.HTML object>"
      ]
     },
     "metadata": {},
     "output_type": "display_data"
    },
    {
     "data": {
      "text/plain": [
       "True"
      ]
     },
     "execution_count": 10,
     "metadata": {},
     "output_type": "execute_result"
    }
   ],
   "source": [
    "entity, project, sweep_id = \"charlesfrye\", \"mnist-sweeps\", \"n60n6wv1\"\n",
    "sweep = api.sweep(f\"{entity}/{project}/{sweep_id}\")\n",
    "\n",
    "sweep.display(height=1080)  # you may need to zoom out to see the whole window!"
   ]
  },
  {
   "cell_type": "markdown",
   "metadata": {
    "id": "mESN5Tc2JvUM"
   },
   "source": [
    "## Share results in [Reports](https://docs.wandb.ai/guides/reports)"
   ]
  },
  {
   "cell_type": "code",
   "execution_count": 11,
   "metadata": {
    "colab": {
     "base_uri": "https://localhost:8080/",
     "height": 1000
    },
    "id": "VbzDfISUJvUM",
    "outputId": "d66102db-0140-41f7-966e-17b8091b209c"
   },
   "outputs": [
    {
     "data": {
      "text/html": [
       "<iframe src=\"https://wandb.ai/charlesfrye/mnist-sweeps/reports/Third-Pass-Trying-Different-Shapes--VmlldzoxNjY1NDk?jupyter=true\" style=\"border:none;width:100%;height:1024px;\"></iframe>"
      ],
      "text/plain": [
       "<wandb.jupyter.IFrame at 0x7f948a3d4940>"
      ]
     },
     "metadata": {},
     "output_type": "display_data"
    }
   ],
   "source": [
    "entity, project = \"charlesfrye\", \"mnist-sweeps\"\n",
    "report_name = \"Third-Pass-Trying-Different-Shapes--VmlldzoxNjY1NDk\"\n",
    "url = f\"https://wandb.ai/{entity}/{project}/reports/{report_name}\"\n",
    "\n",
    "%wandb {entity}/{project}/reports/{report_name} -h 1024"
   ]
  }
 ],
 "metadata": {
  "colab": {
   "provenance": []
  },
  "kernelspec": {
   "display_name": "Python 3",
   "language": "python",
   "name": "python3"
  },
  "language_info": {
   "codemirror_mode": {
    "name": "ipython",
    "version": 3
   },
   "file_extension": ".py",
   "mimetype": "text/x-python",
   "name": "python",
   "nbconvert_exporter": "python",
   "pygments_lexer": "ipython3",
   "version": "3.8.8"
  },
  "widgets": {
   "application/vnd.jupyter.widget-state+json": {
    "069da0bf0b8c4ca39fa7cd8c50ffed52": {
     "model_module": "@jupyter-widgets/controls",
     "model_module_version": "1.5.0",
     "model_name": "ProgressStyleModel",
     "state": {
      "_model_module": "@jupyter-widgets/controls",
      "_model_module_version": "1.5.0",
      "_model_name": "ProgressStyleModel",
      "_view_count": null,
      "_view_module": "@jupyter-widgets/base",
      "_view_module_version": "1.2.0",
      "_view_name": "StyleView",
      "bar_color": null,
      "description_width": ""
     }
    },
    "1ced8ce1aea94065ad44641a074d36aa": {
     "model_module": "@jupyter-widgets/base",
     "model_module_version": "1.2.0",
     "model_name": "LayoutModel",
     "state": {
      "_model_module": "@jupyter-widgets/base",
      "_model_module_version": "1.2.0",
      "_model_name": "LayoutModel",
      "_view_count": null,
      "_view_module": "@jupyter-widgets/base",
      "_view_module_version": "1.2.0",
      "_view_name": "LayoutView",
      "align_content": null,
      "align_items": null,
      "align_self": null,
      "border": null,
      "bottom": null,
      "display": null,
      "flex": null,
      "flex_flow": null,
      "grid_area": null,
      "grid_auto_columns": null,
      "grid_auto_flow": null,
      "grid_auto_rows": null,
      "grid_column": null,
      "grid_gap": null,
      "grid_row": null,
      "grid_template_areas": null,
      "grid_template_columns": null,
      "grid_template_rows": null,
      "height": null,
      "justify_content": null,
      "justify_items": null,
      "left": null,
      "margin": null,
      "max_height": null,
      "max_width": null,
      "min_height": null,
      "min_width": null,
      "object_fit": null,
      "object_position": null,
      "order": null,
      "overflow": null,
      "overflow_x": null,
      "overflow_y": null,
      "padding": null,
      "right": null,
      "top": null,
      "visibility": null,
      "width": null
     }
    },
    "2c4feb49b19543f48b2b59493d55b964": {
     "model_module": "@jupyter-widgets/base",
     "model_module_version": "1.2.0",
     "model_name": "LayoutModel",
     "state": {
      "_model_module": "@jupyter-widgets/base",
      "_model_module_version": "1.2.0",
      "_model_name": "LayoutModel",
      "_view_count": null,
      "_view_module": "@jupyter-widgets/base",
      "_view_module_version": "1.2.0",
      "_view_name": "LayoutView",
      "align_content": null,
      "align_items": null,
      "align_self": null,
      "border": null,
      "bottom": null,
      "display": null,
      "flex": null,
      "flex_flow": null,
      "grid_area": null,
      "grid_auto_columns": null,
      "grid_auto_flow": null,
      "grid_auto_rows": null,
      "grid_column": null,
      "grid_gap": null,
      "grid_row": null,
      "grid_template_areas": null,
      "grid_template_columns": null,
      "grid_template_rows": null,
      "height": null,
      "justify_content": null,
      "justify_items": null,
      "left": null,
      "margin": null,
      "max_height": null,
      "max_width": null,
      "min_height": null,
      "min_width": null,
      "object_fit": null,
      "object_position": null,
      "order": null,
      "overflow": null,
      "overflow_x": null,
      "overflow_y": null,
      "padding": null,
      "right": null,
      "top": null,
      "visibility": null,
      "width": null
     }
    },
    "3318bd79a387454fb4292aa5804a59b8": {
     "model_module": "@jupyter-widgets/controls",
     "model_module_version": "1.5.0",
     "model_name": "LabelModel",
     "state": {
      "_dom_classes": [],
      "_model_module": "@jupyter-widgets/controls",
      "_model_module_version": "1.5.0",
      "_model_name": "LabelModel",
      "_view_count": null,
      "_view_module": "@jupyter-widgets/controls",
      "_view_module_version": "1.5.0",
      "_view_name": "LabelView",
      "description": "",
      "description_tooltip": null,
      "layout": "IPY_MODEL_1ced8ce1aea94065ad44641a074d36aa",
      "placeholder": "​",
      "style": "IPY_MODEL_35c8ba10fa3a4da08cf6f322fff8d194",
      "value": "0.001 MB of 0.009 MB uploaded (0.000 MB deduped)\r"
     }
    },
    "35c8ba10fa3a4da08cf6f322fff8d194": {
     "model_module": "@jupyter-widgets/controls",
     "model_module_version": "1.5.0",
     "model_name": "DescriptionStyleModel",
     "state": {
      "_model_module": "@jupyter-widgets/controls",
      "_model_module_version": "1.5.0",
      "_model_name": "DescriptionStyleModel",
      "_view_count": null,
      "_view_module": "@jupyter-widgets/base",
      "_view_module_version": "1.2.0",
      "_view_name": "StyleView",
      "description_width": ""
     }
    },
    "7afb3a14f08040d499a08ea2a65babc4": {
     "model_module": "@jupyter-widgets/base",
     "model_module_version": "1.2.0",
     "model_name": "LayoutModel",
     "state": {
      "_model_module": "@jupyter-widgets/base",
      "_model_module_version": "1.2.0",
      "_model_name": "LayoutModel",
      "_view_count": null,
      "_view_module": "@jupyter-widgets/base",
      "_view_module_version": "1.2.0",
      "_view_name": "LayoutView",
      "align_content": null,
      "align_items": null,
      "align_self": null,
      "border": null,
      "bottom": null,
      "display": null,
      "flex": null,
      "flex_flow": null,
      "grid_area": null,
      "grid_auto_columns": null,
      "grid_auto_flow": null,
      "grid_auto_rows": null,
      "grid_column": null,
      "grid_gap": null,
      "grid_row": null,
      "grid_template_areas": null,
      "grid_template_columns": null,
      "grid_template_rows": null,
      "height": null,
      "justify_content": null,
      "justify_items": null,
      "left": null,
      "margin": null,
      "max_height": null,
      "max_width": null,
      "min_height": null,
      "min_width": null,
      "object_fit": null,
      "object_position": null,
      "order": null,
      "overflow": null,
      "overflow_x": null,
      "overflow_y": null,
      "padding": null,
      "right": null,
      "top": null,
      "visibility": null,
      "width": null
     }
    },
    "c03344f66d1044b091490fc04cd4e80b": {
     "model_module": "@jupyter-widgets/controls",
     "model_module_version": "1.5.0",
     "model_name": "VBoxModel",
     "state": {
      "_dom_classes": [],
      "_model_module": "@jupyter-widgets/controls",
      "_model_module_version": "1.5.0",
      "_model_name": "VBoxModel",
      "_view_count": null,
      "_view_module": "@jupyter-widgets/controls",
      "_view_module_version": "1.5.0",
      "_view_name": "VBoxView",
      "box_style": "",
      "children": [
       "IPY_MODEL_3318bd79a387454fb4292aa5804a59b8",
       "IPY_MODEL_df467d1b7b374a669c35601e6ac51620"
      ],
      "layout": "IPY_MODEL_2c4feb49b19543f48b2b59493d55b964"
     }
    },
    "df467d1b7b374a669c35601e6ac51620": {
     "model_module": "@jupyter-widgets/controls",
     "model_module_version": "1.5.0",
     "model_name": "FloatProgressModel",
     "state": {
      "_dom_classes": [],
      "_model_module": "@jupyter-widgets/controls",
      "_model_module_version": "1.5.0",
      "_model_name": "FloatProgressModel",
      "_view_count": null,
      "_view_module": "@jupyter-widgets/controls",
      "_view_module_version": "1.5.0",
      "_view_name": "ProgressView",
      "bar_style": "",
      "description": "",
      "description_tooltip": null,
      "layout": "IPY_MODEL_7afb3a14f08040d499a08ea2a65babc4",
      "max": 1,
      "min": 0,
      "orientation": "horizontal",
      "style": "IPY_MODEL_069da0bf0b8c4ca39fa7cd8c50ffed52",
      "value": 0.06598700425722608
     }
    }
   }
  }
 },
 "nbformat": 4,
 "nbformat_minor": 1
}
