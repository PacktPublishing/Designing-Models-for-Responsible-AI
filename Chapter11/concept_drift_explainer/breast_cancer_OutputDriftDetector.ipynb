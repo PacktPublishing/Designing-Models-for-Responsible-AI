{
 "cells": [
  {
   "cell_type": "markdown",
   "id": "02dd2d66",
   "metadata": {},
   "source": [
    "In this example we learn about the different in data/drift distributions that results from 2 datasets. Here we use the model explainiabilty aspect of ML, available in CinnaMon library and its ModelDriftExplainer functionality, to explain drift resulting from a classifier model. Here OutputDriftDetector function helps us to identify drift from XGBoost's classifier model.\n",
    "\n",
    "The experiment is done with a random split so we should not detect a data drift. We had run our experiments on Breast Cancer Dataset."
   ]
  },
  {
   "cell_type": "markdown",
   "id": "4881385f",
   "metadata": {},
   "source": [
    "# Output Drift detector on XGBoost Classifier ML Model"
   ]
  },
  {
   "cell_type": "code",
   "execution_count": 1,
   "id": "5862075f",
   "metadata": {},
   "outputs": [],
   "source": [
    "import pandas as pd\n",
    "from sklearn import datasets\n",
    "from sklearn.model_selection import train_test_split\n",
    "from xgboost import XGBClassifier\n",
    "import xgboost as xgb\n",
    "\n",
    "from cinnamon.drift import OutputDriftDetector"
   ]
  },
  {
   "cell_type": "markdown",
   "id": "7e5368a3",
   "metadata": {},
   "source": [
    "# Breast Cancer Data"
   ]
  },
  {
   "cell_type": "code",
   "execution_count": 2,
   "id": "e5449006",
   "metadata": {},
   "outputs": [],
   "source": [
    "dataset = datasets.load_breast_cancer()"
   ]
  },
  {
   "cell_type": "code",
   "execution_count": 3,
   "id": "ce9be77b",
   "metadata": {},
   "outputs": [],
   "source": [
    "X = pd.DataFrame(dataset.data, columns = dataset.feature_names)\n",
    "y = dataset.target"
   ]
  },
  {
   "cell_type": "code",
   "execution_count": 4,
   "id": "6b995e73",
   "metadata": {},
   "outputs": [
    {
     "data": {
      "text/html": [
       "<div>\n",
       "<style scoped>\n",
       "    .dataframe tbody tr th:only-of-type {\n",
       "        vertical-align: middle;\n",
       "    }\n",
       "\n",
       "    .dataframe tbody tr th {\n",
       "        vertical-align: top;\n",
       "    }\n",
       "\n",
       "    .dataframe thead th {\n",
       "        text-align: right;\n",
       "    }\n",
       "</style>\n",
       "<table border=\"1\" class=\"dataframe\">\n",
       "  <thead>\n",
       "    <tr style=\"text-align: right;\">\n",
       "      <th></th>\n",
       "      <th>mean radius</th>\n",
       "      <th>mean texture</th>\n",
       "      <th>mean perimeter</th>\n",
       "      <th>mean area</th>\n",
       "      <th>mean smoothness</th>\n",
       "      <th>mean compactness</th>\n",
       "      <th>mean concavity</th>\n",
       "      <th>mean concave points</th>\n",
       "      <th>mean symmetry</th>\n",
       "      <th>mean fractal dimension</th>\n",
       "      <th>...</th>\n",
       "      <th>worst radius</th>\n",
       "      <th>worst texture</th>\n",
       "      <th>worst perimeter</th>\n",
       "      <th>worst area</th>\n",
       "      <th>worst smoothness</th>\n",
       "      <th>worst compactness</th>\n",
       "      <th>worst concavity</th>\n",
       "      <th>worst concave points</th>\n",
       "      <th>worst symmetry</th>\n",
       "      <th>worst fractal dimension</th>\n",
       "    </tr>\n",
       "  </thead>\n",
       "  <tbody>\n",
       "    <tr>\n",
       "      <th>0</th>\n",
       "      <td>17.99</td>\n",
       "      <td>10.38</td>\n",
       "      <td>122.80</td>\n",
       "      <td>1001.0</td>\n",
       "      <td>0.11840</td>\n",
       "      <td>0.27760</td>\n",
       "      <td>0.3001</td>\n",
       "      <td>0.14710</td>\n",
       "      <td>0.2419</td>\n",
       "      <td>0.07871</td>\n",
       "      <td>...</td>\n",
       "      <td>25.38</td>\n",
       "      <td>17.33</td>\n",
       "      <td>184.60</td>\n",
       "      <td>2019.0</td>\n",
       "      <td>0.1622</td>\n",
       "      <td>0.6656</td>\n",
       "      <td>0.7119</td>\n",
       "      <td>0.2654</td>\n",
       "      <td>0.4601</td>\n",
       "      <td>0.11890</td>\n",
       "    </tr>\n",
       "    <tr>\n",
       "      <th>1</th>\n",
       "      <td>20.57</td>\n",
       "      <td>17.77</td>\n",
       "      <td>132.90</td>\n",
       "      <td>1326.0</td>\n",
       "      <td>0.08474</td>\n",
       "      <td>0.07864</td>\n",
       "      <td>0.0869</td>\n",
       "      <td>0.07017</td>\n",
       "      <td>0.1812</td>\n",
       "      <td>0.05667</td>\n",
       "      <td>...</td>\n",
       "      <td>24.99</td>\n",
       "      <td>23.41</td>\n",
       "      <td>158.80</td>\n",
       "      <td>1956.0</td>\n",
       "      <td>0.1238</td>\n",
       "      <td>0.1866</td>\n",
       "      <td>0.2416</td>\n",
       "      <td>0.1860</td>\n",
       "      <td>0.2750</td>\n",
       "      <td>0.08902</td>\n",
       "    </tr>\n",
       "    <tr>\n",
       "      <th>2</th>\n",
       "      <td>19.69</td>\n",
       "      <td>21.25</td>\n",
       "      <td>130.00</td>\n",
       "      <td>1203.0</td>\n",
       "      <td>0.10960</td>\n",
       "      <td>0.15990</td>\n",
       "      <td>0.1974</td>\n",
       "      <td>0.12790</td>\n",
       "      <td>0.2069</td>\n",
       "      <td>0.05999</td>\n",
       "      <td>...</td>\n",
       "      <td>23.57</td>\n",
       "      <td>25.53</td>\n",
       "      <td>152.50</td>\n",
       "      <td>1709.0</td>\n",
       "      <td>0.1444</td>\n",
       "      <td>0.4245</td>\n",
       "      <td>0.4504</td>\n",
       "      <td>0.2430</td>\n",
       "      <td>0.3613</td>\n",
       "      <td>0.08758</td>\n",
       "    </tr>\n",
       "    <tr>\n",
       "      <th>3</th>\n",
       "      <td>11.42</td>\n",
       "      <td>20.38</td>\n",
       "      <td>77.58</td>\n",
       "      <td>386.1</td>\n",
       "      <td>0.14250</td>\n",
       "      <td>0.28390</td>\n",
       "      <td>0.2414</td>\n",
       "      <td>0.10520</td>\n",
       "      <td>0.2597</td>\n",
       "      <td>0.09744</td>\n",
       "      <td>...</td>\n",
       "      <td>14.91</td>\n",
       "      <td>26.50</td>\n",
       "      <td>98.87</td>\n",
       "      <td>567.7</td>\n",
       "      <td>0.2098</td>\n",
       "      <td>0.8663</td>\n",
       "      <td>0.6869</td>\n",
       "      <td>0.2575</td>\n",
       "      <td>0.6638</td>\n",
       "      <td>0.17300</td>\n",
       "    </tr>\n",
       "    <tr>\n",
       "      <th>4</th>\n",
       "      <td>20.29</td>\n",
       "      <td>14.34</td>\n",
       "      <td>135.10</td>\n",
       "      <td>1297.0</td>\n",
       "      <td>0.10030</td>\n",
       "      <td>0.13280</td>\n",
       "      <td>0.1980</td>\n",
       "      <td>0.10430</td>\n",
       "      <td>0.1809</td>\n",
       "      <td>0.05883</td>\n",
       "      <td>...</td>\n",
       "      <td>22.54</td>\n",
       "      <td>16.67</td>\n",
       "      <td>152.20</td>\n",
       "      <td>1575.0</td>\n",
       "      <td>0.1374</td>\n",
       "      <td>0.2050</td>\n",
       "      <td>0.4000</td>\n",
       "      <td>0.1625</td>\n",
       "      <td>0.2364</td>\n",
       "      <td>0.07678</td>\n",
       "    </tr>\n",
       "  </tbody>\n",
       "</table>\n",
       "<p>5 rows × 30 columns</p>\n",
       "</div>"
      ],
      "text/plain": [
       "   mean radius  mean texture  mean perimeter  mean area  mean smoothness  \\\n",
       "0        17.99         10.38          122.80     1001.0          0.11840   \n",
       "1        20.57         17.77          132.90     1326.0          0.08474   \n",
       "2        19.69         21.25          130.00     1203.0          0.10960   \n",
       "3        11.42         20.38           77.58      386.1          0.14250   \n",
       "4        20.29         14.34          135.10     1297.0          0.10030   \n",
       "\n",
       "   mean compactness  mean concavity  mean concave points  mean symmetry  \\\n",
       "0           0.27760          0.3001              0.14710         0.2419   \n",
       "1           0.07864          0.0869              0.07017         0.1812   \n",
       "2           0.15990          0.1974              0.12790         0.2069   \n",
       "3           0.28390          0.2414              0.10520         0.2597   \n",
       "4           0.13280          0.1980              0.10430         0.1809   \n",
       "\n",
       "   mean fractal dimension  ...  worst radius  worst texture  worst perimeter  \\\n",
       "0                 0.07871  ...         25.38          17.33           184.60   \n",
       "1                 0.05667  ...         24.99          23.41           158.80   \n",
       "2                 0.05999  ...         23.57          25.53           152.50   \n",
       "3                 0.09744  ...         14.91          26.50            98.87   \n",
       "4                 0.05883  ...         22.54          16.67           152.20   \n",
       "\n",
       "   worst area  worst smoothness  worst compactness  worst concavity  \\\n",
       "0      2019.0            0.1622             0.6656           0.7119   \n",
       "1      1956.0            0.1238             0.1866           0.2416   \n",
       "2      1709.0            0.1444             0.4245           0.4504   \n",
       "3       567.7            0.2098             0.8663           0.6869   \n",
       "4      1575.0            0.1374             0.2050           0.4000   \n",
       "\n",
       "   worst concave points  worst symmetry  worst fractal dimension  \n",
       "0                0.2654          0.4601                  0.11890  \n",
       "1                0.1860          0.2750                  0.08902  \n",
       "2                0.2430          0.3613                  0.08758  \n",
       "3                0.2575          0.6638                  0.17300  \n",
       "4                0.1625          0.2364                  0.07678  \n",
       "\n",
       "[5 rows x 30 columns]"
      ]
     },
     "execution_count": 4,
     "metadata": {},
     "output_type": "execute_result"
    }
   ],
   "source": [
    "X.head()"
   ]
  },
  {
   "cell_type": "markdown",
   "id": "408fefb3",
   "metadata": {},
   "source": [
    "# Build XGBoost model"
   ]
  },
  {
   "cell_type": "code",
   "execution_count": 5,
   "id": "1277ca04",
   "metadata": {},
   "outputs": [],
   "source": [
    "X_train, X_test, y_train, y_test = train_test_split(X, y, test_size=0.3, random_state=2021)"
   ]
  },
  {
   "cell_type": "code",
   "execution_count": 6,
   "id": "471fed32",
   "metadata": {},
   "outputs": [],
   "source": [
    "clf = XGBClassifier(n_estimators=1000,\n",
    "                    booster=\"gbtree\",\n",
    "                    objective=\"binary:logistic\",\n",
    "                    learning_rate=0.05,\n",
    "                    max_depth=6,\n",
    "                    use_label_encoder=False,\n",
    "                    seed=2021)"
   ]
  },
  {
   "cell_type": "code",
   "execution_count": 7,
   "id": "3a877d4c",
   "metadata": {},
   "outputs": [
    {
     "name": "stdout",
     "output_type": "stream",
     "text": [
      "[21:25:24] WARNING: /Users/travis/build/dmlc/xgboost/src/learner.cc:1095: Starting in XGBoost 1.3.0, the default evaluation metric used with the objective 'binary:logistic' was changed from 'error' to 'logloss'. Explicitly set eval_metric if you'd like to restore the old behavior.\n",
      "[0]\tvalidation_0-logloss:0.65349\n",
      "[10]\tvalidation_0-logloss:0.39963\n",
      "[20]\tvalidation_0-logloss:0.28059\n",
      "[30]\tvalidation_0-logloss:0.21149\n",
      "[40]\tvalidation_0-logloss:0.16765\n",
      "[50]\tvalidation_0-logloss:0.14519\n",
      "[60]\tvalidation_0-logloss:0.13101\n",
      "[70]\tvalidation_0-logloss:0.12157\n",
      "[80]\tvalidation_0-logloss:0.11758\n",
      "[90]\tvalidation_0-logloss:0.11513\n",
      "[100]\tvalidation_0-logloss:0.11288\n",
      "[110]\tvalidation_0-logloss:0.11233\n",
      "[120]\tvalidation_0-logloss:0.11187\n",
      "[130]\tvalidation_0-logloss:0.11200\n",
      "[140]\tvalidation_0-logloss:0.11186\n",
      "[145]\tvalidation_0-logloss:0.11185\n"
     ]
    },
    {
     "data": {
      "text/plain": [
       "XGBClassifier(base_score=0.5, booster='gbtree', colsample_bylevel=1,\n",
       "              colsample_bynode=1, colsample_bytree=1, gamma=0, gpu_id=-1,\n",
       "              importance_type='gain', interaction_constraints='',\n",
       "              learning_rate=0.05, max_delta_step=0, max_depth=6,\n",
       "              min_child_weight=1, missing=nan, monotone_constraints='()',\n",
       "              n_estimators=1000, n_jobs=12, num_parallel_tree=1,\n",
       "              random_state=2021, reg_alpha=0, reg_lambda=1, scale_pos_weight=1,\n",
       "              seed=2021, subsample=1, tree_method='exact',\n",
       "              use_label_encoder=False, validate_parameters=1, verbosity=None)"
      ]
     },
     "execution_count": 7,
     "metadata": {},
     "output_type": "execute_result"
    }
   ],
   "source": [
    "clf.fit(X=X_train, y=y_train, eval_set=[(X_test, y_test)], early_stopping_rounds=20, verbose=10)"
   ]
  },
  {
   "cell_type": "markdown",
   "id": "e5180148",
   "metadata": {},
   "source": [
    "# Analyze data drift with OutputDriftDetector\n",
    "\n",
    "The experiment is done with a random split so we should not detect a data drift"
   ]
  },
  {
   "cell_type": "markdown",
   "id": "0f180e9b",
   "metadata": {},
   "source": [
    "### prediction_type='proba'"
   ]
  },
  {
   "cell_type": "code",
   "execution_count": 8,
   "id": "e9c6e9a7",
   "metadata": {},
   "outputs": [],
   "source": [
    "output_drift_detector = OutputDriftDetector(task='classification', prediction_type='proba')"
   ]
  },
  {
   "cell_type": "code",
   "execution_count": 9,
   "id": "ed67617b",
   "metadata": {},
   "outputs": [
    {
     "data": {
      "text/plain": [
       "array([[0.01756603, 0.982434  ],\n",
       "       [0.9958608 , 0.00413918],\n",
       "       [0.00973105, 0.99026895],\n",
       "       [0.00408947, 0.9959105 ],\n",
       "       [0.01956689, 0.9804331 ],\n",
       "       [0.996238  , 0.00376199],\n",
       "       [0.00461417, 0.9953858 ],\n",
       "       [0.86516625, 0.13483377],\n",
       "       [0.00591052, 0.9940895 ],\n",
       "       [0.003757  , 0.996243  ],\n",
       "       [0.91995704, 0.08004293],\n",
       "       [0.00394022, 0.9960598 ],\n",
       "       [0.9964226 , 0.00357739],\n",
       "       [0.00949997, 0.99050003],\n",
       "       [0.9958443 , 0.0041557 ],\n",
       "       [0.9952596 , 0.00474041],\n",
       "       [0.0031575 , 0.9968425 ],\n",
       "       [0.00973219, 0.9902678 ],\n",
       "       [0.1573245 , 0.8426755 ],\n",
       "       [0.9959885 , 0.00401152],\n",
       "       [0.01018208, 0.9898179 ],\n",
       "       [0.00387615, 0.99612385],\n",
       "       [0.9961831 , 0.00381688],\n",
       "       [0.00337458, 0.9966254 ],\n",
       "       [0.02513015, 0.97486985],\n",
       "       [0.00559616, 0.99440384],\n",
       "       [0.9959242 , 0.00407584],\n",
       "       [0.99611   , 0.00388997],\n",
       "       [0.00301129, 0.9969887 ],\n",
       "       [0.00413078, 0.9958692 ],\n",
       "       [0.00454837, 0.9954516 ],\n",
       "       [0.9954496 , 0.0045504 ],\n",
       "       [0.9949544 , 0.00504557],\n",
       "       [0.00318927, 0.99681073],\n",
       "       [0.00409847, 0.9959015 ],\n",
       "       [0.992717  , 0.00728295],\n",
       "       [0.00374955, 0.99625045],\n",
       "       [0.996238  , 0.00376199],\n",
       "       [0.02921563, 0.97078437],\n",
       "       [0.00827855, 0.99172145],\n",
       "       [0.00693393, 0.9930661 ],\n",
       "       [0.00301129, 0.9969887 ],\n",
       "       [0.98527515, 0.01472482],\n",
       "       [0.00343084, 0.99656916],\n",
       "       [0.00573689, 0.9942631 ],\n",
       "       [0.00425875, 0.99574125],\n",
       "       [0.99462956, 0.00537045],\n",
       "       [0.980567  , 0.019433  ],\n",
       "       [0.00745559, 0.9925444 ],\n",
       "       [0.9964226 , 0.00357739],\n",
       "       [0.9955035 , 0.00449651],\n",
       "       [0.03378677, 0.9662132 ],\n",
       "       [0.00394022, 0.9960598 ],\n",
       "       [0.00515616, 0.99484384],\n",
       "       [0.00487906, 0.99512094],\n",
       "       [0.9887376 , 0.01126244],\n",
       "       [0.9838672 , 0.01613277],\n",
       "       [0.9958608 , 0.00413918],\n",
       "       [0.9825504 , 0.01744961],\n",
       "       [0.00323606, 0.99676394],\n",
       "       [0.01073492, 0.9892651 ],\n",
       "       [0.9963409 , 0.00365913],\n",
       "       [0.9964226 , 0.00357739],\n",
       "       [0.00539488, 0.9946051 ],\n",
       "       [0.00719458, 0.9928054 ],\n",
       "       [0.00395989, 0.9960401 ],\n",
       "       [0.94659364, 0.05340634],\n",
       "       [0.00406641, 0.9959336 ],\n",
       "       [0.01965708, 0.9803429 ],\n",
       "       [0.9960922 , 0.00390781],\n",
       "       [0.97969043, 0.02030959],\n",
       "       [0.9958608 , 0.00413918],\n",
       "       [0.01383865, 0.98616135],\n",
       "       [0.00512016, 0.99487984],\n",
       "       [0.00769961, 0.9923004 ],\n",
       "       [0.00456041, 0.9954396 ],\n",
       "       [0.99168515, 0.00831484],\n",
       "       [0.00570786, 0.99429214],\n",
       "       [0.00460464, 0.99539536],\n",
       "       [0.00374955, 0.99625045],\n",
       "       [0.01618391, 0.9838161 ],\n",
       "       [0.9942095 , 0.00579049],\n",
       "       [0.9854711 , 0.01452888],\n",
       "       [0.00368887, 0.9963111 ],\n",
       "       [0.03427231, 0.9657277 ],\n",
       "       [0.99421734, 0.00578265],\n",
       "       [0.00467724, 0.99532276],\n",
       "       [0.00467724, 0.99532276],\n",
       "       [0.01767391, 0.9823261 ],\n",
       "       [0.99618524, 0.00381473],\n",
       "       [0.68735874, 0.31264123],\n",
       "       [0.00419223, 0.99580777],\n",
       "       [0.02841878, 0.9715812 ],\n",
       "       [0.9952142 , 0.00478581],\n",
       "       [0.03097481, 0.9690252 ],\n",
       "       [0.00527388, 0.9947261 ],\n",
       "       [0.98673695, 0.01326304],\n",
       "       [0.99518174, 0.00481829],\n",
       "       [0.00488979, 0.9951102 ],\n",
       "       [0.01032454, 0.98967546],\n",
       "       [0.98910666, 0.01089333],\n",
       "       [0.9961212 , 0.0038788 ],\n",
       "       [0.0049051 , 0.9950949 ],\n",
       "       [0.03563964, 0.96436036],\n",
       "       [0.00374955, 0.99625045],\n",
       "       [0.00473332, 0.9952667 ],\n",
       "       [0.00949299, 0.990507  ],\n",
       "       [0.00599122, 0.9940088 ],\n",
       "       [0.00301129, 0.9969887 ],\n",
       "       [0.00319326, 0.99680674],\n",
       "       [0.9843679 , 0.01563211],\n",
       "       [0.9955035 , 0.00449651],\n",
       "       [0.00394022, 0.9960598 ],\n",
       "       [0.00619757, 0.9938024 ],\n",
       "       [0.9957306 , 0.00426944],\n",
       "       [0.00374955, 0.99625045],\n",
       "       [0.9964226 , 0.00357739],\n",
       "       [0.00578344, 0.99421656],\n",
       "       [0.00408947, 0.9959105 ],\n",
       "       [0.996238  , 0.00376199],\n",
       "       [0.00498891, 0.9950111 ],\n",
       "       [0.00453931, 0.9954607 ],\n",
       "       [0.9955035 , 0.00449651],\n",
       "       [0.996238  , 0.00376199],\n",
       "       [0.19862199, 0.801378  ],\n",
       "       [0.00536102, 0.994639  ],\n",
       "       [0.03122973, 0.96877027],\n",
       "       [0.9955633 , 0.00443665],\n",
       "       [0.00643283, 0.99356717],\n",
       "       [0.99485505, 0.00514497],\n",
       "       [0.01941609, 0.9805839 ],\n",
       "       [0.00429422, 0.9957058 ],\n",
       "       [0.00453907, 0.9954609 ],\n",
       "       [0.03051788, 0.9694821 ],\n",
       "       [0.00400835, 0.99599165],\n",
       "       [0.9960638 , 0.00393615],\n",
       "       [0.9943798 , 0.00562021],\n",
       "       [0.97414535, 0.02585466],\n",
       "       [0.01025283, 0.98974717],\n",
       "       [0.00351489, 0.9964851 ],\n",
       "       [0.95871246, 0.04128756],\n",
       "       [0.01384562, 0.9861544 ],\n",
       "       [0.99521846, 0.00478153],\n",
       "       [0.01615638, 0.9838436 ],\n",
       "       [0.97842145, 0.02157857],\n",
       "       [0.00510317, 0.9948968 ],\n",
       "       [0.00338334, 0.99661666],\n",
       "       [0.9960874 , 0.00391263],\n",
       "       [0.00420171, 0.9957983 ],\n",
       "       [0.00511354, 0.99488646],\n",
       "       [0.00358897, 0.996411  ],\n",
       "       [0.0102123 , 0.9897877 ],\n",
       "       [0.99334764, 0.00665235],\n",
       "       [0.90308595, 0.09691405],\n",
       "       [0.84441805, 0.15558195],\n",
       "       [0.99461174, 0.00538826],\n",
       "       [0.005108  , 0.994892  ],\n",
       "       [0.01036775, 0.98963225],\n",
       "       [0.0502131 , 0.9497869 ],\n",
       "       [0.00611699, 0.993883  ],\n",
       "       [0.04387593, 0.95612407],\n",
       "       [0.00541812, 0.9945819 ],\n",
       "       [0.00630385, 0.99369615],\n",
       "       [0.9959885 , 0.00401152],\n",
       "       [0.01292062, 0.9870794 ],\n",
       "       [0.9948912 , 0.00510875],\n",
       "       [0.99479103, 0.00520895],\n",
       "       [0.99485505, 0.00514497],\n",
       "       [0.99436975, 0.00563025],\n",
       "       [0.00536102, 0.994639  ],\n",
       "       [0.996238  , 0.00376199],\n",
       "       [0.0048421 , 0.9951579 ],\n",
       "       [0.98183274, 0.01816725],\n",
       "       [0.00329173, 0.9967083 ],\n",
       "       [0.00427675, 0.99572325],\n",
       "       [0.00403935, 0.99596065],\n",
       "       [0.02059853, 0.97940147],\n",
       "       [0.00377274, 0.99622726],\n",
       "       [0.00635284, 0.99364716],\n",
       "       [0.9942472 , 0.00575281],\n",
       "       [0.03048158, 0.9695184 ],\n",
       "       [0.9951072 , 0.00489284],\n",
       "       [0.00516993, 0.9948301 ],\n",
       "       [0.9951072 , 0.00489284],\n",
       "       [0.98026115, 0.01973885],\n",
       "       [0.00616974, 0.99383026],\n",
       "       [0.00481093, 0.9951891 ],\n",
       "       [0.01630139, 0.9836986 ],\n",
       "       [0.00337458, 0.9966254 ],\n",
       "       [0.00332713, 0.99667287],\n",
       "       [0.996238  , 0.00376199],\n",
       "       [0.9948419 , 0.00515813],\n",
       "       [0.01415968, 0.9858403 ],\n",
       "       [0.996238  , 0.00376199],\n",
       "       [0.00413078, 0.9958692 ],\n",
       "       [0.9942781 , 0.00572193],\n",
       "       [0.00467628, 0.9953237 ],\n",
       "       [0.00577468, 0.9942253 ],\n",
       "       [0.92939407, 0.07060594],\n",
       "       [0.99053377, 0.00946625],\n",
       "       [0.00358897, 0.996411  ],\n",
       "       [0.9925699 , 0.00743008],\n",
       "       [0.00987506, 0.99012494],\n",
       "       [0.9835134 , 0.01648661],\n",
       "       [0.980567  , 0.019433  ],\n",
       "       [0.99243075, 0.00756928],\n",
       "       [0.7769969 , 0.2230031 ],\n",
       "       [0.03928101, 0.960719  ],\n",
       "       [0.01289696, 0.98710304],\n",
       "       [0.01872259, 0.9812774 ],\n",
       "       [0.97748405, 0.02251594],\n",
       "       [0.00333411, 0.9966659 ],\n",
       "       [0.9962284 , 0.00377163],\n",
       "       [0.00573689, 0.9942631 ],\n",
       "       [0.98199004, 0.01800996],\n",
       "       [0.00839984, 0.99160016],\n",
       "       [0.9522221 , 0.04777791],\n",
       "       [0.00301129, 0.9969887 ],\n",
       "       [0.00317395, 0.99682605],\n",
       "       [0.00409847, 0.9959015 ],\n",
       "       [0.00639033, 0.99360967],\n",
       "       [0.9949034 , 0.00509663],\n",
       "       [0.00499648, 0.9950035 ],\n",
       "       [0.97900057, 0.02099943],\n",
       "       [0.00939053, 0.99060947],\n",
       "       [0.00337458, 0.9966254 ],\n",
       "       [0.0038107 , 0.9961893 ],\n",
       "       [0.01705211, 0.9829479 ],\n",
       "       [0.00508839, 0.9949116 ],\n",
       "       [0.00482804, 0.99517196],\n",
       "       [0.0511024 , 0.9488976 ],\n",
       "       [0.00430685, 0.99569315],\n",
       "       [0.98875266, 0.01124732],\n",
       "       [0.9959885 , 0.00401152],\n",
       "       [0.00426728, 0.9957327 ],\n",
       "       [0.01202524, 0.98797476],\n",
       "       [0.9733794 , 0.02662065],\n",
       "       [0.0047698 , 0.9952302 ],\n",
       "       [0.00419223, 0.99580777],\n",
       "       [0.02291656, 0.97708344],\n",
       "       [0.00329322, 0.9967068 ],\n",
       "       [0.05907923, 0.94092077],\n",
       "       [0.01464462, 0.9853554 ],\n",
       "       [0.9902507 , 0.00974927],\n",
       "       [0.9830585 , 0.01694147],\n",
       "       [0.00411564, 0.99588436],\n",
       "       [0.02271086, 0.97728914],\n",
       "       [0.00411564, 0.99588436],\n",
       "       [0.989057  , 0.01094299],\n",
       "       [0.00327617, 0.99672383],\n",
       "       [0.03710061, 0.9628994 ],\n",
       "       [0.00338334, 0.99661666],\n",
       "       [0.00651085, 0.99348915],\n",
       "       [0.99154097, 0.00845904],\n",
       "       [0.996238  , 0.00376199],\n",
       "       [0.92978895, 0.07021108],\n",
       "       [0.01205516, 0.98794484],\n",
       "       [0.9752547 , 0.02474527],\n",
       "       [0.9938253 , 0.00617467],\n",
       "       [0.00531375, 0.99468625],\n",
       "       [0.00452727, 0.9954727 ],\n",
       "       [0.00329173, 0.9967083 ],\n",
       "       [0.994241  , 0.00575901],\n",
       "       [0.9916094 , 0.00839061],\n",
       "       [0.00584412, 0.9941559 ],\n",
       "       [0.03872991, 0.9612701 ],\n",
       "       [0.10336047, 0.8966395 ],\n",
       "       [0.00561786, 0.99438214],\n",
       "       [0.99567676, 0.00432327],\n",
       "       [0.99400973, 0.00599028],\n",
       "       [0.00800377, 0.9919962 ],\n",
       "       [0.00419223, 0.99580777],\n",
       "       [0.00564176, 0.99435824],\n",
       "       [0.02428478, 0.9757152 ],\n",
       "       [0.00430685, 0.99569315],\n",
       "       [0.0057801 , 0.9942199 ],\n",
       "       [0.01761192, 0.9823881 ],\n",
       "       [0.00845832, 0.9915417 ],\n",
       "       [0.00449723, 0.99550277],\n",
       "       [0.0053485 , 0.9946515 ],\n",
       "       [0.00593305, 0.99406695],\n",
       "       [0.05211723, 0.9478828 ],\n",
       "       [0.99405915, 0.00594087],\n",
       "       [0.00439471, 0.9956053 ],\n",
       "       [0.9944931 , 0.00550687],\n",
       "       [0.00581253, 0.9941875 ],\n",
       "       [0.9951072 , 0.00489284],\n",
       "       [0.00511199, 0.994888  ],\n",
       "       [0.9954675 , 0.0045325 ],\n",
       "       [0.9945337 , 0.00546625],\n",
       "       [0.9937906 , 0.00620938],\n",
       "       [0.99334437, 0.00665565],\n",
       "       [0.00308704, 0.99691296],\n",
       "       [0.99522597, 0.00477405],\n",
       "       [0.9964226 , 0.00357739],\n",
       "       [0.9443613 , 0.05563867],\n",
       "       [0.00451505, 0.99548495],\n",
       "       [0.9747662 , 0.02523381],\n",
       "       [0.9810424 , 0.01895762],\n",
       "       [0.01100153, 0.9889985 ],\n",
       "       [0.00370991, 0.9962901 ],\n",
       "       [0.996238  , 0.00376199],\n",
       "       [0.00320154, 0.99679846],\n",
       "       [0.9946033 , 0.00539673],\n",
       "       [0.005696  , 0.994304  ],\n",
       "       [0.99612194, 0.00387804],\n",
       "       [0.07377899, 0.926221  ],\n",
       "       [0.00329173, 0.9967083 ],\n",
       "       [0.996238  , 0.00376199],\n",
       "       [0.00684893, 0.99315107],\n",
       "       [0.7386892 , 0.26131085],\n",
       "       [0.00457662, 0.9954234 ],\n",
       "       [0.0067907 , 0.9932093 ],\n",
       "       [0.00534147, 0.9946585 ],\n",
       "       [0.00532633, 0.99467367],\n",
       "       [0.0123511 , 0.9876489 ],\n",
       "       [0.00927657, 0.99072343],\n",
       "       [0.0049051 , 0.9950949 ],\n",
       "       [0.996238  , 0.00376199],\n",
       "       [0.0047698 , 0.9952302 ],\n",
       "       [0.99535066, 0.00464936],\n",
       "       [0.00429815, 0.99570185],\n",
       "       [0.01192516, 0.98807484],\n",
       "       [0.00301129, 0.9969887 ],\n",
       "       [0.01507342, 0.9849266 ],\n",
       "       [0.9938225 , 0.00617747],\n",
       "       [0.00422072, 0.9957793 ],\n",
       "       [0.9942186 , 0.00578142],\n",
       "       [0.00654215, 0.99345785],\n",
       "       [0.02018142, 0.9798186 ],\n",
       "       [0.00416821, 0.9958318 ],\n",
       "       [0.9955035 , 0.00449651],\n",
       "       [0.99221736, 0.00778266],\n",
       "       [0.00487965, 0.99512035],\n",
       "       [0.00495422, 0.9950458 ],\n",
       "       [0.00967902, 0.990321  ],\n",
       "       [0.00893444, 0.99106556],\n",
       "       [0.00396615, 0.99603385],\n",
       "       [0.85838675, 0.14161326],\n",
       "       [0.00528246, 0.99471754],\n",
       "       [0.00671428, 0.9932857 ],\n",
       "       [0.07018012, 0.9298199 ],\n",
       "       [0.00497866, 0.99502134],\n",
       "       [0.01532948, 0.9846705 ],\n",
       "       [0.00839025, 0.99160975],\n",
       "       [0.00329173, 0.9967083 ],\n",
       "       [0.0291447 , 0.9708553 ],\n",
       "       [0.00394022, 0.9960598 ],\n",
       "       [0.9386752 , 0.06132477],\n",
       "       [0.00853044, 0.99146956],\n",
       "       [0.98408645, 0.01591353],\n",
       "       [0.996238  , 0.00376199],\n",
       "       [0.9959862 , 0.00401378],\n",
       "       [0.0052439 , 0.9947561 ],\n",
       "       [0.99313426, 0.00686573],\n",
       "       [0.01294875, 0.98705125],\n",
       "       [0.00301129, 0.9969887 ],\n",
       "       [0.9964226 , 0.00357739],\n",
       "       [0.005759  , 0.994241  ],\n",
       "       [0.017488  , 0.982512  ],\n",
       "       [0.9959862 , 0.00401378],\n",
       "       [0.00490773, 0.9950923 ],\n",
       "       [0.03864884, 0.96135116],\n",
       "       [0.99574894, 0.00425106],\n",
       "       [0.9884154 , 0.01158459],\n",
       "       [0.00566095, 0.99433905],\n",
       "       [0.99582666, 0.00417334],\n",
       "       [0.00684059, 0.9931594 ],\n",
       "       [0.01131541, 0.9886846 ],\n",
       "       [0.99599576, 0.00400422],\n",
       "       [0.00358897, 0.996411  ],\n",
       "       [0.00620592, 0.9937941 ],\n",
       "       [0.00557762, 0.9944224 ],\n",
       "       [0.93495965, 0.06504036],\n",
       "       [0.00391674, 0.99608326],\n",
       "       [0.92597187, 0.07402812],\n",
       "       [0.00329173, 0.9967083 ],\n",
       "       [0.00990355, 0.99009645],\n",
       "       [0.0186854 , 0.9813146 ],\n",
       "       [0.0186097 , 0.9813903 ],\n",
       "       [0.00818753, 0.99181247],\n",
       "       [0.99351454, 0.00648545],\n",
       "       [0.99065024, 0.00934978],\n",
       "       [0.01515514, 0.98484486],\n",
       "       [0.99471515, 0.00528484],\n",
       "       [0.00602055, 0.99397945],\n",
       "       [0.99522996, 0.00477002],\n",
       "       [0.00511199, 0.994888  ],\n",
       "       [0.10220957, 0.89779043],\n",
       "       [0.03842306, 0.96157694],\n",
       "       [0.00410664, 0.99589336],\n",
       "       [0.9940558 , 0.00594421],\n",
       "       [0.00497627, 0.9950237 ],\n",
       "       [0.97596174, 0.02403826],\n",
       "       [0.07446581, 0.9255342 ],\n",
       "       [0.99233514, 0.00766484],\n",
       "       [0.005759  , 0.994241  ],\n",
       "       [0.00351489, 0.9964851 ]], dtype=float32)"
      ]
     },
     "execution_count": 9,
     "metadata": {},
     "output_type": "execute_result"
    }
   ],
   "source": [
    "clf.predict_proba(X_train)"
   ]
  },
  {
   "cell_type": "code",
   "execution_count": 10,
   "id": "b53e197c",
   "metadata": {},
   "outputs": [],
   "source": [
    "output_drift_detector.fit(clf.predict_proba(X_train), clf.predict_proba(X_test),\n",
    "                           y_train, y_test)"
   ]
  },
  {
   "cell_type": "code",
   "execution_count": 11,
   "id": "cf7a3d00",
   "metadata": {},
   "outputs": [
    {
     "data": {
      "image/png": "[encoded data removed]",
      "text/plain": [
       "<Figure size 504x360 with 1 Axes>"
      ]
     },
     "metadata": {
      "needs_background": "light"
     },
     "output_type": "display_data"
    },
    {
     "data": {
      "text/plain": [
       "[DriftMetricsNum(mean_difference=0.00798452225707491, wasserstein=0.024082025832758043, ks_test=BaseStatisticalTestResult(statistic=0.08323782655969908, pvalue=0.35428891768775117))]"
      ]
     },
     "execution_count": 11,
     "metadata": {},
     "output_type": "execute_result"
    }
   ],
   "source": [
    "output_drift_detector.plot_prediction_drift()\n",
    "output_drift_detector.get_prediction_drift()"
   ]
  },
  {
   "cell_type": "code",
   "execution_count": 12,
   "id": "df463172",
   "metadata": {},
   "outputs": [
    {
     "data": {
      "image/png": "[encoded data removed]",
      "text/plain": [
       "<Figure size 504x360 with 1 Axes>"
      ]
     },
     "metadata": {
      "needs_background": "light"
     },
     "output_type": "display_data"
    },
    {
     "data": {
      "text/plain": [
       "DriftMetricsCat(wasserstein=0.0024097093655411628, jensen_shannon=0.0017616379091961293, chi2_test=Chi2TestResult(statistic=0.0, pvalue=1.0, dof=1, contingency_table=        0      1\n",
       "X1  148.0  250.0\n",
       "X2   64.0  107.0))"
      ]
     },
     "execution_count": 12,
     "metadata": {},
     "output_type": "execute_result"
    }
   ],
   "source": [
    "output_drift_detector.plot_target_drift()\n",
    "output_drift_detector.get_target_drift()"
   ]
  },
  {
   "cell_type": "code",
   "execution_count": 13,
   "id": "132b2bb9",
   "metadata": {},
   "outputs": [
    {
     "data": {
      "text/plain": [
       "PerformanceMetricsDrift(dataset1=ClassificationMetrics(accuracy=1.0, log_loss=0.016039305599991362), dataset2=ClassificationMetrics(accuracy=0.9473684210526315, log_loss=0.11116574995208815))"
      ]
     },
     "execution_count": 13,
     "metadata": {},
     "output_type": "execute_result"
    }
   ],
   "source": [
    "output_drift_detector.get_performance_metrics_drift()"
   ]
  },
  {
   "cell_type": "code",
   "execution_count": null,
   "id": "bf2c37d3",
   "metadata": {},
   "outputs": [],
   "source": []
  },
  {
   "cell_type": "markdown",
   "id": "90ec4681",
   "metadata": {},
   "source": [
    "### prediction_type='label'"
   ]
  },
  {
   "cell_type": "code",
   "execution_count": 14,
   "id": "e9d2063a",
   "metadata": {},
   "outputs": [],
   "source": [
    "output_drift_detector2 = OutputDriftDetector(task='classification', prediction_type='label')"
   ]
  },
  {
   "cell_type": "code",
   "execution_count": 15,
   "id": "764d3dd7",
   "metadata": {},
   "outputs": [],
   "source": [
    "output_drift_detector2.fit(clf.predict(X_train), clf.predict(X_test),\n",
    "                            y_train, y_test)"
   ]
  },
  {
   "cell_type": "code",
   "execution_count": 16,
   "id": "c07a2c69",
   "metadata": {},
   "outputs": [
    {
     "data": {
      "image/png": "[encoded data removed]",
      "text/plain": [
       "<Figure size 504x360 with 1 Axes>"
      ]
     },
     "metadata": {
      "needs_background": "light"
     },
     "output_type": "display_data"
    },
    {
     "data": {
      "text/plain": [
       "[DriftMetricsCat(wasserstein=0.015134150283581616, jensen_shannon=0.011119138338504947, chi2_test=Chi2TestResult(statistic=0.06175606172739494, pvalue=0.8037416368764607, dof=1, contingency_table=        0      1\n",
       " X1  148.0  250.0\n",
       " X2   61.0  110.0))]"
      ]
     },
     "execution_count": 16,
     "metadata": {},
     "output_type": "execute_result"
    }
   ],
   "source": [
    "output_drift_detector2.plot_prediction_drift()\n",
    "output_drift_detector2.get_prediction_drift()"
   ]
  },
  {
   "cell_type": "code",
   "execution_count": 17,
   "id": "1782e684",
   "metadata": {},
   "outputs": [
    {
     "data": {
      "image/png": "[encoded data removed]",
      "text/plain": [
       "<Figure size 504x360 with 1 Axes>"
      ]
     },
     "metadata": {
      "needs_background": "light"
     },
     "output_type": "display_data"
    },
    {
     "data": {
      "text/plain": [
       "DriftMetricsCat(wasserstein=0.0024097093655411628, jensen_shannon=0.0017616379091961293, chi2_test=Chi2TestResult(statistic=0.0, pvalue=1.0, dof=1, contingency_table=        0      1\n",
       "X1  148.0  250.0\n",
       "X2   64.0  107.0))"
      ]
     },
     "execution_count": 17,
     "metadata": {},
     "output_type": "execute_result"
    }
   ],
   "source": [
    "output_drift_detector2.plot_target_drift()\n",
    "output_drift_detector2.get_target_drift()"
   ]
  },
  {
   "cell_type": "code",
   "execution_count": 18,
   "id": "6190ac7b",
   "metadata": {},
   "outputs": [
    {
     "data": {
      "text/plain": [
       "PerformanceMetricsDrift(dataset1=ClassificationMetrics(accuracy=1.0, log_loss=None), dataset2=ClassificationMetrics(accuracy=0.9473684210526315, log_loss=None))"
      ]
     },
     "execution_count": 18,
     "metadata": {},
     "output_type": "execute_result"
    }
   ],
   "source": [
    "output_drift_detector2.get_performance_metrics_drift()"
   ]
  },
  {
   "cell_type": "markdown",
   "id": "4bfd9320",
   "metadata": {},
   "source": [
    "### prediction_type='raw'"
   ]
  },
  {
   "cell_type": "code",
   "execution_count": 19,
   "id": "5074d57d",
   "metadata": {},
   "outputs": [],
   "source": [
    "output_drift_detector3 = OutputDriftDetector(task='classification', prediction_type='raw')"
   ]
  },
  {
   "cell_type": "code",
   "execution_count": 20,
   "id": "6d6a708d",
   "metadata": {},
   "outputs": [],
   "source": [
    "output_drift_detector3.fit(clf.predict(X_train, output_margin=True), clf.predict(X_test, output_margin=True),\n",
    "                            y_train, y_test)"
   ]
  },
  {
   "cell_type": "code",
   "execution_count": 21,
   "id": "af405d34",
   "metadata": {},
   "outputs": [
    {
     "data": {
      "image/png": "[encoded data removed]",
      "text/plain": [
       "<Figure size 504x360 with 1 Axes>"
      ]
     },
     "metadata": {
      "needs_background": "light"
     },
     "output_type": "display_data"
    },
    {
     "data": {
      "text/plain": [
       "[DriftMetricsNum(mean_difference=0.005498574879272855, wasserstein=0.3764544601013494, ks_test=BaseStatisticalTestResult(statistic=0.08323782655969908, pvalue=0.35428891768775117))]"
      ]
     },
     "execution_count": 21,
     "metadata": {},
     "output_type": "execute_result"
    }
   ],
   "source": [
    "output_drift_detector3.plot_prediction_drift()\n",
    "output_drift_detector3.get_prediction_drift()"
   ]
  },
  {
   "cell_type": "code",
   "execution_count": 22,
   "id": "7abe3ae5",
   "metadata": {},
   "outputs": [
    {
     "data": {
      "image/png": "[encoded data removed]",
      "text/plain": [
       "<Figure size 504x360 with 1 Axes>"
      ]
     },
     "metadata": {
      "needs_background": "light"
     },
     "output_type": "display_data"
    },
    {
     "data": {
      "text/plain": [
       "DriftMetricsCat(wasserstein=0.0024097093655411628, jensen_shannon=0.0017616379091961293, chi2_test=Chi2TestResult(statistic=0.0, pvalue=1.0, dof=1, contingency_table=        0      1\n",
       "X1  148.0  250.0\n",
       "X2   64.0  107.0))"
      ]
     },
     "execution_count": 22,
     "metadata": {},
     "output_type": "execute_result"
    }
   ],
   "source": [
    "output_drift_detector3.plot_target_drift()\n",
    "output_drift_detector3.get_target_drift()"
   ]
  },
  {
   "cell_type": "code",
   "execution_count": 23,
   "id": "3b06bb45",
   "metadata": {},
   "outputs": [
    {
     "data": {
      "text/plain": [
       "PerformanceMetricsDrift(dataset1=ClassificationMetrics(accuracy=1.0, log_loss=0.016039305803571925), dataset2=ClassificationMetrics(accuracy=0.9473684210526315, log_loss=0.11116572790125613))"
      ]
     },
     "execution_count": 23,
     "metadata": {},
     "output_type": "execute_result"
    }
   ],
   "source": [
    "output_drift_detector3.get_performance_metrics_drift()"
   ]
  }
 ],
 "metadata": {
  "kernelspec": {
   "display_name": "Python 3",
   "language": "python",
   "name": "python3"
  },
  "language_info": {
   "codemirror_mode": {
    "name": "ipython",
    "version": 3
   },
   "file_extension": ".py",
   "mimetype": "text/x-python",
   "name": "python",
   "nbconvert_exporter": "python",
   "pygments_lexer": "ipython3",
   "version": "3.8.8"
  }
 },
 "nbformat": 4,
 "nbformat_minor": 5
}
