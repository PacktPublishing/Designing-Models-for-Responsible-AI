{
 "cells": [
  {
   "cell_type": "markdown",
   "id": "8bf263ef",
   "metadata": {},
   "source": [
    "In this example we learn about the different in data/drift distributions that results from 2 datasets. Here we use the model explainiabilty aspect of ML, available in CinnaMon library and its ModelDriftExplainer functionality, to explain drift resulting from a classifier model. Here OutputDriftDetector function helps us to identify drift from XGBoost's classifier model.\n",
    "\n",
    "The experiment is done with a random split so we should not detect a data drift. We had run our experiments on California Housing Dataset."
   ]
  },
  {
   "cell_type": "markdown",
   "id": "f3a40ab3",
   "metadata": {},
   "source": [
    "# Output Drift detector on XGBoost Classifier ML Model"
   ]
  },
  {
   "cell_type": "code",
   "execution_count": 1,
   "id": "8b7f609d",
   "metadata": {},
   "outputs": [
    {
     "name": "stderr",
     "output_type": "stream",
     "text": [
      "/opt/anaconda3/lib/python3.8/site-packages/xgboost/compat.py:31: FutureWarning: pandas.Int64Index is deprecated and will be removed from pandas in a future version. Use pandas.Index with the appropriate dtype instead.\n",
      "  from pandas import MultiIndex, Int64Index\n"
     ]
    }
   ],
   "source": [
    "import pandas as pd\n",
    "from sklearn import datasets\n",
    "from sklearn.model_selection import train_test_split\n",
    "from xgboost import XGBClassifier\n",
    "\n",
    "from cinnamon.drift import OutputDriftDetector\n",
    "\n",
    "RANDOM_SEED = 2021"
   ]
  },
  {
   "cell_type": "markdown",
   "id": "4aa13f9f",
   "metadata": {},
   "source": [
    "# California Housing Data"
   ]
  },
  {
   "cell_type": "code",
   "execution_count": 2,
   "id": "f7d0426a",
   "metadata": {},
   "outputs": [
    {
     "name": "stderr",
     "output_type": "stream",
     "text": [
      "/opt/anaconda3/lib/python3.8/site-packages/sklearn/datasets/_openml.py:932: FutureWarning: The default value of `parser` will change from `'liac-arff'` to `'auto'` in 1.4. You can set `parser='auto'` to silence this warning. Therefore, an `ImportError` will be raised from 1.4 if the dataset is dense and pandas is not installed. Note that the pandas parser may return different data types. See the Notes Section in fetch_openml's API doc for details.\n",
      "  warn(\n"
     ]
    },
    {
     "data": {
      "text/html": [
       "<div>\n",
       "<style scoped>\n",
       "    .dataframe tbody tr th:only-of-type {\n",
       "        vertical-align: middle;\n",
       "    }\n",
       "\n",
       "    .dataframe tbody tr th {\n",
       "        vertical-align: top;\n",
       "    }\n",
       "\n",
       "    .dataframe thead th {\n",
       "        text-align: right;\n",
       "    }\n",
       "</style>\n",
       "<table border=\"1\" class=\"dataframe\">\n",
       "  <thead>\n",
       "    <tr style=\"text-align: right;\">\n",
       "      <th></th>\n",
       "      <th>Id</th>\n",
       "      <th>MSSubClass</th>\n",
       "      <th>MSZoning</th>\n",
       "      <th>LotFrontage</th>\n",
       "      <th>LotArea</th>\n",
       "      <th>Street</th>\n",
       "      <th>Alley</th>\n",
       "      <th>LotShape</th>\n",
       "      <th>LandContour</th>\n",
       "      <th>Utilities</th>\n",
       "      <th>...</th>\n",
       "      <th>ScreenPorch</th>\n",
       "      <th>PoolArea</th>\n",
       "      <th>PoolQC</th>\n",
       "      <th>Fence</th>\n",
       "      <th>MiscFeature</th>\n",
       "      <th>MiscVal</th>\n",
       "      <th>MoSold</th>\n",
       "      <th>YrSold</th>\n",
       "      <th>SaleType</th>\n",
       "      <th>SaleCondition</th>\n",
       "    </tr>\n",
       "  </thead>\n",
       "  <tbody>\n",
       "    <tr>\n",
       "      <th>0</th>\n",
       "      <td>1</td>\n",
       "      <td>60</td>\n",
       "      <td>RL</td>\n",
       "      <td>65.0</td>\n",
       "      <td>8450</td>\n",
       "      <td>Pave</td>\n",
       "      <td>None</td>\n",
       "      <td>Reg</td>\n",
       "      <td>Lvl</td>\n",
       "      <td>AllPub</td>\n",
       "      <td>...</td>\n",
       "      <td>0</td>\n",
       "      <td>0</td>\n",
       "      <td>None</td>\n",
       "      <td>None</td>\n",
       "      <td>None</td>\n",
       "      <td>0</td>\n",
       "      <td>2</td>\n",
       "      <td>2008</td>\n",
       "      <td>WD</td>\n",
       "      <td>Normal</td>\n",
       "    </tr>\n",
       "    <tr>\n",
       "      <th>1</th>\n",
       "      <td>2</td>\n",
       "      <td>20</td>\n",
       "      <td>RL</td>\n",
       "      <td>80.0</td>\n",
       "      <td>9600</td>\n",
       "      <td>Pave</td>\n",
       "      <td>None</td>\n",
       "      <td>Reg</td>\n",
       "      <td>Lvl</td>\n",
       "      <td>AllPub</td>\n",
       "      <td>...</td>\n",
       "      <td>0</td>\n",
       "      <td>0</td>\n",
       "      <td>None</td>\n",
       "      <td>None</td>\n",
       "      <td>None</td>\n",
       "      <td>0</td>\n",
       "      <td>5</td>\n",
       "      <td>2007</td>\n",
       "      <td>WD</td>\n",
       "      <td>Normal</td>\n",
       "    </tr>\n",
       "    <tr>\n",
       "      <th>2</th>\n",
       "      <td>3</td>\n",
       "      <td>60</td>\n",
       "      <td>RL</td>\n",
       "      <td>68.0</td>\n",
       "      <td>11250</td>\n",
       "      <td>Pave</td>\n",
       "      <td>None</td>\n",
       "      <td>IR1</td>\n",
       "      <td>Lvl</td>\n",
       "      <td>AllPub</td>\n",
       "      <td>...</td>\n",
       "      <td>0</td>\n",
       "      <td>0</td>\n",
       "      <td>None</td>\n",
       "      <td>None</td>\n",
       "      <td>None</td>\n",
       "      <td>0</td>\n",
       "      <td>9</td>\n",
       "      <td>2008</td>\n",
       "      <td>WD</td>\n",
       "      <td>Normal</td>\n",
       "    </tr>\n",
       "    <tr>\n",
       "      <th>3</th>\n",
       "      <td>4</td>\n",
       "      <td>70</td>\n",
       "      <td>RL</td>\n",
       "      <td>60.0</td>\n",
       "      <td>9550</td>\n",
       "      <td>Pave</td>\n",
       "      <td>None</td>\n",
       "      <td>IR1</td>\n",
       "      <td>Lvl</td>\n",
       "      <td>AllPub</td>\n",
       "      <td>...</td>\n",
       "      <td>0</td>\n",
       "      <td>0</td>\n",
       "      <td>None</td>\n",
       "      <td>None</td>\n",
       "      <td>None</td>\n",
       "      <td>0</td>\n",
       "      <td>2</td>\n",
       "      <td>2006</td>\n",
       "      <td>WD</td>\n",
       "      <td>Abnorml</td>\n",
       "    </tr>\n",
       "    <tr>\n",
       "      <th>4</th>\n",
       "      <td>5</td>\n",
       "      <td>60</td>\n",
       "      <td>RL</td>\n",
       "      <td>84.0</td>\n",
       "      <td>14260</td>\n",
       "      <td>Pave</td>\n",
       "      <td>None</td>\n",
       "      <td>IR1</td>\n",
       "      <td>Lvl</td>\n",
       "      <td>AllPub</td>\n",
       "      <td>...</td>\n",
       "      <td>0</td>\n",
       "      <td>0</td>\n",
       "      <td>None</td>\n",
       "      <td>None</td>\n",
       "      <td>None</td>\n",
       "      <td>0</td>\n",
       "      <td>12</td>\n",
       "      <td>2008</td>\n",
       "      <td>WD</td>\n",
       "      <td>Normal</td>\n",
       "    </tr>\n",
       "  </tbody>\n",
       "</table>\n",
       "<p>5 rows × 80 columns</p>\n",
       "</div>"
      ],
      "text/plain": [
       "   Id  MSSubClass MSZoning  LotFrontage  LotArea Street Alley LotShape  \\\n",
       "0   1          60       RL         65.0     8450   Pave  None      Reg   \n",
       "1   2          20       RL         80.0     9600   Pave  None      Reg   \n",
       "2   3          60       RL         68.0    11250   Pave  None      IR1   \n",
       "3   4          70       RL         60.0     9550   Pave  None      IR1   \n",
       "4   5          60       RL         84.0    14260   Pave  None      IR1   \n",
       "\n",
       "  LandContour Utilities  ... ScreenPorch PoolArea PoolQC Fence MiscFeature  \\\n",
       "0         Lvl    AllPub  ...           0        0   None  None        None   \n",
       "1         Lvl    AllPub  ...           0        0   None  None        None   \n",
       "2         Lvl    AllPub  ...           0        0   None  None        None   \n",
       "3         Lvl    AllPub  ...           0        0   None  None        None   \n",
       "4         Lvl    AllPub  ...           0        0   None  None        None   \n",
       "\n",
       "  MiscVal MoSold  YrSold  SaleType  SaleCondition  \n",
       "0       0      2    2008        WD         Normal  \n",
       "1       0      5    2007        WD         Normal  \n",
       "2       0      9    2008        WD         Normal  \n",
       "3       0      2    2006        WD        Abnorml  \n",
       "4       0     12    2008        WD         Normal  \n",
       "\n",
       "[5 rows x 80 columns]"
      ]
     },
     "execution_count": 2,
     "metadata": {},
     "output_type": "execute_result"
    }
   ],
   "source": [
    "from sklearn.datasets import fetch_california_housing\n",
    "\n",
    "from sklearn.datasets import fetch_openml\n",
    "california = fetch_openml(name=\"house_prices\", as_frame=True)\n",
    "\n",
    "california_df = pd.DataFrame(california.data, columns=california.feature_names)\n",
    "california_df.head(5)"
   ]
  },
  {
   "cell_type": "code",
   "execution_count": 3,
   "id": "d4da28d9",
   "metadata": {},
   "outputs": [
    {
     "data": {
      "text/plain": [
       "(1460, 80)"
      ]
     },
     "execution_count": 3,
     "metadata": {},
     "output_type": "execute_result"
    }
   ],
   "source": [
    "california_df.shape"
   ]
  },
  {
   "cell_type": "code",
   "execution_count": 4,
   "id": "3ef65b1f",
   "metadata": {},
   "outputs": [
    {
     "data": {
      "text/plain": [
       "(Index(['MSZoning', 'Street', 'Alley', 'LotShape', 'LandContour', 'Utilities',\n",
       "        'LotConfig', 'LandSlope', 'Neighborhood', 'Condition1', 'Condition2',\n",
       "        'BldgType', 'HouseStyle', 'RoofStyle', 'RoofMatl', 'Exterior1st',\n",
       "        'Exterior2nd', 'MasVnrType', 'ExterQual', 'ExterCond', 'Foundation',\n",
       "        'BsmtQual', 'BsmtCond', 'BsmtExposure', 'BsmtFinType1', 'BsmtFinType2',\n",
       "        'Heating', 'HeatingQC', 'CentralAir', 'Electrical', 'KitchenQual',\n",
       "        'Functional', 'FireplaceQu', 'GarageType', 'GarageFinish', 'GarageQual',\n",
       "        'GarageCond', 'PavedDrive', 'PoolQC', 'Fence', 'MiscFeature',\n",
       "        'SaleType', 'SaleCondition'],\n",
       "       dtype='object'),\n",
       " Index(['Id', 'MSSubClass', 'MSZoning', 'LotFrontage', 'LotArea', 'Street',\n",
       "        'Alley', 'LotShape', 'LandContour', 'Utilities', 'LotConfig',\n",
       "        'LandSlope', 'Neighborhood', 'Condition1', 'Condition2', 'BldgType',\n",
       "        'HouseStyle', 'OverallQual', 'OverallCond', 'YearBuilt', 'YearRemodAdd',\n",
       "        'RoofStyle', 'RoofMatl', 'Exterior1st', 'Exterior2nd', 'MasVnrType',\n",
       "        'MasVnrArea', 'ExterQual', 'ExterCond', 'Foundation', 'BsmtQual',\n",
       "        'BsmtCond', 'BsmtExposure', 'BsmtFinType1', 'BsmtFinSF1',\n",
       "        'BsmtFinType2', 'BsmtFinSF2', 'BsmtUnfSF', 'TotalBsmtSF', 'Heating',\n",
       "        'HeatingQC', 'CentralAir', 'Electrical', '1stFlrSF', '2ndFlrSF',\n",
       "        'LowQualFinSF', 'GrLivArea', 'BsmtFullBath', 'BsmtHalfBath', 'FullBath',\n",
       "        'HalfBath', 'BedroomAbvGr', 'KitchenAbvGr', 'KitchenQual',\n",
       "        'TotRmsAbvGrd', 'Functional', 'Fireplaces', 'FireplaceQu', 'GarageType',\n",
       "        'GarageYrBlt', 'GarageFinish', 'GarageCars', 'GarageArea', 'GarageQual',\n",
       "        'GarageCond', 'PavedDrive', 'WoodDeckSF', 'OpenPorchSF',\n",
       "        'EnclosedPorch', '3SsnPorch', 'ScreenPorch', 'PoolArea', 'PoolQC',\n",
       "        'Fence', 'MiscFeature', 'MiscVal', 'MoSold', 'YrSold', 'SaleType',\n",
       "        'SaleCondition'],\n",
       "       dtype='object'))"
      ]
     },
     "execution_count": 4,
     "metadata": {},
     "output_type": "execute_result"
    }
   ],
   "source": [
    "# checking features\n",
    "california_cat = california_df.select_dtypes(include='O').keys()\n",
    "# display variabels\n",
    "california_cat,california_df.columns"
   ]
  },
  {
   "cell_type": "code",
   "execution_count": 5,
   "id": "cb70755f",
   "metadata": {},
   "outputs": [
    {
     "data": {
      "text/html": [
       "<div>\n",
       "<style scoped>\n",
       "    .dataframe tbody tr th:only-of-type {\n",
       "        vertical-align: middle;\n",
       "    }\n",
       "\n",
       "    .dataframe tbody tr th {\n",
       "        vertical-align: top;\n",
       "    }\n",
       "\n",
       "    .dataframe thead th {\n",
       "        text-align: right;\n",
       "    }\n",
       "</style>\n",
       "<table border=\"1\" class=\"dataframe\">\n",
       "  <thead>\n",
       "    <tr style=\"text-align: right;\">\n",
       "      <th></th>\n",
       "      <th>MSZoning</th>\n",
       "      <th>Street</th>\n",
       "      <th>Alley</th>\n",
       "      <th>LotShape</th>\n",
       "      <th>LandContour</th>\n",
       "      <th>Utilities</th>\n",
       "      <th>LotConfig</th>\n",
       "      <th>LandSlope</th>\n",
       "      <th>Neighborhood</th>\n",
       "      <th>Condition1</th>\n",
       "      <th>...</th>\n",
       "      <th>GarageType</th>\n",
       "      <th>GarageFinish</th>\n",
       "      <th>GarageQual</th>\n",
       "      <th>GarageCond</th>\n",
       "      <th>PavedDrive</th>\n",
       "      <th>PoolQC</th>\n",
       "      <th>Fence</th>\n",
       "      <th>MiscFeature</th>\n",
       "      <th>SaleType</th>\n",
       "      <th>SaleCondition</th>\n",
       "    </tr>\n",
       "  </thead>\n",
       "  <tbody>\n",
       "    <tr>\n",
       "      <th>0</th>\n",
       "      <td>RL</td>\n",
       "      <td>Pave</td>\n",
       "      <td>None</td>\n",
       "      <td>Reg</td>\n",
       "      <td>Lvl</td>\n",
       "      <td>AllPub</td>\n",
       "      <td>Inside</td>\n",
       "      <td>Gtl</td>\n",
       "      <td>CollgCr</td>\n",
       "      <td>Norm</td>\n",
       "      <td>...</td>\n",
       "      <td>Attchd</td>\n",
       "      <td>RFn</td>\n",
       "      <td>TA</td>\n",
       "      <td>TA</td>\n",
       "      <td>Y</td>\n",
       "      <td>None</td>\n",
       "      <td>None</td>\n",
       "      <td>None</td>\n",
       "      <td>WD</td>\n",
       "      <td>Normal</td>\n",
       "    </tr>\n",
       "    <tr>\n",
       "      <th>1</th>\n",
       "      <td>RL</td>\n",
       "      <td>Pave</td>\n",
       "      <td>None</td>\n",
       "      <td>Reg</td>\n",
       "      <td>Lvl</td>\n",
       "      <td>AllPub</td>\n",
       "      <td>FR2</td>\n",
       "      <td>Gtl</td>\n",
       "      <td>Veenker</td>\n",
       "      <td>Feedr</td>\n",
       "      <td>...</td>\n",
       "      <td>Attchd</td>\n",
       "      <td>RFn</td>\n",
       "      <td>TA</td>\n",
       "      <td>TA</td>\n",
       "      <td>Y</td>\n",
       "      <td>None</td>\n",
       "      <td>None</td>\n",
       "      <td>None</td>\n",
       "      <td>WD</td>\n",
       "      <td>Normal</td>\n",
       "    </tr>\n",
       "    <tr>\n",
       "      <th>2</th>\n",
       "      <td>RL</td>\n",
       "      <td>Pave</td>\n",
       "      <td>None</td>\n",
       "      <td>IR1</td>\n",
       "      <td>Lvl</td>\n",
       "      <td>AllPub</td>\n",
       "      <td>Inside</td>\n",
       "      <td>Gtl</td>\n",
       "      <td>CollgCr</td>\n",
       "      <td>Norm</td>\n",
       "      <td>...</td>\n",
       "      <td>Attchd</td>\n",
       "      <td>RFn</td>\n",
       "      <td>TA</td>\n",
       "      <td>TA</td>\n",
       "      <td>Y</td>\n",
       "      <td>None</td>\n",
       "      <td>None</td>\n",
       "      <td>None</td>\n",
       "      <td>WD</td>\n",
       "      <td>Normal</td>\n",
       "    </tr>\n",
       "    <tr>\n",
       "      <th>3</th>\n",
       "      <td>RL</td>\n",
       "      <td>Pave</td>\n",
       "      <td>None</td>\n",
       "      <td>IR1</td>\n",
       "      <td>Lvl</td>\n",
       "      <td>AllPub</td>\n",
       "      <td>Corner</td>\n",
       "      <td>Gtl</td>\n",
       "      <td>Crawfor</td>\n",
       "      <td>Norm</td>\n",
       "      <td>...</td>\n",
       "      <td>Detchd</td>\n",
       "      <td>Unf</td>\n",
       "      <td>TA</td>\n",
       "      <td>TA</td>\n",
       "      <td>Y</td>\n",
       "      <td>None</td>\n",
       "      <td>None</td>\n",
       "      <td>None</td>\n",
       "      <td>WD</td>\n",
       "      <td>Abnorml</td>\n",
       "    </tr>\n",
       "    <tr>\n",
       "      <th>4</th>\n",
       "      <td>RL</td>\n",
       "      <td>Pave</td>\n",
       "      <td>None</td>\n",
       "      <td>IR1</td>\n",
       "      <td>Lvl</td>\n",
       "      <td>AllPub</td>\n",
       "      <td>FR2</td>\n",
       "      <td>Gtl</td>\n",
       "      <td>NoRidge</td>\n",
       "      <td>Norm</td>\n",
       "      <td>...</td>\n",
       "      <td>Attchd</td>\n",
       "      <td>RFn</td>\n",
       "      <td>TA</td>\n",
       "      <td>TA</td>\n",
       "      <td>Y</td>\n",
       "      <td>None</td>\n",
       "      <td>None</td>\n",
       "      <td>None</td>\n",
       "      <td>WD</td>\n",
       "      <td>Normal</td>\n",
       "    </tr>\n",
       "  </tbody>\n",
       "</table>\n",
       "<p>5 rows × 43 columns</p>\n",
       "</div>"
      ],
      "text/plain": [
       "  MSZoning Street Alley LotShape LandContour Utilities LotConfig LandSlope  \\\n",
       "0       RL   Pave  None      Reg         Lvl    AllPub    Inside       Gtl   \n",
       "1       RL   Pave  None      Reg         Lvl    AllPub       FR2       Gtl   \n",
       "2       RL   Pave  None      IR1         Lvl    AllPub    Inside       Gtl   \n",
       "3       RL   Pave  None      IR1         Lvl    AllPub    Corner       Gtl   \n",
       "4       RL   Pave  None      IR1         Lvl    AllPub       FR2       Gtl   \n",
       "\n",
       "  Neighborhood Condition1  ... GarageType GarageFinish GarageQual GarageCond  \\\n",
       "0      CollgCr       Norm  ...     Attchd          RFn         TA         TA   \n",
       "1      Veenker      Feedr  ...     Attchd          RFn         TA         TA   \n",
       "2      CollgCr       Norm  ...     Attchd          RFn         TA         TA   \n",
       "3      Crawfor       Norm  ...     Detchd          Unf         TA         TA   \n",
       "4      NoRidge       Norm  ...     Attchd          RFn         TA         TA   \n",
       "\n",
       "  PavedDrive PoolQC Fence MiscFeature SaleType SaleCondition  \n",
       "0          Y   None  None        None       WD        Normal  \n",
       "1          Y   None  None        None       WD        Normal  \n",
       "2          Y   None  None        None       WD        Normal  \n",
       "3          Y   None  None        None       WD       Abnorml  \n",
       "4          Y   None  None        None       WD        Normal  \n",
       "\n",
       "[5 rows x 43 columns]"
      ]
     },
     "execution_count": 5,
     "metadata": {},
     "output_type": "execute_result"
    }
   ],
   "source": [
    "# creating new df\n",
    "# setting columns we use\n",
    "new_df = california_df[california_cat]\n",
    "new_df.head()"
   ]
  },
  {
   "cell_type": "code",
   "execution_count": 6,
   "id": "57c96aff",
   "metadata": {},
   "outputs": [
    {
     "name": "stdout",
     "output_type": "stream",
     "text": [
      "MSZoning : 5\n",
      "Street : 2\n",
      "Alley : 3\n",
      "LotShape : 4\n",
      "LandContour : 4\n",
      "Utilities : 2\n",
      "LotConfig : 5\n",
      "LandSlope : 3\n",
      "Neighborhood : 25\n",
      "Condition1 : 9\n",
      "Condition2 : 8\n",
      "BldgType : 5\n",
      "HouseStyle : 8\n",
      "RoofStyle : 6\n",
      "RoofMatl : 8\n",
      "Exterior1st : 15\n",
      "Exterior2nd : 16\n",
      "MasVnrType : 5\n",
      "ExterQual : 4\n",
      "ExterCond : 5\n",
      "Foundation : 6\n",
      "BsmtQual : 5\n",
      "BsmtCond : 5\n",
      "BsmtExposure : 5\n",
      "BsmtFinType1 : 7\n",
      "BsmtFinType2 : 7\n",
      "Heating : 6\n",
      "HeatingQC : 5\n",
      "CentralAir : 2\n",
      "Electrical : 6\n",
      "KitchenQual : 4\n",
      "Functional : 7\n",
      "FireplaceQu : 6\n",
      "GarageType : 7\n",
      "GarageFinish : 4\n",
      "GarageQual : 6\n",
      "GarageCond : 6\n",
      "PavedDrive : 3\n",
      "PoolQC : 4\n",
      "Fence : 5\n",
      "MiscFeature : 5\n",
      "SaleType : 9\n",
      "SaleCondition : 6\n"
     ]
    }
   ],
   "source": [
    "# unique values in each columns\n",
    "for x in new_df.columns:\n",
    "    #prinfting unique values\n",
    "    print(x ,':', len(new_df[x].unique()))"
   ]
  },
  {
   "cell_type": "code",
   "execution_count": 7,
   "id": "ad6338c7",
   "metadata": {},
   "outputs": [
    {
     "name": "stdout",
     "output_type": "stream",
     "text": [
      "327 327 43\n"
     ]
    },
    {
     "name": "stderr",
     "output_type": "stream",
     "text": [
      "<ipython-input-7-59bd48f9c89f>:9: PerformanceWarning: DataFrame is highly fragmented.  This is usually the result of calling `frame.insert` many times, which has poor performance.  Consider joining all columns at once using pd.concat(axis=1) instead. To get a de-fragmented frame, use `newframe = frame.copy()`\n",
      "  df2[featr+'_'+label] = np.where(df2[featr]==label,1,0)\n",
      "<ipython-input-7-59bd48f9c89f>:9: PerformanceWarning: DataFrame is highly fragmented.  This is usually the result of calling `frame.insert` many times, which has poor performance.  Consider joining all columns at once using pd.concat(axis=1) instead. To get a de-fragmented frame, use `newframe = frame.copy()`\n",
      "  df2[featr+'_'+label] = np.where(df2[featr]==label,1,0)\n",
      "<ipython-input-7-59bd48f9c89f>:9: PerformanceWarning: DataFrame is highly fragmented.  This is usually the result of calling `frame.insert` many times, which has poor performance.  Consider joining all columns at once using pd.concat(axis=1) instead. To get a de-fragmented frame, use `newframe = frame.copy()`\n",
      "  df2[featr+'_'+label] = np.where(df2[featr]==label,1,0)\n",
      "<ipython-input-7-59bd48f9c89f>:9: PerformanceWarning: DataFrame is highly fragmented.  This is usually the result of calling `frame.insert` many times, which has poor performance.  Consider joining all columns at once using pd.concat(axis=1) instead. To get a de-fragmented frame, use `newframe = frame.copy()`\n",
      "  df2[featr+'_'+label] = np.where(df2[featr]==label,1,0)\n",
      "<ipython-input-7-59bd48f9c89f>:9: PerformanceWarning: DataFrame is highly fragmented.  This is usually the result of calling `frame.insert` many times, which has poor performance.  Consider joining all columns at once using pd.concat(axis=1) instead. To get a de-fragmented frame, use `newframe = frame.copy()`\n",
      "  df2[featr+'_'+label] = np.where(df2[featr]==label,1,0)\n",
      "<ipython-input-7-59bd48f9c89f>:9: PerformanceWarning: DataFrame is highly fragmented.  This is usually the result of calling `frame.insert` many times, which has poor performance.  Consider joining all columns at once using pd.concat(axis=1) instead. To get a de-fragmented frame, use `newframe = frame.copy()`\n",
      "  df2[featr+'_'+label] = np.where(df2[featr]==label,1,0)\n",
      "<ipython-input-7-59bd48f9c89f>:9: PerformanceWarning: DataFrame is highly fragmented.  This is usually the result of calling `frame.insert` many times, which has poor performance.  Consider joining all columns at once using pd.concat(axis=1) instead. To get a de-fragmented frame, use `newframe = frame.copy()`\n",
      "  df2[featr+'_'+label] = np.where(df2[featr]==label,1,0)\n",
      "<ipython-input-7-59bd48f9c89f>:9: PerformanceWarning: DataFrame is highly fragmented.  This is usually the result of calling `frame.insert` many times, which has poor performance.  Consider joining all columns at once using pd.concat(axis=1) instead. To get a de-fragmented frame, use `newframe = frame.copy()`\n",
      "  df2[featr+'_'+label] = np.where(df2[featr]==label,1,0)\n",
      "<ipython-input-7-59bd48f9c89f>:9: PerformanceWarning: DataFrame is highly fragmented.  This is usually the result of calling `frame.insert` many times, which has poor performance.  Consider joining all columns at once using pd.concat(axis=1) instead. To get a de-fragmented frame, use `newframe = frame.copy()`\n",
      "  df2[featr+'_'+label] = np.where(df2[featr]==label,1,0)\n",
      "<ipython-input-7-59bd48f9c89f>:9: PerformanceWarning: DataFrame is highly fragmented.  This is usually the result of calling `frame.insert` many times, which has poor performance.  Consider joining all columns at once using pd.concat(axis=1) instead. To get a de-fragmented frame, use `newframe = frame.copy()`\n",
      "  df2[featr+'_'+label] = np.where(df2[featr]==label,1,0)\n",
      "<ipython-input-7-59bd48f9c89f>:9: PerformanceWarning: DataFrame is highly fragmented.  This is usually the result of calling `frame.insert` many times, which has poor performance.  Consider joining all columns at once using pd.concat(axis=1) instead. To get a de-fragmented frame, use `newframe = frame.copy()`\n",
      "  df2[featr+'_'+label] = np.where(df2[featr]==label,1,0)\n",
      "<ipython-input-7-59bd48f9c89f>:9: PerformanceWarning: DataFrame is highly fragmented.  This is usually the result of calling `frame.insert` many times, which has poor performance.  Consider joining all columns at once using pd.concat(axis=1) instead. To get a de-fragmented frame, use `newframe = frame.copy()`\n",
      "  df2[featr+'_'+label] = np.where(df2[featr]==label,1,0)\n",
      "<ipython-input-7-59bd48f9c89f>:9: PerformanceWarning: DataFrame is highly fragmented.  This is usually the result of calling `frame.insert` many times, which has poor performance.  Consider joining all columns at once using pd.concat(axis=1) instead. To get a de-fragmented frame, use `newframe = frame.copy()`\n",
      "  df2[featr+'_'+label] = np.where(df2[featr]==label,1,0)\n",
      "<ipython-input-7-59bd48f9c89f>:9: PerformanceWarning: DataFrame is highly fragmented.  This is usually the result of calling `frame.insert` many times, which has poor performance.  Consider joining all columns at once using pd.concat(axis=1) instead. To get a de-fragmented frame, use `newframe = frame.copy()`\n",
      "  df2[featr+'_'+label] = np.where(df2[featr]==label,1,0)\n",
      "<ipython-input-7-59bd48f9c89f>:9: PerformanceWarning: DataFrame is highly fragmented.  This is usually the result of calling `frame.insert` many times, which has poor performance.  Consider joining all columns at once using pd.concat(axis=1) instead. To get a de-fragmented frame, use `newframe = frame.copy()`\n",
      "  df2[featr+'_'+label] = np.where(df2[featr]==label,1,0)\n",
      "<ipython-input-7-59bd48f9c89f>:9: PerformanceWarning: DataFrame is highly fragmented.  This is usually the result of calling `frame.insert` many times, which has poor performance.  Consider joining all columns at once using pd.concat(axis=1) instead. To get a de-fragmented frame, use `newframe = frame.copy()`\n",
      "  df2[featr+'_'+label] = np.where(df2[featr]==label,1,0)\n",
      "<ipython-input-7-59bd48f9c89f>:9: PerformanceWarning: DataFrame is highly fragmented.  This is usually the result of calling `frame.insert` many times, which has poor performance.  Consider joining all columns at once using pd.concat(axis=1) instead. To get a de-fragmented frame, use `newframe = frame.copy()`\n",
      "  df2[featr+'_'+label] = np.where(df2[featr]==label,1,0)\n",
      "<ipython-input-7-59bd48f9c89f>:9: PerformanceWarning: DataFrame is highly fragmented.  This is usually the result of calling `frame.insert` many times, which has poor performance.  Consider joining all columns at once using pd.concat(axis=1) instead. To get a de-fragmented frame, use `newframe = frame.copy()`\n",
      "  df2[featr+'_'+label] = np.where(df2[featr]==label,1,0)\n",
      "<ipython-input-7-59bd48f9c89f>:9: PerformanceWarning: DataFrame is highly fragmented.  This is usually the result of calling `frame.insert` many times, which has poor performance.  Consider joining all columns at once using pd.concat(axis=1) instead. To get a de-fragmented frame, use `newframe = frame.copy()`\n",
      "  df2[featr+'_'+label] = np.where(df2[featr]==label,1,0)\n",
      "<ipython-input-7-59bd48f9c89f>:9: PerformanceWarning: DataFrame is highly fragmented.  This is usually the result of calling `frame.insert` many times, which has poor performance.  Consider joining all columns at once using pd.concat(axis=1) instead. To get a de-fragmented frame, use `newframe = frame.copy()`\n",
      "  df2[featr+'_'+label] = np.where(df2[featr]==label,1,0)\n",
      "<ipython-input-7-59bd48f9c89f>:9: PerformanceWarning: DataFrame is highly fragmented.  This is usually the result of calling `frame.insert` many times, which has poor performance.  Consider joining all columns at once using pd.concat(axis=1) instead. To get a de-fragmented frame, use `newframe = frame.copy()`\n",
      "  df2[featr+'_'+label] = np.where(df2[featr]==label,1,0)\n",
      "<ipython-input-7-59bd48f9c89f>:9: PerformanceWarning: DataFrame is highly fragmented.  This is usually the result of calling `frame.insert` many times, which has poor performance.  Consider joining all columns at once using pd.concat(axis=1) instead. To get a de-fragmented frame, use `newframe = frame.copy()`\n",
      "  df2[featr+'_'+label] = np.where(df2[featr]==label,1,0)\n",
      "<ipython-input-7-59bd48f9c89f>:9: PerformanceWarning: DataFrame is highly fragmented.  This is usually the result of calling `frame.insert` many times, which has poor performance.  Consider joining all columns at once using pd.concat(axis=1) instead. To get a de-fragmented frame, use `newframe = frame.copy()`\n",
      "  df2[featr+'_'+label] = np.where(df2[featr]==label,1,0)\n",
      "<ipython-input-7-59bd48f9c89f>:9: PerformanceWarning: DataFrame is highly fragmented.  This is usually the result of calling `frame.insert` many times, which has poor performance.  Consider joining all columns at once using pd.concat(axis=1) instead. To get a de-fragmented frame, use `newframe = frame.copy()`\n",
      "  df2[featr+'_'+label] = np.where(df2[featr]==label,1,0)\n",
      "<ipython-input-7-59bd48f9c89f>:9: PerformanceWarning: DataFrame is highly fragmented.  This is usually the result of calling `frame.insert` many times, which has poor performance.  Consider joining all columns at once using pd.concat(axis=1) instead. To get a de-fragmented frame, use `newframe = frame.copy()`\n",
      "  df2[featr+'_'+label] = np.where(df2[featr]==label,1,0)\n",
      "<ipython-input-7-59bd48f9c89f>:9: PerformanceWarning: DataFrame is highly fragmented.  This is usually the result of calling `frame.insert` many times, which has poor performance.  Consider joining all columns at once using pd.concat(axis=1) instead. To get a de-fragmented frame, use `newframe = frame.copy()`\n",
      "  df2[featr+'_'+label] = np.where(df2[featr]==label,1,0)\n",
      "<ipython-input-7-59bd48f9c89f>:9: PerformanceWarning: DataFrame is highly fragmented.  This is usually the result of calling `frame.insert` many times, which has poor performance.  Consider joining all columns at once using pd.concat(axis=1) instead. To get a de-fragmented frame, use `newframe = frame.copy()`\n",
      "  df2[featr+'_'+label] = np.where(df2[featr]==label,1,0)\n",
      "<ipython-input-7-59bd48f9c89f>:9: PerformanceWarning: DataFrame is highly fragmented.  This is usually the result of calling `frame.insert` many times, which has poor performance.  Consider joining all columns at once using pd.concat(axis=1) instead. To get a de-fragmented frame, use `newframe = frame.copy()`\n",
      "  df2[featr+'_'+label] = np.where(df2[featr]==label,1,0)\n",
      "<ipython-input-7-59bd48f9c89f>:9: PerformanceWarning: DataFrame is highly fragmented.  This is usually the result of calling `frame.insert` many times, which has poor performance.  Consider joining all columns at once using pd.concat(axis=1) instead. To get a de-fragmented frame, use `newframe = frame.copy()`\n",
      "  df2[featr+'_'+label] = np.where(df2[featr]==label,1,0)\n",
      "<ipython-input-7-59bd48f9c89f>:9: PerformanceWarning: DataFrame is highly fragmented.  This is usually the result of calling `frame.insert` many times, which has poor performance.  Consider joining all columns at once using pd.concat(axis=1) instead. To get a de-fragmented frame, use `newframe = frame.copy()`\n",
      "  df2[featr+'_'+label] = np.where(df2[featr]==label,1,0)\n",
      "<ipython-input-7-59bd48f9c89f>:9: PerformanceWarning: DataFrame is highly fragmented.  This is usually the result of calling `frame.insert` many times, which has poor performance.  Consider joining all columns at once using pd.concat(axis=1) instead. To get a de-fragmented frame, use `newframe = frame.copy()`\n",
      "  df2[featr+'_'+label] = np.where(df2[featr]==label,1,0)\n",
      "<ipython-input-7-59bd48f9c89f>:9: PerformanceWarning: DataFrame is highly fragmented.  This is usually the result of calling `frame.insert` many times, which has poor performance.  Consider joining all columns at once using pd.concat(axis=1) instead. To get a de-fragmented frame, use `newframe = frame.copy()`\n",
      "  df2[featr+'_'+label] = np.where(df2[featr]==label,1,0)\n",
      "<ipython-input-7-59bd48f9c89f>:9: PerformanceWarning: DataFrame is highly fragmented.  This is usually the result of calling `frame.insert` many times, which has poor performance.  Consider joining all columns at once using pd.concat(axis=1) instead. To get a de-fragmented frame, use `newframe = frame.copy()`\n",
      "  df2[featr+'_'+label] = np.where(df2[featr]==label,1,0)\n",
      "<ipython-input-7-59bd48f9c89f>:9: PerformanceWarning: DataFrame is highly fragmented.  This is usually the result of calling `frame.insert` many times, which has poor performance.  Consider joining all columns at once using pd.concat(axis=1) instead. To get a de-fragmented frame, use `newframe = frame.copy()`\n",
      "  df2[featr+'_'+label] = np.where(df2[featr]==label,1,0)\n",
      "<ipython-input-7-59bd48f9c89f>:9: PerformanceWarning: DataFrame is highly fragmented.  This is usually the result of calling `frame.insert` many times, which has poor performance.  Consider joining all columns at once using pd.concat(axis=1) instead. To get a de-fragmented frame, use `newframe = frame.copy()`\n",
      "  df2[featr+'_'+label] = np.where(df2[featr]==label,1,0)\n",
      "<ipython-input-7-59bd48f9c89f>:9: PerformanceWarning: DataFrame is highly fragmented.  This is usually the result of calling `frame.insert` many times, which has poor performance.  Consider joining all columns at once using pd.concat(axis=1) instead. To get a de-fragmented frame, use `newframe = frame.copy()`\n",
      "  df2[featr+'_'+label] = np.where(df2[featr]==label,1,0)\n",
      "<ipython-input-7-59bd48f9c89f>:9: PerformanceWarning: DataFrame is highly fragmented.  This is usually the result of calling `frame.insert` many times, which has poor performance.  Consider joining all columns at once using pd.concat(axis=1) instead. To get a de-fragmented frame, use `newframe = frame.copy()`\n",
      "  df2[featr+'_'+label] = np.where(df2[featr]==label,1,0)\n",
      "<ipython-input-7-59bd48f9c89f>:9: PerformanceWarning: DataFrame is highly fragmented.  This is usually the result of calling `frame.insert` many times, which has poor performance.  Consider joining all columns at once using pd.concat(axis=1) instead. To get a de-fragmented frame, use `newframe = frame.copy()`\n",
      "  df2[featr+'_'+label] = np.where(df2[featr]==label,1,0)\n",
      "<ipython-input-7-59bd48f9c89f>:9: PerformanceWarning: DataFrame is highly fragmented.  This is usually the result of calling `frame.insert` many times, which has poor performance.  Consider joining all columns at once using pd.concat(axis=1) instead. To get a de-fragmented frame, use `newframe = frame.copy()`\n",
      "  df2[featr+'_'+label] = np.where(df2[featr]==label,1,0)\n",
      "<ipython-input-7-59bd48f9c89f>:9: PerformanceWarning: DataFrame is highly fragmented.  This is usually the result of calling `frame.insert` many times, which has poor performance.  Consider joining all columns at once using pd.concat(axis=1) instead. To get a de-fragmented frame, use `newframe = frame.copy()`\n",
      "  df2[featr+'_'+label] = np.where(df2[featr]==label,1,0)\n",
      "<ipython-input-7-59bd48f9c89f>:9: PerformanceWarning: DataFrame is highly fragmented.  This is usually the result of calling `frame.insert` many times, which has poor performance.  Consider joining all columns at once using pd.concat(axis=1) instead. To get a de-fragmented frame, use `newframe = frame.copy()`\n",
      "  df2[featr+'_'+label] = np.where(df2[featr]==label,1,0)\n",
      "<ipython-input-7-59bd48f9c89f>:9: PerformanceWarning: DataFrame is highly fragmented.  This is usually the result of calling `frame.insert` many times, which has poor performance.  Consider joining all columns at once using pd.concat(axis=1) instead. To get a de-fragmented frame, use `newframe = frame.copy()`\n",
      "  df2[featr+'_'+label] = np.where(df2[featr]==label,1,0)\n",
      "<ipython-input-7-59bd48f9c89f>:9: PerformanceWarning: DataFrame is highly fragmented.  This is usually the result of calling `frame.insert` many times, which has poor performance.  Consider joining all columns at once using pd.concat(axis=1) instead. To get a de-fragmented frame, use `newframe = frame.copy()`\n",
      "  df2[featr+'_'+label] = np.where(df2[featr]==label,1,0)\n",
      "<ipython-input-7-59bd48f9c89f>:9: PerformanceWarning: DataFrame is highly fragmented.  This is usually the result of calling `frame.insert` many times, which has poor performance.  Consider joining all columns at once using pd.concat(axis=1) instead. To get a de-fragmented frame, use `newframe = frame.copy()`\n",
      "  df2[featr+'_'+label] = np.where(df2[featr]==label,1,0)\n",
      "<ipython-input-7-59bd48f9c89f>:9: PerformanceWarning: DataFrame is highly fragmented.  This is usually the result of calling `frame.insert` many times, which has poor performance.  Consider joining all columns at once using pd.concat(axis=1) instead. To get a de-fragmented frame, use `newframe = frame.copy()`\n",
      "  df2[featr+'_'+label] = np.where(df2[featr]==label,1,0)\n",
      "<ipython-input-7-59bd48f9c89f>:9: PerformanceWarning: DataFrame is highly fragmented.  This is usually the result of calling `frame.insert` many times, which has poor performance.  Consider joining all columns at once using pd.concat(axis=1) instead. To get a de-fragmented frame, use `newframe = frame.copy()`\n",
      "  df2[featr+'_'+label] = np.where(df2[featr]==label,1,0)\n",
      "<ipython-input-7-59bd48f9c89f>:9: PerformanceWarning: DataFrame is highly fragmented.  This is usually the result of calling `frame.insert` many times, which has poor performance.  Consider joining all columns at once using pd.concat(axis=1) instead. To get a de-fragmented frame, use `newframe = frame.copy()`\n",
      "  df2[featr+'_'+label] = np.where(df2[featr]==label,1,0)\n",
      "<ipython-input-7-59bd48f9c89f>:9: PerformanceWarning: DataFrame is highly fragmented.  This is usually the result of calling `frame.insert` many times, which has poor performance.  Consider joining all columns at once using pd.concat(axis=1) instead. To get a de-fragmented frame, use `newframe = frame.copy()`\n",
      "  df2[featr+'_'+label] = np.where(df2[featr]==label,1,0)\n",
      "<ipython-input-7-59bd48f9c89f>:9: PerformanceWarning: DataFrame is highly fragmented.  This is usually the result of calling `frame.insert` many times, which has poor performance.  Consider joining all columns at once using pd.concat(axis=1) instead. To get a de-fragmented frame, use `newframe = frame.copy()`\n",
      "  df2[featr+'_'+label] = np.where(df2[featr]==label,1,0)\n",
      "<ipython-input-7-59bd48f9c89f>:9: PerformanceWarning: DataFrame is highly fragmented.  This is usually the result of calling `frame.insert` many times, which has poor performance.  Consider joining all columns at once using pd.concat(axis=1) instead. To get a de-fragmented frame, use `newframe = frame.copy()`\n",
      "  df2[featr+'_'+label] = np.where(df2[featr]==label,1,0)\n",
      "<ipython-input-7-59bd48f9c89f>:9: PerformanceWarning: DataFrame is highly fragmented.  This is usually the result of calling `frame.insert` many times, which has poor performance.  Consider joining all columns at once using pd.concat(axis=1) instead. To get a de-fragmented frame, use `newframe = frame.copy()`\n",
      "  df2[featr+'_'+label] = np.where(df2[featr]==label,1,0)\n",
      "<ipython-input-7-59bd48f9c89f>:9: PerformanceWarning: DataFrame is highly fragmented.  This is usually the result of calling `frame.insert` many times, which has poor performance.  Consider joining all columns at once using pd.concat(axis=1) instead. To get a de-fragmented frame, use `newframe = frame.copy()`\n",
      "  df2[featr+'_'+label] = np.where(df2[featr]==label,1,0)\n",
      "<ipython-input-7-59bd48f9c89f>:9: PerformanceWarning: DataFrame is highly fragmented.  This is usually the result of calling `frame.insert` many times, which has poor performance.  Consider joining all columns at once using pd.concat(axis=1) instead. To get a de-fragmented frame, use `newframe = frame.copy()`\n",
      "  df2[featr+'_'+label] = np.where(df2[featr]==label,1,0)\n",
      "<ipython-input-7-59bd48f9c89f>:9: PerformanceWarning: DataFrame is highly fragmented.  This is usually the result of calling `frame.insert` many times, which has poor performance.  Consider joining all columns at once using pd.concat(axis=1) instead. To get a de-fragmented frame, use `newframe = frame.copy()`\n",
      "  df2[featr+'_'+label] = np.where(df2[featr]==label,1,0)\n",
      "<ipython-input-7-59bd48f9c89f>:9: PerformanceWarning: DataFrame is highly fragmented.  This is usually the result of calling `frame.insert` many times, which has poor performance.  Consider joining all columns at once using pd.concat(axis=1) instead. To get a de-fragmented frame, use `newframe = frame.copy()`\n",
      "  df2[featr+'_'+label] = np.where(df2[featr]==label,1,0)\n",
      "<ipython-input-7-59bd48f9c89f>:9: PerformanceWarning: DataFrame is highly fragmented.  This is usually the result of calling `frame.insert` many times, which has poor performance.  Consider joining all columns at once using pd.concat(axis=1) instead. To get a de-fragmented frame, use `newframe = frame.copy()`\n",
      "  df2[featr+'_'+label] = np.where(df2[featr]==label,1,0)\n",
      "<ipython-input-7-59bd48f9c89f>:9: PerformanceWarning: DataFrame is highly fragmented.  This is usually the result of calling `frame.insert` many times, which has poor performance.  Consider joining all columns at once using pd.concat(axis=1) instead. To get a de-fragmented frame, use `newframe = frame.copy()`\n",
      "  df2[featr+'_'+label] = np.where(df2[featr]==label,1,0)\n",
      "<ipython-input-7-59bd48f9c89f>:9: PerformanceWarning: DataFrame is highly fragmented.  This is usually the result of calling `frame.insert` many times, which has poor performance.  Consider joining all columns at once using pd.concat(axis=1) instead. To get a de-fragmented frame, use `newframe = frame.copy()`\n",
      "  df2[featr+'_'+label] = np.where(df2[featr]==label,1,0)\n",
      "<ipython-input-7-59bd48f9c89f>:9: PerformanceWarning: DataFrame is highly fragmented.  This is usually the result of calling `frame.insert` many times, which has poor performance.  Consider joining all columns at once using pd.concat(axis=1) instead. To get a de-fragmented frame, use `newframe = frame.copy()`\n",
      "  df2[featr+'_'+label] = np.where(df2[featr]==label,1,0)\n",
      "<ipython-input-7-59bd48f9c89f>:9: PerformanceWarning: DataFrame is highly fragmented.  This is usually the result of calling `frame.insert` many times, which has poor performance.  Consider joining all columns at once using pd.concat(axis=1) instead. To get a de-fragmented frame, use `newframe = frame.copy()`\n",
      "  df2[featr+'_'+label] = np.where(df2[featr]==label,1,0)\n",
      "<ipython-input-7-59bd48f9c89f>:9: PerformanceWarning: DataFrame is highly fragmented.  This is usually the result of calling `frame.insert` many times, which has poor performance.  Consider joining all columns at once using pd.concat(axis=1) instead. To get a de-fragmented frame, use `newframe = frame.copy()`\n",
      "  df2[featr+'_'+label] = np.where(df2[featr]==label,1,0)\n",
      "<ipython-input-7-59bd48f9c89f>:9: PerformanceWarning: DataFrame is highly fragmented.  This is usually the result of calling `frame.insert` many times, which has poor performance.  Consider joining all columns at once using pd.concat(axis=1) instead. To get a de-fragmented frame, use `newframe = frame.copy()`\n",
      "  df2[featr+'_'+label] = np.where(df2[featr]==label,1,0)\n",
      "<ipython-input-7-59bd48f9c89f>:9: PerformanceWarning: DataFrame is highly fragmented.  This is usually the result of calling `frame.insert` many times, which has poor performance.  Consider joining all columns at once using pd.concat(axis=1) instead. To get a de-fragmented frame, use `newframe = frame.copy()`\n",
      "  df2[featr+'_'+label] = np.where(df2[featr]==label,1,0)\n",
      "<ipython-input-7-59bd48f9c89f>:9: PerformanceWarning: DataFrame is highly fragmented.  This is usually the result of calling `frame.insert` many times, which has poor performance.  Consider joining all columns at once using pd.concat(axis=1) instead. To get a de-fragmented frame, use `newframe = frame.copy()`\n",
      "  df2[featr+'_'+label] = np.where(df2[featr]==label,1,0)\n",
      "<ipython-input-7-59bd48f9c89f>:9: PerformanceWarning: DataFrame is highly fragmented.  This is usually the result of calling `frame.insert` many times, which has poor performance.  Consider joining all columns at once using pd.concat(axis=1) instead. To get a de-fragmented frame, use `newframe = frame.copy()`\n",
      "  df2[featr+'_'+label] = np.where(df2[featr]==label,1,0)\n",
      "<ipython-input-7-59bd48f9c89f>:9: PerformanceWarning: DataFrame is highly fragmented.  This is usually the result of calling `frame.insert` many times, which has poor performance.  Consider joining all columns at once using pd.concat(axis=1) instead. To get a de-fragmented frame, use `newframe = frame.copy()`\n",
      "  df2[featr+'_'+label] = np.where(df2[featr]==label,1,0)\n",
      "<ipython-input-7-59bd48f9c89f>:9: PerformanceWarning: DataFrame is highly fragmented.  This is usually the result of calling `frame.insert` many times, which has poor performance.  Consider joining all columns at once using pd.concat(axis=1) instead. To get a de-fragmented frame, use `newframe = frame.copy()`\n",
      "  df2[featr+'_'+label] = np.where(df2[featr]==label,1,0)\n",
      "<ipython-input-7-59bd48f9c89f>:9: PerformanceWarning: DataFrame is highly fragmented.  This is usually the result of calling `frame.insert` many times, which has poor performance.  Consider joining all columns at once using pd.concat(axis=1) instead. To get a de-fragmented frame, use `newframe = frame.copy()`\n",
      "  df2[featr+'_'+label] = np.where(df2[featr]==label,1,0)\n",
      "<ipython-input-7-59bd48f9c89f>:9: PerformanceWarning: DataFrame is highly fragmented.  This is usually the result of calling `frame.insert` many times, which has poor performance.  Consider joining all columns at once using pd.concat(axis=1) instead. To get a de-fragmented frame, use `newframe = frame.copy()`\n",
      "  df2[featr+'_'+label] = np.where(df2[featr]==label,1,0)\n",
      "<ipython-input-7-59bd48f9c89f>:9: PerformanceWarning: DataFrame is highly fragmented.  This is usually the result of calling `frame.insert` many times, which has poor performance.  Consider joining all columns at once using pd.concat(axis=1) instead. To get a de-fragmented frame, use `newframe = frame.copy()`\n",
      "  df2[featr+'_'+label] = np.where(df2[featr]==label,1,0)\n",
      "<ipython-input-7-59bd48f9c89f>:9: PerformanceWarning: DataFrame is highly fragmented.  This is usually the result of calling `frame.insert` many times, which has poor performance.  Consider joining all columns at once using pd.concat(axis=1) instead. To get a de-fragmented frame, use `newframe = frame.copy()`\n",
      "  df2[featr+'_'+label] = np.where(df2[featr]==label,1,0)\n",
      "<ipython-input-7-59bd48f9c89f>:9: PerformanceWarning: DataFrame is highly fragmented.  This is usually the result of calling `frame.insert` many times, which has poor performance.  Consider joining all columns at once using pd.concat(axis=1) instead. To get a de-fragmented frame, use `newframe = frame.copy()`\n",
      "  df2[featr+'_'+label] = np.where(df2[featr]==label,1,0)\n",
      "<ipython-input-7-59bd48f9c89f>:9: PerformanceWarning: DataFrame is highly fragmented.  This is usually the result of calling `frame.insert` many times, which has poor performance.  Consider joining all columns at once using pd.concat(axis=1) instead. To get a de-fragmented frame, use `newframe = frame.copy()`\n",
      "  df2[featr+'_'+label] = np.where(df2[featr]==label,1,0)\n",
      "<ipython-input-7-59bd48f9c89f>:9: PerformanceWarning: DataFrame is highly fragmented.  This is usually the result of calling `frame.insert` many times, which has poor performance.  Consider joining all columns at once using pd.concat(axis=1) instead. To get a de-fragmented frame, use `newframe = frame.copy()`\n",
      "  df2[featr+'_'+label] = np.where(df2[featr]==label,1,0)\n",
      "<ipython-input-7-59bd48f9c89f>:9: PerformanceWarning: DataFrame is highly fragmented.  This is usually the result of calling `frame.insert` many times, which has poor performance.  Consider joining all columns at once using pd.concat(axis=1) instead. To get a de-fragmented frame, use `newframe = frame.copy()`\n",
      "  df2[featr+'_'+label] = np.where(df2[featr]==label,1,0)\n",
      "<ipython-input-7-59bd48f9c89f>:9: PerformanceWarning: DataFrame is highly fragmented.  This is usually the result of calling `frame.insert` many times, which has poor performance.  Consider joining all columns at once using pd.concat(axis=1) instead. To get a de-fragmented frame, use `newframe = frame.copy()`\n",
      "  df2[featr+'_'+label] = np.where(df2[featr]==label,1,0)\n",
      "<ipython-input-7-59bd48f9c89f>:9: PerformanceWarning: DataFrame is highly fragmented.  This is usually the result of calling `frame.insert` many times, which has poor performance.  Consider joining all columns at once using pd.concat(axis=1) instead. To get a de-fragmented frame, use `newframe = frame.copy()`\n",
      "  df2[featr+'_'+label] = np.where(df2[featr]==label,1,0)\n",
      "<ipython-input-7-59bd48f9c89f>:9: PerformanceWarning: DataFrame is highly fragmented.  This is usually the result of calling `frame.insert` many times, which has poor performance.  Consider joining all columns at once using pd.concat(axis=1) instead. To get a de-fragmented frame, use `newframe = frame.copy()`\n",
      "  df2[featr+'_'+label] = np.where(df2[featr]==label,1,0)\n",
      "<ipython-input-7-59bd48f9c89f>:9: PerformanceWarning: DataFrame is highly fragmented.  This is usually the result of calling `frame.insert` many times, which has poor performance.  Consider joining all columns at once using pd.concat(axis=1) instead. To get a de-fragmented frame, use `newframe = frame.copy()`\n",
      "  df2[featr+'_'+label] = np.where(df2[featr]==label,1,0)\n",
      "<ipython-input-7-59bd48f9c89f>:9: PerformanceWarning: DataFrame is highly fragmented.  This is usually the result of calling `frame.insert` many times, which has poor performance.  Consider joining all columns at once using pd.concat(axis=1) instead. To get a de-fragmented frame, use `newframe = frame.copy()`\n",
      "  df2[featr+'_'+label] = np.where(df2[featr]==label,1,0)\n",
      "<ipython-input-7-59bd48f9c89f>:9: PerformanceWarning: DataFrame is highly fragmented.  This is usually the result of calling `frame.insert` many times, which has poor performance.  Consider joining all columns at once using pd.concat(axis=1) instead. To get a de-fragmented frame, use `newframe = frame.copy()`\n",
      "  df2[featr+'_'+label] = np.where(df2[featr]==label,1,0)\n",
      "<ipython-input-7-59bd48f9c89f>:9: PerformanceWarning: DataFrame is highly fragmented.  This is usually the result of calling `frame.insert` many times, which has poor performance.  Consider joining all columns at once using pd.concat(axis=1) instead. To get a de-fragmented frame, use `newframe = frame.copy()`\n",
      "  df2[featr+'_'+label] = np.where(df2[featr]==label,1,0)\n",
      "<ipython-input-7-59bd48f9c89f>:9: PerformanceWarning: DataFrame is highly fragmented.  This is usually the result of calling `frame.insert` many times, which has poor performance.  Consider joining all columns at once using pd.concat(axis=1) instead. To get a de-fragmented frame, use `newframe = frame.copy()`\n",
      "  df2[featr+'_'+label] = np.where(df2[featr]==label,1,0)\n",
      "<ipython-input-7-59bd48f9c89f>:9: PerformanceWarning: DataFrame is highly fragmented.  This is usually the result of calling `frame.insert` many times, which has poor performance.  Consider joining all columns at once using pd.concat(axis=1) instead. To get a de-fragmented frame, use `newframe = frame.copy()`\n",
      "  df2[featr+'_'+label] = np.where(df2[featr]==label,1,0)\n",
      "<ipython-input-7-59bd48f9c89f>:9: PerformanceWarning: DataFrame is highly fragmented.  This is usually the result of calling `frame.insert` many times, which has poor performance.  Consider joining all columns at once using pd.concat(axis=1) instead. To get a de-fragmented frame, use `newframe = frame.copy()`\n",
      "  df2[featr+'_'+label] = np.where(df2[featr]==label,1,0)\n",
      "<ipython-input-7-59bd48f9c89f>:9: PerformanceWarning: DataFrame is highly fragmented.  This is usually the result of calling `frame.insert` many times, which has poor performance.  Consider joining all columns at once using pd.concat(axis=1) instead. To get a de-fragmented frame, use `newframe = frame.copy()`\n",
      "  df2[featr+'_'+label] = np.where(df2[featr]==label,1,0)\n",
      "<ipython-input-7-59bd48f9c89f>:9: PerformanceWarning: DataFrame is highly fragmented.  This is usually the result of calling `frame.insert` many times, which has poor performance.  Consider joining all columns at once using pd.concat(axis=1) instead. To get a de-fragmented frame, use `newframe = frame.copy()`\n",
      "  df2[featr+'_'+label] = np.where(df2[featr]==label,1,0)\n",
      "<ipython-input-7-59bd48f9c89f>:9: PerformanceWarning: DataFrame is highly fragmented.  This is usually the result of calling `frame.insert` many times, which has poor performance.  Consider joining all columns at once using pd.concat(axis=1) instead. To get a de-fragmented frame, use `newframe = frame.copy()`\n",
      "  df2[featr+'_'+label] = np.where(df2[featr]==label,1,0)\n",
      "<ipython-input-7-59bd48f9c89f>:9: PerformanceWarning: DataFrame is highly fragmented.  This is usually the result of calling `frame.insert` many times, which has poor performance.  Consider joining all columns at once using pd.concat(axis=1) instead. To get a de-fragmented frame, use `newframe = frame.copy()`\n",
      "  df2[featr+'_'+label] = np.where(df2[featr]==label,1,0)\n",
      "<ipython-input-7-59bd48f9c89f>:9: PerformanceWarning: DataFrame is highly fragmented.  This is usually the result of calling `frame.insert` many times, which has poor performance.  Consider joining all columns at once using pd.concat(axis=1) instead. To get a de-fragmented frame, use `newframe = frame.copy()`\n",
      "  df2[featr+'_'+label] = np.where(df2[featr]==label,1,0)\n",
      "<ipython-input-7-59bd48f9c89f>:9: PerformanceWarning: DataFrame is highly fragmented.  This is usually the result of calling `frame.insert` many times, which has poor performance.  Consider joining all columns at once using pd.concat(axis=1) instead. To get a de-fragmented frame, use `newframe = frame.copy()`\n",
      "  df2[featr+'_'+label] = np.where(df2[featr]==label,1,0)\n",
      "<ipython-input-7-59bd48f9c89f>:9: PerformanceWarning: DataFrame is highly fragmented.  This is usually the result of calling `frame.insert` many times, which has poor performance.  Consider joining all columns at once using pd.concat(axis=1) instead. To get a de-fragmented frame, use `newframe = frame.copy()`\n",
      "  df2[featr+'_'+label] = np.where(df2[featr]==label,1,0)\n",
      "<ipython-input-7-59bd48f9c89f>:9: PerformanceWarning: DataFrame is highly fragmented.  This is usually the result of calling `frame.insert` many times, which has poor performance.  Consider joining all columns at once using pd.concat(axis=1) instead. To get a de-fragmented frame, use `newframe = frame.copy()`\n",
      "  df2[featr+'_'+label] = np.where(df2[featr]==label,1,0)\n",
      "<ipython-input-7-59bd48f9c89f>:9: PerformanceWarning: DataFrame is highly fragmented.  This is usually the result of calling `frame.insert` many times, which has poor performance.  Consider joining all columns at once using pd.concat(axis=1) instead. To get a de-fragmented frame, use `newframe = frame.copy()`\n",
      "  df2[featr+'_'+label] = np.where(df2[featr]==label,1,0)\n",
      "<ipython-input-7-59bd48f9c89f>:9: PerformanceWarning: DataFrame is highly fragmented.  This is usually the result of calling `frame.insert` many times, which has poor performance.  Consider joining all columns at once using pd.concat(axis=1) instead. To get a de-fragmented frame, use `newframe = frame.copy()`\n",
      "  df2[featr+'_'+label] = np.where(df2[featr]==label,1,0)\n",
      "<ipython-input-7-59bd48f9c89f>:9: PerformanceWarning: DataFrame is highly fragmented.  This is usually the result of calling `frame.insert` many times, which has poor performance.  Consider joining all columns at once using pd.concat(axis=1) instead. To get a de-fragmented frame, use `newframe = frame.copy()`\n",
      "  df2[featr+'_'+label] = np.where(df2[featr]==label,1,0)\n",
      "<ipython-input-7-59bd48f9c89f>:9: PerformanceWarning: DataFrame is highly fragmented.  This is usually the result of calling `frame.insert` many times, which has poor performance.  Consider joining all columns at once using pd.concat(axis=1) instead. To get a de-fragmented frame, use `newframe = frame.copy()`\n",
      "  df2[featr+'_'+label] = np.where(df2[featr]==label,1,0)\n",
      "<ipython-input-7-59bd48f9c89f>:9: PerformanceWarning: DataFrame is highly fragmented.  This is usually the result of calling `frame.insert` many times, which has poor performance.  Consider joining all columns at once using pd.concat(axis=1) instead. To get a de-fragmented frame, use `newframe = frame.copy()`\n",
      "  df2[featr+'_'+label] = np.where(df2[featr]==label,1,0)\n",
      "<ipython-input-7-59bd48f9c89f>:9: PerformanceWarning: DataFrame is highly fragmented.  This is usually the result of calling `frame.insert` many times, which has poor performance.  Consider joining all columns at once using pd.concat(axis=1) instead. To get a de-fragmented frame, use `newframe = frame.copy()`\n",
      "  df2[featr+'_'+label] = np.where(df2[featr]==label,1,0)\n",
      "<ipython-input-7-59bd48f9c89f>:9: PerformanceWarning: DataFrame is highly fragmented.  This is usually the result of calling `frame.insert` many times, which has poor performance.  Consider joining all columns at once using pd.concat(axis=1) instead. To get a de-fragmented frame, use `newframe = frame.copy()`\n",
      "  df2[featr+'_'+label] = np.where(df2[featr]==label,1,0)\n",
      "<ipython-input-7-59bd48f9c89f>:9: PerformanceWarning: DataFrame is highly fragmented.  This is usually the result of calling `frame.insert` many times, which has poor performance.  Consider joining all columns at once using pd.concat(axis=1) instead. To get a de-fragmented frame, use `newframe = frame.copy()`\n",
      "  df2[featr+'_'+label] = np.where(df2[featr]==label,1,0)\n",
      "<ipython-input-7-59bd48f9c89f>:9: PerformanceWarning: DataFrame is highly fragmented.  This is usually the result of calling `frame.insert` many times, which has poor performance.  Consider joining all columns at once using pd.concat(axis=1) instead. To get a de-fragmented frame, use `newframe = frame.copy()`\n",
      "  df2[featr+'_'+label] = np.where(df2[featr]==label,1,0)\n",
      "<ipython-input-7-59bd48f9c89f>:9: PerformanceWarning: DataFrame is highly fragmented.  This is usually the result of calling `frame.insert` many times, which has poor performance.  Consider joining all columns at once using pd.concat(axis=1) instead. To get a de-fragmented frame, use `newframe = frame.copy()`\n",
      "  df2[featr+'_'+label] = np.where(df2[featr]==label,1,0)\n",
      "<ipython-input-7-59bd48f9c89f>:9: PerformanceWarning: DataFrame is highly fragmented.  This is usually the result of calling `frame.insert` many times, which has poor performance.  Consider joining all columns at once using pd.concat(axis=1) instead. To get a de-fragmented frame, use `newframe = frame.copy()`\n",
      "  df2[featr+'_'+label] = np.where(df2[featr]==label,1,0)\n",
      "<ipython-input-7-59bd48f9c89f>:9: PerformanceWarning: DataFrame is highly fragmented.  This is usually the result of calling `frame.insert` many times, which has poor performance.  Consider joining all columns at once using pd.concat(axis=1) instead. To get a de-fragmented frame, use `newframe = frame.copy()`\n",
      "  df2[featr+'_'+label] = np.where(df2[featr]==label,1,0)\n",
      "<ipython-input-7-59bd48f9c89f>:9: PerformanceWarning: DataFrame is highly fragmented.  This is usually the result of calling `frame.insert` many times, which has poor performance.  Consider joining all columns at once using pd.concat(axis=1) instead. To get a de-fragmented frame, use `newframe = frame.copy()`\n",
      "  df2[featr+'_'+label] = np.where(df2[featr]==label,1,0)\n",
      "<ipython-input-7-59bd48f9c89f>:9: PerformanceWarning: DataFrame is highly fragmented.  This is usually the result of calling `frame.insert` many times, which has poor performance.  Consider joining all columns at once using pd.concat(axis=1) instead. To get a de-fragmented frame, use `newframe = frame.copy()`\n",
      "  df2[featr+'_'+label] = np.where(df2[featr]==label,1,0)\n",
      "<ipython-input-7-59bd48f9c89f>:9: PerformanceWarning: DataFrame is highly fragmented.  This is usually the result of calling `frame.insert` many times, which has poor performance.  Consider joining all columns at once using pd.concat(axis=1) instead. To get a de-fragmented frame, use `newframe = frame.copy()`\n",
      "  df2[featr+'_'+label] = np.where(df2[featr]==label,1,0)\n",
      "<ipython-input-7-59bd48f9c89f>:9: PerformanceWarning: DataFrame is highly fragmented.  This is usually the result of calling `frame.insert` many times, which has poor performance.  Consider joining all columns at once using pd.concat(axis=1) instead. To get a de-fragmented frame, use `newframe = frame.copy()`\n",
      "  df2[featr+'_'+label] = np.where(df2[featr]==label,1,0)\n",
      "<ipython-input-7-59bd48f9c89f>:9: PerformanceWarning: DataFrame is highly fragmented.  This is usually the result of calling `frame.insert` many times, which has poor performance.  Consider joining all columns at once using pd.concat(axis=1) instead. To get a de-fragmented frame, use `newframe = frame.copy()`\n",
      "  df2[featr+'_'+label] = np.where(df2[featr]==label,1,0)\n",
      "<ipython-input-7-59bd48f9c89f>:9: PerformanceWarning: DataFrame is highly fragmented.  This is usually the result of calling `frame.insert` many times, which has poor performance.  Consider joining all columns at once using pd.concat(axis=1) instead. To get a de-fragmented frame, use `newframe = frame.copy()`\n",
      "  df2[featr+'_'+label] = np.where(df2[featr]==label,1,0)\n",
      "<ipython-input-7-59bd48f9c89f>:9: PerformanceWarning: DataFrame is highly fragmented.  This is usually the result of calling `frame.insert` many times, which has poor performance.  Consider joining all columns at once using pd.concat(axis=1) instead. To get a de-fragmented frame, use `newframe = frame.copy()`\n",
      "  df2[featr+'_'+label] = np.where(df2[featr]==label,1,0)\n",
      "<ipython-input-7-59bd48f9c89f>:9: PerformanceWarning: DataFrame is highly fragmented.  This is usually the result of calling `frame.insert` many times, which has poor performance.  Consider joining all columns at once using pd.concat(axis=1) instead. To get a de-fragmented frame, use `newframe = frame.copy()`\n",
      "  df2[featr+'_'+label] = np.where(df2[featr]==label,1,0)\n",
      "<ipython-input-7-59bd48f9c89f>:9: PerformanceWarning: DataFrame is highly fragmented.  This is usually the result of calling `frame.insert` many times, which has poor performance.  Consider joining all columns at once using pd.concat(axis=1) instead. To get a de-fragmented frame, use `newframe = frame.copy()`\n",
      "  df2[featr+'_'+label] = np.where(df2[featr]==label,1,0)\n",
      "<ipython-input-7-59bd48f9c89f>:9: PerformanceWarning: DataFrame is highly fragmented.  This is usually the result of calling `frame.insert` many times, which has poor performance.  Consider joining all columns at once using pd.concat(axis=1) instead. To get a de-fragmented frame, use `newframe = frame.copy()`\n",
      "  df2[featr+'_'+label] = np.where(df2[featr]==label,1,0)\n",
      "<ipython-input-7-59bd48f9c89f>:9: PerformanceWarning: DataFrame is highly fragmented.  This is usually the result of calling `frame.insert` many times, which has poor performance.  Consider joining all columns at once using pd.concat(axis=1) instead. To get a de-fragmented frame, use `newframe = frame.copy()`\n",
      "  df2[featr+'_'+label] = np.where(df2[featr]==label,1,0)\n",
      "<ipython-input-7-59bd48f9c89f>:9: PerformanceWarning: DataFrame is highly fragmented.  This is usually the result of calling `frame.insert` many times, which has poor performance.  Consider joining all columns at once using pd.concat(axis=1) instead. To get a de-fragmented frame, use `newframe = frame.copy()`\n",
      "  df2[featr+'_'+label] = np.where(df2[featr]==label,1,0)\n",
      "<ipython-input-7-59bd48f9c89f>:9: PerformanceWarning: DataFrame is highly fragmented.  This is usually the result of calling `frame.insert` many times, which has poor performance.  Consider joining all columns at once using pd.concat(axis=1) instead. To get a de-fragmented frame, use `newframe = frame.copy()`\n",
      "  df2[featr+'_'+label] = np.where(df2[featr]==label,1,0)\n",
      "<ipython-input-7-59bd48f9c89f>:9: PerformanceWarning: DataFrame is highly fragmented.  This is usually the result of calling `frame.insert` many times, which has poor performance.  Consider joining all columns at once using pd.concat(axis=1) instead. To get a de-fragmented frame, use `newframe = frame.copy()`\n",
      "  df2[featr+'_'+label] = np.where(df2[featr]==label,1,0)\n",
      "<ipython-input-7-59bd48f9c89f>:9: PerformanceWarning: DataFrame is highly fragmented.  This is usually the result of calling `frame.insert` many times, which has poor performance.  Consider joining all columns at once using pd.concat(axis=1) instead. To get a de-fragmented frame, use `newframe = frame.copy()`\n",
      "  df2[featr+'_'+label] = np.where(df2[featr]==label,1,0)\n",
      "<ipython-input-7-59bd48f9c89f>:9: PerformanceWarning: DataFrame is highly fragmented.  This is usually the result of calling `frame.insert` many times, which has poor performance.  Consider joining all columns at once using pd.concat(axis=1) instead. To get a de-fragmented frame, use `newframe = frame.copy()`\n",
      "  df2[featr+'_'+label] = np.where(df2[featr]==label,1,0)\n",
      "<ipython-input-7-59bd48f9c89f>:9: PerformanceWarning: DataFrame is highly fragmented.  This is usually the result of calling `frame.insert` many times, which has poor performance.  Consider joining all columns at once using pd.concat(axis=1) instead. To get a de-fragmented frame, use `newframe = frame.copy()`\n",
      "  df2[featr+'_'+label] = np.where(df2[featr]==label,1,0)\n",
      "<ipython-input-7-59bd48f9c89f>:9: PerformanceWarning: DataFrame is highly fragmented.  This is usually the result of calling `frame.insert` many times, which has poor performance.  Consider joining all columns at once using pd.concat(axis=1) instead. To get a de-fragmented frame, use `newframe = frame.copy()`\n",
      "  df2[featr+'_'+label] = np.where(df2[featr]==label,1,0)\n",
      "<ipython-input-7-59bd48f9c89f>:9: PerformanceWarning: DataFrame is highly fragmented.  This is usually the result of calling `frame.insert` many times, which has poor performance.  Consider joining all columns at once using pd.concat(axis=1) instead. To get a de-fragmented frame, use `newframe = frame.copy()`\n",
      "  df2[featr+'_'+label] = np.where(df2[featr]==label,1,0)\n",
      "<ipython-input-7-59bd48f9c89f>:9: PerformanceWarning: DataFrame is highly fragmented.  This is usually the result of calling `frame.insert` many times, which has poor performance.  Consider joining all columns at once using pd.concat(axis=1) instead. To get a de-fragmented frame, use `newframe = frame.copy()`\n",
      "  df2[featr+'_'+label] = np.where(df2[featr]==label,1,0)\n",
      "<ipython-input-7-59bd48f9c89f>:9: PerformanceWarning: DataFrame is highly fragmented.  This is usually the result of calling `frame.insert` many times, which has poor performance.  Consider joining all columns at once using pd.concat(axis=1) instead. To get a de-fragmented frame, use `newframe = frame.copy()`\n",
      "  df2[featr+'_'+label] = np.where(df2[featr]==label,1,0)\n",
      "<ipython-input-7-59bd48f9c89f>:9: PerformanceWarning: DataFrame is highly fragmented.  This is usually the result of calling `frame.insert` many times, which has poor performance.  Consider joining all columns at once using pd.concat(axis=1) instead. To get a de-fragmented frame, use `newframe = frame.copy()`\n",
      "  df2[featr+'_'+label] = np.where(df2[featr]==label,1,0)\n",
      "<ipython-input-7-59bd48f9c89f>:9: PerformanceWarning: DataFrame is highly fragmented.  This is usually the result of calling `frame.insert` many times, which has poor performance.  Consider joining all columns at once using pd.concat(axis=1) instead. To get a de-fragmented frame, use `newframe = frame.copy()`\n",
      "  df2[featr+'_'+label] = np.where(df2[featr]==label,1,0)\n",
      "<ipython-input-7-59bd48f9c89f>:9: PerformanceWarning: DataFrame is highly fragmented.  This is usually the result of calling `frame.insert` many times, which has poor performance.  Consider joining all columns at once using pd.concat(axis=1) instead. To get a de-fragmented frame, use `newframe = frame.copy()`\n",
      "  df2[featr+'_'+label] = np.where(df2[featr]==label,1,0)\n",
      "<ipython-input-7-59bd48f9c89f>:9: PerformanceWarning: DataFrame is highly fragmented.  This is usually the result of calling `frame.insert` many times, which has poor performance.  Consider joining all columns at once using pd.concat(axis=1) instead. To get a de-fragmented frame, use `newframe = frame.copy()`\n",
      "  df2[featr+'_'+label] = np.where(df2[featr]==label,1,0)\n",
      "<ipython-input-7-59bd48f9c89f>:9: PerformanceWarning: DataFrame is highly fragmented.  This is usually the result of calling `frame.insert` many times, which has poor performance.  Consider joining all columns at once using pd.concat(axis=1) instead. To get a de-fragmented frame, use `newframe = frame.copy()`\n",
      "  df2[featr+'_'+label] = np.where(df2[featr]==label,1,0)\n",
      "<ipython-input-7-59bd48f9c89f>:9: PerformanceWarning: DataFrame is highly fragmented.  This is usually the result of calling `frame.insert` many times, which has poor performance.  Consider joining all columns at once using pd.concat(axis=1) instead. To get a de-fragmented frame, use `newframe = frame.copy()`\n",
      "  df2[featr+'_'+label] = np.where(df2[featr]==label,1,0)\n",
      "<ipython-input-7-59bd48f9c89f>:9: PerformanceWarning: DataFrame is highly fragmented.  This is usually the result of calling `frame.insert` many times, which has poor performance.  Consider joining all columns at once using pd.concat(axis=1) instead. To get a de-fragmented frame, use `newframe = frame.copy()`\n",
      "  df2[featr+'_'+label] = np.where(df2[featr]==label,1,0)\n",
      "<ipython-input-7-59bd48f9c89f>:9: PerformanceWarning: DataFrame is highly fragmented.  This is usually the result of calling `frame.insert` many times, which has poor performance.  Consider joining all columns at once using pd.concat(axis=1) instead. To get a de-fragmented frame, use `newframe = frame.copy()`\n",
      "  df2[featr+'_'+label] = np.where(df2[featr]==label,1,0)\n",
      "<ipython-input-7-59bd48f9c89f>:9: PerformanceWarning: DataFrame is highly fragmented.  This is usually the result of calling `frame.insert` many times, which has poor performance.  Consider joining all columns at once using pd.concat(axis=1) instead. To get a de-fragmented frame, use `newframe = frame.copy()`\n",
      "  df2[featr+'_'+label] = np.where(df2[featr]==label,1,0)\n",
      "<ipython-input-7-59bd48f9c89f>:9: PerformanceWarning: DataFrame is highly fragmented.  This is usually the result of calling `frame.insert` many times, which has poor performance.  Consider joining all columns at once using pd.concat(axis=1) instead. To get a de-fragmented frame, use `newframe = frame.copy()`\n",
      "  df2[featr+'_'+label] = np.where(df2[featr]==label,1,0)\n",
      "<ipython-input-7-59bd48f9c89f>:9: PerformanceWarning: DataFrame is highly fragmented.  This is usually the result of calling `frame.insert` many times, which has poor performance.  Consider joining all columns at once using pd.concat(axis=1) instead. To get a de-fragmented frame, use `newframe = frame.copy()`\n",
      "  df2[featr+'_'+label] = np.where(df2[featr]==label,1,0)\n",
      "<ipython-input-7-59bd48f9c89f>:9: PerformanceWarning: DataFrame is highly fragmented.  This is usually the result of calling `frame.insert` many times, which has poor performance.  Consider joining all columns at once using pd.concat(axis=1) instead. To get a de-fragmented frame, use `newframe = frame.copy()`\n",
      "  df2[featr+'_'+label] = np.where(df2[featr]==label,1,0)\n",
      "<ipython-input-7-59bd48f9c89f>:9: PerformanceWarning: DataFrame is highly fragmented.  This is usually the result of calling `frame.insert` many times, which has poor performance.  Consider joining all columns at once using pd.concat(axis=1) instead. To get a de-fragmented frame, use `newframe = frame.copy()`\n",
      "  df2[featr+'_'+label] = np.where(df2[featr]==label,1,0)\n",
      "<ipython-input-7-59bd48f9c89f>:9: PerformanceWarning: DataFrame is highly fragmented.  This is usually the result of calling `frame.insert` many times, which has poor performance.  Consider joining all columns at once using pd.concat(axis=1) instead. To get a de-fragmented frame, use `newframe = frame.copy()`\n",
      "  df2[featr+'_'+label] = np.where(df2[featr]==label,1,0)\n",
      "<ipython-input-7-59bd48f9c89f>:9: PerformanceWarning: DataFrame is highly fragmented.  This is usually the result of calling `frame.insert` many times, which has poor performance.  Consider joining all columns at once using pd.concat(axis=1) instead. To get a de-fragmented frame, use `newframe = frame.copy()`\n",
      "  df2[featr+'_'+label] = np.where(df2[featr]==label,1,0)\n",
      "<ipython-input-7-59bd48f9c89f>:9: PerformanceWarning: DataFrame is highly fragmented.  This is usually the result of calling `frame.insert` many times, which has poor performance.  Consider joining all columns at once using pd.concat(axis=1) instead. To get a de-fragmented frame, use `newframe = frame.copy()`\n",
      "  df2[featr+'_'+label] = np.where(df2[featr]==label,1,0)\n",
      "<ipython-input-7-59bd48f9c89f>:9: PerformanceWarning: DataFrame is highly fragmented.  This is usually the result of calling `frame.insert` many times, which has poor performance.  Consider joining all columns at once using pd.concat(axis=1) instead. To get a de-fragmented frame, use `newframe = frame.copy()`\n",
      "  df2[featr+'_'+label] = np.where(df2[featr]==label,1,0)\n",
      "<ipython-input-7-59bd48f9c89f>:9: PerformanceWarning: DataFrame is highly fragmented.  This is usually the result of calling `frame.insert` many times, which has poor performance.  Consider joining all columns at once using pd.concat(axis=1) instead. To get a de-fragmented frame, use `newframe = frame.copy()`\n",
      "  df2[featr+'_'+label] = np.where(df2[featr]==label,1,0)\n",
      "<ipython-input-7-59bd48f9c89f>:9: PerformanceWarning: DataFrame is highly fragmented.  This is usually the result of calling `frame.insert` many times, which has poor performance.  Consider joining all columns at once using pd.concat(axis=1) instead. To get a de-fragmented frame, use `newframe = frame.copy()`\n",
      "  df2[featr+'_'+label] = np.where(df2[featr]==label,1,0)\n",
      "<ipython-input-7-59bd48f9c89f>:9: PerformanceWarning: DataFrame is highly fragmented.  This is usually the result of calling `frame.insert` many times, which has poor performance.  Consider joining all columns at once using pd.concat(axis=1) instead. To get a de-fragmented frame, use `newframe = frame.copy()`\n",
      "  df2[featr+'_'+label] = np.where(df2[featr]==label,1,0)\n",
      "<ipython-input-7-59bd48f9c89f>:9: PerformanceWarning: DataFrame is highly fragmented.  This is usually the result of calling `frame.insert` many times, which has poor performance.  Consider joining all columns at once using pd.concat(axis=1) instead. To get a de-fragmented frame, use `newframe = frame.copy()`\n",
      "  df2[featr+'_'+label] = np.where(df2[featr]==label,1,0)\n",
      "<ipython-input-7-59bd48f9c89f>:9: PerformanceWarning: DataFrame is highly fragmented.  This is usually the result of calling `frame.insert` many times, which has poor performance.  Consider joining all columns at once using pd.concat(axis=1) instead. To get a de-fragmented frame, use `newframe = frame.copy()`\n",
      "  df2[featr+'_'+label] = np.where(df2[featr]==label,1,0)\n",
      "<ipython-input-7-59bd48f9c89f>:9: PerformanceWarning: DataFrame is highly fragmented.  This is usually the result of calling `frame.insert` many times, which has poor performance.  Consider joining all columns at once using pd.concat(axis=1) instead. To get a de-fragmented frame, use `newframe = frame.copy()`\n",
      "  df2[featr+'_'+label] = np.where(df2[featr]==label,1,0)\n",
      "<ipython-input-7-59bd48f9c89f>:9: PerformanceWarning: DataFrame is highly fragmented.  This is usually the result of calling `frame.insert` many times, which has poor performance.  Consider joining all columns at once using pd.concat(axis=1) instead. To get a de-fragmented frame, use `newframe = frame.copy()`\n",
      "  df2[featr+'_'+label] = np.where(df2[featr]==label,1,0)\n"
     ]
    },
    {
     "data": {
      "text/html": [
       "<div>\n",
       "<style scoped>\n",
       "    .dataframe tbody tr th:only-of-type {\n",
       "        vertical-align: middle;\n",
       "    }\n",
       "\n",
       "    .dataframe tbody tr th {\n",
       "        vertical-align: top;\n",
       "    }\n",
       "\n",
       "    .dataframe thead th {\n",
       "        text-align: right;\n",
       "    }\n",
       "</style>\n",
       "<table border=\"1\" class=\"dataframe\">\n",
       "  <thead>\n",
       "    <tr style=\"text-align: right;\">\n",
       "      <th></th>\n",
       "      <th>Id</th>\n",
       "      <th>MSSubClass</th>\n",
       "      <th>LotFrontage</th>\n",
       "      <th>LotArea</th>\n",
       "      <th>OverallQual</th>\n",
       "      <th>OverallCond</th>\n",
       "      <th>YearBuilt</th>\n",
       "      <th>YearRemodAdd</th>\n",
       "      <th>MasVnrArea</th>\n",
       "      <th>BsmtFinSF1</th>\n",
       "      <th>...</th>\n",
       "      <th>SaleType_ConLw</th>\n",
       "      <th>SaleType_CWD</th>\n",
       "      <th>SaleType_Oth</th>\n",
       "      <th>SaleType_Con</th>\n",
       "      <th>SaleCondition_Normal</th>\n",
       "      <th>SaleCondition_Partial</th>\n",
       "      <th>SaleCondition_Abnorml</th>\n",
       "      <th>SaleCondition_Family</th>\n",
       "      <th>SaleCondition_Alloca</th>\n",
       "      <th>SaleCondition_AdjLand</th>\n",
       "    </tr>\n",
       "  </thead>\n",
       "  <tbody>\n",
       "    <tr>\n",
       "      <th>0</th>\n",
       "      <td>1</td>\n",
       "      <td>60</td>\n",
       "      <td>65.0</td>\n",
       "      <td>8450</td>\n",
       "      <td>7</td>\n",
       "      <td>5</td>\n",
       "      <td>2003</td>\n",
       "      <td>2003</td>\n",
       "      <td>196.0</td>\n",
       "      <td>706</td>\n",
       "      <td>...</td>\n",
       "      <td>0</td>\n",
       "      <td>0</td>\n",
       "      <td>0</td>\n",
       "      <td>0</td>\n",
       "      <td>1</td>\n",
       "      <td>0</td>\n",
       "      <td>0</td>\n",
       "      <td>0</td>\n",
       "      <td>0</td>\n",
       "      <td>0</td>\n",
       "    </tr>\n",
       "    <tr>\n",
       "      <th>1</th>\n",
       "      <td>2</td>\n",
       "      <td>20</td>\n",
       "      <td>80.0</td>\n",
       "      <td>9600</td>\n",
       "      <td>6</td>\n",
       "      <td>8</td>\n",
       "      <td>1976</td>\n",
       "      <td>1976</td>\n",
       "      <td>0.0</td>\n",
       "      <td>978</td>\n",
       "      <td>...</td>\n",
       "      <td>0</td>\n",
       "      <td>0</td>\n",
       "      <td>0</td>\n",
       "      <td>0</td>\n",
       "      <td>1</td>\n",
       "      <td>0</td>\n",
       "      <td>0</td>\n",
       "      <td>0</td>\n",
       "      <td>0</td>\n",
       "      <td>0</td>\n",
       "    </tr>\n",
       "    <tr>\n",
       "      <th>2</th>\n",
       "      <td>3</td>\n",
       "      <td>60</td>\n",
       "      <td>68.0</td>\n",
       "      <td>11250</td>\n",
       "      <td>7</td>\n",
       "      <td>5</td>\n",
       "      <td>2001</td>\n",
       "      <td>2002</td>\n",
       "      <td>162.0</td>\n",
       "      <td>486</td>\n",
       "      <td>...</td>\n",
       "      <td>0</td>\n",
       "      <td>0</td>\n",
       "      <td>0</td>\n",
       "      <td>0</td>\n",
       "      <td>1</td>\n",
       "      <td>0</td>\n",
       "      <td>0</td>\n",
       "      <td>0</td>\n",
       "      <td>0</td>\n",
       "      <td>0</td>\n",
       "    </tr>\n",
       "    <tr>\n",
       "      <th>3</th>\n",
       "      <td>4</td>\n",
       "      <td>70</td>\n",
       "      <td>60.0</td>\n",
       "      <td>9550</td>\n",
       "      <td>7</td>\n",
       "      <td>5</td>\n",
       "      <td>1915</td>\n",
       "      <td>1970</td>\n",
       "      <td>0.0</td>\n",
       "      <td>216</td>\n",
       "      <td>...</td>\n",
       "      <td>0</td>\n",
       "      <td>0</td>\n",
       "      <td>0</td>\n",
       "      <td>0</td>\n",
       "      <td>0</td>\n",
       "      <td>0</td>\n",
       "      <td>1</td>\n",
       "      <td>0</td>\n",
       "      <td>0</td>\n",
       "      <td>0</td>\n",
       "    </tr>\n",
       "    <tr>\n",
       "      <th>4</th>\n",
       "      <td>5</td>\n",
       "      <td>60</td>\n",
       "      <td>84.0</td>\n",
       "      <td>14260</td>\n",
       "      <td>8</td>\n",
       "      <td>5</td>\n",
       "      <td>2000</td>\n",
       "      <td>2000</td>\n",
       "      <td>350.0</td>\n",
       "      <td>655</td>\n",
       "      <td>...</td>\n",
       "      <td>0</td>\n",
       "      <td>0</td>\n",
       "      <td>0</td>\n",
       "      <td>0</td>\n",
       "      <td>1</td>\n",
       "      <td>0</td>\n",
       "      <td>0</td>\n",
       "      <td>0</td>\n",
       "      <td>0</td>\n",
       "      <td>0</td>\n",
       "    </tr>\n",
       "  </tbody>\n",
       "</table>\n",
       "<p>5 rows × 284 columns</p>\n",
       "</div>"
      ],
      "text/plain": [
       "   Id  MSSubClass  LotFrontage  LotArea  OverallQual  OverallCond  YearBuilt  \\\n",
       "0   1          60         65.0     8450            7            5       2003   \n",
       "1   2          20         80.0     9600            6            8       1976   \n",
       "2   3          60         68.0    11250            7            5       2001   \n",
       "3   4          70         60.0     9550            7            5       1915   \n",
       "4   5          60         84.0    14260            8            5       2000   \n",
       "\n",
       "   YearRemodAdd  MasVnrArea  BsmtFinSF1  ...  SaleType_ConLw  SaleType_CWD  \\\n",
       "0          2003       196.0         706  ...               0             0   \n",
       "1          1976         0.0         978  ...               0             0   \n",
       "2          2002       162.0         486  ...               0             0   \n",
       "3          1970         0.0         216  ...               0             0   \n",
       "4          2000       350.0         655  ...               0             0   \n",
       "\n",
       "   SaleType_Oth  SaleType_Con  SaleCondition_Normal  SaleCondition_Partial  \\\n",
       "0             0             0                     1                      0   \n",
       "1             0             0                     1                      0   \n",
       "2             0             0                     1                      0   \n",
       "3             0             0                     0                      0   \n",
       "4             0             0                     1                      0   \n",
       "\n",
       "   SaleCondition_Abnorml  SaleCondition_Family  SaleCondition_Alloca  \\\n",
       "0                      0                     0                     0   \n",
       "1                      0                     0                     0   \n",
       "2                      0                     0                     0   \n",
       "3                      1                     0                     0   \n",
       "4                      0                     0                     0   \n",
       "\n",
       "   SaleCondition_AdjLand  \n",
       "0                      0  \n",
       "1                      0  \n",
       "2                      0  \n",
       "3                      0  \n",
       "4                      0  \n",
       "\n",
       "[5 rows x 284 columns]"
      ]
     },
     "execution_count": 7,
     "metadata": {},
     "output_type": "execute_result"
    }
   ],
   "source": [
    "# for all categorical variables we selected\n",
    "import numpy as np\n",
    "def top_x(df2,feature_list):\n",
    "    \n",
    "    for featr in feature_list:\n",
    "        #df2[featr].value_counts().sort_values(ascending=False).head(20)\n",
    "        top_x_labels = [x for x in df2[featr].value_counts().sort_values(ascending=False).head(20).index]\n",
    "        for label in top_x_labels:\n",
    "            df2[featr+'_'+label] = np.where(df2[featr]==label,1,0)\n",
    "            # read the data again\n",
    "            #data = california_df[california_cat]\n",
    "    return df2\n",
    "        \n",
    "\n",
    "#encode Nighborhood into the 10 most frequent categories\n",
    "data = top_x(california_df,list(california_cat))\n",
    "california_n_cat = data.select_dtypes(include='O').keys()\n",
    "print(len(data.columns), len(california_df.columns), len(california_n_cat))\n",
    "\n",
    "\n",
    "data = data.drop(columns = list(california_cat))\n",
    "# display data\n",
    "data.head()\n"
   ]
  },
  {
   "cell_type": "code",
   "execution_count": 8,
   "id": "1c7dff52",
   "metadata": {},
   "outputs": [
    {
     "name": "stdout",
     "output_type": "stream",
     "text": [
      "284 Index(['Id', 'MSSubClass', 'LotFrontage', 'LotArea', 'OverallQual',\n",
      "       'OverallCond', 'YearBuilt', 'YearRemodAdd', 'MasVnrArea', 'BsmtFinSF1',\n",
      "       ...\n",
      "       'SaleType_ConLw', 'SaleType_CWD', 'SaleType_Oth', 'SaleType_Con',\n",
      "       'SaleCondition_Normal', 'SaleCondition_Partial',\n",
      "       'SaleCondition_Abnorml', 'SaleCondition_Family', 'SaleCondition_Alloca',\n",
      "       'SaleCondition_AdjLand'],\n",
      "      dtype='object', length=284)\n"
     ]
    },
    {
     "data": {
      "text/plain": [
       "0       208500\n",
       "1       181500\n",
       "2       223500\n",
       "3       140000\n",
       "4       250000\n",
       "         ...  \n",
       "1455    175000\n",
       "1456    210000\n",
       "1457    266500\n",
       "1458    142125\n",
       "1459    147500\n",
       "Name: SalePrice, Length: 1460, dtype: int64"
      ]
     },
     "execution_count": 8,
     "metadata": {},
     "output_type": "execute_result"
    }
   ],
   "source": [
    "print(len(data.columns), data.columns)\n",
    "california.target"
   ]
  },
  {
   "cell_type": "code",
   "execution_count": 9,
   "id": "4b3f52b5",
   "metadata": {},
   "outputs": [
    {
     "data": {
      "text/html": [
       "<div>\n",
       "<style scoped>\n",
       "    .dataframe tbody tr th:only-of-type {\n",
       "        vertical-align: middle;\n",
       "    }\n",
       "\n",
       "    .dataframe tbody tr th {\n",
       "        vertical-align: top;\n",
       "    }\n",
       "\n",
       "    .dataframe thead th {\n",
       "        text-align: right;\n",
       "    }\n",
       "</style>\n",
       "<table border=\"1\" class=\"dataframe\">\n",
       "  <thead>\n",
       "    <tr style=\"text-align: right;\">\n",
       "      <th></th>\n",
       "      <th>SalePrice</th>\n",
       "    </tr>\n",
       "  </thead>\n",
       "  <tbody>\n",
       "    <tr>\n",
       "      <th>0</th>\n",
       "      <td>208500</td>\n",
       "    </tr>\n",
       "    <tr>\n",
       "      <th>1</th>\n",
       "      <td>181500</td>\n",
       "    </tr>\n",
       "    <tr>\n",
       "      <th>2</th>\n",
       "      <td>223500</td>\n",
       "    </tr>\n",
       "    <tr>\n",
       "      <th>3</th>\n",
       "      <td>140000</td>\n",
       "    </tr>\n",
       "    <tr>\n",
       "      <th>4</th>\n",
       "      <td>250000</td>\n",
       "    </tr>\n",
       "  </tbody>\n",
       "</table>\n",
       "</div>"
      ],
      "text/plain": [
       "   SalePrice\n",
       "0     208500\n",
       "1     181500\n",
       "2     223500\n",
       "3     140000\n",
       "4     250000"
      ]
     },
     "execution_count": 9,
     "metadata": {},
     "output_type": "execute_result"
    }
   ],
   "source": [
    "df_target = pd.DataFrame(california.target)\n",
    "df_target.head(5)"
   ]
  },
  {
   "cell_type": "markdown",
   "id": "02a5cc1c",
   "metadata": {},
   "source": [
    "### Here we try to group the sales volume to 10 groups , as we have a classification problem and trying to predict the sales group"
   ]
  },
  {
   "cell_type": "code",
   "execution_count": 11,
   "id": "f5658f18",
   "metadata": {},
   "outputs": [
    {
     "data": {
      "text/html": [
       "<div>\n",
       "<style scoped>\n",
       "    .dataframe tbody tr th:only-of-type {\n",
       "        vertical-align: middle;\n",
       "    }\n",
       "\n",
       "    .dataframe tbody tr th {\n",
       "        vertical-align: top;\n",
       "    }\n",
       "\n",
       "    .dataframe thead th {\n",
       "        text-align: right;\n",
       "    }\n",
       "</style>\n",
       "<table border=\"1\" class=\"dataframe\">\n",
       "  <thead>\n",
       "    <tr style=\"text-align: right;\">\n",
       "      <th></th>\n",
       "      <th>SalePrice</th>\n",
       "      <th>sales_group</th>\n",
       "    </tr>\n",
       "  </thead>\n",
       "  <tbody>\n",
       "    <tr>\n",
       "      <th>0</th>\n",
       "      <td>208500</td>\n",
       "      <td>(178920.0, 250930.0]</td>\n",
       "    </tr>\n",
       "    <tr>\n",
       "      <th>1</th>\n",
       "      <td>181500</td>\n",
       "      <td>(178920.0, 250930.0]</td>\n",
       "    </tr>\n",
       "    <tr>\n",
       "      <th>2</th>\n",
       "      <td>223500</td>\n",
       "      <td>(178920.0, 250930.0]</td>\n",
       "    </tr>\n",
       "    <tr>\n",
       "      <th>3</th>\n",
       "      <td>140000</td>\n",
       "      <td>(106910.0, 178920.0]</td>\n",
       "    </tr>\n",
       "    <tr>\n",
       "      <th>4</th>\n",
       "      <td>250000</td>\n",
       "      <td>(178920.0, 250930.0]</td>\n",
       "    </tr>\n",
       "  </tbody>\n",
       "</table>\n",
       "</div>"
      ],
      "text/plain": [
       "   SalePrice           sales_group\n",
       "0     208500  (178920.0, 250930.0]\n",
       "1     181500  (178920.0, 250930.0]\n",
       "2     223500  (178920.0, 250930.0]\n",
       "3     140000  (106910.0, 178920.0]\n",
       "4     250000  (178920.0, 250930.0]"
      ]
     },
     "execution_count": 11,
     "metadata": {},
     "output_type": "execute_result"
    }
   ],
   "source": [
    "df_target['sales_group'] = pd.cut(df_target['SalePrice'], bins=10)\n",
    "df_target.head(5)"
   ]
  },
  {
   "cell_type": "code",
   "execution_count": 12,
   "id": "1baffceb",
   "metadata": {},
   "outputs": [
    {
     "data": {
      "text/plain": [
       "([(178920.0, 250930.0], (106910.0, 178920.0], (250930.0, 322940.0], (322940.0, 394950.0], (34179.9, 106910.0], (394950.0, 466960.0], (466960.0, 538970.0], (538970.0, 610980.0], (682990.0, 755000.0], (610980.0, 682990.0]]\n",
       " Categories (10, interval[float64, right]): [(34179.9, 106910.0] < (106910.0, 178920.0] < (178920.0, 250930.0] < (250930.0, 322940.0] ... (466960.0, 538970.0] < (538970.0, 610980.0] < (610980.0, 682990.0] < (682990.0, 755000.0]],\n",
       " 10)"
      ]
     },
     "execution_count": 12,
     "metadata": {},
     "output_type": "execute_result"
    }
   ],
   "source": [
    "uniq_sales_grp = df_target['sales_group'].unique()\n",
    "uniq_sales_grp, len(uniq_sales_grp)"
   ]
  },
  {
   "cell_type": "code",
   "execution_count": 13,
   "id": "96321709",
   "metadata": {},
   "outputs": [
    {
     "data": {
      "text/html": [
       "<div>\n",
       "<style scoped>\n",
       "    .dataframe tbody tr th:only-of-type {\n",
       "        vertical-align: middle;\n",
       "    }\n",
       "\n",
       "    .dataframe tbody tr th {\n",
       "        vertical-align: top;\n",
       "    }\n",
       "\n",
       "    .dataframe thead th {\n",
       "        text-align: right;\n",
       "    }\n",
       "</style>\n",
       "<table border=\"1\" class=\"dataframe\">\n",
       "  <thead>\n",
       "    <tr style=\"text-align: right;\">\n",
       "      <th></th>\n",
       "      <th>SalePrice</th>\n",
       "      <th>sales_group</th>\n",
       "    </tr>\n",
       "  </thead>\n",
       "  <tbody>\n",
       "    <tr>\n",
       "      <th>0</th>\n",
       "      <td>208500</td>\n",
       "      <td>0</td>\n",
       "    </tr>\n",
       "    <tr>\n",
       "      <th>1</th>\n",
       "      <td>181500</td>\n",
       "      <td>0</td>\n",
       "    </tr>\n",
       "    <tr>\n",
       "      <th>2</th>\n",
       "      <td>223500</td>\n",
       "      <td>0</td>\n",
       "    </tr>\n",
       "    <tr>\n",
       "      <th>3</th>\n",
       "      <td>140000</td>\n",
       "      <td>1</td>\n",
       "    </tr>\n",
       "    <tr>\n",
       "      <th>4</th>\n",
       "      <td>250000</td>\n",
       "      <td>0</td>\n",
       "    </tr>\n",
       "  </tbody>\n",
       "</table>\n",
       "</div>"
      ],
      "text/plain": [
       "   SalePrice  sales_group\n",
       "0     208500            0\n",
       "1     181500            0\n",
       "2     223500            0\n",
       "3     140000            1\n",
       "4     250000            0"
      ]
     },
     "execution_count": 13,
     "metadata": {},
     "output_type": "execute_result"
    }
   ],
   "source": [
    "df_target['sales_group'].replace(to_replace=uniq_sales_grp, value=[0, 1, 2, 3, 4, 5, 6, 7, 8 , 9], inplace=True)\n",
    "df_target['sales_group'] = df_target['sales_group'].astype(int)\n",
    "df_target.head(5)"
   ]
  },
  {
   "cell_type": "markdown",
   "id": "56b66e3c",
   "metadata": {},
   "source": [
    "# Build XGBoost model"
   ]
  },
  {
   "cell_type": "code",
   "execution_count": 14,
   "id": "f45594fd",
   "metadata": {},
   "outputs": [],
   "source": [
    "X_train, X_test, y_train, y_test = train_test_split(data, df_target['sales_group'], test_size=0.4, random_state=RANDOM_SEED)"
   ]
  },
  {
   "cell_type": "code",
   "execution_count": 15,
   "id": "ad06c38b",
   "metadata": {},
   "outputs": [
    {
     "data": {
      "text/plain": [
       "(array([0, 1, 2, 3, 4, 5, 6, 7, 8, 9]), array([0, 1, 2, 3, 4, 5, 6, 7, 8, 9]))"
      ]
     },
     "execution_count": 15,
     "metadata": {},
     "output_type": "execute_result"
    }
   ],
   "source": [
    "np.unique(y_train), np.unique(y_test)"
   ]
  },
  {
   "cell_type": "code",
   "execution_count": 16,
   "id": "a499c0a8",
   "metadata": {},
   "outputs": [],
   "source": [
    "clf = XGBClassifier(n_estimators=1000,\n",
    "                    booster=\"gbtree\",\n",
    "                    learning_rate=0.05,\n",
    "                    max_depth=6,\n",
    "                    use_label_encoder=False,\n",
    "                    seed=2021)"
   ]
  },
  {
   "cell_type": "code",
   "execution_count": 17,
   "id": "1ec3d641",
   "metadata": {},
   "outputs": [
    {
     "name": "stdout",
     "output_type": "stream",
     "text": [
      "[23:16:30] WARNING: /Users/travis/build/dmlc/xgboost/src/learner.cc:1095: Starting in XGBoost 1.3.0, the default evaluation metric used with the objective 'multi:softprob' was changed from 'merror' to 'mlogloss'. Explicitly set eval_metric if you'd like to restore the old behavior.\n",
      "[0]\tvalidation_0-mlogloss:2.17432\n"
     ]
    },
    {
     "name": "stderr",
     "output_type": "stream",
     "text": [
      "/opt/anaconda3/lib/python3.8/site-packages/xgboost/data.py:208: FutureWarning: pandas.Int64Index is deprecated and will be removed from pandas in a future version. Use pandas.Index with the appropriate dtype instead.\n",
      "  from pandas import MultiIndex, Int64Index\n"
     ]
    },
    {
     "name": "stdout",
     "output_type": "stream",
     "text": [
      "[10]\tvalidation_0-mlogloss:1.48125\n",
      "[20]\tvalidation_0-mlogloss:1.14661\n",
      "[30]\tvalidation_0-mlogloss:0.94107\n",
      "[40]\tvalidation_0-mlogloss:0.81484\n",
      "[50]\tvalidation_0-mlogloss:0.73566\n",
      "[60]\tvalidation_0-mlogloss:0.68405\n",
      "[70]\tvalidation_0-mlogloss:0.65094\n",
      "[80]\tvalidation_0-mlogloss:0.62726\n",
      "[90]\tvalidation_0-mlogloss:0.61370\n",
      "[100]\tvalidation_0-mlogloss:0.60440\n",
      "[110]\tvalidation_0-mlogloss:0.60018\n",
      "[120]\tvalidation_0-mlogloss:0.59726\n",
      "[130]\tvalidation_0-mlogloss:0.59583\n",
      "[140]\tvalidation_0-mlogloss:0.59645\n",
      "[150]\tvalidation_0-mlogloss:0.59650\n",
      "[155]\tvalidation_0-mlogloss:0.59717\n"
     ]
    },
    {
     "data": {
      "text/html": [
       "<style>#sk-container-id-1 {color: black;background-color: white;}#sk-container-id-1 pre{padding: 0;}#sk-container-id-1 div.sk-toggleable {background-color: white;}#sk-container-id-1 label.sk-toggleable__label {cursor: pointer;display: block;width: 100%;margin-bottom: 0;padding: 0.3em;box-sizing: border-box;text-align: center;}#sk-container-id-1 label.sk-toggleable__label-arrow:before {content: \"▸\";float: left;margin-right: 0.25em;color: #696969;}#sk-container-id-1 label.sk-toggleable__label-arrow:hover:before {color: black;}#sk-container-id-1 div.sk-estimator:hover label.sk-toggleable__label-arrow:before {color: black;}#sk-container-id-1 div.sk-toggleable__content {max-height: 0;max-width: 0;overflow: hidden;text-align: left;background-color: #f0f8ff;}#sk-container-id-1 div.sk-toggleable__content pre {margin: 0.2em;color: black;border-radius: 0.25em;background-color: #f0f8ff;}#sk-container-id-1 input.sk-toggleable__control:checked~div.sk-toggleable__content {max-height: 200px;max-width: 100%;overflow: auto;}#sk-container-id-1 input.sk-toggleable__control:checked~label.sk-toggleable__label-arrow:before {content: \"▾\";}#sk-container-id-1 div.sk-estimator input.sk-toggleable__control:checked~label.sk-toggleable__label {background-color: #d4ebff;}#sk-container-id-1 div.sk-label input.sk-toggleable__control:checked~label.sk-toggleable__label {background-color: #d4ebff;}#sk-container-id-1 input.sk-hidden--visually {border: 0;clip: rect(1px 1px 1px 1px);clip: rect(1px, 1px, 1px, 1px);height: 1px;margin: -1px;overflow: hidden;padding: 0;position: absolute;width: 1px;}#sk-container-id-1 div.sk-estimator {font-family: monospace;background-color: #f0f8ff;border: 1px dotted black;border-radius: 0.25em;box-sizing: border-box;margin-bottom: 0.5em;}#sk-container-id-1 div.sk-estimator:hover {background-color: #d4ebff;}#sk-container-id-1 div.sk-parallel-item::after {content: \"\";width: 100%;border-bottom: 1px solid gray;flex-grow: 1;}#sk-container-id-1 div.sk-label:hover label.sk-toggleable__label {background-color: #d4ebff;}#sk-container-id-1 div.sk-serial::before {content: \"\";position: absolute;border-left: 1px solid gray;box-sizing: border-box;top: 0;bottom: 0;left: 50%;z-index: 0;}#sk-container-id-1 div.sk-serial {display: flex;flex-direction: column;align-items: center;background-color: white;padding-right: 0.2em;padding-left: 0.2em;position: relative;}#sk-container-id-1 div.sk-item {position: relative;z-index: 1;}#sk-container-id-1 div.sk-parallel {display: flex;align-items: stretch;justify-content: center;background-color: white;position: relative;}#sk-container-id-1 div.sk-item::before, #sk-container-id-1 div.sk-parallel-item::before {content: \"\";position: absolute;border-left: 1px solid gray;box-sizing: border-box;top: 0;bottom: 0;left: 50%;z-index: -1;}#sk-container-id-1 div.sk-parallel-item {display: flex;flex-direction: column;z-index: 1;position: relative;background-color: white;}#sk-container-id-1 div.sk-parallel-item:first-child::after {align-self: flex-end;width: 50%;}#sk-container-id-1 div.sk-parallel-item:last-child::after {align-self: flex-start;width: 50%;}#sk-container-id-1 div.sk-parallel-item:only-child::after {width: 0;}#sk-container-id-1 div.sk-dashed-wrapped {border: 1px dashed gray;margin: 0 0.4em 0.5em 0.4em;box-sizing: border-box;padding-bottom: 0.4em;background-color: white;}#sk-container-id-1 div.sk-label label {font-family: monospace;font-weight: bold;display: inline-block;line-height: 1.2em;}#sk-container-id-1 div.sk-label-container {text-align: center;}#sk-container-id-1 div.sk-container {/* jupyter's `normalize.less` sets `[hidden] { display: none; }` but bootstrap.min.css set `[hidden] { display: none !important; }` so we also need the `!important` here to be able to override the default hidden behavior on the sphinx rendered scikit-learn.org. See: https://github.com/scikit-learn/scikit-learn/issues/21755 */display: inline-block !important;position: relative;}#sk-container-id-1 div.sk-text-repr-fallback {display: none;}</style><div id=\"sk-container-id-1\" class=\"sk-top-container\"><div class=\"sk-text-repr-fallback\"><pre>XGBClassifier(base_score=0.5, booster=&#x27;gbtree&#x27;, colsample_bylevel=1,\n",
       "              colsample_bynode=1, colsample_bytree=1, gamma=0, gpu_id=-1,\n",
       "              importance_type=&#x27;gain&#x27;, interaction_constraints=&#x27;&#x27;,\n",
       "              learning_rate=0.05, max_delta_step=0, max_depth=6,\n",
       "              min_child_weight=1, missing=nan, monotone_constraints=&#x27;()&#x27;,\n",
       "              n_estimators=1000, n_jobs=12, num_parallel_tree=1,\n",
       "              objective=&#x27;multi:softprob&#x27;, random_state=2021, reg_alpha=0,\n",
       "              reg_lambda=1, scale_pos_weight=None, seed=2021, subsample=1,\n",
       "              tree_method=&#x27;exact&#x27;, use_label_encoder=False,\n",
       "              validate_parameters=1, verbosity=None)</pre><b>In a Jupyter environment, please rerun this cell to show the HTML representation or trust the notebook. <br />On GitHub, the HTML representation is unable to render, please try loading this page with nbviewer.org.</b></div><div class=\"sk-container\" hidden><div class=\"sk-item\"><div class=\"sk-estimator sk-toggleable\"><input class=\"sk-toggleable__control sk-hidden--visually\" id=\"sk-estimator-id-1\" type=\"checkbox\" checked><label for=\"sk-estimator-id-1\" class=\"sk-toggleable__label sk-toggleable__label-arrow\">XGBClassifier</label><div class=\"sk-toggleable__content\"><pre>XGBClassifier(base_score=0.5, booster=&#x27;gbtree&#x27;, colsample_bylevel=1,\n",
       "              colsample_bynode=1, colsample_bytree=1, gamma=0, gpu_id=-1,\n",
       "              importance_type=&#x27;gain&#x27;, interaction_constraints=&#x27;&#x27;,\n",
       "              learning_rate=0.05, max_delta_step=0, max_depth=6,\n",
       "              min_child_weight=1, missing=nan, monotone_constraints=&#x27;()&#x27;,\n",
       "              n_estimators=1000, n_jobs=12, num_parallel_tree=1,\n",
       "              objective=&#x27;multi:softprob&#x27;, random_state=2021, reg_alpha=0,\n",
       "              reg_lambda=1, scale_pos_weight=None, seed=2021, subsample=1,\n",
       "              tree_method=&#x27;exact&#x27;, use_label_encoder=False,\n",
       "              validate_parameters=1, verbosity=None)</pre></div></div></div></div></div>"
      ],
      "text/plain": [
       "XGBClassifier(base_score=0.5, booster='gbtree', colsample_bylevel=1,\n",
       "              colsample_bynode=1, colsample_bytree=1, gamma=0, gpu_id=-1,\n",
       "              importance_type='gain', interaction_constraints='',\n",
       "              learning_rate=0.05, max_delta_step=0, max_depth=6,\n",
       "              min_child_weight=1, missing=nan, monotone_constraints='()',\n",
       "              n_estimators=1000, n_jobs=12, num_parallel_tree=1,\n",
       "              objective='multi:softprob', random_state=2021, reg_alpha=0,\n",
       "              reg_lambda=1, scale_pos_weight=None, seed=2021, subsample=1,\n",
       "              tree_method='exact', use_label_encoder=False,\n",
       "              validate_parameters=1, verbosity=None)"
      ]
     },
     "execution_count": 17,
     "metadata": {},
     "output_type": "execute_result"
    }
   ],
   "source": [
    "clf.fit(X=X_train, y=y_train, eval_set=[(X_test, y_test)], early_stopping_rounds=20, verbose=10)"
   ]
  },
  {
   "cell_type": "markdown",
   "id": "6a5342bf",
   "metadata": {},
   "source": [
    "# Analyze data drift with ModelDriftExplainer\n",
    "\n",
    "The experiment is done with a random split so we should not detect a data drift"
   ]
  },
  {
   "cell_type": "markdown",
   "id": "5c50ea2f",
   "metadata": {},
   "source": [
    "### prediction_type == \"proba\""
   ]
  },
  {
   "cell_type": "code",
   "execution_count": 18,
   "id": "ac8219e6",
   "metadata": {},
   "outputs": [],
   "source": [
    "output_drift_detector = OutputDriftDetector(task='classification', prediction_type='proba')"
   ]
  },
  {
   "cell_type": "code",
   "execution_count": 19,
   "id": "0edeae3f",
   "metadata": {},
   "outputs": [],
   "source": [
    "output_drift_detector.fit(clf.predict_proba(X_train), clf.predict_proba(X_test), y1=y_train, y2=y_test)"
   ]
  },
  {
   "cell_type": "code",
   "execution_count": 20,
   "id": "a02cd257",
   "metadata": {},
   "outputs": [
    {
     "data": {
      "image/png": "[encoded data removed]",
      "text/plain": [
       "<Figure size 504x360 with 1 Axes>"
      ]
     },
     "metadata": {
      "needs_background": "light"
     },
     "output_type": "display_data"
    },
    {
     "data": {
      "image/png": "[encoded data removed]",
      "text/plain": [
       "<Figure size 504x360 with 1 Axes>"
      ]
     },
     "metadata": {
      "needs_background": "light"
     },
     "output_type": "display_data"
    },
    {
     "data": {
      "image/png": "[encoded data removed]",
      "text/plain": [
       "<Figure size 504x360 with 1 Axes>"
      ]
     },
     "metadata": {
      "needs_background": "light"
     },
     "output_type": "display_data"
    },
    {
     "data": {
      "image/png": "[encoded data removed]",
      "text/plain": [
       "<Figure size 504x360 with 1 Axes>"
      ]
     },
     "metadata": {
      "needs_background": "light"
     },
     "output_type": "display_data"
    },
    {
     "data": {
      "image/png": "[encoded data removed]",
      "text/plain": [
       "<Figure size 504x360 with 1 Axes>"
      ]
     },
     "metadata": {
      "needs_background": "light"
     },
     "output_type": "display_data"
    },
    {
     "data": {
      "image/png": "[encoded data removed]",
      "text/plain": [
       "<Figure size 504x360 with 1 Axes>"
      ]
     },
     "metadata": {
      "needs_background": "light"
     },
     "output_type": "display_data"
    },
    {
     "data": {
      "image/png": "[encoded data removed]",
      "text/plain": [
       "<Figure size 504x360 with 1 Axes>"
      ]
     },
     "metadata": {
      "needs_background": "light"
     },
     "output_type": "display_data"
    },
    {
     "data": {
      "image/png": "[encoded data removed]",
      "text/plain": [
       "<Figure size 504x360 with 1 Axes>"
      ]
     },
     "metadata": {
      "needs_background": "light"
     },
     "output_type": "display_data"
    },
    {
     "data": {
      "image/png": "[encoded data removed]",
      "text/plain": [
       "<Figure size 504x360 with 1 Axes>"
      ]
     },
     "metadata": {
      "needs_background": "light"
     },
     "output_type": "display_data"
    },
    {
     "data": {
      "image/png": "[encoded data removed]",
      "text/plain": [
       "<Figure size 504x360 with 1 Axes>"
      ]
     },
     "metadata": {
      "needs_background": "light"
     },
     "output_type": "display_data"
    },
    {
     "data": {
      "text/plain": [
       "[DriftMetricsNum(mean_difference=-0.024537734833578434, wasserstein=0.05775523385436744, ks_test=BaseStatisticalTestResult(statistic=0.12157534246575342, pvalue=5.882660856555159e-05)),\n",
       " DriftMetricsNum(mean_difference=0.04619456663276983, wasserstein=0.07493298196926985, ks_test=BaseStatisticalTestResult(statistic=0.15639269406392695, pvalue=6.297852304043064e-08)),\n",
       " DriftMetricsNum(mean_difference=0.0001358837307883637, wasserstein=0.028937219798784986, ks_test=BaseStatisticalTestResult(statistic=0.12614155251141554, pvalue=2.6473933937820454e-05)),\n",
       " DriftMetricsNum(mean_difference=-0.008010920220857098, wasserstein=0.020989977079848964, ks_test=BaseStatisticalTestResult(statistic=0.1780821917808219, pvalue=3.690000366637743e-10)),\n",
       " DriftMetricsNum(mean_difference=-0.0076545115789402735, wasserstein=0.03173780711670727, ks_test=BaseStatisticalTestResult(statistic=0.22031963470319635, pvalue=2.3403279955113446e-15)),\n",
       " DriftMetricsNum(mean_difference=-0.0075804896685722715, wasserstein=0.01173072703379777, ks_test=BaseStatisticalTestResult(statistic=0.22031963470319635, pvalue=2.3403279955113446e-15)),\n",
       " DriftMetricsNum(mean_difference=-0.001012812624725335, wasserstein=0.0038936335081686552, ks_test=BaseStatisticalTestResult(statistic=0.2671232876712329, pvalue=1.8835965178252113e-22)),\n",
       " DriftMetricsNum(mean_difference=0.0009201842378936576, wasserstein=0.0024731835126733364, ks_test=BaseStatisticalTestResult(statistic=0.3025114155251142, pvalue=9.102060223728267e-29)),\n",
       " DriftMetricsNum(mean_difference=0.0007373230619787674, wasserstein=0.0020533709947102934, ks_test=BaseStatisticalTestResult(statistic=0.2990867579908676, pvalue=4.043322897014201e-28)),\n",
       " DriftMetricsNum(mean_difference=0.0008085102606556786, wasserstein=0.0018296228439271252, ks_test=BaseStatisticalTestResult(statistic=0.2796803652968037, pvalue=1.3452120542260717e-24))]"
      ]
     },
     "execution_count": 20,
     "metadata": {},
     "output_type": "execute_result"
    }
   ],
   "source": [
    "# no apparent drift in distributions of log-softmax predictions\n",
    "output_drift_detector.plot_prediction_drift()\n",
    "output_drift_detector.get_prediction_drift()"
   ]
  },
  {
   "cell_type": "code",
   "execution_count": 21,
   "id": "4b842084",
   "metadata": {},
   "outputs": [
    {
     "data": {
      "image/png": "[encoded data removed]",
      "text/plain": [
       "<Figure size 504x360 with 1 Axes>"
      ]
     },
     "metadata": {
      "needs_background": "light"
     },
     "output_type": "display_data"
    },
    {
     "data": {
      "text/plain": [
       "DriftMetricsCat(wasserstein=0.03995433789954338, jensen_shannon=0.04512116433219914, chi2_test=Chi2TestResult(statistic=5.331605404245089, pvalue=0.8044965632012276, dof=9, contingency_table=        0      1     2     3     4     5    6    7    8    9\n",
       "X1  232.0  427.0  77.0  32.0  86.0  15.0  3.0  2.0  1.0  1.0\n",
       "X2  141.0  296.0  58.0  19.0  62.0   4.0  1.0  1.0  1.0  1.0))"
      ]
     },
     "execution_count": 21,
     "metadata": {},
     "output_type": "execute_result"
    }
   ],
   "source": [
    "output_drift_detector.plot_target_drift()\n",
    "output_drift_detector.get_target_drift()"
   ]
  },
  {
   "cell_type": "code",
   "execution_count": 22,
   "id": "169381ee",
   "metadata": {},
   "outputs": [
    {
     "data": {
      "text/plain": [
       "PerformanceMetricsDrift(dataset1=ClassificationMetrics(accuracy=1.0, log_loss=0.08016032902591169), dataset2=ClassificationMetrics(accuracy=0.7688356164383562, log_loss=0.5957360187256303))"
      ]
     },
     "execution_count": 22,
     "metadata": {},
     "output_type": "execute_result"
    }
   ],
   "source": [
    "output_drift_detector.get_performance_metrics_drift()"
   ]
  },
  {
   "cell_type": "code",
   "execution_count": 23,
   "id": "4f445d00",
   "metadata": {},
   "outputs": [
    {
     "data": {
      "text/plain": [
       "['0', '1', '2', '3', '4', '5', '6', '7', '8', '9']"
      ]
     },
     "execution_count": 23,
     "metadata": {},
     "output_type": "execute_result"
    }
   ],
   "source": [
    "output_drift_detector.class_names"
   ]
  },
  {
   "cell_type": "markdown",
   "id": "50faa37f",
   "metadata": {},
   "source": [
    "### prediction_type == \"raw\""
   ]
  },
  {
   "cell_type": "code",
   "execution_count": 24,
   "id": "52bd57f9",
   "metadata": {},
   "outputs": [],
   "source": [
    "output_drift_detector3 = OutputDriftDetector(task='classification', prediction_type='raw')"
   ]
  },
  {
   "cell_type": "code",
   "execution_count": 25,
   "id": "f1c2735f",
   "metadata": {},
   "outputs": [],
   "source": [
    "output_drift_detector3.fit(clf.predict(X_train, output_margin=True), clf.predict(X_test, output_margin=True),\n",
    "                           y1=y_train, y2=y_test)"
   ]
  },
  {
   "cell_type": "code",
   "execution_count": 26,
   "id": "993fd9ee",
   "metadata": {},
   "outputs": [
    {
     "data": {
      "image/png": "[encoded data removed]",
      "text/plain": [
       "<Figure size 504x360 with 1 Axes>"
      ]
     },
     "metadata": {
      "needs_background": "light"
     },
     "output_type": "display_data"
    },
    {
     "data": {
      "image/png": "[encoded data removed]",
      "text/plain": [
       "<Figure size 504x360 with 1 Axes>"
      ]
     },
     "metadata": {
      "needs_background": "light"
     },
     "output_type": "display_data"
    },
    {
     "data": {
      "image/png": "[encoded data removed]",
      "text/plain": [
       "<Figure size 504x360 with 1 Axes>"
      ]
     },
     "metadata": {
      "needs_background": "light"
     },
     "output_type": "display_data"
    },
    {
     "data": {
      "image/png": "[encoded data removed]",
      "text/plain": [
       "<Figure size 504x360 with 1 Axes>"
      ]
     },
     "metadata": {
      "needs_background": "light"
     },
     "output_type": "display_data"
    },
    {
     "data": {
      "image/png": "[encoded data removed]",
      "text/plain": [
       "<Figure size 504x360 with 1 Axes>"
      ]
     },
     "metadata": {
      "needs_background": "light"
     },
     "output_type": "display_data"
    },
    {
     "data": {
      "image/png": "[encoded data removed]",
      "text/plain": [
       "<Figure size 504x360 with 1 Axes>"
      ]
     },
     "metadata": {
      "needs_background": "light"
     },
     "output_type": "display_data"
    },
    {
     "data": {
      "image/png": "[encoded data removed]",
      "text/plain": [
       "<Figure size 504x360 with 1 Axes>"
      ]
     },
     "metadata": {
      "needs_background": "light"
     },
     "output_type": "display_data"
    },
    {
     "data": {
      "image/png": "[encoded data removed]",
      "text/plain": [
       "<Figure size 504x360 with 1 Axes>"
      ]
     },
     "metadata": {
      "needs_background": "light"
     },
     "output_type": "display_data"
    },
    {
     "data": {
      "image/png": "[encoded data removed]",
      "text/plain": [
       "<Figure size 504x360 with 1 Axes>"
      ]
     },
     "metadata": {
      "needs_background": "light"
     },
     "output_type": "display_data"
    },
    {
     "data": {
      "image/png": "[encoded data removed]",
      "text/plain": [
       "<Figure size 504x360 with 1 Axes>"
      ]
     },
     "metadata": {
      "needs_background": "light"
     },
     "output_type": "display_data"
    },
    {
     "data": {
      "text/plain": [
       "[DriftMetricsNum(mean_difference=-0.10034750223071548, wasserstein=0.27613457148021825, ks_test=BaseStatisticalTestResult(statistic=0.13527397260273974, pvalue=4.904773614294285e-06)),\n",
       " DriftMetricsNum(mean_difference=0.1531966243696199, wasserstein=0.3425022809464297, ks_test=BaseStatisticalTestResult(statistic=0.11929223744292237, pvalue=8.672055184111803e-05)),\n",
       " DriftMetricsNum(mean_difference=-0.10614862738041109, wasserstein=0.13136618076844916, ks_test=BaseStatisticalTestResult(statistic=0.0593607305936073, pvalue=0.1645678556422801)),\n",
       " DriftMetricsNum(mean_difference=-0.01097885799566578, wasserstein=0.09706013001975733, ks_test=BaseStatisticalTestResult(statistic=0.0319634703196347, pvalue=0.8585132242839074)),\n",
       " DriftMetricsNum(mean_difference=0.09325754457364943, wasserstein=0.27875638312897244, ks_test=BaseStatisticalTestResult(statistic=0.0639269406392694, pvalue=0.11069875516835764)),\n",
       " DriftMetricsNum(mean_difference=-0.04936948242133754, wasserstein=0.05233545872259497, ks_test=BaseStatisticalTestResult(statistic=0.039383561643835614, pvalue=0.6385129327319495)),\n",
       " DriftMetricsNum(mean_difference=-0.00640731371224712, wasserstein=0.02401637787756318, ks_test=BaseStatisticalTestResult(statistic=0.02968036529680365, pvalue=0.9107363066414458)),\n",
       " DriftMetricsNum(mean_difference=0.009147471582440225, wasserstein=0.012971659628972105, ks_test=BaseStatisticalTestResult(statistic=0.009703196347031963, pvalue=0.9999999999999931)),\n",
       " DriftMetricsNum(mean_difference=0.002904858525212717, wasserstein=0.0095202678891078, ks_test=BaseStatisticalTestResult(statistic=0.02968036529680365, pvalue=0.9107363066414458)),\n",
       " DriftMetricsNum(mean_difference=-0.02390310229503978, wasserstein=0.02631624335567696, ks_test=BaseStatisticalTestResult(statistic=0.032534246575342464, pvalue=0.843809564661666))]"
      ]
     },
     "execution_count": 26,
     "metadata": {},
     "output_type": "execute_result"
    }
   ],
   "source": [
    "# no apparent drift in distributions of log-softmax predictions\n",
    "output_drift_detector3.plot_prediction_drift()\n",
    "output_drift_detector3.get_prediction_drift()"
   ]
  },
  {
   "cell_type": "code",
   "execution_count": 27,
   "id": "85137423",
   "metadata": {},
   "outputs": [
    {
     "data": {
      "image/png": "[encoded data removed]",
      "text/plain": [
       "<Figure size 504x360 with 1 Axes>"
      ]
     },
     "metadata": {
      "needs_background": "light"
     },
     "output_type": "display_data"
    },
    {
     "data": {
      "text/plain": [
       "DriftMetricsCat(wasserstein=0.03995433789954338, jensen_shannon=0.04512116433219914, chi2_test=Chi2TestResult(statistic=5.331605404245089, pvalue=0.8044965632012276, dof=9, contingency_table=        0      1     2     3     4     5    6    7    8    9\n",
       "X1  232.0  427.0  77.0  32.0  86.0  15.0  3.0  2.0  1.0  1.0\n",
       "X2  141.0  296.0  58.0  19.0  62.0   4.0  1.0  1.0  1.0  1.0))"
      ]
     },
     "execution_count": 27,
     "metadata": {},
     "output_type": "execute_result"
    }
   ],
   "source": [
    "output_drift_detector3.plot_target_drift()\n",
    "output_drift_detector3.get_target_drift()"
   ]
  },
  {
   "cell_type": "code",
   "execution_count": 29,
   "id": "e2fc28de",
   "metadata": {},
   "outputs": [
    {
     "data": {
      "text/plain": [
       "PerformanceMetricsDrift(dataset1=ClassificationMetrics(accuracy=1.0, log_loss=0.08016032989710511), dataset2=ClassificationMetrics(accuracy=0.7688356164383562, log_loss=0.5957360204249839))"
      ]
     },
     "execution_count": 29,
     "metadata": {},
     "output_type": "execute_result"
    }
   ],
   "source": [
    "output_drift_detector3.get_performance_metrics_drift()"
   ]
  }
 ],
 "metadata": {
  "kernelspec": {
   "display_name": "Python 3",
   "language": "python",
   "name": "python3"
  },
  "language_info": {
   "codemirror_mode": {
    "name": "ipython",
    "version": 3
   },
   "file_extension": ".py",
   "mimetype": "text/x-python",
   "name": "python",
   "nbconvert_exporter": "python",
   "pygments_lexer": "ipython3",
   "version": "3.8.8"
  }
 },
 "nbformat": 4,
 "nbformat_minor": 5
}
