{
 "cells": [
  {
   "cell_type": "markdown",
   "id": "a0ee351b",
   "metadata": {},
   "source": [
    "In this example we learn about the relative drift importances that results in model drift. Here we use the model explainiabilty aspect of ML, available in CinnaMon library and its ModelDriftExplainer functionality.\n",
    "\n",
    "The experiment is done with a random split so we should not detect a data drift. We had run our experiments on Iris Dataset."
   ]
  },
  {
   "cell_type": "markdown",
   "id": "6f22f84d",
   "metadata": {},
   "source": [
    "#ModelDrift Explainer on CatBoost Classifier ML Model"
   ]
  },
  {
   "cell_type": "code",
   "execution_count": 1,
   "id": "c1030492",
   "metadata": {},
   "outputs": [],
   "source": [
    "import pandas as pd\n",
    "import numpy as np\n",
    "from sklearn import datasets\n",
    "from sklearn.model_selection import train_test_split\n",
    "from catboost import CatBoostClassifier\n",
    "\n",
    "from cinnamon.drift import ModelDriftExplainer"
   ]
  },
  {
   "cell_type": "markdown",
   "id": "8ba48022",
   "metadata": {},
   "source": [
    "# Iris Data"
   ]
  },
  {
   "cell_type": "code",
   "execution_count": 2,
   "id": "fbfd3480",
   "metadata": {},
   "outputs": [],
   "source": [
    "dataset = datasets.load_iris()"
   ]
  },
  {
   "cell_type": "code",
   "execution_count": 3,
   "id": "83c3aabd",
   "metadata": {},
   "outputs": [],
   "source": [
    "X = pd.DataFrame(dataset.data, columns = dataset.feature_names)\n",
    "y = dataset.target"
   ]
  },
  {
   "cell_type": "code",
   "execution_count": 4,
   "id": "7c97e08a",
   "metadata": {},
   "outputs": [
    {
     "data": {
      "text/html": [
       "<div>\n",
       "<style scoped>\n",
       "    .dataframe tbody tr th:only-of-type {\n",
       "        vertical-align: middle;\n",
       "    }\n",
       "\n",
       "    .dataframe tbody tr th {\n",
       "        vertical-align: top;\n",
       "    }\n",
       "\n",
       "    .dataframe thead th {\n",
       "        text-align: right;\n",
       "    }\n",
       "</style>\n",
       "<table border=\"1\" class=\"dataframe\">\n",
       "  <thead>\n",
       "    <tr style=\"text-align: right;\">\n",
       "      <th></th>\n",
       "      <th>sepal length (cm)</th>\n",
       "      <th>sepal width (cm)</th>\n",
       "      <th>petal length (cm)</th>\n",
       "      <th>petal width (cm)</th>\n",
       "    </tr>\n",
       "  </thead>\n",
       "  <tbody>\n",
       "    <tr>\n",
       "      <th>0</th>\n",
       "      <td>5.1</td>\n",
       "      <td>3.5</td>\n",
       "      <td>1.4</td>\n",
       "      <td>0.2</td>\n",
       "    </tr>\n",
       "    <tr>\n",
       "      <th>1</th>\n",
       "      <td>4.9</td>\n",
       "      <td>3.0</td>\n",
       "      <td>1.4</td>\n",
       "      <td>0.2</td>\n",
       "    </tr>\n",
       "    <tr>\n",
       "      <th>2</th>\n",
       "      <td>4.7</td>\n",
       "      <td>3.2</td>\n",
       "      <td>1.3</td>\n",
       "      <td>0.2</td>\n",
       "    </tr>\n",
       "    <tr>\n",
       "      <th>3</th>\n",
       "      <td>4.6</td>\n",
       "      <td>3.1</td>\n",
       "      <td>1.5</td>\n",
       "      <td>0.2</td>\n",
       "    </tr>\n",
       "    <tr>\n",
       "      <th>4</th>\n",
       "      <td>5.0</td>\n",
       "      <td>3.6</td>\n",
       "      <td>1.4</td>\n",
       "      <td>0.2</td>\n",
       "    </tr>\n",
       "  </tbody>\n",
       "</table>\n",
       "</div>"
      ],
      "text/plain": [
       "   sepal length (cm)  sepal width (cm)  petal length (cm)  petal width (cm)\n",
       "0                5.1               3.5                1.4               0.2\n",
       "1                4.9               3.0                1.4               0.2\n",
       "2                4.7               3.2                1.3               0.2\n",
       "3                4.6               3.1                1.5               0.2\n",
       "4                5.0               3.6                1.4               0.2"
      ]
     },
     "execution_count": 4,
     "metadata": {},
     "output_type": "execute_result"
    }
   ],
   "source": [
    "X.head()"
   ]
  },
  {
   "cell_type": "code",
   "execution_count": 5,
   "id": "34b7e725",
   "metadata": {},
   "outputs": [
    {
     "data": {
      "text/plain": [
       "(array([0, 1, 2]), array([50, 50, 50]))"
      ]
     },
     "execution_count": 5,
     "metadata": {},
     "output_type": "execute_result"
    }
   ],
   "source": [
    "# iris is a multiclass classification problem\n",
    "np.unique(y, return_counts=True)"
   ]
  },
  {
   "cell_type": "markdown",
   "id": "7b0edcbb",
   "metadata": {},
   "source": [
    "# Build CatBoost model"
   ]
  },
  {
   "cell_type": "code",
   "execution_count": 6,
   "id": "3433097c",
   "metadata": {},
   "outputs": [],
   "source": [
    "X_train, X_test, y_train, y_test = train_test_split(X, y, test_size=0.3, random_state=2021)"
   ]
  },
  {
   "cell_type": "code",
   "execution_count": 7,
   "id": "a72dee85",
   "metadata": {},
   "outputs": [],
   "source": [
    "clf = CatBoostClassifier(loss_function='MultiClass', \n",
    "                         learning_rate=0.1,\n",
    "                         iterations=1000,\n",
    "                         max_depth=6,\n",
    "                         early_stopping_rounds=20,\n",
    "                         random_seed=2021,\n",
    "                         verbose=10,\n",
    "                        )"
   ]
  },
  {
   "cell_type": "code",
   "execution_count": 8,
   "id": "eb851e49",
   "metadata": {},
   "outputs": [
    {
     "name": "stdout",
     "output_type": "stream",
     "text": [
      "0:\tlearn: 0.9908919\ttest: 1.0010868\tbest: 1.0010868 (0)\ttotal: 51.7ms\tremaining: 51.6s\n",
      "10:\tlearn: 0.4406749\ttest: 0.4673091\tbest: 0.4673091 (10)\ttotal: 56.9ms\tremaining: 5.11s\n",
      "20:\tlearn: 0.2615142\ttest: 0.2967043\tbest: 0.2967043 (20)\ttotal: 60.8ms\tremaining: 2.83s\n",
      "30:\tlearn: 0.1796013\ttest: 0.2149838\tbest: 0.2149838 (30)\ttotal: 64.4ms\tremaining: 2.01s\n",
      "40:\tlearn: 0.1421516\ttest: 0.1878814\tbest: 0.1878814 (40)\ttotal: 67.7ms\tremaining: 1.58s\n",
      "50:\tlearn: 0.1123179\ttest: 0.1627549\tbest: 0.1627549 (50)\ttotal: 71.3ms\tremaining: 1.33s\n",
      "60:\tlearn: 0.0894144\ttest: 0.1551505\tbest: 0.1551505 (60)\ttotal: 74.7ms\tremaining: 1.15s\n",
      "70:\tlearn: 0.0745884\ttest: 0.1522542\tbest: 0.1517848 (69)\ttotal: 78.6ms\tremaining: 1.03s\n",
      "80:\tlearn: 0.0630885\ttest: 0.1481738\tbest: 0.1471743 (79)\ttotal: 82.4ms\tremaining: 934ms\n",
      "90:\tlearn: 0.0537004\ttest: 0.1517846\tbest: 0.1471686 (81)\ttotal: 85.8ms\tremaining: 857ms\n",
      "100:\tlearn: 0.0468711\ttest: 0.1505366\tbest: 0.1471686 (81)\ttotal: 89ms\tremaining: 792ms\n",
      "Stopped by overfitting detector  (20 iterations wait)\n",
      "\n",
      "bestTest = 0.1471685691\n",
      "bestIteration = 81\n",
      "\n",
      "Shrink model to first 82 iterations.\n"
     ]
    },
    {
     "data": {
      "text/plain": [
       "<catboost.core.CatBoostClassifier at 0x7fafb648f0d0>"
      ]
     },
     "execution_count": 8,
     "metadata": {},
     "output_type": "execute_result"
    }
   ],
   "source": [
    "clf.fit(X=X_train, y=y_train, eval_set=[(X_test, y_test)], early_stopping_rounds=20, verbose=10)"
   ]
  },
  {
   "cell_type": "code",
   "execution_count": 9,
   "id": "63aef49e",
   "metadata": {},
   "outputs": [
    {
     "data": {
      "text/plain": [
       "<cinnamon.drift.model_drift_explainer.ModelDriftExplainer at 0x7fafb648f1c0>"
      ]
     },
     "execution_count": 9,
     "metadata": {},
     "output_type": "execute_result"
    }
   ],
   "source": [
    "drift_explainer = ModelDriftExplainer(clf)\n",
    "drift_explainer.fit(X1=X_train, X2=X_test, y1=y_train, y2=y_test)"
   ]
  },
  {
   "cell_type": "code",
   "execution_count": 10,
   "id": "950a060d",
   "metadata": {},
   "outputs": [
    {
     "data": {
      "image/png": "[encoded data removed]",
      "text/plain": [
       "<Figure size 504x360 with 1 Axes>"
      ]
     },
     "metadata": {
      "needs_background": "light"
     },
     "output_type": "display_data"
    },
    {
     "data": {
      "image/png": "[encoded data removed]",
      "text/plain": [
       "<Figure size 504x360 with 1 Axes>"
      ]
     },
     "metadata": {
      "needs_background": "light"
     },
     "output_type": "display_data"
    },
    {
     "data": {
      "image/png": "[encoded data removed]",
      "text/plain": [
       "<Figure size 504x360 with 1 Axes>"
      ]
     },
     "metadata": {
      "needs_background": "light"
     },
     "output_type": "display_data"
    }
   ],
   "source": [
    "drift_explainer.plot_prediction_drift()"
   ]
  },
  {
   "cell_type": "code",
   "execution_count": 11,
   "id": "5c63ca6e",
   "metadata": {},
   "outputs": [
    {
     "data": {
      "text/plain": [
       "[DriftMetricsNum(mean_difference=0.2556635888899628, wasserstein=0.2931763654790207, ks_test=BaseStatisticalTestResult(statistic=0.17142857142857143, pvalue=0.2821678346768165)),\n",
       " DriftMetricsNum(mean_difference=0.2536708490324236, wasserstein=0.2625697569861726, ks_test=BaseStatisticalTestResult(statistic=0.10793650793650794, pvalue=0.8205934119780007)),\n",
       " DriftMetricsNum(mean_difference=-0.5093344379223861, wasserstein=0.5240813705758235, ks_test=BaseStatisticalTestResult(statistic=0.18095238095238095, pvalue=0.22712915347334842))]"
      ]
     },
     "execution_count": 11,
     "metadata": {},
     "output_type": "execute_result"
    }
   ],
   "source": [
    "drift_explainer.get_prediction_drift()"
   ]
  },
  {
   "cell_type": "code",
   "execution_count": 12,
   "id": "325c0480",
   "metadata": {},
   "outputs": [
    {
     "data": {
      "image/png": "[encoded data removed]",
      "text/plain": [
       "<Figure size 504x360 with 1 Axes>"
      ]
     },
     "metadata": {
      "needs_background": "light"
     },
     "output_type": "display_data"
    },
    {
     "data": {
      "image/png": "[encoded data removed]",
      "text/plain": [
       "<Figure size 504x360 with 1 Axes>"
      ]
     },
     "metadata": {
      "needs_background": "light"
     },
     "output_type": "display_data"
    },
    {
     "data": {
      "image/png": "[encoded data removed]",
      "text/plain": [
       "<Figure size 504x360 with 1 Axes>"
      ]
     },
     "metadata": {
      "needs_background": "light"
     },
     "output_type": "display_data"
    }
   ],
   "source": [
    "drift_explainer.plot_prediction_drift(prediction_type='proba')"
   ]
  },
  {
   "cell_type": "code",
   "execution_count": 13,
   "id": "9ca86282",
   "metadata": {},
   "outputs": [
    {
     "data": {
      "text/plain": [
       "[DriftMetricsNum(mean_difference=0.06068744478888638, wasserstein=0.062073873098040216, ks_test=BaseStatisticalTestResult(statistic=0.12063492063492064, pvalue=0.7069803362151522)),\n",
       " DriftMetricsNum(mean_difference=0.07308349137417464, wasserstein=0.07352443840551189, ks_test=BaseStatisticalTestResult(statistic=0.12698412698412698, pvalue=0.6467769104301898)),\n",
       " DriftMetricsNum(mean_difference=-0.13377093616306102, wasserstein=0.13459925728761946, ks_test=BaseStatisticalTestResult(statistic=0.18095238095238095, pvalue=0.22712915347334842))]"
      ]
     },
     "execution_count": 13,
     "metadata": {},
     "output_type": "execute_result"
    }
   ],
   "source": [
    "drift_explainer.get_prediction_drift(prediction_type='proba')"
   ]
  },
  {
   "cell_type": "code",
   "execution_count": 14,
   "id": "54090ad5",
   "metadata": {},
   "outputs": [
    {
     "data": {
      "image/png": "[encoded data removed]",
      "text/plain": [
       "<Figure size 504x360 with 1 Axes>"
      ]
     },
     "metadata": {
      "needs_background": "light"
     },
     "output_type": "display_data"
    }
   ],
   "source": [
    "drift_explainer.plot_target_drift()"
   ]
  },
  {
   "cell_type": "code",
   "execution_count": 15,
   "id": "4b4478f2",
   "metadata": {},
   "outputs": [
    {
     "data": {
      "text/plain": [
       "DriftMetricsCat(wasserstein=0.09523809523809523, jensen_shannon=0.07382902143706498, chi2_test=Chi2TestResult(statistic=1.3333333333333333, pvalue=0.5134171190325922, dof=2, contingency_table=       0     1     2\n",
       "X1  33.0  34.0  38.0\n",
       "X2  17.0  16.0  12.0))"
      ]
     },
     "execution_count": 15,
     "metadata": {},
     "output_type": "execute_result"
    }
   ],
   "source": [
    "drift_explainer.get_target_drift()"
   ]
  },
  {
   "cell_type": "code",
   "execution_count": 16,
   "id": "1f48d825",
   "metadata": {},
   "outputs": [
    {
     "data": {
      "text/plain": [
       "PerformanceMetricsDrift(dataset1=ClassificationMetrics(accuracy=0.9904761904761905, log_loss=0.06196156247077523), dataset2=ClassificationMetrics(accuracy=0.9333333333333333, log_loss=0.14716856908904924))"
      ]
     },
     "execution_count": 16,
     "metadata": {},
     "output_type": "execute_result"
    }
   ],
   "source": [
    "drift_explainer.get_performance_metrics_drift()"
   ]
  },
  {
   "cell_type": "code",
   "execution_count": 17,
   "id": "70d7297b",
   "metadata": {},
   "outputs": [
    {
     "data": {
      "image/png": "[encoded data removed]",
      "text/plain": [
       "<Figure size 720x720 with 1 Axes>"
      ]
     },
     "metadata": {
      "needs_background": "light"
     },
     "output_type": "display_data"
    }
   ],
   "source": [
    "drift_explainer.plot_tree_based_drift_values()"
   ]
  },
  {
   "cell_type": "code",
   "execution_count": 18,
   "id": "e8dc03cc",
   "metadata": {},
   "outputs": [
    {
     "data": {
      "text/plain": [
       "array([[ 3.88114597],\n",
       "       [ 7.84748116],\n",
       "       [ 6.75366501],\n",
       "       [11.90863769]])"
      ]
     },
     "execution_count": 18,
     "metadata": {},
     "output_type": "execute_result"
    }
   ],
   "source": [
    "drift_explainer.get_tree_based_drift_values()"
   ]
  },
  {
   "cell_type": "code",
   "execution_count": 19,
   "id": "4401e764",
   "metadata": {},
   "outputs": [
    {
     "data": {
      "image/png": "[encoded data removed]",
      "text/plain": [
       "<Figure size 720x720 with 1 Axes>"
      ]
     },
     "metadata": {
      "needs_background": "light"
     },
     "output_type": "display_data"
    }
   ],
   "source": [
    "drift_explainer.plot_tree_based_drift_values(type='mean')"
   ]
  },
  {
   "cell_type": "code",
   "execution_count": 20,
   "id": "5f81bc40",
   "metadata": {},
   "outputs": [
    {
     "data": {
      "text/plain": [
       "array([[-0.01354953, -0.00602339,  0.01957293],\n",
       "       [-0.05742398, -0.01429501, -0.06161435],\n",
       "       [ 0.14828041,  0.05454545, -0.00282586],\n",
       "       [ 0.17835669,  0.2194438 , -0.46446716]])"
      ]
     },
     "execution_count": 20,
     "metadata": {},
     "output_type": "execute_result"
    }
   ],
   "source": [
    "drift_explainer.get_tree_based_drift_values(type='mean')"
   ]
  },
  {
   "cell_type": "code",
   "execution_count": 21,
   "id": "27c48ecf",
   "metadata": {},
   "outputs": [
    {
     "data": {
      "image/png": "[encoded data removed]",
      "text/plain": [
       "<Figure size 504x360 with 1 Axes>"
      ]
     },
     "metadata": {
      "needs_background": "light"
     },
     "output_type": "display_data"
    }
   ],
   "source": [
    "drift_explainer.plot_feature_drift(2)"
   ]
  },
  {
   "cell_type": "code",
   "execution_count": 22,
   "id": "b1ad123e",
   "metadata": {},
   "outputs": [
    {
     "data": {
      "text/plain": [
       "DriftMetricsNum(mean_difference=-0.18571428571428505, wasserstein=0.19968253968253974, ks_test=BaseStatisticalTestResult(statistic=0.16507936507936508, pvalue=0.32376134275762936))"
      ]
     },
     "execution_count": 22,
     "metadata": {},
     "output_type": "execute_result"
    }
   ],
   "source": [
    "drift_explainer.get_feature_drift(0)"
   ]
  },
  {
   "cell_type": "code",
   "execution_count": null,
   "id": "91a82166",
   "metadata": {},
   "outputs": [],
   "source": []
  }
 ],
 "metadata": {
  "kernelspec": {
   "display_name": "Python 3",
   "language": "python",
   "name": "python3"
  },
  "language_info": {
   "codemirror_mode": {
    "name": "ipython",
    "version": 3
   },
   "file_extension": ".py",
   "mimetype": "text/x-python",
   "name": "python",
   "nbconvert_exporter": "python",
   "pygments_lexer": "ipython3",
   "version": "3.8.8"
  }
 },
 "nbformat": 4,
 "nbformat_minor": 5
}
