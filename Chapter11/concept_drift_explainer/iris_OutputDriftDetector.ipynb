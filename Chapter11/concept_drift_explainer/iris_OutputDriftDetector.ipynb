{
 "cells": [
  {
   "cell_type": "markdown",
   "id": "5dcb4105",
   "metadata": {},
   "source": [
    "In this example we learn about the different in data/drift distributions that results from 2 datasets. Here we use the model explainiabilty aspect of ML, available in CinnaMon library and its ModelDriftExplainer functionality, to explain drift resulting from a classifier model. Here OutputDriftDetector function helps us to identify drift from XGBoost's classifier model.\n",
    "\n",
    "The experiment is done with a random split so we should not detect a data drift. We had run our experiments on Iris Dataset."
   ]
  },
  {
   "cell_type": "markdown",
   "id": "01725073",
   "metadata": {},
   "source": [
    "# Output Drift detector on XGBoost Classifier ML Model"
   ]
  },
  {
   "cell_type": "code",
   "execution_count": 1,
   "id": "824e602a",
   "metadata": {},
   "outputs": [],
   "source": [
    "import pandas as pd\n",
    "import numpy as np\n",
    "from sklearn import datasets\n",
    "from sklearn.model_selection import train_test_split\n",
    "from xgboost import XGBClassifier\n",
    "\n",
    "from cinnamon.drift import OutputDriftDetector"
   ]
  },
  {
   "cell_type": "markdown",
   "id": "e6e2030a",
   "metadata": {},
   "source": [
    "# Iris Data"
   ]
  },
  {
   "cell_type": "code",
   "execution_count": 2,
   "id": "707cb991",
   "metadata": {},
   "outputs": [],
   "source": [
    "dataset = datasets.load_iris()"
   ]
  },
  {
   "cell_type": "code",
   "execution_count": 3,
   "id": "3c808c5d",
   "metadata": {},
   "outputs": [],
   "source": [
    "X = pd.DataFrame(dataset.data, columns = dataset.feature_names)\n",
    "y = dataset.target"
   ]
  },
  {
   "cell_type": "code",
   "execution_count": 4,
   "id": "9c40d018",
   "metadata": {},
   "outputs": [
    {
     "data": {
      "text/html": [
       "<div>\n",
       "<style scoped>\n",
       "    .dataframe tbody tr th:only-of-type {\n",
       "        vertical-align: middle;\n",
       "    }\n",
       "\n",
       "    .dataframe tbody tr th {\n",
       "        vertical-align: top;\n",
       "    }\n",
       "\n",
       "    .dataframe thead th {\n",
       "        text-align: right;\n",
       "    }\n",
       "</style>\n",
       "<table border=\"1\" class=\"dataframe\">\n",
       "  <thead>\n",
       "    <tr style=\"text-align: right;\">\n",
       "      <th></th>\n",
       "      <th>sepal length (cm)</th>\n",
       "      <th>sepal width (cm)</th>\n",
       "      <th>petal length (cm)</th>\n",
       "      <th>petal width (cm)</th>\n",
       "    </tr>\n",
       "  </thead>\n",
       "  <tbody>\n",
       "    <tr>\n",
       "      <th>0</th>\n",
       "      <td>5.1</td>\n",
       "      <td>3.5</td>\n",
       "      <td>1.4</td>\n",
       "      <td>0.2</td>\n",
       "    </tr>\n",
       "    <tr>\n",
       "      <th>1</th>\n",
       "      <td>4.9</td>\n",
       "      <td>3.0</td>\n",
       "      <td>1.4</td>\n",
       "      <td>0.2</td>\n",
       "    </tr>\n",
       "    <tr>\n",
       "      <th>2</th>\n",
       "      <td>4.7</td>\n",
       "      <td>3.2</td>\n",
       "      <td>1.3</td>\n",
       "      <td>0.2</td>\n",
       "    </tr>\n",
       "    <tr>\n",
       "      <th>3</th>\n",
       "      <td>4.6</td>\n",
       "      <td>3.1</td>\n",
       "      <td>1.5</td>\n",
       "      <td>0.2</td>\n",
       "    </tr>\n",
       "    <tr>\n",
       "      <th>4</th>\n",
       "      <td>5.0</td>\n",
       "      <td>3.6</td>\n",
       "      <td>1.4</td>\n",
       "      <td>0.2</td>\n",
       "    </tr>\n",
       "  </tbody>\n",
       "</table>\n",
       "</div>"
      ],
      "text/plain": [
       "   sepal length (cm)  sepal width (cm)  petal length (cm)  petal width (cm)\n",
       "0                5.1               3.5                1.4               0.2\n",
       "1                4.9               3.0                1.4               0.2\n",
       "2                4.7               3.2                1.3               0.2\n",
       "3                4.6               3.1                1.5               0.2\n",
       "4                5.0               3.6                1.4               0.2"
      ]
     },
     "execution_count": 4,
     "metadata": {},
     "output_type": "execute_result"
    }
   ],
   "source": [
    "X.head()"
   ]
  },
  {
   "cell_type": "code",
   "execution_count": 5,
   "id": "672c618d",
   "metadata": {},
   "outputs": [
    {
     "data": {
      "text/plain": [
       "(array([0, 1, 2]), array([50, 50, 50]))"
      ]
     },
     "execution_count": 5,
     "metadata": {},
     "output_type": "execute_result"
    }
   ],
   "source": [
    "# This is multiclass classification pbm with 3 classes\n",
    "np.unique(y, return_counts=True)"
   ]
  },
  {
   "cell_type": "markdown",
   "id": "7e695963",
   "metadata": {},
   "source": [
    "# Build XGBoost model"
   ]
  },
  {
   "cell_type": "code",
   "execution_count": 6,
   "id": "7b1eceb1",
   "metadata": {},
   "outputs": [],
   "source": [
    "X_train, X_test, y_train, y_test = train_test_split(X, y, test_size=0.3, random_state=2021)"
   ]
  },
  {
   "cell_type": "code",
   "execution_count": 7,
   "id": "4393be30",
   "metadata": {},
   "outputs": [],
   "source": [
    "clf = XGBClassifier(n_estimators=1000,\n",
    "                    booster=\"gbtree\",\n",
    "                    learning_rate=0.05,\n",
    "                    max_depth=6,\n",
    "                    use_label_encoder=False,\n",
    "                    seed=2021)"
   ]
  },
  {
   "cell_type": "code",
   "execution_count": 8,
   "id": "193df590",
   "metadata": {},
   "outputs": [
    {
     "name": "stdout",
     "output_type": "stream",
     "text": [
      "[21:22:26] WARNING: /Users/travis/build/dmlc/xgboost/src/learner.cc:1095: Starting in XGBoost 1.3.0, the default evaluation metric used with the objective 'multi:softprob' was changed from 'merror' to 'mlogloss'. Explicitly set eval_metric if you'd like to restore the old behavior.\n",
      "[0]\tvalidation_0-mlogloss:1.03790\n",
      "[10]\tvalidation_0-mlogloss:0.62400\n",
      "[20]\tvalidation_0-mlogloss:0.41802\n",
      "[30]\tvalidation_0-mlogloss:0.30619\n",
      "[40]\tvalidation_0-mlogloss:0.24457\n",
      "[50]\tvalidation_0-mlogloss:0.21297\n",
      "[60]\tvalidation_0-mlogloss:0.19405\n",
      "[70]\tvalidation_0-mlogloss:0.18142\n",
      "[80]\tvalidation_0-mlogloss:0.17251\n",
      "[90]\tvalidation_0-mlogloss:0.16548\n",
      "[100]\tvalidation_0-mlogloss:0.16379\n",
      "[110]\tvalidation_0-mlogloss:0.16987\n",
      "[116]\tvalidation_0-mlogloss:0.17263\n"
     ]
    },
    {
     "data": {
      "text/plain": [
       "XGBClassifier(base_score=0.5, booster='gbtree', colsample_bylevel=1,\n",
       "              colsample_bynode=1, colsample_bytree=1, gamma=0, gpu_id=-1,\n",
       "              importance_type='gain', interaction_constraints='',\n",
       "              learning_rate=0.05, max_delta_step=0, max_depth=6,\n",
       "              min_child_weight=1, missing=nan, monotone_constraints='()',\n",
       "              n_estimators=1000, n_jobs=12, num_parallel_tree=1,\n",
       "              objective='multi:softprob', random_state=2021, reg_alpha=0,\n",
       "              reg_lambda=1, scale_pos_weight=None, seed=2021, subsample=1,\n",
       "              tree_method='exact', use_label_encoder=False,\n",
       "              validate_parameters=1, verbosity=None)"
      ]
     },
     "execution_count": 8,
     "metadata": {},
     "output_type": "execute_result"
    }
   ],
   "source": [
    "clf.fit(X=X_train, y=y_train, eval_set=[(X_test, y_test)], early_stopping_rounds=20, verbose=10)"
   ]
  },
  {
   "cell_type": "markdown",
   "id": "65a3ec27",
   "metadata": {},
   "source": [
    "# Analyze data drift with ModelDriftExplainer\n",
    "\n",
    "The experiment is done with a random split so we should not detect a data drift"
   ]
  },
  {
   "cell_type": "markdown",
   "id": "8e9c0acc",
   "metadata": {},
   "source": [
    "### prediction_type == \"proba\""
   ]
  },
  {
   "cell_type": "code",
   "execution_count": 9,
   "id": "b9881bd4",
   "metadata": {},
   "outputs": [],
   "source": [
    "output_drift_detector = OutputDriftDetector(task='classification', prediction_type='proba')"
   ]
  },
  {
   "cell_type": "code",
   "execution_count": 10,
   "id": "e90210a1",
   "metadata": {},
   "outputs": [],
   "source": [
    "output_drift_detector.fit(clf.predict_proba(X_train), clf.predict_proba(X_test), y1=y_train, y2=y_test)"
   ]
  },
  {
   "cell_type": "code",
   "execution_count": 11,
   "id": "4f42f3ac",
   "metadata": {},
   "outputs": [
    {
     "data": {
      "image/png": "[encoded data removed]",
      "text/plain": [
       "<Figure size 504x360 with 1 Axes>"
      ]
     },
     "metadata": {
      "needs_background": "light"
     },
     "output_type": "display_data"
    },
    {
     "data": {
      "image/png": "[encoded data removed]",
      "text/plain": [
       "<Figure size 504x360 with 1 Axes>"
      ]
     },
     "metadata": {
      "needs_background": "light"
     },
     "output_type": "display_data"
    },
    {
     "data": {
      "image/png": "[encoded data removed]",
      "text/plain": [
       "<Figure size 504x360 with 1 Axes>"
      ]
     },
     "metadata": {
      "needs_background": "light"
     },
     "output_type": "display_data"
    },
    {
     "data": {
      "text/plain": [
       "[DriftMetricsNum(mean_difference=0.06122570359665486, wasserstein=0.06138405880136859, ks_test=BaseStatisticalTestResult(statistic=0.1111111111111111, pvalue=0.7937999899885733)),\n",
       " DriftMetricsNum(mean_difference=0.08154049228640303, wasserstein=0.08205600790975118, ks_test=BaseStatisticalTestResult(statistic=0.12698412698412698, pvalue=0.6467769104301898)),\n",
       " DriftMetricsNum(mean_difference=-0.1427661934187488, wasserstein=0.14276781702443725, ks_test=BaseStatisticalTestResult(statistic=0.19047619047619047, pvalue=0.18058500659491114))]"
      ]
     },
     "execution_count": 11,
     "metadata": {},
     "output_type": "execute_result"
    }
   ],
   "source": [
    "# no apparent drift in distributions of log-softmax predictions\n",
    "output_drift_detector.plot_prediction_drift()\n",
    "output_drift_detector.get_prediction_drift()"
   ]
  },
  {
   "cell_type": "code",
   "execution_count": 12,
   "id": "11c6f114",
   "metadata": {},
   "outputs": [
    {
     "data": {
      "image/png": "[encoded data removed]",
      "text/plain": [
       "<Figure size 504x360 with 1 Axes>"
      ]
     },
     "metadata": {
      "needs_background": "light"
     },
     "output_type": "display_data"
    },
    {
     "data": {
      "text/plain": [
       "DriftMetricsCat(wasserstein=0.09523809523809523, jensen_shannon=0.07382902143706498, chi2_test=Chi2TestResult(statistic=1.3333333333333333, pvalue=0.5134171190325922, dof=2, contingency_table=       0     1     2\n",
       "X1  33.0  34.0  38.0\n",
       "X2  17.0  16.0  12.0))"
      ]
     },
     "execution_count": 12,
     "metadata": {},
     "output_type": "execute_result"
    }
   ],
   "source": [
    "output_drift_detector.plot_target_drift()\n",
    "output_drift_detector.get_target_drift()"
   ]
  },
  {
   "cell_type": "code",
   "execution_count": 13,
   "id": "90a008f3",
   "metadata": {},
   "outputs": [
    {
     "data": {
      "text/plain": [
       "PerformanceMetricsDrift(dataset1=ClassificationMetrics(accuracy=1.0, log_loss=0.045063073312242824), dataset2=ClassificationMetrics(accuracy=0.9333333333333333, log_loss=0.16192325585418277))"
      ]
     },
     "execution_count": 13,
     "metadata": {},
     "output_type": "execute_result"
    }
   ],
   "source": [
    "output_drift_detector.get_performance_metrics_drift()"
   ]
  },
  {
   "cell_type": "code",
   "execution_count": 14,
   "id": "28c99d74",
   "metadata": {},
   "outputs": [
    {
     "data": {
      "text/plain": [
       "['0', '1', '2']"
      ]
     },
     "execution_count": 14,
     "metadata": {},
     "output_type": "execute_result"
    }
   ],
   "source": [
    "output_drift_detector.class_names"
   ]
  },
  {
   "cell_type": "markdown",
   "id": "851c6e7c",
   "metadata": {},
   "source": [
    "### prediction_type == \"label\""
   ]
  },
  {
   "cell_type": "code",
   "execution_count": 15,
   "id": "3120d023",
   "metadata": {},
   "outputs": [],
   "source": [
    "output_drift_detector2 = OutputDriftDetector(task='classification', prediction_type='label')"
   ]
  },
  {
   "cell_type": "code",
   "execution_count": 16,
   "id": "66b82348",
   "metadata": {},
   "outputs": [],
   "source": [
    "output_drift_detector2.fit(clf.predict(X_train), clf.predict(X_test),\n",
    "                            y_train, y_test)"
   ]
  },
  {
   "cell_type": "code",
   "execution_count": 17,
   "id": "6ad4c017",
   "metadata": {},
   "outputs": [
    {
     "data": {
      "image/png": "[encoded data removed]",
      "text/plain": [
       "<Figure size 504x360 with 1 Axes>"
      ]
     },
     "metadata": {
      "needs_background": "light"
     },
     "output_type": "display_data"
    },
    {
     "data": {
      "text/plain": [
       "[DriftMetricsCat(wasserstein=0.16190476190476188, jensen_shannon=0.12861925049715453, chi2_test=Chi2TestResult(statistic=3.879642904933953, pvalue=0.14372961005414284, dof=2, contingency_table=       0     1     2\n",
       " X1  33.0  34.0  38.0\n",
       " X2  17.0  19.0   9.0))]"
      ]
     },
     "execution_count": 17,
     "metadata": {},
     "output_type": "execute_result"
    }
   ],
   "source": [
    "output_drift_detector2.plot_prediction_drift()\n",
    "output_drift_detector2.get_prediction_drift()"
   ]
  },
  {
   "cell_type": "code",
   "execution_count": 18,
   "id": "1bee8125",
   "metadata": {},
   "outputs": [
    {
     "data": {
      "image/png": "[encoded data removed]",
      "text/plain": [
       "<Figure size 504x360 with 1 Axes>"
      ]
     },
     "metadata": {
      "needs_background": "light"
     },
     "output_type": "display_data"
    },
    {
     "data": {
      "text/plain": [
       "DriftMetricsCat(wasserstein=0.09523809523809523, jensen_shannon=0.07382902143706498, chi2_test=Chi2TestResult(statistic=1.3333333333333333, pvalue=0.5134171190325922, dof=2, contingency_table=       0     1     2\n",
       "X1  33.0  34.0  38.0\n",
       "X2  17.0  16.0  12.0))"
      ]
     },
     "execution_count": 18,
     "metadata": {},
     "output_type": "execute_result"
    }
   ],
   "source": [
    "output_drift_detector2.plot_target_drift()\n",
    "output_drift_detector2.get_target_drift()"
   ]
  },
  {
   "cell_type": "code",
   "execution_count": 19,
   "id": "ea234929",
   "metadata": {},
   "outputs": [
    {
     "data": {
      "text/plain": [
       "PerformanceMetricsDrift(dataset1=ClassificationMetrics(accuracy=1.0, log_loss=None), dataset2=ClassificationMetrics(accuracy=0.9333333333333333, log_loss=None))"
      ]
     },
     "execution_count": 19,
     "metadata": {},
     "output_type": "execute_result"
    }
   ],
   "source": [
    "output_drift_detector2.get_performance_metrics_drift()"
   ]
  },
  {
   "cell_type": "markdown",
   "id": "1883f385",
   "metadata": {},
   "source": [
    "### prediction_type == \"raw\""
   ]
  },
  {
   "cell_type": "code",
   "execution_count": 20,
   "id": "2d69c0f0",
   "metadata": {},
   "outputs": [],
   "source": [
    "output_drift_detector3 = OutputDriftDetector(task='classification', prediction_type='raw')"
   ]
  },
  {
   "cell_type": "code",
   "execution_count": 21,
   "id": "7888f033",
   "metadata": {},
   "outputs": [],
   "source": [
    "output_drift_detector3.fit(clf.predict(X_train, output_margin=True), clf.predict(X_test, output_margin=True),\n",
    "                           y1=y_train, y2=y_test)"
   ]
  },
  {
   "cell_type": "code",
   "execution_count": 22,
   "id": "3820a469",
   "metadata": {},
   "outputs": [
    {
     "data": {
      "image/png": "[encoded data removed]",
      "text/plain": [
       "<Figure size 504x360 with 1 Axes>"
      ]
     },
     "metadata": {
      "needs_background": "light"
     },
     "output_type": "display_data"
    },
    {
     "data": {
      "image/png": "[encoded data removed]",
      "text/plain": [
       "<Figure size 504x360 with 1 Axes>"
      ]
     },
     "metadata": {
      "needs_background": "light"
     },
     "output_type": "display_data"
    },
    {
     "data": {
      "image/png": "[encoded data removed]",
      "text/plain": [
       "<Figure size 504x360 with 1 Axes>"
      ]
     },
     "metadata": {
      "needs_background": "light"
     },
     "output_type": "display_data"
    },
    {
     "data": {
      "text/plain": [
       "[DriftMetricsNum(mean_difference=0.31093458145383807, wasserstein=0.310934581453838, ks_test=BaseStatisticalTestResult(statistic=0.06349206349206349, pvalue=0.9987212484986795)),\n",
       " DriftMetricsNum(mean_difference=0.3232848411632908, wasserstein=0.3318073130907522, ks_test=BaseStatisticalTestResult(statistic=0.12698412698412698, pvalue=0.6467769104301898)),\n",
       " DriftMetricsNum(mean_difference=-0.5564053781212321, wasserstein=0.5568392310587188, ks_test=BaseStatisticalTestResult(statistic=0.17142857142857143, pvalue=0.2821678346768165))]"
      ]
     },
     "execution_count": 22,
     "metadata": {},
     "output_type": "execute_result"
    }
   ],
   "source": [
    "# no apparent drift in distributions of log-softmax predictions\n",
    "output_drift_detector3.plot_prediction_drift()\n",
    "output_drift_detector3.get_prediction_drift()"
   ]
  },
  {
   "cell_type": "code",
   "execution_count": 23,
   "id": "0caf0f9b",
   "metadata": {},
   "outputs": [
    {
     "data": {
      "image/png": "[encoded data removed]",
      "text/plain": [
       "<Figure size 504x360 with 1 Axes>"
      ]
     },
     "metadata": {
      "needs_background": "light"
     },
     "output_type": "display_data"
    },
    {
     "data": {
      "text/plain": [
       "DriftMetricsCat(wasserstein=0.09523809523809523, jensen_shannon=0.07382902143706498, chi2_test=Chi2TestResult(statistic=1.3333333333333333, pvalue=0.5134171190325922, dof=2, contingency_table=       0     1     2\n",
       "X1  33.0  34.0  38.0\n",
       "X2  17.0  16.0  12.0))"
      ]
     },
     "execution_count": 23,
     "metadata": {},
     "output_type": "execute_result"
    }
   ],
   "source": [
    "output_drift_detector3.plot_target_drift()\n",
    "output_drift_detector3.get_target_drift()"
   ]
  },
  {
   "cell_type": "code",
   "execution_count": 24,
   "id": "23a96381",
   "metadata": {},
   "outputs": [
    {
     "data": {
      "text/plain": [
       "PerformanceMetricsDrift(dataset1=ClassificationMetrics(accuracy=1.0, log_loss=0.04506306932086036), dataset2=ClassificationMetrics(accuracy=0.9333333333333333, log_loss=0.1619232536604007))"
      ]
     },
     "execution_count": 24,
     "metadata": {},
     "output_type": "execute_result"
    }
   ],
   "source": [
    "output_drift_detector3.get_performance_metrics_drift()"
   ]
  },
  {
   "cell_type": "code",
   "execution_count": null,
   "id": "772eca95",
   "metadata": {},
   "outputs": [],
   "source": []
  }
 ],
 "metadata": {
  "kernelspec": {
   "display_name": "Python 3",
   "language": "python",
   "name": "python3"
  },
  "language_info": {
   "codemirror_mode": {
    "name": "ipython",
    "version": 3
   },
   "file_extension": ".py",
   "mimetype": "text/x-python",
   "name": "python",
   "nbconvert_exporter": "python",
   "pygments_lexer": "ipython3",
   "version": "3.8.8"
  }
 },
 "nbformat": 4,
 "nbformat_minor": 5
}
