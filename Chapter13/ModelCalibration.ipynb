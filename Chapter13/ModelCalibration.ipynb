{
  "nbformat": 4,
  "nbformat_minor": 0,
  "metadata": {
    "colab": {
      "provenance": [],
      "include_colab_link": true
    },
    "kernelspec": {
      "name": "python3",
      "display_name": "Python 3"
    },
    "language_info": {
      "name": "python"
    }
  },
  "cells": [
    {
      "cell_type": "markdown",
      "metadata": {
        "id": "view-in-github",
        "colab_type": "text"
      },
      "source": [
        "<a href=\"https://colab.research.google.com/github/amita-kapoor/Designing-Models-for-Responsible-AI/blob/main/Chapter13/ModelCalibration.ipynb\" target=\"_parent\"><img src=\"https://colab.research.google.com/assets/colab-badge.svg\" alt=\"Open In Colab\"/></a>"
      ]
    },
    {
      "cell_type": "code",
      "execution_count": null,
      "metadata": {
        "id": "6x_tQ62kZV31"
      },
      "outputs": [],
      "source": [
        "from sklearn.datasets import make_classification\n",
        "from sklearn.calibration import CalibratedClassifierCV\n",
        "from sklearn.calibration import calibration_curve\n",
        "from sklearn.model_selection import train_test_split\n",
        "from sklearn.linear_model import LogisticRegression\n",
        "from sklearn.metrics import roc_auc_score, brier_score_loss\n",
        "import matplotlib.pyplot as plt\n",
        "import pandas as pd\n",
        "import numpy as np\n",
        "import seaborn as sns"
      ]
    },
    {
      "cell_type": "code",
      "source": [
        "X, y = make_classification(n_samples=10000, n_features=10, n_redundant=0, random_state=37, weights=[0.5])"
      ],
      "metadata": {
        "id": "6sUiN0Rmajyf"
      },
      "execution_count": null,
      "outputs": []
    },
    {
      "cell_type": "code",
      "source": [
        "Xs = pd.DataFrame(X)\n",
        "ys = pd.DataFrame(y, columns=['label'])"
      ],
      "metadata": {
        "id": "nO7Lg2GEF96I"
      },
      "execution_count": null,
      "outputs": []
    },
    {
      "cell_type": "code",
      "source": [
        "#plotting bar chart\n",
        "ys.value_counts().plot(kind='bar')"
      ],
      "metadata": {
        "colab": {
          "base_uri": "https://localhost:8080/",
          "height": 305
        },
        "id": "bW51obaG5urA",
        "outputId": "3438acf2-eaa1-43e3-bbef-f7f3ef469fcb"
      },
      "execution_count": null,
      "outputs": [
        {
          "output_type": "execute_result",
          "data": {
            "text/plain": [
              "<matplotlib.axes._subplots.AxesSubplot at 0x7f7b20b18dc0>"
            ]
          },
          "metadata": {},
          "execution_count": 4
        },
        {
          "output_type": "display_data",
          "data": {
            "text/plain": [
              "<Figure size 432x288 with 1 Axes>"
            ],
            "image/png": "[encoded data removed]"
          },
          "metadata": {
            "needs_background": "light"
          }
        }
      ]
    },
    {
      "cell_type": "code",
      "source": [
        "X_train_raw, X_test, y_train_raw, y_test = train_test_split(Xs, ys, test_size=0.20, shuffle=False)\n",
        "X_train, X_val, y_train, y_val = train_test_split(X_train_raw, y_train_raw, test_size=0.20, shuffle=False)"
      ],
      "metadata": {
        "id": "qxAxiSpoaxTW"
      },
      "execution_count": null,
      "outputs": []
    },
    {
      "cell_type": "code",
      "source": [
        "clf = LogisticRegression()\n",
        "clf.fit(X_train, y_train.values.ravel())\n",
        "y_pred_uncal = clf.predict_proba(X_test)[:, 1]"
      ],
      "metadata": {
        "id": "MR4z3oQkbDI9"
      },
      "execution_count": null,
      "outputs": []
    },
    {
      "cell_type": "code",
      "source": [
        "roc_auc_score(y_test, y_pred_uncal)"
      ],
      "metadata": {
        "colab": {
          "base_uri": "https://localhost:8080/"
        },
        "id": "8-GIHX2rbMsY",
        "outputId": "fa804d23-20f0-4353-ed68-9f3867a74945"
      },
      "execution_count": null,
      "outputs": [
        {
          "output_type": "execute_result",
          "data": {
            "text/plain": [
              "0.9185432154389126"
            ]
          },
          "metadata": {},
          "execution_count": 7
        }
      ]
    },
    {
      "cell_type": "code",
      "source": [
        "brier_score_loss(y_test, y_pred_uncal)"
      ],
      "metadata": {
        "colab": {
          "base_uri": "https://localhost:8080/"
        },
        "id": "zyVOlJI0bPdZ",
        "outputId": "46e66e7b-d3cc-4c17-f71e-cb350a2a9e49"
      },
      "execution_count": null,
      "outputs": [
        {
          "output_type": "execute_result",
          "data": {
            "text/plain": [
              "0.10919273032433353"
            ]
          },
          "metadata": {},
          "execution_count": 8
        }
      ]
    },
    {
      "cell_type": "code",
      "source": [
        "calibrated_clf = CalibratedClassifierCV(clf, cv=3, method='isotonic')\n",
        "calibrated_clf.fit(X_val, y_val.values.ravel())\n",
        "y_pred_cal = calibrated_clf.predict_proba(X_test)[:, 1]"
      ],
      "metadata": {
        "id": "-bsmayfXbZWm"
      },
      "execution_count": null,
      "outputs": []
    },
    {
      "cell_type": "code",
      "source": [
        "print(f'ROC Score {roc_auc_score(y_test, y_pred_cal):.2f} \\nBrier Score {brier_score_loss(y_test, y_pred_cal):.2f}')"
      ],
      "metadata": {
        "colab": {
          "base_uri": "https://localhost:8080/"
        },
        "id": "a5mh3MVBbgaV",
        "outputId": "a7f05191-0d73-4945-e35f-45fb8b2d5a97"
      },
      "execution_count": null,
      "outputs": [
        {
          "output_type": "stream",
          "name": "stdout",
          "text": [
            "ROC Score 0.92 \n",
            "Brier Score 0.11\n"
          ]
        }
      ]
    },
    {
      "cell_type": "code",
      "source": [
        "plt.rcParams.update({'font.size': 10})\n",
        "frac_of_positives_uncal, pred_prob_uncal = calibration_curve(y_test, y_pred_uncal, n_bins=10)\n",
        "sns.lineplot(x=pred_prob_uncal, y=frac_of_positives_uncal)\n",
        "frac_of_positives_cal, pred_prob_cal = calibration_curve(y_test, y_pred_cal, n_bins=10)\n",
        "sns.lineplot(x=pred_prob_cal, y=frac_of_positives_cal)\n",
        "plt.grid(linestyle='-', linewidth=0.2)\n",
        "plt.title(\"Reliability curve balanced data\")\n",
        "xlabel = plt.xlabel(\"Probability of positive\")\n",
        "ylabel = plt.ylabel(\"Fraction of positives\")\n",
        "plt.legend(labels = ['Uncaliberated', 'Caliberated'])\n",
        "ticks = [0, 0.2, 0.4, 0.6, 0.8, 1]\n",
        "xticks = plt.xticks(ticks)\n",
        "yticks = plt.yticks(ticks)"
      ],
      "metadata": {
        "colab": {
          "base_uri": "https://localhost:8080/",
          "height": 295
        },
        "id": "DXXwA9ixbTWo",
        "outputId": "f5d99e9c-cc9f-416d-8de3-739011f7d7fe"
      },
      "execution_count": null,
      "outputs": [
        {
          "output_type": "display_data",
          "data": {
            "text/plain": [
              "<Figure size 432x288 with 1 Axes>"
            ],
            "image/png": "[encoded data removed]"
          },
          "metadata": {
            "needs_background": "light"
          }
        }
      ]
    },
    {
      "cell_type": "code",
      "source": [
        "X, y = make_classification(n_samples=10000, n_features=10, n_redundant=0, random_state=37, weights=[0.95])\n",
        "Xs = pd.DataFrame(X) \n",
        "ys = pd.DataFrame(y, columns=['label'])"
      ],
      "metadata": {
        "id": "ApNiTvShcRAn"
      },
      "execution_count": null,
      "outputs": []
    },
    {
      "cell_type": "code",
      "source": [
        "#plotting bar chart \n",
        "ys.value_counts().plot(kind='bar')"
      ],
      "metadata": {
        "colab": {
          "base_uri": "https://localhost:8080/",
          "height": 305
        },
        "id": "oaEnIrziDYJT",
        "outputId": "133eac51-ca3f-4db0-f2ee-32af670edc14"
      },
      "execution_count": null,
      "outputs": [
        {
          "output_type": "execute_result",
          "data": {
            "text/plain": [
              "<matplotlib.axes._subplots.AxesSubplot at 0x7f7b1dd1b940>"
            ]
          },
          "metadata": {},
          "execution_count": 13
        },
        {
          "output_type": "display_data",
          "data": {
            "text/plain": [
              "<Figure size 432x288 with 1 Axes>"
            ],
            "image/png": "[encoded data removed]"
          },
          "metadata": {
            "needs_background": "light"
          }
        }
      ]
    },
    {
      "cell_type": "code",
      "source": [
        "X_train_raw, X_test, y_train_raw, y_test = train_test_split(Xs, ys, test_size=0.20, shuffle=False)\n",
        "X_train, X_val, y_train, y_val = train_test_split(X_train_raw, y_train_raw, test_size=0.20, shuffle=False)"
      ],
      "metadata": {
        "id": "eT_42UDBcZ33"
      },
      "execution_count": null,
      "outputs": []
    },
    {
      "cell_type": "code",
      "source": [
        "clf = LogisticRegression()\n",
        "clf.fit(X_train, y_train.values.ravel())\n",
        "y_pred_uncal = clf.predict_proba(X_test)[:, 1]\n",
        "print(f'ROC Score {roc_auc_score(y_test, y_pred_uncal):.2f} \\nBrier Score {brier_score_loss(y_test, y_pred_uncal):.2f}')"
      ],
      "metadata": {
        "id": "toj0Ez0JcfrP",
        "colab": {
          "base_uri": "https://localhost:8080/"
        },
        "outputId": "dc71fa1a-892c-460e-961d-cfe32e70ba96"
      },
      "execution_count": null,
      "outputs": [
        {
          "output_type": "stream",
          "name": "stdout",
          "text": [
            "ROC Score 0.88 \n",
            "Brier Score 0.04\n"
          ]
        }
      ]
    },
    {
      "cell_type": "code",
      "source": [
        "calibrated_clf = CalibratedClassifierCV(clf,cv=3, method='isotonic')\n",
        "calibrated_clf.fit(X_val, y_val.values.ravel())\n",
        "y_pred_cal = calibrated_clf.predict_proba(X_test)[:, 1]\n",
        "print(f'ROC Score {roc_auc_score(y_test, y_pred_uncal):.2f} \\nBrier Score {brier_score_loss(y_test, y_pred_uncal):.2f}')"
      ],
      "metadata": {
        "id": "YSvaLUUZc6Nu",
        "colab": {
          "base_uri": "https://localhost:8080/"
        },
        "outputId": "8a68c9d9-4176-4e1b-9ddd-919447496b73"
      },
      "execution_count": null,
      "outputs": [
        {
          "output_type": "stream",
          "name": "stdout",
          "text": [
            "ROC Score 0.88 \n",
            "Brier Score 0.04\n"
          ]
        }
      ]
    },
    {
      "cell_type": "code",
      "source": [
        "plt.rcParams.update({'font.size': 10})\n",
        "frac_of_positives_uncal, pred_prob_uncal = calibration_curve(y_test, y_pred_uncal, n_bins=10)\n",
        "sns.lineplot(x=pred_prob_uncal, y=frac_of_positives_uncal)\n",
        "frac_of_positives_cal, pred_prob_cal = calibration_curve(y_test, y_pred_cal, n_bins=10)\n",
        "sns.lineplot(x=pred_prob_cal, y=frac_of_positives_cal)\n",
        "plt.grid(linestyle='-', linewidth=0.2)\n",
        "plt.title(\"Reliability Curve unbalanced data\")\n",
        "xlabel = plt.xlabel(\"Probability of positive\")\n",
        "ylabel = plt.ylabel(\"Fraction of positives\")\n",
        "plt.legend(labels = ['Uncaliberated', 'Caliberated'])\n",
        "ticks = [0, 0.2, 0.4, 0.6, 0.8, 1]\n",
        "xticks = plt.xticks(ticks)\n",
        "yticks = plt.yticks(ticks)"
      ],
      "metadata": {
        "colab": {
          "base_uri": "https://localhost:8080/",
          "height": 295
        },
        "id": "TFmYYrK0c3Fd",
        "outputId": "8e319b99-e972-4d10-9423-4c17ce103164"
      },
      "execution_count": null,
      "outputs": [
        {
          "output_type": "display_data",
          "data": {
            "text/plain": [
              "<Figure size 432x288 with 1 Axes>"
            ],
            "image/png": "[encoded data removed]"
          },
          "metadata": {
            "needs_background": "light"
          }
        }
      ]
    }
  ]
}