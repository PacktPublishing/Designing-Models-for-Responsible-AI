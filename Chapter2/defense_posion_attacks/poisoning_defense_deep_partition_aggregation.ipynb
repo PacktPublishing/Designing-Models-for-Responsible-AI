{
 "cells": [
  {
   "cell_type": "markdown",
   "id": "364e4f16",
   "metadata": {},
   "source": [
    "In this notebook we learn about Deep Partition Aggregation (DPA), a certified defense against a general poisoning \n",
    "threat model. In this defense mechanism we either do an insertion or deletion of a bounded number of samples to the \n",
    "training set by implication. This threat model further applies a random number of distortions to a bounded\n",
    "number of images and/or labels. Here the subset aggreagtion is obtained through ensemble ML as well as this method relies on randomized smoothing."
   ]
  },
  {
   "cell_type": "markdown",
   "id": "60dee934",
   "metadata": {},
   "source": [
    "# Deep Partition Aggregation"
   ]
  },
  {
   "cell_type": "code",
   "execution_count": 1,
   "id": "5a04912b",
   "metadata": {},
   "outputs": [],
   "source": [
    "from __future__ import absolute_import, division, print_function, unicode_literals\n",
    "\n",
    "import os, sys\n",
    "from os.path import abspath\n",
    "\n",
    "module_path = os.path.abspath(os.path.join('..'))\n",
    "if module_path not in sys.path:\n",
    "    sys.path.append(module_path)\n",
    "\n",
    "import warnings\n",
    "warnings.filterwarnings('ignore')\n",
    "import keras.backend as k\n",
    "from keras.models import Sequential\n",
    "from keras.layers import Dense, Flatten, Conv2D, MaxPooling2D, Activation, Dropout\n",
    "import numpy as np\n",
    "import matplotlib.pyplot as plt\n",
    "%matplotlib inline\n",
    "\n",
    "import tensorflow as tf\n",
    "tf.compat.v1.disable_eager_execution()\n",
    "tf.get_logger().setLevel('ERROR')\n",
    "\n",
    "from art.estimators.classification import KerasClassifier\n",
    "from art.attacks.poisoning import PoisoningAttackBackdoor, PoisoningAttackCleanLabelBackdoor\n",
    "from art.attacks.poisoning.perturbations import add_pattern_bd\n",
    "from art.utils import load_mnist, preprocess, to_categorical\n",
    "from art.defences.trainer import AdversarialTrainerMadryPGD\n",
    "\n",
    "\n",
    "from art.estimators.classification.deep_partition_ensemble import DeepPartitionEnsemble"
   ]
  },
  {
   "cell_type": "markdown",
   "id": "3c693f30",
   "metadata": {},
   "source": [
    "# Load the Data"
   ]
  },
  {
   "cell_type": "code",
   "execution_count": 2,
   "id": "365bf769",
   "metadata": {},
   "outputs": [],
   "source": [
    "(x_raw, y_raw), (x_raw_test, y_raw_test), min_, max_ = load_mnist(raw=True)\n",
    "\n",
    "# Random Selection:\n",
    "n_train = np.shape(x_raw)[0]\n",
    "num_selection = 10000\n",
    "random_selection_indices = np.random.choice(n_train, num_selection)\n",
    "x_raw = x_raw[random_selection_indices]\n",
    "y_raw = y_raw[random_selection_indices]\n",
    "\n",
    "# Poison training data\n",
    "percent_poison = .33\n",
    "x_train, y_train = preprocess(x_raw, y_raw)\n",
    "x_train = np.expand_dims(x_train, axis=3)\n",
    "\n",
    "x_test, y_test = preprocess(x_raw_test, y_raw_test)\n",
    "x_test = np.expand_dims(x_test, axis=3)\n",
    "\n",
    "# Shuffle training data\n",
    "n_train = np.shape(y_train)[0]\n",
    "shuffled_indices = np.arange(n_train)\n",
    "np.random.shuffle(shuffled_indices)\n",
    "x_train = x_train[shuffled_indices]\n",
    "y_train = y_train[shuffled_indices]"
   ]
  },
  {
   "cell_type": "markdown",
   "id": "bf0f592a",
   "metadata": {},
   "source": [
    "# Initialize the Model Architecture"
   ]
  },
  {
   "cell_type": "code",
   "execution_count": 3,
   "id": "e2c06fba",
   "metadata": {},
   "outputs": [],
   "source": [
    "# Create Keras convolutional neural network - basic architecture from Keras examples\n",
    "# Source here: https://github.com/keras-team/keras/blob/master/examples/mnist_cnn.py\n",
    "def create_model():    \n",
    "    model = Sequential()\n",
    "    model.add(Conv2D(32, kernel_size=(3, 3), activation='relu', input_shape=x_train.shape[1:]))\n",
    "    model.add(Conv2D(64, (3, 3), activation='relu'))\n",
    "    model.add(MaxPooling2D(pool_size=(2, 2)))\n",
    "    model.add(Dropout(0.25))\n",
    "    model.add(Flatten())\n",
    "    model.add(Dense(128, activation='relu'))\n",
    "    model.add(Dropout(0.5))\n",
    "    model.add(Dense(10, activation='softmax'))\n",
    "\n",
    "    model.compile(loss='categorical_crossentropy', optimizer='adam', metrics=['accuracy'])\n",
    "    return model"
   ]
  },
  {
   "cell_type": "markdown",
   "id": "4b316aaf",
   "metadata": {},
   "source": [
    "# Set up the Model Backdoor"
   ]
  },
  {
   "cell_type": "code",
   "execution_count": 4,
   "id": "a5a01231",
   "metadata": {},
   "outputs": [
    {
     "data": {
      "text/plain": [
       "<matplotlib.image.AxesImage at 0x7fae14763460>"
      ]
     },
     "execution_count": 4,
     "metadata": {},
     "output_type": "execute_result"
    },
    {
     "data": {
      "image/png": "[encoded data removed]",
      "text/plain": [
       "<Figure size 432x288 with 1 Axes>"
      ]
     },
     "metadata": {
      "needs_background": "light"
     },
     "output_type": "display_data"
    }
   ],
   "source": [
    "backdoor = PoisoningAttackBackdoor(add_pattern_bd)\n",
    "example_target = np.array([0, 0, 0, 0, 0, 0, 0, 0, 0, 1])\n",
    "pdata, plabels = backdoor.poison(x_test, y=example_target)\n",
    "\n",
    "plt.imshow(pdata[0].squeeze())"
   ]
  },
  {
   "cell_type": "markdown",
   "id": "42b6e9b6",
   "metadata": {},
   "source": [
    "# Create the poison data\n",
    "For this example, we will select 9 as the target class. Thus, the adversary's goal is to poison the model so adding a trigger will result in the trained model misclassifying the triggered input as a 9.\n",
    "\n",
    "First, the adversary will create a proxy classifier (i.e., a classifier that is similar to the target classifier). As the clean label attack generates noise using PGD in order to encourage the trained classifier to rely on the trigger, it is important that the generated noise be transferable. Thus, adversarial training is used."
   ]
  },
  {
   "cell_type": "code",
   "execution_count": 5,
   "id": "ec8a083d",
   "metadata": {},
   "outputs": [
    {
     "data": {
      "application/vnd.jupyter.widget-view+json": {
       "model_id": "ee7c08d371f1411ca994ce62b76cac22",
       "version_major": 2,
       "version_minor": 0
      },
      "text/plain": [
       "Precompute adv samples:   0%|          | 0/1 [00:00<?, ?it/s]"
      ]
     },
     "metadata": {},
     "output_type": "display_data"
    },
    {
     "data": {
      "application/vnd.jupyter.widget-view+json": {
       "model_id": "6f01ff3a6620423381d49e62aac6ae99",
       "version_major": 2,
       "version_minor": 0
      },
      "text/plain": [
       "Adversarial training epochs:   0%|          | 0/10 [00:00<?, ?it/s]"
      ]
     },
     "metadata": {},
     "output_type": "display_data"
    }
   ],
   "source": [
    "# Poison some percentage of all non-nines to nines\n",
    "targets = to_categorical([9], 10)[0] \n",
    "\n",
    "proxy = AdversarialTrainerMadryPGD(KerasClassifier(create_model()), nb_epochs=10, eps=0.15, eps_step=0.001)\n",
    "proxy.fit(x_train, y_train)"
   ]
  },
  {
   "cell_type": "code",
   "execution_count": 6,
   "id": "a961baa1",
   "metadata": {},
   "outputs": [
    {
     "data": {
      "application/vnd.jupyter.widget-view+json": {
       "model_id": "0d90925ecdec4dc6afe809c37609e180",
       "version_major": 2,
       "version_minor": 0
      },
      "text/plain": [
       "PGD - Random Initializations:   0%|          | 0/1 [00:00<?, ?it/s]"
      ]
     },
     "metadata": {},
     "output_type": "display_data"
    },
    {
     "data": {
      "application/vnd.jupyter.widget-view+json": {
       "model_id": "",
       "version_major": 2,
       "version_minor": 0
      },
      "text/plain": [
       "PGD - Iterations:   0%|          | 0/200 [00:00<?, ?it/s]"
      ]
     },
     "metadata": {},
     "output_type": "display_data"
    },
    {
     "data": {
      "application/vnd.jupyter.widget-view+json": {
       "model_id": "b8d47c40174f4215ac846d3b0aac85cc",
       "version_major": 2,
       "version_minor": 0
      },
      "text/plain": [
       "PGD - Random Initializations:   0%|          | 0/1 [00:00<?, ?it/s]"
      ]
     },
     "metadata": {},
     "output_type": "display_data"
    },
    {
     "data": {
      "application/vnd.jupyter.widget-view+json": {
       "model_id": "",
       "version_major": 2,
       "version_minor": 0
      },
      "text/plain": [
       "PGD - Iterations:   0%|          | 0/200 [00:00<?, ?it/s]"
      ]
     },
     "metadata": {},
     "output_type": "display_data"
    },
    {
     "data": {
      "application/vnd.jupyter.widget-view+json": {
       "model_id": "3bbd42cc88f543f89ab6464751fbf6af",
       "version_major": 2,
       "version_minor": 0
      },
      "text/plain": [
       "PGD - Random Initializations:   0%|          | 0/1 [00:00<?, ?it/s]"
      ]
     },
     "metadata": {},
     "output_type": "display_data"
    },
    {
     "data": {
      "application/vnd.jupyter.widget-view+json": {
       "model_id": "",
       "version_major": 2,
       "version_minor": 0
      },
      "text/plain": [
       "PGD - Iterations:   0%|          | 0/200 [00:00<?, ?it/s]"
      ]
     },
     "metadata": {},
     "output_type": "display_data"
    },
    {
     "data": {
      "application/vnd.jupyter.widget-view+json": {
       "model_id": "498369cf7c044e56ab6551c2837e7270",
       "version_major": 2,
       "version_minor": 0
      },
      "text/plain": [
       "PGD - Random Initializations:   0%|          | 0/1 [00:00<?, ?it/s]"
      ]
     },
     "metadata": {},
     "output_type": "display_data"
    },
    {
     "data": {
      "application/vnd.jupyter.widget-view+json": {
       "model_id": "",
       "version_major": 2,
       "version_minor": 0
      },
      "text/plain": [
       "PGD - Iterations:   0%|          | 0/200 [00:00<?, ?it/s]"
      ]
     },
     "metadata": {},
     "output_type": "display_data"
    },
    {
     "data": {
      "application/vnd.jupyter.widget-view+json": {
       "model_id": "7d2d25436314406db1087cc9f3429176",
       "version_major": 2,
       "version_minor": 0
      },
      "text/plain": [
       "PGD - Random Initializations:   0%|          | 0/1 [00:00<?, ?it/s]"
      ]
     },
     "metadata": {},
     "output_type": "display_data"
    },
    {
     "data": {
      "application/vnd.jupyter.widget-view+json": {
       "model_id": "",
       "version_major": 2,
       "version_minor": 0
      },
      "text/plain": [
       "PGD - Iterations:   0%|          | 0/200 [00:00<?, ?it/s]"
      ]
     },
     "metadata": {},
     "output_type": "display_data"
    },
    {
     "data": {
      "application/vnd.jupyter.widget-view+json": {
       "model_id": "611a28ff730747c3954896e7168fe594",
       "version_major": 2,
       "version_minor": 0
      },
      "text/plain": [
       "PGD - Random Initializations:   0%|          | 0/1 [00:00<?, ?it/s]"
      ]
     },
     "metadata": {},
     "output_type": "display_data"
    },
    {
     "data": {
      "application/vnd.jupyter.widget-view+json": {
       "model_id": "",
       "version_major": 2,
       "version_minor": 0
      },
      "text/plain": [
       "PGD - Iterations:   0%|          | 0/200 [00:00<?, ?it/s]"
      ]
     },
     "metadata": {},
     "output_type": "display_data"
    },
    {
     "data": {
      "application/vnd.jupyter.widget-view+json": {
       "model_id": "3ef0b3f01aaf4f2ab18697bd266a605f",
       "version_major": 2,
       "version_minor": 0
      },
      "text/plain": [
       "PGD - Random Initializations:   0%|          | 0/1 [00:00<?, ?it/s]"
      ]
     },
     "metadata": {},
     "output_type": "display_data"
    },
    {
     "data": {
      "application/vnd.jupyter.widget-view+json": {
       "model_id": "",
       "version_major": 2,
       "version_minor": 0
      },
      "text/plain": [
       "PGD - Iterations:   0%|          | 0/200 [00:00<?, ?it/s]"
      ]
     },
     "metadata": {},
     "output_type": "display_data"
    },
    {
     "data": {
      "application/vnd.jupyter.widget-view+json": {
       "model_id": "e38d1f3e6f1a483dbd6e48aa3c751c83",
       "version_major": 2,
       "version_minor": 0
      },
      "text/plain": [
       "PGD - Random Initializations:   0%|          | 0/1 [00:00<?, ?it/s]"
      ]
     },
     "metadata": {},
     "output_type": "display_data"
    },
    {
     "data": {
      "application/vnd.jupyter.widget-view+json": {
       "model_id": "",
       "version_major": 2,
       "version_minor": 0
      },
      "text/plain": [
       "PGD - Iterations:   0%|          | 0/200 [00:00<?, ?it/s]"
      ]
     },
     "metadata": {},
     "output_type": "display_data"
    },
    {
     "data": {
      "application/vnd.jupyter.widget-view+json": {
       "model_id": "98d7a9e3cef2449e87119cd9848ec31c",
       "version_major": 2,
       "version_minor": 0
      },
      "text/plain": [
       "PGD - Random Initializations:   0%|          | 0/1 [00:00<?, ?it/s]"
      ]
     },
     "metadata": {},
     "output_type": "display_data"
    },
    {
     "data": {
      "application/vnd.jupyter.widget-view+json": {
       "model_id": "",
       "version_major": 2,
       "version_minor": 0
      },
      "text/plain": [
       "PGD - Iterations:   0%|          | 0/200 [00:00<?, ?it/s]"
      ]
     },
     "metadata": {},
     "output_type": "display_data"
    },
    {
     "data": {
      "application/vnd.jupyter.widget-view+json": {
       "model_id": "f2f47b73bd4748b9bf8e454ededf9809",
       "version_major": 2,
       "version_minor": 0
      },
      "text/plain": [
       "PGD - Random Initializations:   0%|          | 0/1 [00:00<?, ?it/s]"
      ]
     },
     "metadata": {},
     "output_type": "display_data"
    },
    {
     "data": {
      "application/vnd.jupyter.widget-view+json": {
       "model_id": "",
       "version_major": 2,
       "version_minor": 0
      },
      "text/plain": [
       "PGD - Iterations:   0%|          | 0/200 [00:00<?, ?it/s]"
      ]
     },
     "metadata": {},
     "output_type": "display_data"
    },
    {
     "data": {
      "application/vnd.jupyter.widget-view+json": {
       "model_id": "b81434c430a54da091d7473af5fe04aa",
       "version_major": 2,
       "version_minor": 0
      },
      "text/plain": [
       "PGD - Random Initializations:   0%|          | 0/1 [00:00<?, ?it/s]"
      ]
     },
     "metadata": {},
     "output_type": "display_data"
    },
    {
     "data": {
      "application/vnd.jupyter.widget-view+json": {
       "model_id": "",
       "version_major": 2,
       "version_minor": 0
      },
      "text/plain": [
       "PGD - Iterations:   0%|          | 0/200 [00:00<?, ?it/s]"
      ]
     },
     "metadata": {},
     "output_type": "display_data"
    }
   ],
   "source": [
    "attack = PoisoningAttackCleanLabelBackdoor(backdoor=backdoor, proxy_classifier=proxy.get_classifier(),\n",
    "                                           target=targets, pp_poison=percent_poison, norm=2, eps=5,\n",
    "                                           eps_step=0.1, max_iter=200)\n",
    "pdata, plabels = attack.poison(x_train, y_train)"
   ]
  },
  {
   "cell_type": "code",
   "execution_count": 7,
   "id": "5000a69b",
   "metadata": {},
   "outputs": [
    {
     "name": "stdout",
     "output_type": "stream",
     "text": [
      "1020\n"
     ]
    }
   ],
   "source": [
    "poisoned = pdata[np.all(plabels == targets, axis=1)]\n",
    "poisoned_labels = plabels[np.all(plabels == targets, axis=1)]\n",
    "print(len(poisoned))\n",
    "for i in range(len(poisoned)):\n",
    "    if poisoned[i][0][0] != 0:\n",
    "        plt.imshow(poisoned[i].squeeze())\n",
    "        plt.show()\n",
    "        print(f\"Index: {i} Label: {np.argmax(poisoned_labels[i])}\")\n",
    "        break"
   ]
  },
  {
   "cell_type": "markdown",
   "id": "024c651d",
   "metadata": {},
   "source": [
    "# Initialize the classification models\n",
    "We will initialize four models. The first is a single model architecture. The other three are DPA models with varying ensemble sizes to demonstrate the tradeoff between clean accuracy and poison accuracy. This make take some time because of the model copying."
   ]
  },
  {
   "cell_type": "code",
   "execution_count": 8,
   "id": "85223cf3",
   "metadata": {},
   "outputs": [],
   "source": [
    "model = KerasClassifier(create_model())\n",
    "dpa_model_10 = DeepPartitionEnsemble(model, ensemble_size=10)\n",
    "dpa_model_20 = DeepPartitionEnsemble(model, ensemble_size=20)\n",
    "dpa_model_30 = DeepPartitionEnsemble(model, ensemble_size=30)\n"
   ]
  },
  {
   "cell_type": "markdown",
   "id": "b74d62d8",
   "metadata": {},
   "source": [
    "Train the models on the poisoned data"
   ]
  },
  {
   "cell_type": "code",
   "execution_count": 9,
   "id": "6446c99e",
   "metadata": {},
   "outputs": [
    {
     "name": "stdout",
     "output_type": "stream",
     "text": [
      "Train on 10000 samples\n",
      "Epoch 1/10\n",
      "10000/10000 [==============================] - 9s 901us/sample - loss: 0.6975 - accuracy: 0.7831\n",
      "Epoch 2/10\n",
      "10000/10000 [==============================] - 8s 808us/sample - loss: 0.2377 - accuracy: 0.9326\n",
      "Epoch 3/10\n",
      "10000/10000 [==============================] - 7s 746us/sample - loss: 0.1533 - accuracy: 0.9562\n",
      "Epoch 4/10\n",
      "10000/10000 [==============================] - 8s 849us/sample - loss: 0.1103 - accuracy: 0.9690\n",
      "Epoch 5/10\n",
      "10000/10000 [==============================] - 8s 822us/sample - loss: 0.0774 - accuracy: 0.9755 - loss: 0.078\n",
      "Epoch 6/10\n",
      "10000/10000 [==============================] - 8s 796us/sample - loss: 0.0713 - accuracy: 0.9783\n",
      "Epoch 7/10\n",
      "10000/10000 [==============================] - 8s 787us/sample - loss: 0.0625 - accuracy: 0.9804\n",
      "Epoch 8/10\n",
      "10000/10000 [==============================] - 8s 832us/sample - loss: 0.0504 - accuracy: 0.9833\n",
      "Epoch 9/10\n",
      "10000/10000 [==============================] - 8s 768us/sample - loss: 0.0423 - accuracy: 0.9870\n",
      "Epoch 10/10\n",
      "10000/10000 [==============================] - 8s 778us/sample - loss: 0.0407 - accuracy: 0.9861\n",
      "Train on 956 samples\n",
      "Epoch 1/10\n",
      "956/956 [==============================] - 1s 1ms/sample - loss: 1.9388 - accuracy: 0.3661\n",
      "Epoch 2/10\n",
      "956/956 [==============================] - 1s 855us/sample - loss: 1.0092 - accuracy: 0.6757\n",
      "Epoch 3/10\n",
      "956/956 [==============================] - 1s 828us/sample - loss: 0.6682 - accuracy: 0.7793\n",
      "Epoch 4/10\n",
      "956/956 [==============================] - 1s 780us/sample - loss: 0.5114 - accuracy: 0.8295\n",
      "Epoch 5/10\n",
      "956/956 [==============================] - 1s 810us/sample - loss: 0.4082 - accuracy: 0.8651\n",
      "Epoch 6/10\n",
      "956/956 [==============================] - 1s 912us/sample - loss: 0.3170 - accuracy: 0.8985\n",
      "Epoch 7/10\n",
      "956/956 [==============================] - 1s 913us/sample - loss: 0.2708 - accuracy: 0.9069\n",
      "Epoch 8/10\n",
      "956/956 [==============================] - 1s 892us/sample - loss: 0.2395 - accuracy: 0.9079\n",
      "Epoch 9/10\n",
      "956/956 [==============================] - 1s 833us/sample - loss: 0.2065 - accuracy: 0.9372\n",
      "Epoch 10/10\n",
      "956/956 [==============================] - 1s 775us/sample - loss: 0.1856 - accuracy: 0.9456\n",
      "Train on 956 samples\n",
      "Epoch 1/10\n",
      "956/956 [==============================] - 1s 1ms/sample - loss: 1.9525 - accuracy: 0.3766\n",
      "Epoch 2/10\n",
      "956/956 [==============================] - 1s 756us/sample - loss: 1.0183 - accuracy: 0.6621\n",
      "Epoch 3/10\n",
      "956/956 [==============================] - 1s 766us/sample - loss: 0.7071 - accuracy: 0.7730\n",
      "Epoch 4/10\n",
      "956/956 [==============================] - 1s 792us/sample - loss: 0.5469 - accuracy: 0.8305\n",
      "Epoch 5/10\n",
      "956/956 [==============================] - 1s 751us/sample - loss: 0.4330 - accuracy: 0.8588\n",
      "Epoch 6/10\n",
      "956/956 [==============================] - 1s 756us/sample - loss: 0.3588 - accuracy: 0.8870\n",
      "Epoch 7/10\n",
      "956/956 [==============================] - 1s 761us/sample - loss: 0.3235 - accuracy: 0.8985\n",
      "Epoch 8/10\n",
      "956/956 [==============================] - 1s 764us/sample - loss: 0.2827 - accuracy: 0.9236\n",
      "Epoch 9/10\n",
      "956/956 [==============================] - 1s 760us/sample - loss: 0.2361 - accuracy: 0.9341\n",
      "Epoch 10/10\n",
      "956/956 [==============================] - 1s 747us/sample - loss: 0.1976 - accuracy: 0.9372\n",
      "Train on 1034 samples\n",
      "Epoch 1/10\n",
      "1034/1034 [==============================] - 2s 1ms/sample - loss: 1.8231 - accuracy: 0.4255\n",
      "Epoch 2/10\n",
      "1034/1034 [==============================] - 1s 829us/sample - loss: 1.0318 - accuracy: 0.6412\n",
      "Epoch 3/10\n",
      "1034/1034 [==============================] - 1s 770us/sample - loss: 0.6984 - accuracy: 0.7834\n",
      "Epoch 4/10\n",
      "1034/1034 [==============================] - 1s 795us/sample - loss: 0.5508 - accuracy: 0.8191\n",
      "Epoch 5/10\n",
      "1034/1034 [==============================] - 1s 817us/sample - loss: 0.4628 - accuracy: 0.8520\n",
      "Epoch 6/10\n",
      "1034/1034 [==============================] - 1s 777us/sample - loss: 0.3868 - accuracy: 0.8752\n",
      "Epoch 7/10\n",
      "1034/1034 [==============================] - 1s 771us/sample - loss: 0.3158 - accuracy: 0.9023\n",
      "Epoch 8/10\n",
      "1034/1034 [==============================] - 1s 761us/sample - loss: 0.2612 - accuracy: 0.9159\n",
      "Epoch 9/10\n",
      "1034/1034 [==============================] - 1s 788us/sample - loss: 0.2253 - accuracy: 0.9304\n",
      "Epoch 10/10\n",
      "1034/1034 [==============================] - 1s 824us/sample - loss: 0.1963 - accuracy: 0.9323\n",
      "Train on 973 samples\n",
      "Epoch 1/10\n",
      "973/973 [==============================] - 1s 1ms/sample - loss: 1.9346 - accuracy: 0.3710\n",
      "Epoch 2/10\n",
      "973/973 [==============================] - 1s 775us/sample - loss: 1.0221 - accuracy: 0.6773\n",
      "Epoch 3/10\n",
      "973/973 [==============================] - 1s 775us/sample - loss: 0.6739 - accuracy: 0.7718\n",
      "Epoch 4/10\n",
      "973/973 [==============================] - 1s 767us/sample - loss: 0.5436 - accuracy: 0.8345\n",
      "Epoch 5/10\n",
      "973/973 [==============================] - 1s 774us/sample - loss: 0.4171 - accuracy: 0.8684\n",
      "Epoch 6/10\n",
      "973/973 [==============================] - 1s 752us/sample - loss: 0.3605 - accuracy: 0.8849\n",
      "Epoch 7/10\n",
      "973/973 [==============================] - 1s 760us/sample - loss: 0.2986 - accuracy: 0.9054\n",
      "Epoch 8/10\n",
      "973/973 [==============================] - 1s 746us/sample - loss: 0.2782 - accuracy: 0.9106\n",
      "Epoch 9/10\n",
      "973/973 [==============================] - 1s 754us/sample - loss: 0.2159 - accuracy: 0.9301\n",
      "Epoch 10/10\n",
      "973/973 [==============================] - 1s 785us/sample - loss: 0.1947 - accuracy: 0.9383\n",
      "Train on 980 samples\n",
      "Epoch 1/10\n",
      "980/980 [==============================] - 1s 1ms/sample - loss: 1.9523 - accuracy: 0.3469\n",
      "Epoch 2/10\n",
      "980/980 [==============================] - 1s 886us/sample - loss: 1.0069 - accuracy: 0.6837\n",
      "Epoch 3/10\n",
      "980/980 [==============================] - 1s 816us/sample - loss: 0.6799 - accuracy: 0.7622\n",
      "Epoch 4/10\n",
      "980/980 [==============================] - 1s 762us/sample - loss: 0.5566 - accuracy: 0.8173\n",
      "Epoch 5/10\n",
      "980/980 [==============================] - 1s 755us/sample - loss: 0.4789 - accuracy: 0.8520\n",
      "Epoch 6/10\n",
      "980/980 [==============================] - 1s 753us/sample - loss: 0.3763 - accuracy: 0.8939\n",
      "Epoch 7/10\n",
      "980/980 [==============================] - 1s 748us/sample - loss: 0.3459 - accuracy: 0.8949\n",
      "Epoch 8/10\n",
      "980/980 [==============================] - 1s 750us/sample - loss: 0.2966 - accuracy: 0.9041\n",
      "Epoch 9/10\n",
      "980/980 [==============================] - 1s 745us/sample - loss: 0.2407 - accuracy: 0.9173\n",
      "Epoch 10/10\n",
      "980/980 [==============================] - 1s 751us/sample - loss: 0.2220 - accuracy: 0.9327\n",
      "Train on 980 samples\n",
      "Epoch 1/10\n",
      "980/980 [==============================] - 1s 1ms/sample - loss: 1.9361 - accuracy: 0.3490\n",
      "Epoch 2/10\n",
      "980/980 [==============================] - 1s 748us/sample - loss: 0.9982 - accuracy: 0.6898\n",
      "Epoch 3/10\n",
      "980/980 [==============================] - 1s 749us/sample - loss: 0.6464 - accuracy: 0.7786\n",
      "Epoch 4/10\n",
      "980/980 [==============================] - 1s 744us/sample - loss: 0.5195 - accuracy: 0.8286\n",
      "Epoch 5/10\n",
      "980/980 [==============================] - 1s 746us/sample - loss: 0.4367 - accuracy: 0.8663\n",
      "Epoch 6/10\n",
      "980/980 [==============================] - 1s 750us/sample - loss: 0.3483 - accuracy: 0.8827\n",
      "Epoch 7/10\n",
      "980/980 [==============================] - 1s 867us/sample - loss: 0.3233 - accuracy: 0.8878\n",
      "Epoch 8/10\n",
      "980/980 [==============================] - 1s 772us/sample - loss: 0.2601 - accuracy: 0.9173\n",
      "Epoch 9/10\n",
      "980/980 [==============================] - 1s 749us/sample - loss: 0.1993 - accuracy: 0.9408\n",
      "Epoch 10/10\n",
      "980/980 [==============================] - 1s 742us/sample - loss: 0.1578 - accuracy: 0.9592\n",
      "Train on 994 samples\n",
      "Epoch 1/10\n",
      "994/994 [==============================] - 1s 1ms/sample - loss: 1.8779 - accuracy: 0.4175\n",
      "Epoch 2/10\n",
      "994/994 [==============================] - 1s 759us/sample - loss: 0.9426 - accuracy: 0.6932\n",
      "Epoch 3/10\n",
      "994/994 [==============================] - 1s 780us/sample - loss: 0.6534 - accuracy: 0.7827\n",
      "Epoch 4/10\n",
      "994/994 [==============================] - 1s 794us/sample - loss: 0.5421 - accuracy: 0.8290\n",
      "Epoch 5/10\n",
      "994/994 [==============================] - 1s 763us/sample - loss: 0.4522 - accuracy: 0.8521\n",
      "Epoch 6/10\n",
      "994/994 [==============================] - 1s 759us/sample - loss: 0.3542 - accuracy: 0.8773\n",
      "Epoch 7/10\n",
      "994/994 [==============================] - 1s 818us/sample - loss: 0.3077 - accuracy: 0.8994\n",
      "Epoch 8/10\n",
      "994/994 [==============================] - 1s 795us/sample - loss: 0.2662 - accuracy: 0.9235\n",
      "Epoch 9/10\n",
      "994/994 [==============================] - 1s 786us/sample - loss: 0.2141 - accuracy: 0.9356\n",
      "Epoch 10/10\n",
      "994/994 [==============================] - 1s 928us/sample - loss: 0.1901 - accuracy: 0.9427\n",
      "Train on 1090 samples\n",
      "Epoch 1/10\n",
      "1090/1090 [==============================] - 1s 1ms/sample - loss: 1.8937 - accuracy: 0.3789\n",
      "Epoch 2/10\n",
      "1090/1090 [==============================] - 1s 811us/sample - loss: 0.9770 - accuracy: 0.6807\n",
      "Epoch 3/10\n",
      "1090/1090 [==============================] - 1s 864us/sample - loss: 0.6718 - accuracy: 0.7917\n",
      "Epoch 4/10\n",
      "1090/1090 [==============================] - 1s 879us/sample - loss: 0.5390 - accuracy: 0.8266\n",
      "Epoch 5/10\n",
      "1090/1090 [==============================] - 1s 989us/sample - loss: 0.4409 - accuracy: 0.8541\n",
      "Epoch 6/10\n",
      "1090/1090 [==============================] - 1s 992us/sample - loss: 0.3791 - accuracy: 0.8743\n",
      "Epoch 7/10\n",
      "1090/1090 [==============================] - 1s 990us/sample - loss: 0.2976 - accuracy: 0.9018\n",
      "Epoch 8/10\n",
      "1090/1090 [==============================] - 1s 975us/sample - loss: 0.2601 - accuracy: 0.9156\n",
      "Epoch 9/10\n",
      "1090/1090 [==============================] - 1s 786us/sample - loss: 0.1961 - accuracy: 0.9358\n",
      "Epoch 10/10\n",
      "1090/1090 [==============================] - 1s 875us/sample - loss: 0.1679 - accuracy: 0.9440\n",
      "Train on 1066 samples\n",
      "Epoch 1/10\n",
      "1066/1066 [==============================] - 1s 1ms/sample - loss: 1.9156 - accuracy: 0.3771\n",
      "Epoch 2/10\n",
      "1066/1066 [==============================] - 1s 984us/sample - loss: 0.9860 - accuracy: 0.6886\n",
      "Epoch 3/10\n",
      "1066/1066 [==============================] - 1s 837us/sample - loss: 0.6612 - accuracy: 0.7927\n",
      "Epoch 4/10\n",
      "1066/1066 [==============================] - 1s 773us/sample - loss: 0.5093 - accuracy: 0.8471\n",
      "Epoch 5/10\n",
      "1066/1066 [==============================] - 1s 763us/sample - loss: 0.4222 - accuracy: 0.8734\n",
      "Epoch 6/10\n",
      "1066/1066 [==============================] - 1s 756us/sample - loss: 0.3530 - accuracy: 0.8940\n",
      "Epoch 7/10\n",
      "1066/1066 [==============================] - 1s 758us/sample - loss: 0.2860 - accuracy: 0.9184\n",
      "Epoch 8/10\n",
      "1066/1066 [==============================] - 1s 758us/sample - loss: 0.2457 - accuracy: 0.9184\n",
      "Epoch 9/10\n",
      "1066/1066 [==============================] - 1s 752us/sample - loss: 0.1768 - accuracy: 0.9503\n",
      "Epoch 10/10\n",
      "1066/1066 [==============================] - 1s 745us/sample - loss: 0.1374 - accuracy: 0.9625\n",
      "Train on 971 samples\n",
      "Epoch 1/10\n",
      "971/971 [==============================] - 1s 1ms/sample - loss: 1.8847 - accuracy: 0.3872\n",
      "Epoch 2/10\n",
      "971/971 [==============================] - 1s 753us/sample - loss: 0.9719 - accuracy: 0.6910\n",
      "Epoch 3/10\n",
      "971/971 [==============================] - 1s 755us/sample - loss: 0.6581 - accuracy: 0.7971\n",
      "Epoch 4/10\n",
      "971/971 [==============================] - 1s 759us/sample - loss: 0.5522 - accuracy: 0.8208\n",
      "Epoch 5/10\n",
      "971/971 [==============================] - 1s 754us/sample - loss: 0.4583 - accuracy: 0.8538\n",
      "Epoch 6/10\n",
      "971/971 [==============================] - 1s 754us/sample - loss: 0.3627 - accuracy: 0.8795\n",
      "Epoch 7/10\n",
      "971/971 [==============================] - 1s 752us/sample - loss: 0.2881 - accuracy: 0.9094\n",
      "Epoch 8/10\n",
      "971/971 [==============================] - 1s 745us/sample - loss: 0.2553 - accuracy: 0.9104\n",
      "Epoch 9/10\n",
      "971/971 [==============================] - 1s 744us/sample - loss: 0.2183 - accuracy: 0.9331\n",
      "Epoch 10/10\n",
      "971/971 [==============================] - 1s 754us/sample - loss: 0.1898 - accuracy: 0.9454\n",
      "Train on 505 samples\n",
      "Epoch 1/10\n",
      "505/505 [==============================] - 1s 2ms/sample - loss: 2.1555 - accuracy: 0.2673\n",
      "Epoch 2/10\n",
      "505/505 [==============================] - 0s 820us/sample - loss: 1.5511 - accuracy: 0.5446\n",
      "Epoch 3/10\n",
      "505/505 [==============================] - 0s 837us/sample - loss: 1.0574 - accuracy: 0.6733\n",
      "Epoch 4/10\n",
      "505/505 [==============================] - 1s 1ms/sample - loss: 0.7924 - accuracy: 0.7208\n",
      "Epoch 5/10\n",
      "505/505 [==============================] - 0s 759us/sample - loss: 0.5463 - accuracy: 0.8158\n",
      "Epoch 6/10\n",
      "505/505 [==============================] - 0s 755us/sample - loss: 0.4853 - accuracy: 0.8356\n",
      "Epoch 7/10\n",
      "505/505 [==============================] - 0s 909us/sample - loss: 0.4186 - accuracy: 0.8594\n",
      "Epoch 8/10\n",
      "505/505 [==============================] - 1s 1ms/sample - loss: 0.3263 - accuracy: 0.8871\n",
      "Epoch 9/10\n",
      "505/505 [==============================] - 0s 809us/sample - loss: 0.2693 - accuracy: 0.9129\n",
      "Epoch 10/10\n",
      "505/505 [==============================] - 0s 825us/sample - loss: 0.2994 - accuracy: 0.8871\n",
      "Train on 484 samples\n",
      "Epoch 1/10\n",
      "484/484 [==============================] - 1s 2ms/sample - loss: 2.1937 - accuracy: 0.1777\n",
      "Epoch 2/10\n",
      "484/484 [==============================] - 0s 774us/sample - loss: 1.5900 - accuracy: 0.5413\n",
      "Epoch 3/10\n",
      "484/484 [==============================] - 0s 815us/sample - loss: 1.0498 - accuracy: 0.6798\n",
      "Epoch 4/10\n",
      "484/484 [==============================] - 1s 1ms/sample - loss: 0.7910 - accuracy: 0.7459\n",
      "Epoch 5/10\n",
      "484/484 [==============================] - 0s 893us/sample - loss: 0.6281 - accuracy: 0.7996\n",
      "Epoch 6/10\n",
      "484/484 [==============================] - 0s 886us/sample - loss: 0.5219 - accuracy: 0.8368\n",
      "Epoch 7/10\n",
      "484/484 [==============================] - 0s 911us/sample - loss: 0.4818 - accuracy: 0.8492\n",
      "Epoch 8/10\n",
      "484/484 [==============================] - 0s 910us/sample - loss: 0.3535 - accuracy: 0.8988\n",
      "Epoch 9/10\n",
      "484/484 [==============================] - 1s 1ms/sample - loss: 0.3541 - accuracy: 0.9008\n",
      "Epoch 10/10\n",
      "484/484 [==============================] - 1s 1ms/sample - loss: 0.2825 - accuracy: 0.9174\n",
      "Train on 514 samples\n",
      "Epoch 1/10\n",
      "514/514 [==============================] - 1s 2ms/sample - loss: 2.1721 - accuracy: 0.2257\n",
      "Epoch 2/10\n",
      "514/514 [==============================] - 1s 1ms/sample - loss: 1.5492 - accuracy: 0.5817\n",
      "Epoch 3/10\n",
      "514/514 [==============================] - 1s 1ms/sample - loss: 1.1050 - accuracy: 0.6595\n",
      "Epoch 4/10\n",
      "514/514 [==============================] - 1s 1ms/sample - loss: 0.8778 - accuracy: 0.6887\n",
      "Epoch 5/10\n",
      "514/514 [==============================] - 1s 981us/sample - loss: 0.7673 - accuracy: 0.7296\n",
      "Epoch 6/10\n",
      "514/514 [==============================] - 1s 1ms/sample - loss: 0.6437 - accuracy: 0.7899\n",
      "Epoch 7/10\n",
      "514/514 [==============================] - 0s 775us/sample - loss: 0.6063 - accuracy: 0.7938\n",
      "Epoch 8/10\n",
      "514/514 [==============================] - 1s 1ms/sample - loss: 0.4898 - accuracy: 0.8405\n",
      "Epoch 9/10\n",
      "514/514 [==============================] - 0s 790us/sample - loss: 0.4867 - accuracy: 0.8346\n",
      "Epoch 10/10\n",
      "514/514 [==============================] - 0s 764us/sample - loss: 0.4295 - accuracy: 0.8560\n",
      "Train on 477 samples\n",
      "Epoch 1/10\n",
      "477/477 [==============================] - 1s 2ms/sample - loss: 2.1943 - accuracy: 0.1929\n",
      "Epoch 2/10\n",
      "477/477 [==============================] - 0s 746us/sample - loss: 1.6719 - accuracy: 0.4927\n",
      "Epoch 3/10\n",
      "477/477 [==============================] - 0s 746us/sample - loss: 1.1993 - accuracy: 0.6247\n",
      "Epoch 4/10\n",
      "477/477 [==============================] - 0s 738us/sample - loss: 0.8929 - accuracy: 0.7107\n",
      "Epoch 5/10\n",
      "477/477 [==============================] - 0s 743us/sample - loss: 0.7199 - accuracy: 0.7820\n",
      "Epoch 6/10\n",
      "477/477 [==============================] - 0s 753us/sample - loss: 0.5663 - accuracy: 0.8071\n",
      "Epoch 7/10\n",
      "477/477 [==============================] - 0s 752us/sample - loss: 0.5304 - accuracy: 0.8239\n",
      "Epoch 8/10\n",
      "477/477 [==============================] - 0s 756us/sample - loss: 0.4663 - accuracy: 0.8449\n",
      "Epoch 9/10\n",
      "477/477 [==============================] - 0s 750us/sample - loss: 0.3826 - accuracy: 0.8679\n",
      "Epoch 10/10\n",
      "477/477 [==============================] - 0s 753us/sample - loss: 0.3051 - accuracy: 0.8973\n",
      "Train on 498 samples\n",
      "Epoch 1/10\n",
      "498/498 [==============================] - 1s 2ms/sample - loss: 2.1934 - accuracy: 0.2490\n",
      "Epoch 2/10\n",
      "498/498 [==============================] - 0s 868us/sample - loss: 1.6119 - accuracy: 0.5060\n",
      "Epoch 3/10\n",
      "498/498 [==============================] - 0s 917us/sample - loss: 1.1165 - accuracy: 0.6185\n",
      "Epoch 4/10\n"
     ]
    },
    {
     "name": "stdout",
     "output_type": "stream",
     "text": [
      "498/498 [==============================] - 0s 834us/sample - loss: 0.9045 - accuracy: 0.7008\n",
      "Epoch 5/10\n",
      "498/498 [==============================] - 0s 798us/sample - loss: 0.7485 - accuracy: 0.7329\n",
      "Epoch 6/10\n",
      "498/498 [==============================] - 0s 937us/sample - loss: 0.6128 - accuracy: 0.8133\n",
      "Epoch 7/10\n",
      "498/498 [==============================] - 0s 951us/sample - loss: 0.5249 - accuracy: 0.8193\n",
      "Epoch 8/10\n",
      "498/498 [==============================] - 0s 751us/sample - loss: 0.4706 - accuracy: 0.8635\n",
      "Epoch 9/10\n",
      "498/498 [==============================] - 0s 759us/sample - loss: 0.4028 - accuracy: 0.8855\n",
      "Epoch 10/10\n",
      "498/498 [==============================] - 0s 881us/sample - loss: 0.3286 - accuracy: 0.9016\n",
      "Train on 473 samples\n",
      "Epoch 1/10\n",
      "473/473 [==============================] - 1s 2ms/sample - loss: 2.1727 - accuracy: 0.2748\n",
      "Epoch 2/10\n",
      "473/473 [==============================] - 0s 797us/sample - loss: 1.5747 - accuracy: 0.5772\n",
      "Epoch 3/10\n",
      "473/473 [==============================] - 0s 811us/sample - loss: 1.0767 - accuracy: 0.6638\n",
      "Epoch 4/10\n",
      "473/473 [==============================] - 0s 805us/sample - loss: 0.8871 - accuracy: 0.6977\n",
      "Epoch 5/10\n",
      "473/473 [==============================] - 0s 877us/sample - loss: 0.6764 - accuracy: 0.7844\n",
      "Epoch 6/10\n",
      "473/473 [==============================] - 0s 878us/sample - loss: 0.5968 - accuracy: 0.8161\n",
      "Epoch 7/10\n",
      "473/473 [==============================] - 0s 901us/sample - loss: 0.5292 - accuracy: 0.8330\n",
      "Epoch 8/10\n",
      "473/473 [==============================] - 1s 1ms/sample - loss: 0.4513 - accuracy: 0.8436\n",
      "Epoch 9/10\n",
      "473/473 [==============================] - 0s 854us/sample - loss: 0.3802 - accuracy: 0.8689\n",
      "Epoch 10/10\n",
      "473/473 [==============================] - 0s 848us/sample - loss: 0.3252 - accuracy: 0.9112\n",
      "Train on 489 samples\n",
      "Epoch 1/10\n",
      "489/489 [==============================] - 1s 2ms/sample - loss: 2.1840 - accuracy: 0.2147\n",
      "Epoch 2/10\n",
      "489/489 [==============================] - 0s 952us/sample - loss: 1.6588 - accuracy: 0.5583\n",
      "Epoch 3/10\n",
      "489/489 [==============================] - 0s 931us/sample - loss: 1.0577 - accuracy: 0.6667\n",
      "Epoch 4/10\n",
      "489/489 [==============================] - 0s 966us/sample - loss: 0.8769 - accuracy: 0.7096\n",
      "Epoch 5/10\n",
      "489/489 [==============================] - 0s 887us/sample - loss: 0.6755 - accuracy: 0.7669\n",
      "Epoch 6/10\n",
      "489/489 [==============================] - 0s 903us/sample - loss: 0.5135 - accuracy: 0.8507\n",
      "Epoch 7/10\n",
      "489/489 [==============================] - 0s 848us/sample - loss: 0.4383 - accuracy: 0.8650\n",
      "Epoch 8/10\n",
      "489/489 [==============================] - 1s 1ms/sample - loss: 0.3730 - accuracy: 0.8650\n",
      "Epoch 9/10\n",
      "489/489 [==============================] - 0s 880us/sample - loss: 0.3061 - accuracy: 0.8957\n",
      "Epoch 10/10\n",
      "489/489 [==============================] - 0s 745us/sample - loss: 0.3105 - accuracy: 0.8957\n",
      "Train on 534 samples\n",
      "Epoch 1/10\n",
      "534/534 [==============================] - 1s 2ms/sample - loss: 2.1760 - accuracy: 0.2247\n",
      "Epoch 2/10\n",
      "534/534 [==============================] - 0s 773us/sample - loss: 1.5550 - accuracy: 0.5768\n",
      "Epoch 3/10\n",
      "534/534 [==============================] - 0s 767us/sample - loss: 1.0441 - accuracy: 0.6685\n",
      "Epoch 4/10\n",
      "534/534 [==============================] - 0s 772us/sample - loss: 0.7906 - accuracy: 0.7322\n",
      "Epoch 5/10\n",
      "534/534 [==============================] - 0s 872us/sample - loss: 0.6289 - accuracy: 0.7996\n",
      "Epoch 6/10\n",
      "534/534 [==============================] - 0s 832us/sample - loss: 0.5438 - accuracy: 0.8165\n",
      "Epoch 7/10\n",
      "534/534 [==============================] - 0s 815us/sample - loss: 0.5314 - accuracy: 0.8371\n",
      "Epoch 8/10\n",
      "534/534 [==============================] - 0s 839us/sample - loss: 0.4418 - accuracy: 0.8652\n",
      "Epoch 9/10\n",
      "534/534 [==============================] - 0s 843us/sample - loss: 0.3644 - accuracy: 0.8801\n",
      "Epoch 10/10\n",
      "534/534 [==============================] - 0s 907us/sample - loss: 0.3349 - accuracy: 0.8839\n",
      "Train on 525 samples\n",
      "Epoch 1/10\n",
      "525/525 [==============================] - 1s 2ms/sample - loss: 2.1738 - accuracy: 0.2019\n",
      "Epoch 2/10\n",
      "525/525 [==============================] - 0s 788us/sample - loss: 1.6018 - accuracy: 0.5181\n",
      "Epoch 3/10\n",
      "525/525 [==============================] - 0s 838us/sample - loss: 1.1448 - accuracy: 0.6476\n",
      "Epoch 4/10\n",
      "525/525 [==============================] - 0s 796us/sample - loss: 0.9515 - accuracy: 0.6990\n",
      "Epoch 5/10\n",
      "525/525 [==============================] - 0s 832us/sample - loss: 0.7594 - accuracy: 0.7543\n",
      "Epoch 6/10\n",
      "525/525 [==============================] - 0s 807us/sample - loss: 0.6786 - accuracy: 0.7752\n",
      "Epoch 7/10\n",
      "525/525 [==============================] - 0s 799us/sample - loss: 0.5834 - accuracy: 0.8210\n",
      "Epoch 8/10\n",
      "525/525 [==============================] - 0s 797us/sample - loss: 0.4995 - accuracy: 0.8438\n",
      "Epoch 9/10\n",
      "525/525 [==============================] - 0s 798us/sample - loss: 0.4306 - accuracy: 0.8686\n",
      "Epoch 10/10\n",
      "525/525 [==============================] - 0s 866us/sample - loss: 0.3706 - accuracy: 0.8781\n",
      "Train on 482 samples\n",
      "Epoch 1/10\n",
      "482/482 [==============================] - 1s 2ms/sample - loss: 2.2143 - accuracy: 0.2116\n",
      "Epoch 2/10\n",
      "482/482 [==============================] - 0s 751us/sample - loss: 1.7012 - accuracy: 0.5104\n",
      "Epoch 3/10\n",
      "482/482 [==============================] - 0s 740us/sample - loss: 1.1912 - accuracy: 0.6722\n",
      "Epoch 4/10\n",
      "482/482 [==============================] - 0s 760us/sample - loss: 0.9564 - accuracy: 0.6909\n",
      "Epoch 5/10\n",
      "482/482 [==============================] - 0s 751us/sample - loss: 0.7560 - accuracy: 0.7676\n",
      "Epoch 6/10\n",
      "482/482 [==============================] - 0s 749us/sample - loss: 0.6323 - accuracy: 0.7988\n",
      "Epoch 7/10\n",
      "482/482 [==============================] - 0s 748us/sample - loss: 0.5505 - accuracy: 0.8485\n",
      "Epoch 8/10\n",
      "482/482 [==============================] - 0s 768us/sample - loss: 0.4748 - accuracy: 0.8651\n",
      "Epoch 9/10\n",
      "482/482 [==============================] - 0s 747us/sample - loss: 0.4161 - accuracy: 0.8672\n",
      "Epoch 10/10\n",
      "482/482 [==============================] - 0s 747us/sample - loss: 0.3292 - accuracy: 0.9046\n",
      "Train on 451 samples\n",
      "Epoch 1/10\n",
      "451/451 [==============================] - 1s 2ms/sample - loss: 2.2248 - accuracy: 0.2040\n",
      "Epoch 2/10\n",
      "451/451 [==============================] - 0s 804us/sample - loss: 1.6842 - accuracy: 0.5499\n",
      "Epoch 3/10\n",
      "451/451 [==============================] - 0s 758us/sample - loss: 1.1803 - accuracy: 0.6563\n",
      "Epoch 4/10\n",
      "451/451 [==============================] - 0s 750us/sample - loss: 0.8574 - accuracy: 0.7118\n",
      "Epoch 5/10\n",
      "451/451 [==============================] - 0s 764us/sample - loss: 0.6799 - accuracy: 0.7761\n",
      "Epoch 6/10\n",
      "451/451 [==============================] - 0s 753us/sample - loss: 0.6565 - accuracy: 0.7805\n",
      "Epoch 7/10\n",
      "451/451 [==============================] - 0s 758us/sample - loss: 0.5091 - accuracy: 0.8293\n",
      "Epoch 8/10\n",
      "451/451 [==============================] - 0s 768us/sample - loss: 0.4576 - accuracy: 0.8603\n",
      "Epoch 9/10\n",
      "451/451 [==============================] - 0s 762us/sample - loss: 0.3679 - accuracy: 0.8847\n",
      "Epoch 10/10\n",
      "451/451 [==============================] - 0s 753us/sample - loss: 0.3403 - accuracy: 0.8891\n",
      "Train on 472 samples\n",
      "Epoch 1/10\n",
      "472/472 [==============================] - 1s 2ms/sample - loss: 2.1831 - accuracy: 0.2288\n",
      "Epoch 2/10\n",
      "472/472 [==============================] - 0s 993us/sample - loss: 1.5932 - accuracy: 0.5614\n",
      "Epoch 3/10\n",
      "472/472 [==============================] - 0s 949us/sample - loss: 1.0791 - accuracy: 0.6547\n",
      "Epoch 4/10\n",
      "472/472 [==============================] - 0s 800us/sample - loss: 0.7428 - accuracy: 0.7542\n",
      "Epoch 5/10\n",
      "472/472 [==============================] - 0s 816us/sample - loss: 0.6163 - accuracy: 0.7924\n",
      "Epoch 6/10\n",
      "472/472 [==============================] - 0s 880us/sample - loss: 0.5087 - accuracy: 0.8326\n",
      "Epoch 7/10\n",
      "472/472 [==============================] - 0s 975us/sample - loss: 0.4476 - accuracy: 0.8559\n",
      "Epoch 8/10\n",
      "472/472 [==============================] - 0s 758us/sample - loss: 0.3920 - accuracy: 0.8835\n",
      "Epoch 9/10\n",
      "472/472 [==============================] - 0s 821us/sample - loss: 0.3199 - accuracy: 0.9216\n",
      "Epoch 10/10\n",
      "472/472 [==============================] - 0s 924us/sample - loss: 0.2767 - accuracy: 0.9195\n",
      "Train on 520 samples\n",
      "Epoch 1/10\n",
      "520/520 [==============================] - 1s 2ms/sample - loss: 2.1685 - accuracy: 0.2519\n",
      "Epoch 2/10\n",
      "520/520 [==============================] - 0s 812us/sample - loss: 1.5450 - accuracy: 0.5288\n",
      "Epoch 3/10\n",
      "520/520 [==============================] - 0s 777us/sample - loss: 1.1448 - accuracy: 0.6192\n",
      "Epoch 4/10\n",
      "520/520 [==============================] - 0s 769us/sample - loss: 0.8211 - accuracy: 0.7365\n",
      "Epoch 5/10\n",
      "520/520 [==============================] - 0s 788us/sample - loss: 0.6894 - accuracy: 0.7615\n",
      "Epoch 6/10\n",
      "520/520 [==============================] - 0s 812us/sample - loss: 0.6337 - accuracy: 0.8000\n",
      "Epoch 7/10\n",
      "520/520 [==============================] - 0s 813us/sample - loss: 0.5003 - accuracy: 0.8654\n",
      "Epoch 8/10\n",
      "520/520 [==============================] - 0s 919us/sample - loss: 0.5010 - accuracy: 0.8385\n",
      "Epoch 9/10\n",
      "520/520 [==============================] - 0s 805us/sample - loss: 0.4711 - accuracy: 0.8615\n",
      "Epoch 10/10\n",
      "520/520 [==============================] - 0s 829us/sample - loss: 0.4434 - accuracy: 0.8596\n",
      "Train on 496 samples\n",
      "Epoch 1/10\n",
      "496/496 [==============================] - 1s 2ms/sample - loss: 2.1606 - accuracy: 0.2480\n",
      "Epoch 2/10\n",
      "496/496 [==============================] - 0s 747us/sample - loss: 1.5587 - accuracy: 0.5383\n",
      "Epoch 3/10\n",
      "496/496 [==============================] - 0s 761us/sample - loss: 1.0402 - accuracy: 0.6694\n",
      "Epoch 4/10\n",
      "496/496 [==============================] - 0s 751us/sample - loss: 0.7449 - accuracy: 0.7681\n",
      "Epoch 5/10\n",
      "496/496 [==============================] - 0s 791us/sample - loss: 0.5954 - accuracy: 0.7903\n",
      "Epoch 6/10\n",
      "496/496 [==============================] - 0s 757us/sample - loss: 0.4856 - accuracy: 0.8508\n",
      "Epoch 7/10\n",
      "496/496 [==============================] - 0s 777us/sample - loss: 0.4207 - accuracy: 0.8710\n",
      "Epoch 8/10\n",
      "496/496 [==============================] - 0s 789us/sample - loss: 0.4029 - accuracy: 0.8730\n",
      "Epoch 9/10\n",
      "496/496 [==============================] - 0s 786us/sample - loss: 0.3141 - accuracy: 0.8992\n",
      "Epoch 10/10\n",
      "496/496 [==============================] - 0s 747us/sample - loss: 0.2713 - accuracy: 0.9133\n",
      "Train on 482 samples\n",
      "Epoch 1/10\n",
      "482/482 [==============================] - 1s 2ms/sample - loss: 2.1814 - accuracy: 0.2199\n",
      "Epoch 2/10\n",
      "482/482 [==============================] - 0s 848us/sample - loss: 1.5931 - accuracy: 0.5000\n",
      "Epoch 3/10\n",
      "482/482 [==============================] - 0s 772us/sample - loss: 1.0257 - accuracy: 0.6784\n",
      "Epoch 4/10\n",
      "482/482 [==============================] - 0s 784us/sample - loss: 0.8279 - accuracy: 0.7469\n",
      "Epoch 5/10\n",
      "482/482 [==============================] - 0s 775us/sample - loss: 0.6240 - accuracy: 0.7925\n",
      "Epoch 6/10\n",
      "482/482 [==============================] - 0s 751us/sample - loss: 0.5485 - accuracy: 0.8299\n",
      "Epoch 7/10\n",
      "482/482 [==============================] - 0s 781us/sample - loss: 0.4489 - accuracy: 0.8485\n",
      "Epoch 8/10\n",
      "482/482 [==============================] - 0s 805us/sample - loss: 0.4122 - accuracy: 0.8734\n",
      "Epoch 9/10\n",
      "482/482 [==============================] - 0s 776us/sample - loss: 0.3012 - accuracy: 0.9066\n",
      "Epoch 10/10\n",
      "482/482 [==============================] - 0s 773us/sample - loss: 0.3079 - accuracy: 0.9004\n",
      "Train on 507 samples\n",
      "Epoch 1/10\n",
      "507/507 [==============================] - 1s 2ms/sample - loss: 2.1469 - accuracy: 0.2347\n",
      "Epoch 2/10\n",
      "507/507 [==============================] - 1s 1ms/sample - loss: 1.5713 - accuracy: 0.4773\n",
      "Epoch 3/10\n",
      "507/507 [==============================] - 0s 919us/sample - loss: 1.0331 - accuracy: 0.6746\n",
      "Epoch 4/10\n",
      "507/507 [==============================] - 0s 856us/sample - loss: 0.7847 - accuracy: 0.7318\n",
      "Epoch 5/10\n",
      "507/507 [==============================] - 0s 776us/sample - loss: 0.5951 - accuracy: 0.8047\n",
      "Epoch 6/10\n",
      "507/507 [==============================] - 0s 868us/sample - loss: 0.4883 - accuracy: 0.8422\n",
      "Epoch 7/10\n",
      "507/507 [==============================] - 0s 862us/sample - loss: 0.4358 - accuracy: 0.8679\n",
      "Epoch 8/10\n",
      "507/507 [==============================] - 0s 835us/sample - loss: 0.4011 - accuracy: 0.8698\n",
      "Epoch 9/10\n",
      "507/507 [==============================] - 0s 717us/sample - loss: 0.3582 - accuracy: 0.8797\n",
      "Epoch 10/10\n",
      "507/507 [==============================] - 0s 752us/sample - loss: 0.3022 - accuracy: 0.8915\n",
      "Train on 505 samples\n",
      "Epoch 1/10\n",
      "505/505 [==============================] - 1s 2ms/sample - loss: 2.1624 - accuracy: 0.2713\n",
      "Epoch 2/10\n",
      "505/505 [==============================] - 0s 750us/sample - loss: 1.5394 - accuracy: 0.5386\n",
      "Epoch 3/10\n",
      "505/505 [==============================] - 0s 747us/sample - loss: 1.0231 - accuracy: 0.6713\n",
      "Epoch 4/10\n",
      "505/505 [==============================] - 0s 748us/sample - loss: 0.7501 - accuracy: 0.7545\n",
      "Epoch 5/10\n",
      "505/505 [==============================] - 0s 737us/sample - loss: 0.5973 - accuracy: 0.7842\n",
      "Epoch 6/10\n",
      "505/505 [==============================] - 0s 862us/sample - loss: 0.5345 - accuracy: 0.8277\n",
      "Epoch 7/10\n",
      "505/505 [==============================] - 0s 901us/sample - loss: 0.4775 - accuracy: 0.8475\n",
      "Epoch 8/10\n",
      "505/505 [==============================] - 0s 783us/sample - loss: 0.3673 - accuracy: 0.8634\n",
      "Epoch 9/10\n",
      "505/505 [==============================] - 0s 808us/sample - loss: 0.3472 - accuracy: 0.8792\n",
      "Epoch 10/10\n",
      "505/505 [==============================] - 0s 747us/sample - loss: 0.3252 - accuracy: 0.8871\n",
      "Train on 556 samples\n",
      "Epoch 1/10\n",
      "556/556 [==============================] - 1s 2ms/sample - loss: 2.1437 - accuracy: 0.2770\n",
      "Epoch 2/10\n",
      "556/556 [==============================] - 0s 754us/sample - loss: 1.4257 - accuracy: 0.5863\n",
      "Epoch 3/10\n",
      "556/556 [==============================] - 0s 770us/sample - loss: 0.9456 - accuracy: 0.6871\n",
      "Epoch 4/10\n",
      "556/556 [==============================] - 0s 753us/sample - loss: 0.7418 - accuracy: 0.7590\n",
      "Epoch 5/10\n",
      "556/556 [==============================] - 0s 762us/sample - loss: 0.5393 - accuracy: 0.8165\n",
      "Epoch 6/10\n",
      "556/556 [==============================] - 0s 752us/sample - loss: 0.5101 - accuracy: 0.8435\n",
      "Epoch 7/10\n",
      "556/556 [==============================] - 0s 739us/sample - loss: 0.4788 - accuracy: 0.8399\n",
      "Epoch 8/10\n",
      "556/556 [==============================] - 0s 745us/sample - loss: 0.3777 - accuracy: 0.8777\n",
      "Epoch 9/10\n",
      "556/556 [==============================] - 0s 720us/sample - loss: 0.3128 - accuracy: 0.9047\n",
      "Epoch 10/10\n",
      "556/556 [==============================] - 0s 749us/sample - loss: 0.2839 - accuracy: 0.8957\n",
      "Train on 541 samples\n",
      "Epoch 1/10\n",
      "541/541 [==============================] - 1s 2ms/sample - loss: 2.1481 - accuracy: 0.2680\n",
      "Epoch 2/10\n",
      "541/541 [==============================] - 0s 776us/sample - loss: 1.4240 - accuracy: 0.5970\n",
      "Epoch 3/10\n",
      "541/541 [==============================] - 0s 785us/sample - loss: 0.9595 - accuracy: 0.6784\n",
      "Epoch 4/10\n",
      "541/541 [==============================] - 0s 780us/sample - loss: 0.7185 - accuracy: 0.7745\n",
      "Epoch 5/10\n",
      "541/541 [==============================] - 0s 777us/sample - loss: 0.5020 - accuracy: 0.8429\n",
      "Epoch 6/10\n",
      "541/541 [==============================] - 0s 753us/sample - loss: 0.4759 - accuracy: 0.8521\n",
      "Epoch 7/10\n",
      "541/541 [==============================] - 0s 763us/sample - loss: 0.3736 - accuracy: 0.8891\n",
      "Epoch 8/10\n",
      "541/541 [==============================] - 0s 758us/sample - loss: 0.3376 - accuracy: 0.8909\n",
      "Epoch 9/10\n",
      "541/541 [==============================] - 0s 775us/sample - loss: 0.3367 - accuracy: 0.8928\n",
      "Epoch 10/10\n",
      "541/541 [==============================] - 0s 776us/sample - loss: 0.2467 - accuracy: 0.9279\n",
      "Train on 489 samples\n",
      "Epoch 1/10\n",
      "489/489 [==============================] - 1s 2ms/sample - loss: 2.1991 - accuracy: 0.2065\n",
      "Epoch 2/10\n",
      "489/489 [==============================] - 0s 756us/sample - loss: 1.6129 - accuracy: 0.6053\n",
      "Epoch 3/10\n",
      "489/489 [==============================] - 0s 748us/sample - loss: 1.0280 - accuracy: 0.6953\n",
      "Epoch 4/10\n",
      "489/489 [==============================] - 0s 748us/sample - loss: 0.7514 - accuracy: 0.7485\n",
      "Epoch 5/10\n",
      "489/489 [==============================] - 0s 736us/sample - loss: 0.6007 - accuracy: 0.8037\n",
      "Epoch 6/10\n",
      "489/489 [==============================] - 0s 750us/sample - loss: 0.4801 - accuracy: 0.8630\n",
      "Epoch 7/10\n",
      "489/489 [==============================] - 0s 738us/sample - loss: 0.4345 - accuracy: 0.8507\n",
      "Epoch 8/10\n"
     ]
    },
    {
     "name": "stdout",
     "output_type": "stream",
     "text": [
      "489/489 [==============================] - 0s 822us/sample - loss: 0.3409 - accuracy: 0.8793\n",
      "Epoch 9/10\n",
      "489/489 [==============================] - 0s 794us/sample - loss: 0.3326 - accuracy: 0.8937\n",
      "Epoch 10/10\n",
      "489/489 [==============================] - 0s 775us/sample - loss: 0.3156 - accuracy: 0.8937\n",
      "Train on 316 samples\n",
      "Epoch 1/10\n",
      "316/316 [==============================] - 1s 2ms/sample - loss: 2.2409 - accuracy: 0.1804\n",
      "Epoch 2/10\n",
      "316/316 [==============================] - 0s 802us/sample - loss: 1.8369 - accuracy: 0.5000\n",
      "Epoch 3/10\n",
      "316/316 [==============================] - 0s 820us/sample - loss: 1.3482 - accuracy: 0.5886\n",
      "Epoch 4/10\n",
      "316/316 [==============================] - 0s 838us/sample - loss: 1.0425 - accuracy: 0.6487\n",
      "Epoch 5/10\n",
      "316/316 [==============================] - 0s 810us/sample - loss: 0.8269 - accuracy: 0.7215\n",
      "Epoch 6/10\n",
      "316/316 [==============================] - 0s 834us/sample - loss: 0.6793 - accuracy: 0.7722\n",
      "Epoch 7/10\n",
      "316/316 [==============================] - 0s 801us/sample - loss: 0.4170 - accuracy: 0.8797\n",
      "Epoch 8/10\n",
      "316/316 [==============================] - 0s 793us/sample - loss: 0.4215 - accuracy: 0.8797\n",
      "Epoch 9/10\n",
      "316/316 [==============================] - 0s 789us/sample - loss: 0.3726 - accuracy: 0.8703\n",
      "Epoch 10/10\n",
      "316/316 [==============================] - 0s 765us/sample - loss: 0.2808 - accuracy: 0.9177\n",
      "Train on 323 samples\n",
      "Epoch 1/10\n",
      "323/323 [==============================] - 1s 3ms/sample - loss: 2.2279 - accuracy: 0.2260\n",
      "Epoch 2/10\n",
      "323/323 [==============================] - 0s 892us/sample - loss: 1.8612 - accuracy: 0.4149\n",
      "Epoch 3/10\n",
      "323/323 [==============================] - 0s 924us/sample - loss: 1.3964 - accuracy: 0.5789\n",
      "Epoch 4/10\n",
      "323/323 [==============================] - 0s 906us/sample - loss: 0.9994 - accuracy: 0.6997\n",
      "Epoch 5/10\n",
      "323/323 [==============================] - 0s 829us/sample - loss: 0.7676 - accuracy: 0.7461\n",
      "Epoch 6/10\n",
      "323/323 [==============================] - 0s 856us/sample - loss: 0.6658 - accuracy: 0.7895\n",
      "Epoch 7/10\n",
      "323/323 [==============================] - 0s 904us/sample - loss: 0.5160 - accuracy: 0.8235\n",
      "Epoch 8/10\n",
      "323/323 [==============================] - 0s 926us/sample - loss: 0.4866 - accuracy: 0.8452\n",
      "Epoch 9/10\n",
      "323/323 [==============================] - 0s 1ms/sample - loss: 0.4395 - accuracy: 0.8545\n",
      "Epoch 10/10\n",
      "323/323 [==============================] - 0s 842us/sample - loss: 0.4072 - accuracy: 0.8638\n",
      "Train on 374 samples\n",
      "Epoch 1/10\n",
      "374/374 [==============================] - 1s 3ms/sample - loss: 2.2305 - accuracy: 0.2005\n",
      "Epoch 2/10\n",
      "374/374 [==============================] - 0s 884us/sample - loss: 1.8145 - accuracy: 0.4786\n",
      "Epoch 3/10\n",
      "374/374 [==============================] - 0s 860us/sample - loss: 1.3497 - accuracy: 0.6203\n",
      "Epoch 4/10\n",
      "374/374 [==============================] - 0s 790us/sample - loss: 0.9900 - accuracy: 0.6604\n",
      "Epoch 5/10\n",
      "374/374 [==============================] - 0s 758us/sample - loss: 0.7911 - accuracy: 0.7299\n",
      "Epoch 6/10\n",
      "374/374 [==============================] - 0s 784us/sample - loss: 0.6030 - accuracy: 0.8182\n",
      "Epoch 7/10\n",
      "374/374 [==============================] - 0s 859us/sample - loss: 0.5172 - accuracy: 0.8262\n",
      "Epoch 8/10\n",
      "374/374 [==============================] - 0s 766us/sample - loss: 0.5409 - accuracy: 0.8048\n",
      "Epoch 9/10\n",
      "374/374 [==============================] - 0s 787us/sample - loss: 0.4342 - accuracy: 0.8503\n",
      "Epoch 10/10\n",
      "374/374 [==============================] - 0s 863us/sample - loss: 0.3692 - accuracy: 0.8583\n",
      "Train on 313 samples\n",
      "Epoch 1/10\n",
      "313/313 [==============================] - 1s 3ms/sample - loss: 2.2568 - accuracy: 0.1534\n",
      "Epoch 2/10\n",
      "313/313 [==============================] - 0s 829us/sample - loss: 1.9250 - accuracy: 0.4441\n",
      "Epoch 3/10\n",
      "313/313 [==============================] - 0s 879us/sample - loss: 1.4092 - accuracy: 0.5942\n",
      "Epoch 4/10\n",
      "313/313 [==============================] - 0s 835us/sample - loss: 1.1086 - accuracy: 0.6422\n",
      "Epoch 5/10\n",
      "313/313 [==============================] - 0s 814us/sample - loss: 0.8394 - accuracy: 0.7412\n",
      "Epoch 6/10\n",
      "313/313 [==============================] - 0s 794us/sample - loss: 0.6849 - accuracy: 0.7700\n",
      "Epoch 7/10\n",
      "313/313 [==============================] - 0s 778us/sample - loss: 0.5605 - accuracy: 0.8179\n",
      "Epoch 8/10\n",
      "313/313 [==============================] - 0s 797us/sample - loss: 0.5171 - accuracy: 0.8498\n",
      "Epoch 9/10\n",
      "313/313 [==============================] - 0s 791us/sample - loss: 0.4287 - accuracy: 0.8530\n",
      "Epoch 10/10\n",
      "313/313 [==============================] - 0s 783us/sample - loss: 0.3748 - accuracy: 0.8818\n",
      "Train on 312 samples\n",
      "Epoch 1/10\n",
      "312/312 [==============================] - 1s 3ms/sample - loss: 2.2305 - accuracy: 0.1699\n",
      "Epoch 2/10\n",
      "312/312 [==============================] - 0s 820us/sample - loss: 1.7898 - accuracy: 0.4712\n",
      "Epoch 3/10\n",
      "312/312 [==============================] - 0s 789us/sample - loss: 1.3248 - accuracy: 0.5994\n",
      "Epoch 4/10\n",
      "312/312 [==============================] - 0s 823us/sample - loss: 0.9759 - accuracy: 0.6667\n",
      "Epoch 5/10\n",
      "312/312 [==============================] - 0s 804us/sample - loss: 0.7898 - accuracy: 0.7404\n",
      "Epoch 6/10\n",
      "312/312 [==============================] - 0s 810us/sample - loss: 0.7005 - accuracy: 0.7564\n",
      "Epoch 7/10\n",
      "312/312 [==============================] - 0s 820us/sample - loss: 0.5414 - accuracy: 0.8173\n",
      "Epoch 8/10\n",
      "312/312 [==============================] - 0s 798us/sample - loss: 0.5008 - accuracy: 0.8237\n",
      "Epoch 9/10\n",
      "312/312 [==============================] - 0s 781us/sample - loss: 0.4496 - accuracy: 0.8494\n",
      "Epoch 10/10\n",
      "312/312 [==============================] - 0s 797us/sample - loss: 0.3370 - accuracy: 0.8910\n",
      "Train on 307 samples\n",
      "Epoch 1/10\n",
      "307/307 [==============================] - 1s 2ms/sample - loss: 2.2470 - accuracy: 0.1889\n",
      "Epoch 2/10\n",
      "307/307 [==============================] - 0s 856us/sample - loss: 1.8854 - accuracy: 0.3779\n",
      "Epoch 3/10\n",
      "307/307 [==============================] - 0s 879us/sample - loss: 1.4565 - accuracy: 0.5798\n",
      "Epoch 4/10\n",
      "307/307 [==============================] - 0s 1ms/sample - loss: 1.1252 - accuracy: 0.6482\n",
      "Epoch 5/10\n",
      "307/307 [==============================] - 0s 906us/sample - loss: 0.9310 - accuracy: 0.7003\n",
      "Epoch 6/10\n",
      "307/307 [==============================] - 0s 774us/sample - loss: 0.7445 - accuracy: 0.7264\n",
      "Epoch 7/10\n",
      "307/307 [==============================] - 0s 798us/sample - loss: 0.5917 - accuracy: 0.8306\n",
      "Epoch 8/10\n",
      "307/307 [==============================] - 0s 788us/sample - loss: 0.5303 - accuracy: 0.8274\n",
      "Epoch 9/10\n",
      "307/307 [==============================] - 0s 773us/sample - loss: 0.4589 - accuracy: 0.8469\n",
      "Epoch 10/10\n",
      "307/307 [==============================] - 0s 788us/sample - loss: 0.4192 - accuracy: 0.8436\n",
      "Train on 319 samples\n",
      "Epoch 1/10\n",
      "319/319 [==============================] - 1s 2ms/sample - loss: 2.2410 - accuracy: 0.1881\n",
      "Epoch 2/10\n",
      "319/319 [==============================] - 0s 856us/sample - loss: 1.8092 - accuracy: 0.4984\n",
      "Epoch 3/10\n",
      "319/319 [==============================] - 0s 866us/sample - loss: 1.2642 - accuracy: 0.6771\n",
      "Epoch 4/10\n",
      "319/319 [==============================] - 0s 829us/sample - loss: 0.9634 - accuracy: 0.6928\n",
      "Epoch 5/10\n",
      "319/319 [==============================] - 0s 892us/sample - loss: 0.8127 - accuracy: 0.7555\n",
      "Epoch 6/10\n",
      "319/319 [==============================] - 0s 988us/sample - loss: 0.6321 - accuracy: 0.7900\n",
      "Epoch 7/10\n",
      "319/319 [==============================] - 0s 787us/sample - loss: 0.5316 - accuracy: 0.8119\n",
      "Epoch 8/10\n",
      "319/319 [==============================] - 0s 760us/sample - loss: 0.4331 - accuracy: 0.8464\n",
      "Epoch 9/10\n",
      "319/319 [==============================] - 0s 801us/sample - loss: 0.3316 - accuracy: 0.8966\n",
      "Epoch 10/10\n",
      "319/319 [==============================] - 0s 832us/sample - loss: 0.3391 - accuracy: 0.8715\n",
      "Train on 369 samples\n",
      "Epoch 1/10\n",
      "369/369 [==============================] - 1s 2ms/sample - loss: 2.2348 - accuracy: 0.1599\n",
      "Epoch 2/10\n",
      "369/369 [==============================] - 0s 1ms/sample - loss: 1.8261 - accuracy: 0.4146\n",
      "Epoch 3/10\n",
      "369/369 [==============================] - 0s 985us/sample - loss: 1.3162 - accuracy: 0.6043\n",
      "Epoch 4/10\n",
      "369/369 [==============================] - 0s 973us/sample - loss: 1.0490 - accuracy: 0.6504\n",
      "Epoch 5/10\n",
      "369/369 [==============================] - 0s 1ms/sample - loss: 0.7735 - accuracy: 0.7236\n",
      "Epoch 6/10\n",
      "369/369 [==============================] - 0s 1ms/sample - loss: 0.6726 - accuracy: 0.7669\n",
      "Epoch 7/10\n",
      "369/369 [==============================] - 0s 1ms/sample - loss: 0.5489 - accuracy: 0.7940\n",
      "Epoch 8/10\n",
      "369/369 [==============================] - 0s 999us/sample - loss: 0.4545 - accuracy: 0.8374\n",
      "Epoch 9/10\n",
      "369/369 [==============================] - 0s 973us/sample - loss: 0.3908 - accuracy: 0.8862\n",
      "Epoch 10/10\n",
      "369/369 [==============================] - 0s 966us/sample - loss: 0.3150 - accuracy: 0.8970\n",
      "Train on 365 samples\n",
      "Epoch 1/10\n",
      "365/365 [==============================] - 1s 2ms/sample - loss: 2.2304 - accuracy: 0.1671\n",
      "Epoch 2/10\n",
      "365/365 [==============================] - 0s 783us/sample - loss: 1.8137 - accuracy: 0.4575\n",
      "Epoch 3/10\n",
      "365/365 [==============================] - 0s 802us/sample - loss: 1.3224 - accuracy: 0.6137\n",
      "Epoch 4/10\n",
      "365/365 [==============================] - 0s 800us/sample - loss: 0.9609 - accuracy: 0.7123\n",
      "Epoch 5/10\n",
      "365/365 [==============================] - 0s 873us/sample - loss: 0.7128 - accuracy: 0.7808\n",
      "Epoch 6/10\n",
      "365/365 [==============================] - 0s 939us/sample - loss: 0.5460 - accuracy: 0.7945\n",
      "Epoch 7/10\n",
      "365/365 [==============================] - 0s 743us/sample - loss: 0.4602 - accuracy: 0.8466\n",
      "Epoch 8/10\n",
      "365/365 [==============================] - 0s 768us/sample - loss: 0.4399 - accuracy: 0.8575\n",
      "Epoch 9/10\n",
      "365/365 [==============================] - 0s 778us/sample - loss: 0.4245 - accuracy: 0.8575\n",
      "Epoch 10/10\n",
      "365/365 [==============================] - 0s 830us/sample - loss: 0.3365 - accuracy: 0.8822\n",
      "Train on 325 samples\n",
      "Epoch 1/10\n",
      "325/325 [==============================] - 1s 3ms/sample - loss: 2.2395 - accuracy: 0.2031\n",
      "Epoch 2/10\n",
      "325/325 [==============================] - 0s 988us/sample - loss: 1.8648 - accuracy: 0.5200\n",
      "Epoch 3/10\n",
      "325/325 [==============================] - 0s 921us/sample - loss: 1.3225 - accuracy: 0.6369\n",
      "Epoch 4/10\n",
      "325/325 [==============================] - 0s 925us/sample - loss: 1.0243 - accuracy: 0.6985\n",
      "Epoch 5/10\n",
      "325/325 [==============================] - 0s 759us/sample - loss: 0.7492 - accuracy: 0.7477\n",
      "Epoch 6/10\n",
      "325/325 [==============================] - 0s 756us/sample - loss: 0.6345 - accuracy: 0.7938\n",
      "Epoch 7/10\n",
      "325/325 [==============================] - 0s 790us/sample - loss: 0.5176 - accuracy: 0.8369\n",
      "Epoch 8/10\n",
      "325/325 [==============================] - 0s 757us/sample - loss: 0.4403 - accuracy: 0.8523\n",
      "Epoch 9/10\n",
      "325/325 [==============================] - 0s 909us/sample - loss: 0.4384 - accuracy: 0.8492\n",
      "Epoch 10/10\n",
      "325/325 [==============================] - 0s 1ms/sample - loss: 0.4028 - accuracy: 0.8800\n",
      "Train on 320 samples\n",
      "Epoch 1/10\n",
      "320/320 [==============================] - 1s 3ms/sample - loss: 2.2515 - accuracy: 0.1969\n",
      "Epoch 2/10\n",
      "320/320 [==============================] - 0s 781us/sample - loss: 1.8856 - accuracy: 0.5281\n",
      "Epoch 3/10\n",
      "320/320 [==============================] - 0s 809us/sample - loss: 1.3968 - accuracy: 0.6094\n",
      "Epoch 4/10\n",
      "320/320 [==============================] - 0s 803us/sample - loss: 0.9968 - accuracy: 0.6812\n",
      "Epoch 5/10\n",
      "320/320 [==============================] - 0s 766us/sample - loss: 0.8163 - accuracy: 0.7344\n",
      "Epoch 6/10\n",
      "320/320 [==============================] - 0s 793us/sample - loss: 0.7229 - accuracy: 0.7594\n",
      "Epoch 7/10\n",
      "320/320 [==============================] - 0s 786us/sample - loss: 0.5741 - accuracy: 0.8094\n",
      "Epoch 8/10\n",
      "320/320 [==============================] - 0s 875us/sample - loss: 0.5237 - accuracy: 0.8344\n",
      "Epoch 9/10\n",
      "320/320 [==============================] - 0s 847us/sample - loss: 0.5010 - accuracy: 0.8562\n",
      "Epoch 10/10\n",
      "320/320 [==============================] - 0s 798us/sample - loss: 0.4228 - accuracy: 0.8781\n",
      "Train on 317 samples\n",
      "Epoch 1/10\n",
      "317/317 [==============================] - 1s 3ms/sample - loss: 2.2219 - accuracy: 0.1893\n",
      "Epoch 2/10\n",
      "317/317 [==============================] - 0s 802us/sample - loss: 1.8062 - accuracy: 0.4511\n",
      "Epoch 3/10\n",
      "317/317 [==============================] - 0s 913us/sample - loss: 1.3562 - accuracy: 0.5836\n",
      "Epoch 4/10\n",
      "317/317 [==============================] - 0s 875us/sample - loss: 1.0027 - accuracy: 0.6782\n",
      "Epoch 5/10\n",
      "317/317 [==============================] - 0s 808us/sample - loss: 0.7678 - accuracy: 0.7445\n",
      "Epoch 6/10\n",
      "317/317 [==============================] - 0s 790us/sample - loss: 0.6496 - accuracy: 0.7918\n",
      "Epoch 7/10\n",
      "317/317 [==============================] - 0s 1ms/sample - loss: 0.5514 - accuracy: 0.8013\n",
      "Epoch 8/10\n",
      "317/317 [==============================] - 0s 842us/sample - loss: 0.4945 - accuracy: 0.8297\n",
      "Epoch 9/10\n",
      "317/317 [==============================] - 0s 1ms/sample - loss: 0.4287 - accuracy: 0.8738\n",
      "Epoch 10/10\n",
      "317/317 [==============================] - 0s 829us/sample - loss: 0.3390 - accuracy: 0.8991\n",
      "Train on 322 samples\n",
      "Epoch 1/10\n",
      "322/322 [==============================] - 1s 3ms/sample - loss: 2.2371 - accuracy: 0.1925\n",
      "Epoch 2/10\n",
      "322/322 [==============================] - 0s 1ms/sample - loss: 1.8275 - accuracy: 0.5466\n",
      "Epoch 3/10\n",
      "322/322 [==============================] - 1s 2ms/sample - loss: 1.3228 - accuracy: 0.6398\n",
      "Epoch 4/10\n",
      "322/322 [==============================] - 0s 1ms/sample - loss: 0.9740 - accuracy: 0.6646\n",
      "Epoch 5/10\n",
      "322/322 [==============================] - 0s 898us/sample - loss: 0.7194 - accuracy: 0.7857\n",
      "Epoch 6/10\n",
      "322/322 [==============================] - 0s 860us/sample - loss: 0.6782 - accuracy: 0.7888\n",
      "Epoch 7/10\n",
      "322/322 [==============================] - 0s 824us/sample - loss: 0.5546 - accuracy: 0.8106\n",
      "Epoch 8/10\n",
      "322/322 [==============================] - 0s 836us/sample - loss: 0.4367 - accuracy: 0.8696\n",
      "Epoch 9/10\n",
      "322/322 [==============================] - 0s 977us/sample - loss: 0.4345 - accuracy: 0.8789\n",
      "Epoch 10/10\n",
      "322/322 [==============================] - 0s 988us/sample - loss: 0.3578 - accuracy: 0.8789\n",
      "Train on 332 samples\n",
      "Epoch 1/10\n",
      "332/332 [==============================] - 1s 3ms/sample - loss: 2.2533 - accuracy: 0.1386\n",
      "Epoch 2/10\n",
      "332/332 [==============================] - 0s 972us/sample - loss: 1.8929 - accuracy: 0.3464\n",
      "Epoch 3/10\n",
      "332/332 [==============================] - 0s 977us/sample - loss: 1.4282 - accuracy: 0.6114\n",
      "Epoch 4/10\n",
      "332/332 [==============================] - 0s 836us/sample - loss: 1.0784 - accuracy: 0.6807\n",
      "Epoch 5/10\n",
      "332/332 [==============================] - 0s 847us/sample - loss: 0.7921 - accuracy: 0.7380\n",
      "Epoch 6/10\n",
      "332/332 [==============================] - 0s 797us/sample - loss: 0.6110 - accuracy: 0.7982\n",
      "Epoch 7/10\n",
      "332/332 [==============================] - 0s 800us/sample - loss: 0.5130 - accuracy: 0.8464\n",
      "Epoch 8/10\n",
      "332/332 [==============================] - 0s 825us/sample - loss: 0.4476 - accuracy: 0.8434\n",
      "Epoch 9/10\n",
      "332/332 [==============================] - 0s 812us/sample - loss: 0.3699 - accuracy: 0.8825\n",
      "Epoch 10/10\n",
      "332/332 [==============================] - 0s 846us/sample - loss: 0.3028 - accuracy: 0.9066\n",
      "Train on 330 samples\n",
      "Epoch 1/10\n",
      "330/330 [==============================] - 1s 3ms/sample - loss: 2.2235 - accuracy: 0.2303\n",
      "Epoch 2/10\n",
      "330/330 [==============================] - 0s 740us/sample - loss: 1.7701 - accuracy: 0.5636\n",
      "Epoch 3/10\n",
      "330/330 [==============================] - 0s 786us/sample - loss: 1.2174 - accuracy: 0.6667\n",
      "Epoch 4/10\n",
      "330/330 [==============================] - 0s 829us/sample - loss: 0.8935 - accuracy: 0.7152\n",
      "Epoch 5/10\n",
      "330/330 [==============================] - 0s 813us/sample - loss: 0.6975 - accuracy: 0.7485\n",
      "Epoch 6/10\n",
      "330/330 [==============================] - 0s 868us/sample - loss: 0.6130 - accuracy: 0.7818\n",
      "Epoch 7/10\n",
      "330/330 [==============================] - 0s 901us/sample - loss: 0.4680 - accuracy: 0.8242\n",
      "Epoch 8/10\n",
      "330/330 [==============================] - 0s 935us/sample - loss: 0.4102 - accuracy: 0.8879\n",
      "Epoch 9/10\n",
      "330/330 [==============================] - 0s 880us/sample - loss: 0.3771 - accuracy: 0.8879\n",
      "Epoch 10/10\n",
      "330/330 [==============================] - 0s 737us/sample - loss: 0.3076 - accuracy: 0.9212\n",
      "Train on 317 samples\n",
      "Epoch 1/10\n",
      "317/317 [==============================] - 1s 2ms/sample - loss: 2.2366 - accuracy: 0.1956\n",
      "Epoch 2/10\n"
     ]
    },
    {
     "name": "stdout",
     "output_type": "stream",
     "text": [
      "317/317 [==============================] - 0s 776us/sample - loss: 1.8295 - accuracy: 0.4637\n",
      "Epoch 3/10\n",
      "317/317 [==============================] - 0s 791us/sample - loss: 1.3331 - accuracy: 0.6151\n",
      "Epoch 4/10\n",
      "317/317 [==============================] - 0s 785us/sample - loss: 0.9961 - accuracy: 0.6593\n",
      "Epoch 5/10\n",
      "317/317 [==============================] - 0s 763us/sample - loss: 0.8076 - accuracy: 0.7098\n",
      "Epoch 6/10\n",
      "317/317 [==============================] - 0s 768us/sample - loss: 0.6023 - accuracy: 0.7886\n",
      "Epoch 7/10\n",
      "317/317 [==============================] - 0s 749us/sample - loss: 0.5319 - accuracy: 0.7981\n",
      "Epoch 8/10\n",
      "317/317 [==============================] - 0s 751us/sample - loss: 0.4819 - accuracy: 0.8328\n",
      "Epoch 9/10\n",
      "317/317 [==============================] - 0s 769us/sample - loss: 0.3801 - accuracy: 0.8770\n",
      "Epoch 10/10\n",
      "317/317 [==============================] - 0s 750us/sample - loss: 0.3541 - accuracy: 0.8833\n",
      "Train on 311 samples\n",
      "Epoch 1/10\n",
      "311/311 [==============================] - 1s 2ms/sample - loss: 2.2585 - accuracy: 0.1576\n",
      "Epoch 2/10\n",
      "311/311 [==============================] - 0s 824us/sample - loss: 1.9099 - accuracy: 0.4373\n",
      "Epoch 3/10\n",
      "311/311 [==============================] - 0s 985us/sample - loss: 1.4428 - accuracy: 0.6013\n",
      "Epoch 4/10\n",
      "311/311 [==============================] - 0s 923us/sample - loss: 1.0531 - accuracy: 0.6881\n",
      "Epoch 5/10\n",
      "311/311 [==============================] - 0s 828us/sample - loss: 0.8438 - accuracy: 0.7138\n",
      "Epoch 6/10\n",
      "311/311 [==============================] - 0s 784us/sample - loss: 0.6495 - accuracy: 0.7781\n",
      "Epoch 7/10\n",
      "311/311 [==============================] - 0s 801us/sample - loss: 0.6170 - accuracy: 0.8135\n",
      "Epoch 8/10\n",
      "311/311 [==============================] - 0s 876us/sample - loss: 0.4727 - accuracy: 0.8360\n",
      "Epoch 9/10\n",
      "311/311 [==============================] - 0s 823us/sample - loss: 0.4414 - accuracy: 0.8682\n",
      "Epoch 10/10\n",
      "311/311 [==============================] - 0s 875us/sample - loss: 0.3575 - accuracy: 0.8939\n",
      "Train on 383 samples\n",
      "Epoch 1/10\n",
      "383/383 [==============================] - 1s 2ms/sample - loss: 2.2315 - accuracy: 0.2272\n",
      "Epoch 2/10\n",
      "383/383 [==============================] - 0s 730us/sample - loss: 1.8405 - accuracy: 0.5013\n",
      "Epoch 3/10\n",
      "383/383 [==============================] - 0s 729us/sample - loss: 1.2870 - accuracy: 0.6762\n",
      "Epoch 4/10\n",
      "383/383 [==============================] - 0s 724us/sample - loss: 0.9750 - accuracy: 0.6893\n",
      "Epoch 5/10\n",
      "383/383 [==============================] - 0s 740us/sample - loss: 0.8175 - accuracy: 0.7206\n",
      "Epoch 6/10\n",
      "383/383 [==============================] - 0s 731us/sample - loss: 0.6588 - accuracy: 0.7755\n",
      "Epoch 7/10\n",
      "383/383 [==============================] - 0s 845us/sample - loss: 0.5449 - accuracy: 0.8225\n",
      "Epoch 8/10\n",
      "383/383 [==============================] - 0s 938us/sample - loss: 0.4867 - accuracy: 0.8486\n",
      "Epoch 9/10\n",
      "383/383 [==============================] - 0s 842us/sample - loss: 0.4554 - accuracy: 0.8695\n",
      "Epoch 10/10\n",
      "383/383 [==============================] - 0s 737us/sample - loss: 0.3461 - accuracy: 0.9034\n",
      "Train on 345 samples\n",
      "Epoch 1/10\n",
      "345/345 [==============================] - 1s 3ms/sample - loss: 2.2325 - accuracy: 0.1478\n",
      "Epoch 2/10\n",
      "345/345 [==============================] - 0s 822us/sample - loss: 1.8603 - accuracy: 0.3913\n",
      "Epoch 3/10\n",
      "345/345 [==============================] - 0s 817us/sample - loss: 1.3763 - accuracy: 0.6406\n",
      "Epoch 4/10\n",
      "345/345 [==============================] - 0s 883us/sample - loss: 0.9750 - accuracy: 0.6957\n",
      "Epoch 5/10\n",
      "345/345 [==============================] - 0s 869us/sample - loss: 0.8183 - accuracy: 0.7594\n",
      "Epoch 6/10\n",
      "345/345 [==============================] - 0s 929us/sample - loss: 0.7107 - accuracy: 0.7391\n",
      "Epoch 7/10\n",
      "345/345 [==============================] - 0s 1ms/sample - loss: 0.5105 - accuracy: 0.8435\n",
      "Epoch 8/10\n",
      "345/345 [==============================] - 0s 1ms/sample - loss: 0.4568 - accuracy: 0.8435\n",
      "Epoch 9/10\n",
      "345/345 [==============================] - 0s 821us/sample - loss: 0.4357 - accuracy: 0.8464\n",
      "Epoch 10/10\n",
      "345/345 [==============================] - 0s 905us/sample - loss: 0.3616 - accuracy: 0.8667\n",
      "Train on 325 samples\n",
      "Epoch 1/10\n",
      "325/325 [==============================] - 1s 2ms/sample - loss: 2.2443 - accuracy: 0.2031\n",
      "Epoch 2/10\n",
      "325/325 [==============================] - 0s 837us/sample - loss: 1.8255 - accuracy: 0.5200\n",
      "Epoch 3/10\n",
      "325/325 [==============================] - 0s 852us/sample - loss: 1.3700 - accuracy: 0.6031\n",
      "Epoch 4/10\n",
      "325/325 [==============================] - 0s 812us/sample - loss: 1.0634 - accuracy: 0.6769\n",
      "Epoch 5/10\n",
      "325/325 [==============================] - 0s 863us/sample - loss: 0.8428 - accuracy: 0.7077\n",
      "Epoch 6/10\n",
      "325/325 [==============================] - 0s 827us/sample - loss: 0.7225 - accuracy: 0.7323\n",
      "Epoch 7/10\n",
      "325/325 [==============================] - 0s 893us/sample - loss: 0.5721 - accuracy: 0.8092\n",
      "Epoch 8/10\n",
      "325/325 [==============================] - 0s 856us/sample - loss: 0.5626 - accuracy: 0.8123\n",
      "Epoch 9/10\n",
      "325/325 [==============================] - 0s 841us/sample - loss: 0.4640 - accuracy: 0.8400\n",
      "Epoch 10/10\n",
      "325/325 [==============================] - 0s 836us/sample - loss: 0.4253 - accuracy: 0.8646\n",
      "Train on 320 samples\n",
      "Epoch 1/10\n",
      "320/320 [==============================] - 1s 3ms/sample - loss: 2.2628 - accuracy: 0.1406\n",
      "Epoch 2/10\n",
      "320/320 [==============================] - 0s 844us/sample - loss: 1.9016 - accuracy: 0.3750\n",
      "Epoch 3/10\n",
      "320/320 [==============================] - 0s 852us/sample - loss: 1.4992 - accuracy: 0.5375\n",
      "Epoch 4/10\n",
      "320/320 [==============================] - 0s 846us/sample - loss: 1.1089 - accuracy: 0.6656\n",
      "Epoch 5/10\n",
      "320/320 [==============================] - 0s 827us/sample - loss: 0.8588 - accuracy: 0.7281\n",
      "Epoch 6/10\n",
      "320/320 [==============================] - 0s 872us/sample - loss: 0.6930 - accuracy: 0.7625\n",
      "Epoch 7/10\n",
      "320/320 [==============================] - 0s 842us/sample - loss: 0.5391 - accuracy: 0.8156\n",
      "Epoch 8/10\n",
      "320/320 [==============================] - 0s 865us/sample - loss: 0.4067 - accuracy: 0.8875\n",
      "Epoch 9/10\n",
      "320/320 [==============================] - 0s 838us/sample - loss: 0.3662 - accuracy: 0.8687\n",
      "Epoch 10/10\n",
      "320/320 [==============================] - 0s 819us/sample - loss: 0.3665 - accuracy: 0.8562\n",
      "Train on 316 samples\n",
      "Epoch 1/10\n",
      "316/316 [==============================] - 1s 3ms/sample - loss: 2.2352 - accuracy: 0.1361\n",
      "Epoch 2/10\n",
      "316/316 [==============================] - 0s 922us/sample - loss: 1.8304 - accuracy: 0.5000\n",
      "Epoch 3/10\n",
      "316/316 [==============================] - 0s 921us/sample - loss: 1.2634 - accuracy: 0.6424\n",
      "Epoch 4/10\n",
      "316/316 [==============================] - 0s 835us/sample - loss: 0.9424 - accuracy: 0.6804\n",
      "Epoch 5/10\n",
      "316/316 [==============================] - 0s 859us/sample - loss: 0.7366 - accuracy: 0.7563\n",
      "Epoch 6/10\n",
      "316/316 [==============================] - 0s 882us/sample - loss: 0.6822 - accuracy: 0.7722\n",
      "Epoch 7/10\n",
      "316/316 [==============================] - 0s 908us/sample - loss: 0.5190 - accuracy: 0.8038\n",
      "Epoch 8/10\n",
      "316/316 [==============================] - 0s 854us/sample - loss: 0.4658 - accuracy: 0.8513\n",
      "Epoch 9/10\n",
      "316/316 [==============================] - 0s 864us/sample - loss: 0.3680 - accuracy: 0.9146\n",
      "Epoch 10/10\n",
      "316/316 [==============================] - 0s 940us/sample - loss: 0.3600 - accuracy: 0.8734\n",
      "Train on 338 samples\n",
      "Epoch 1/10\n",
      "338/338 [==============================] - 1s 3ms/sample - loss: 2.2270 - accuracy: 0.2041\n",
      "Epoch 2/10\n",
      "338/338 [==============================] - 0s 1ms/sample - loss: 1.8026 - accuracy: 0.4438\n",
      "Epoch 3/10\n",
      "338/338 [==============================] - 0s 1ms/sample - loss: 1.3251 - accuracy: 0.5769\n",
      "Epoch 4/10\n",
      "338/338 [==============================] - 0s 769us/sample - loss: 0.9643 - accuracy: 0.6716\n",
      "Epoch 5/10\n",
      "338/338 [==============================] - 0s 838us/sample - loss: 0.8084 - accuracy: 0.7456\n",
      "Epoch 6/10\n",
      "338/338 [==============================] - 0s 1ms/sample - loss: 0.6108 - accuracy: 0.7811\n",
      "Epoch 7/10\n",
      "338/338 [==============================] - 0s 1ms/sample - loss: 0.5304 - accuracy: 0.8254\n",
      "Epoch 8/10\n",
      "338/338 [==============================] - 0s 851us/sample - loss: 0.4314 - accuracy: 0.8728\n",
      "Epoch 9/10\n",
      "338/338 [==============================] - 0s 910us/sample - loss: 0.4530 - accuracy: 0.8462\n",
      "Epoch 10/10\n",
      "338/338 [==============================] - 0s 1ms/sample - loss: 0.3311 - accuracy: 0.8935\n",
      "Train on 328 samples\n",
      "Epoch 1/10\n",
      "328/328 [==============================] - 1s 3ms/sample - loss: 2.2457 - accuracy: 0.1433\n",
      "Epoch 2/10\n",
      "328/328 [==============================] - 0s 980us/sample - loss: 1.8666 - accuracy: 0.4939\n",
      "Epoch 3/10\n",
      "328/328 [==============================] - 0s 850us/sample - loss: 1.3641 - accuracy: 0.6098\n",
      "Epoch 4/10\n",
      "328/328 [==============================] - 0s 761us/sample - loss: 0.9777 - accuracy: 0.6921\n",
      "Epoch 5/10\n",
      "328/328 [==============================] - 0s 818us/sample - loss: 0.9075 - accuracy: 0.6707\n",
      "Epoch 6/10\n",
      "328/328 [==============================] - 0s 771us/sample - loss: 0.6854 - accuracy: 0.7713\n",
      "Epoch 7/10\n",
      "328/328 [==============================] - 0s 772us/sample - loss: 0.5562 - accuracy: 0.8110\n",
      "Epoch 8/10\n",
      "328/328 [==============================] - 0s 869us/sample - loss: 0.5105 - accuracy: 0.8018\n",
      "Epoch 9/10\n",
      "328/328 [==============================] - 0s 1ms/sample - loss: 0.4688 - accuracy: 0.8537\n",
      "Epoch 10/10\n",
      "328/328 [==============================] - 0s 1ms/sample - loss: 0.3816 - accuracy: 0.8872\n",
      "Train on 338 samples\n",
      "Epoch 1/10\n",
      "338/338 [==============================] - 1s 2ms/sample - loss: 2.2261 - accuracy: 0.1982\n",
      "Epoch 2/10\n",
      "338/338 [==============================] - 0s 735us/sample - loss: 1.8454 - accuracy: 0.4201\n",
      "Epoch 3/10\n",
      "338/338 [==============================] - 0s 723us/sample - loss: 1.3344 - accuracy: 0.6302\n",
      "Epoch 4/10\n",
      "338/338 [==============================] - 0s 711us/sample - loss: 0.9478 - accuracy: 0.7130\n",
      "Epoch 5/10\n",
      "338/338 [==============================] - 0s 711us/sample - loss: 0.8409 - accuracy: 0.7189\n",
      "Epoch 6/10\n",
      "338/338 [==============================] - 0s 763us/sample - loss: 0.6722 - accuracy: 0.7456\n",
      "Epoch 7/10\n",
      "338/338 [==============================] - 0s 745us/sample - loss: 0.6197 - accuracy: 0.8018\n",
      "Epoch 8/10\n",
      "338/338 [==============================] - 0s 732us/sample - loss: 0.4984 - accuracy: 0.8343\n",
      "Epoch 9/10\n",
      "338/338 [==============================] - 0s 780us/sample - loss: 0.4490 - accuracy: 0.8550\n",
      "Epoch 10/10\n",
      "338/338 [==============================] - 0s 732us/sample - loss: 0.4000 - accuracy: 0.8728\n",
      "Train on 356 samples\n",
      "Epoch 1/10\n",
      "356/356 [==============================] - 1s 3ms/sample - loss: 2.2359 - accuracy: 0.2022\n",
      "Epoch 2/10\n",
      "356/356 [==============================] - 0s 1ms/sample - loss: 1.8436 - accuracy: 0.4466\n",
      "Epoch 3/10\n",
      "356/356 [==============================] - 0s 789us/sample - loss: 1.3506 - accuracy: 0.5983\n",
      "Epoch 4/10\n",
      "356/356 [==============================] - 0s 886us/sample - loss: 0.9988 - accuracy: 0.7275\n",
      "Epoch 5/10\n",
      "356/356 [==============================] - 0s 742us/sample - loss: 0.7353 - accuracy: 0.7697\n",
      "Epoch 6/10\n",
      "356/356 [==============================] - 0s 798us/sample - loss: 0.6058 - accuracy: 0.8174\n",
      "Epoch 7/10\n",
      "356/356 [==============================] - 0s 779us/sample - loss: 0.5299 - accuracy: 0.8652\n",
      "Epoch 8/10\n",
      "356/356 [==============================] - 0s 750us/sample - loss: 0.4533 - accuracy: 0.8652\n",
      "Epoch 9/10\n",
      "356/356 [==============================] - 0s 966us/sample - loss: 0.4126 - accuracy: 0.8708\n",
      "Epoch 10/10\n",
      "356/356 [==============================] - 0s 1ms/sample - loss: 0.3341 - accuracy: 0.8961\n",
      "Train on 364 samples\n",
      "Epoch 1/10\n",
      "364/364 [==============================] - 1s 2ms/sample - loss: 2.2380 - accuracy: 0.2253\n",
      "Epoch 2/10\n",
      "364/364 [==============================] - 0s 734us/sample - loss: 1.8161 - accuracy: 0.5659\n",
      "Epoch 3/10\n",
      "364/364 [==============================] - 0s 732us/sample - loss: 1.2955 - accuracy: 0.6429\n",
      "Epoch 4/10\n",
      "364/364 [==============================] - 0s 753us/sample - loss: 0.9603 - accuracy: 0.6923\n",
      "Epoch 5/10\n",
      "364/364 [==============================] - 0s 740us/sample - loss: 0.8220 - accuracy: 0.7445\n",
      "Epoch 6/10\n",
      "364/364 [==============================] - 0s 727us/sample - loss: 0.6743 - accuracy: 0.7830\n",
      "Epoch 7/10\n",
      "364/364 [==============================] - 0s 755us/sample - loss: 0.5659 - accuracy: 0.8269\n",
      "Epoch 8/10\n",
      "364/364 [==============================] - 0s 752us/sample - loss: 0.5091 - accuracy: 0.8352\n",
      "Epoch 9/10\n",
      "364/364 [==============================] - 0s 737us/sample - loss: 0.4541 - accuracy: 0.8599\n",
      "Epoch 10/10\n",
      "364/364 [==============================] - 0s 758us/sample - loss: 0.3999 - accuracy: 0.8736\n",
      "Train on 338 samples\n",
      "Epoch 1/10\n",
      "338/338 [==============================] - 1s 3ms/sample - loss: 2.2300 - accuracy: 0.1893\n",
      "Epoch 2/10\n",
      "338/338 [==============================] - 0s 1ms/sample - loss: 1.8074 - accuracy: 0.5237\n",
      "Epoch 3/10\n",
      "338/338 [==============================] - 0s 987us/sample - loss: 1.3174 - accuracy: 0.6331\n",
      "Epoch 4/10\n",
      "338/338 [==============================] - 0s 886us/sample - loss: 0.9513 - accuracy: 0.7071\n",
      "Epoch 5/10\n",
      "338/338 [==============================] - 0s 947us/sample - loss: 0.7748 - accuracy: 0.7367\n",
      "Epoch 6/10\n",
      "338/338 [==============================] - 0s 1ms/sample - loss: 0.6841 - accuracy: 0.7811\n",
      "Epoch 7/10\n",
      "338/338 [==============================] - 0s 1ms/sample - loss: 0.5435 - accuracy: 0.8314\n",
      "Epoch 8/10\n",
      "338/338 [==============================] - 0s 985us/sample - loss: 0.5084 - accuracy: 0.8195\n",
      "Epoch 9/10\n",
      "338/338 [==============================] - 0s 859us/sample - loss: 0.4800 - accuracy: 0.8550\n",
      "Epoch 10/10\n",
      "338/338 [==============================] - 0s 810us/sample - loss: 0.4140 - accuracy: 0.8876\n",
      "Train on 356 samples\n",
      "Epoch 1/10\n",
      "356/356 [==============================] - 1s 2ms/sample - loss: 2.2109 - accuracy: 0.2163\n",
      "Epoch 2/10\n",
      "356/356 [==============================] - 0s 775us/sample - loss: 1.7900 - accuracy: 0.5169\n",
      "Epoch 3/10\n",
      "356/356 [==============================] - 0s 804us/sample - loss: 1.2908 - accuracy: 0.6320\n",
      "Epoch 4/10\n",
      "356/356 [==============================] - 0s 794us/sample - loss: 0.9482 - accuracy: 0.7107\n",
      "Epoch 5/10\n",
      "356/356 [==============================] - 0s 760us/sample - loss: 0.7806 - accuracy: 0.7781\n",
      "Epoch 6/10\n",
      "356/356 [==============================] - 0s 860us/sample - loss: 0.6143 - accuracy: 0.8202\n",
      "Epoch 7/10\n",
      "356/356 [==============================] - 0s 849us/sample - loss: 0.4636 - accuracy: 0.8848\n",
      "Epoch 8/10\n",
      "356/356 [==============================] - 0s 777us/sample - loss: 0.4559 - accuracy: 0.8567\n",
      "Epoch 9/10\n",
      "356/356 [==============================] - 0s 820us/sample - loss: 0.3948 - accuracy: 0.8820\n",
      "Epoch 10/10\n",
      "356/356 [==============================] - 0s 814us/sample - loss: 0.3167 - accuracy: 0.8989\n",
      "Train on 321 samples\n",
      "Epoch 1/10\n",
      "321/321 [==============================] - 1s 3ms/sample - loss: 2.2525 - accuracy: 0.1713\n",
      "Epoch 2/10\n",
      "321/321 [==============================] - 0s 977us/sample - loss: 1.8636 - accuracy: 0.4424\n",
      "Epoch 3/10\n",
      "321/321 [==============================] - 0s 856us/sample - loss: 1.3925 - accuracy: 0.5857\n",
      "Epoch 4/10\n",
      "321/321 [==============================] - 0s 1ms/sample - loss: 1.0166 - accuracy: 0.7165\n",
      "Epoch 5/10\n",
      "321/321 [==============================] - 0s 1ms/sample - loss: 0.8779 - accuracy: 0.6978\n",
      "Epoch 6/10\n",
      "321/321 [==============================] - 0s 931us/sample - loss: 0.6786 - accuracy: 0.7882\n",
      "Epoch 7/10\n",
      "321/321 [==============================] - 0s 893us/sample - loss: 0.5130 - accuracy: 0.8287\n",
      "Epoch 8/10\n",
      "321/321 [==============================] - 0s 829us/sample - loss: 0.4389 - accuracy: 0.8816\n",
      "Epoch 9/10\n",
      "321/321 [==============================] - 0s 885us/sample - loss: 0.3931 - accuracy: 0.8692\n",
      "Epoch 10/10\n",
      "321/321 [==============================] - 0s 969us/sample - loss: 0.3342 - accuracy: 0.8754\n"
     ]
    }
   ],
   "source": [
    "model.fit(pdata, plabels, nb_epochs=10)\n",
    "dpa_model_10.fit(pdata, plabels, nb_epochs=10)\n",
    "dpa_model_20.fit(pdata, plabels, nb_epochs=10)\n",
    "dpa_model_30.fit(pdata, plabels, nb_epochs=10)"
   ]
  },
  {
   "cell_type": "markdown",
   "id": "0772f531",
   "metadata": {},
   "source": [
    "# Evaluate the performance of the trained models on unpoisoned data\n",
    "The performance of the models appears normal. We see that for the DPA models, the performance drops slightly as the ensemble size increases"
   ]
  },
  {
   "cell_type": "code",
   "execution_count": 10,
   "id": "fc58c894",
   "metadata": {},
   "outputs": [
    {
     "name": "stdout",
     "output_type": "stream",
     "text": [
      "\n",
      "Clean test set accuracy (model): 98.12%\n"
     ]
    },
    {
     "data": {
      "image/png": "[encoded data removed]",
      "text/plain": [
       "<Figure size 432x288 with 1 Axes>"
      ]
     },
     "metadata": {
      "needs_background": "light"
     },
     "output_type": "display_data"
    },
    {
     "name": "stdout",
     "output_type": "stream",
     "text": [
      "Prediction: 0\n"
     ]
    }
   ],
   "source": [
    "clean_preds = np.argmax(model.predict(x_test), axis=1)\n",
    "clean_correct = np.sum(clean_preds == np.argmax(y_test, axis=1))\n",
    "clean_total = y_test.shape[0]\n",
    "\n",
    "clean_acc = clean_correct / clean_total\n",
    "print(\"\\nClean test set accuracy (model): %.2f%%\" % (clean_acc * 100))\n",
    "\n",
    "# Display image, label, and prediction for a clean sample to show how the poisoned model classifies a clean sample\n",
    "\n",
    "c = 0 # class to display\n",
    "i = 0 # image of the class to display\n",
    "\n",
    "c_idx = np.where(np.argmax(y_test, 1) == c)[0][i] # index of the image in clean arrays\n",
    "\n",
    "plt.imshow(x_test[c_idx].squeeze())\n",
    "plt.show()\n",
    "clean_label = c\n",
    "print(\"Prediction: \" + str(clean_preds[c_idx]))"
   ]
  },
  {
   "cell_type": "code",
   "execution_count": 11,
   "id": "a5a4f6ba",
   "metadata": {},
   "outputs": [
    {
     "name": "stdout",
     "output_type": "stream",
     "text": [
      "\n",
      "Clean test set accuracy (DPA model_10): 93.98%\n"
     ]
    },
    {
     "data": {
      "image/png": "[encoded data removed]",
      "text/plain": [
       "<Figure size 432x288 with 1 Axes>"
      ]
     },
     "metadata": {
      "needs_background": "light"
     },
     "output_type": "display_data"
    },
    {
     "name": "stdout",
     "output_type": "stream",
     "text": [
      "Prediction: 0\n"
     ]
    }
   ],
   "source": [
    "clean_preds = np.argmax(dpa_model_10.predict(x_test), axis=1)\n",
    "clean_correct = np.sum(clean_preds == np.argmax(y_test, axis=1))\n",
    "clean_total = y_test.shape[0]\n",
    "\n",
    "clean_acc = clean_correct / clean_total\n",
    "print(\"\\nClean test set accuracy (DPA model_10): %.2f%%\" % (clean_acc * 100))\n",
    "\n",
    "# Display image, label, and prediction for a clean sample to show how the poisoned model classifies a clean sample\n",
    "\n",
    "c = 0 # class to display\n",
    "i = 0 # image of the class to display\n",
    "\n",
    "c_idx = np.where(np.argmax(y_test, 1) == c)[0][i] # index of the image in clean arrays\n",
    "\n",
    "plt.imshow(x_test[c_idx].squeeze())\n",
    "plt.show()\n",
    "clean_label = c\n",
    "print(\"Prediction: \" + str(clean_preds[c_idx]))"
   ]
  },
  {
   "cell_type": "code",
   "execution_count": 12,
   "id": "98210fb3",
   "metadata": {},
   "outputs": [
    {
     "name": "stdout",
     "output_type": "stream",
     "text": [
      "\n",
      "Clean test set accuracy (DPA model_20): 90.98%\n"
     ]
    },
    {
     "data": {
      "image/png": "[encoded data removed]",
      "text/plain": [
       "<Figure size 432x288 with 1 Axes>"
      ]
     },
     "metadata": {
      "needs_background": "light"
     },
     "output_type": "display_data"
    },
    {
     "name": "stdout",
     "output_type": "stream",
     "text": [
      "Prediction: 0\n"
     ]
    }
   ],
   "source": [
    "clean_preds = np.argmax(dpa_model_20.predict(x_test), axis=1)\n",
    "clean_correct = np.sum(clean_preds == np.argmax(y_test, axis=1))\n",
    "clean_total = y_test.shape[0]\n",
    "\n",
    "clean_acc = clean_correct / clean_total\n",
    "print(\"\\nClean test set accuracy (DPA model_20): %.2f%%\" % (clean_acc * 100))\n",
    "\n",
    "# Display image, label, and prediction for a clean sample to show how the poisoned model classifies a clean sample\n",
    "\n",
    "c = 0 # class to display\n",
    "i = 0 # image of the class to display\n",
    "\n",
    "c_idx = np.where(np.argmax(y_test, 1) == c)[0][i] # index of the image in clean arrays\n",
    "\n",
    "plt.imshow(x_test[c_idx].squeeze())\n",
    "plt.show()\n",
    "clean_label = c\n",
    "print(\"Prediction: \" + str(clean_preds[c_idx]))"
   ]
  },
  {
   "cell_type": "code",
   "execution_count": 13,
   "id": "b9dde08d",
   "metadata": {},
   "outputs": [
    {
     "name": "stdout",
     "output_type": "stream",
     "text": [
      "\n",
      "Clean test set accuracy (DPA model_30): 89.54%\n"
     ]
    },
    {
     "data": {
      "image/png": "[encoded data removed]",
      "text/plain": [
       "<Figure size 432x288 with 1 Axes>"
      ]
     },
     "metadata": {
      "needs_background": "light"
     },
     "output_type": "display_data"
    },
    {
     "name": "stdout",
     "output_type": "stream",
     "text": [
      "Prediction: 0\n"
     ]
    }
   ],
   "source": [
    "clean_preds = np.argmax(dpa_model_30.predict(x_test), axis=1)\n",
    "clean_correct = np.sum(clean_preds == np.argmax(y_test, axis=1))\n",
    "clean_total = y_test.shape[0]\n",
    "\n",
    "clean_acc = clean_correct / clean_total\n",
    "print(\"\\nClean test set accuracy (DPA model_30): %.2f%%\" % (clean_acc * 100))\n",
    "\n",
    "# Display image, label, and prediction for a clean sample to show how the poisoned model classifies a clean sample\n",
    "\n",
    "c = 0 # class to display\n",
    "i = 0 # image of the class to display\n",
    "\n",
    "c_idx = np.where(np.argmax(y_test, 1) == c)[0][i] # index of the image in clean arrays\n",
    "\n",
    "plt.imshow(x_test[c_idx].squeeze())\n",
    "plt.show()\n",
    "clean_label = c\n",
    "print(\"Prediction: \" + str(clean_preds[c_idx]))"
   ]
  },
  {
   "cell_type": "markdown",
   "id": "3607caf7",
   "metadata": {},
   "source": [
    "# Evaluate the performance of the trained models on poisoned data\n",
    "When the trigger is added, we see a shift in performance. The single model performs the worst as no defense is in place to mitigate the effect of the poisoned. The DPA models show some robustnesss to the poison as they partition the training data, which spreads the effect of the poison between models in the ensemble."
   ]
  },
  {
   "cell_type": "code",
   "execution_count": 14,
   "id": "7e599644",
   "metadata": {},
   "outputs": [
    {
     "name": "stdout",
     "output_type": "stream",
     "text": [
      "\n",
      "Poison test set accuracy (model): 0.00%\n"
     ]
    },
    {
     "data": {
      "image/png": "[encoded data removed]",
      "text/plain": [
       "<Figure size 432x288 with 1 Axes>"
      ]
     },
     "metadata": {
      "needs_background": "light"
     },
     "output_type": "display_data"
    },
    {
     "name": "stdout",
     "output_type": "stream",
     "text": [
      "Prediction: 9\n"
     ]
    }
   ],
   "source": [
    "not_target = np.logical_not(np.all(y_test == targets, axis=1))\n",
    "px_test, py_test = backdoor.poison(x_test[not_target], y_test[not_target])\n",
    "\n",
    "poison_preds = np.argmax(model.predict(px_test), axis=1)\n",
    "clean_correct = np.sum(poison_preds == np.argmax(y_test[not_target], axis=1))\n",
    "clean_total = y_test.shape[0]\n",
    "\n",
    "clean_acc = clean_correct / clean_total\n",
    "print(\"\\nPoison test set accuracy (model): %.2f%%\" % (clean_acc * 100))\n",
    "\n",
    "c = 0 # index to display\n",
    "plt.imshow(px_test[c].squeeze())\n",
    "plt.show()\n",
    "clean_label = c\n",
    "print(\"Prediction: \" + str(poison_preds[c]))"
   ]
  },
  {
   "cell_type": "code",
   "execution_count": 15,
   "id": "be663ef0",
   "metadata": {},
   "outputs": [
    {
     "name": "stdout",
     "output_type": "stream",
     "text": [
      "\n",
      "Poison test set accuracy (DPA model_10): 59.01%\n"
     ]
    },
    {
     "data": {
      "image/png": "[encoded data removed]",
      "text/plain": [
       "<Figure size 432x288 with 1 Axes>"
      ]
     },
     "metadata": {
      "needs_background": "light"
     },
     "output_type": "display_data"
    },
    {
     "name": "stdout",
     "output_type": "stream",
     "text": [
      "Prediction: 7\n"
     ]
    }
   ],
   "source": [
    "poison_preds = np.argmax(dpa_model_10.predict(px_test), axis=1)\n",
    "clean_correct = np.sum(poison_preds == np.argmax(y_test[not_target], axis=1))\n",
    "clean_total = y_test.shape[0]\n",
    "\n",
    "clean_acc = clean_correct / clean_total\n",
    "print(\"\\nPoison test set accuracy (DPA model_10): %.2f%%\" % (clean_acc * 100))\n",
    "\n",
    "c = 0 # index to display\n",
    "plt.imshow(px_test[c].squeeze())\n",
    "plt.show()\n",
    "clean_label = c\n",
    "print(\"Prediction: \" + str(poison_preds[c]))"
   ]
  },
  {
   "cell_type": "code",
   "execution_count": 16,
   "id": "770dc1b4",
   "metadata": {},
   "outputs": [
    {
     "name": "stdout",
     "output_type": "stream",
     "text": [
      "\n",
      "Poison test set accuracy (DPA model_20): 68.60%\n"
     ]
    },
    {
     "data": {
      "image/png": "[encoded data removed]",
      "text/plain": [
       "<Figure size 432x288 with 1 Axes>"
      ]
     },
     "metadata": {
      "needs_background": "light"
     },
     "output_type": "display_data"
    },
    {
     "name": "stdout",
     "output_type": "stream",
     "text": [
      "Prediction: 7\n"
     ]
    }
   ],
   "source": [
    "poison_preds = np.argmax(dpa_model_20.predict(px_test), axis=1)\n",
    "clean_correct = np.sum(poison_preds == np.argmax(y_test[not_target], axis=1))\n",
    "clean_total = y_test.shape[0]\n",
    "\n",
    "clean_acc = clean_correct / clean_total\n",
    "print(\"\\nPoison test set accuracy (DPA model_20): %.2f%%\" % (clean_acc * 100))\n",
    "\n",
    "c = 0 # index to display\n",
    "plt.imshow(px_test[c].squeeze())\n",
    "plt.show()\n",
    "clean_label = c\n",
    "print(\"Prediction: \" + str(poison_preds[c]))"
   ]
  },
  {
   "cell_type": "code",
   "execution_count": 17,
   "id": "7230f447",
   "metadata": {},
   "outputs": [
    {
     "name": "stdout",
     "output_type": "stream",
     "text": [
      "\n",
      "Poison test set accuracy (DPA model_30): 70.40%\n"
     ]
    },
    {
     "data": {
      "image/png": "[encoded data removed]",
      "text/plain": [
       "<Figure size 432x288 with 1 Axes>"
      ]
     },
     "metadata": {
      "needs_background": "light"
     },
     "output_type": "display_data"
    },
    {
     "name": "stdout",
     "output_type": "stream",
     "text": [
      "Prediction: 7\n"
     ]
    }
   ],
   "source": [
    "poison_preds = np.argmax(dpa_model_30.predict(px_test), axis=1)\n",
    "clean_correct = np.sum(poison_preds == np.argmax(y_test[not_target], axis=1))\n",
    "clean_total = y_test.shape[0]\n",
    "\n",
    "clean_acc = clean_correct / clean_total\n",
    "print(\"\\nPoison test set accuracy (DPA model_30): %.2f%%\" % (clean_acc * 100))\n",
    "\n",
    "c = 0 # index to display\n",
    "plt.imshow(px_test[c].squeeze())\n",
    "plt.show()\n",
    "clean_label = c\n",
    "print(\"Prediction: \" + str(poison_preds[c]))"
   ]
  },
  {
   "cell_type": "code",
   "execution_count": null,
   "id": "c8f7532e",
   "metadata": {},
   "outputs": [],
   "source": []
  },
  {
   "cell_type": "code",
   "execution_count": null,
   "id": "12d2d850",
   "metadata": {},
   "outputs": [],
   "source": []
  }
 ],
 "metadata": {
  "kernelspec": {
   "display_name": "Python 3",
   "language": "python",
   "name": "python3"
  },
  "language_info": {
   "codemirror_mode": {
    "name": "ipython",
    "version": 3
   },
   "file_extension": ".py",
   "mimetype": "text/x-python",
   "name": "python",
   "nbconvert_exporter": "python",
   "pygments_lexer": "ipython3",
   "version": "3.8.8"
  }
 },
 "nbformat": 4,
 "nbformat_minor": 5
}
