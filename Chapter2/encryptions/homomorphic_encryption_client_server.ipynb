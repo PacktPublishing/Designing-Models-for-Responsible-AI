{
 "cells": [
  {
   "cell_type": "markdown",
   "metadata": {
    "id": "-pVhOfzLx9us"
   },
   "source": [
    "# Using Google Colab with GitHub\n",
    "\n"
   ]
  },
  {
   "cell_type": "markdown",
   "metadata": {
    "id": "wKJ4bd5rt1wy"
   },
   "source": [
    "\n",
    "[Google Colaboratory](http://colab.research.google.com) is designed to integrate cleanly with GitHub, allowing both loading notebooks from github and saving notebooks to github."
   ]
  },
  {
   "cell_type": "markdown",
   "metadata": {
    "id": "K-NVg7RjyeTk"
   },
   "source": [
    "## Loading Public Notebooks Directly from GitHub\n",
    "\n",
    "Colab can load public github notebooks directly, with no required authorization step.\n",
    "\n",
    "For example, consider the notebook at this address: https://github.com/googlecolab/colabtools/blob/master/notebooks/colab-github-demo.ipynb.\n",
    "\n",
    "The direct colab link to this notebook is: https://colab.research.google.com/github/googlecolab/colabtools/blob/master/notebooks/colab-github-demo.ipynb.\n",
    "\n",
    "To generate such links in one click, you can use the [Open in Colab](https://chrome.google.com/webstore/detail/open-in-colab/iogfkhleblhcpcekbiedikdehleodpjo) Chrome extension."
   ]
  },
  {
   "cell_type": "markdown",
   "metadata": {
    "id": "WzIRIt9d2huC"
   },
   "source": [
    "## Browsing GitHub Repositories from Colab\n",
    "\n",
    "Colab also supports special URLs that link directly to a GitHub browser for any user/organization, repository, or branch. For example:\n",
    "\n",
    "- http://colab.research.google.com/github will give you a general github browser, where you can search for any github organization or username.\n",
    "- http://colab.research.google.com/github/googlecolab/ will open the repository browser for the ``googlecolab`` organization. Replace ``googlecolab`` with any other github org or user to see their repositories.\n",
    "- http://colab.research.google.com/github/googlecolab/colabtools/ will let you browse the main branch of the ``colabtools`` repository within the ``googlecolab`` organization. Substitute any user/org and repository to see its contents.\n",
    "- http://colab.research.google.com/github/googlecolab/colabtools/blob/master will let you browse ``master`` branch of the ``colabtools`` repository within the ``googlecolab`` organization. (don't forget the ``blob`` here!) You can specify any valid branch for any valid repository."
   ]
  },
  {
   "cell_type": "markdown",
   "metadata": {
    "id": "Rmai0dD30XzL"
   },
   "source": [
    "## Loading Private Notebooks\n",
    "\n",
    "Loading a notebook from a private GitHub repository is possible, but requires an additional step to allow Colab to access your files.\n",
    "Do the following:\n",
    "\n",
    "1. Navigate to http://colab.research.google.com/github.\n",
    "2. Click the \"Include Private Repos\" checkbox.\n",
    "3. In the popup window, sign-in to your Github account and authorize Colab to read the private files.\n",
    "4. Your private repositories and notebooks will now be available via the github navigation pane."
   ]
  },
  {
   "cell_type": "markdown",
   "metadata": {
    "id": "8J3NBxtZpPcK"
   },
   "source": [
    "## Saving Notebooks To GitHub or Drive\n",
    "\n",
    "Any time you open a GitHub hosted notebook in Colab, it opens a new editable view of the notebook. You can run and modify the notebook without worrying about overwriting the source.\n",
    "\n",
    "If you would like to save your changes from within Colab, you can use the File menu to save the modified notebook either to Google Drive or back to GitHub. Choose **File→Save a copy in Drive** or **File→Save a copy to GitHub** and follow the resulting prompts. To save a Colab notebook to GitHub requires giving Colab permission to push the commit to your repository."
   ]
  },
  {
   "cell_type": "markdown",
   "metadata": {
    "id": "8QAWNjizy_3O"
   },
   "source": [
    "## Open In Colab Badge\n",
    "\n",
    "Anybody can open a copy of any github-hosted notebook within Colab. To make it easier to give people access to live views of GitHub-hosted notebooks,\n",
    "colab provides a [shields.io](http://shields.io/)-style badge, which appears as follows:\n",
    "\n",
    "[![Open In Colab](https://colab.research.google.com/assets/colab-badge.svg)](https://colab.research.google.com/github/googlecolab/colabtools/blob/master/notebooks/colab-github-demo.ipynb)\n",
    "\n",
    "The markdown for the above badge is the following:\n",
    "\n",
    "```markdown\n",
    "[![Open In Colab](https://colab.research.google.com/assets/colab-badge.svg)](https://colab.research.google.com/github/googlecolab/colabtools/blob/master/notebooks/colab-github-demo.ipynb)\n",
    "```\n",
    "\n",
    "The HTML equivalent is:\n",
    "\n",
    "```HTML\n",
    "<a href=\"https://colab.research.google.com/github/googlecolab/colabtools/blob/master/notebooks/colab-github-demo.ipynb\">\n",
    "  <img src=\"https://colab.research.google.com/assets/colab-badge.svg\" alt=\"Open In Colab\"/>\n",
    "</a>\n",
    "```\n",
    "\n",
    "Remember to replace the notebook URL in this template with the notebook you want to link to."
   ]
  },
  {
   "cell_type": "code",
   "execution_count": 1,
   "metadata": {
    "colab": {
     "base_uri": "https://localhost:8080/"
    },
    "id": "3VQqVi-3ScBC",
    "outputId": "424b96bd-76a4-4d42-87e9-bda6792e3147"
   },
   "outputs": [
    {
     "name": "stdout",
     "output_type": "stream",
     "text": [
      "Collecting Pyfhel\n",
      "  Downloading Pyfhel-2.3.1.tar.gz (716 kB)\n",
      "\u001b[?25l\r",
      "\u001b[K     |▌                               | 10 kB 20.6 MB/s eta 0:00:01\r",
      "\u001b[K     |█                               | 20 kB 25.6 MB/s eta 0:00:01\r",
      "\u001b[K     |█▍                              | 30 kB 30.7 MB/s eta 0:00:01\r",
      "\u001b[K     |█▉                              | 40 kB 34.5 MB/s eta 0:00:01\r",
      "\u001b[K     |██▎                             | 51 kB 34.5 MB/s eta 0:00:01\r",
      "\u001b[K     |██▊                             | 61 kB 25.1 MB/s eta 0:00:01\r",
      "\u001b[K     |███▏                            | 71 kB 23.9 MB/s eta 0:00:01\r",
      "\u001b[K     |███▋                            | 81 kB 25.5 MB/s eta 0:00:01\r",
      "\u001b[K     |████▏                           | 92 kB 27.2 MB/s eta 0:00:01\r",
      "\u001b[K     |████▋                           | 102 kB 22.7 MB/s eta 0:00:01\r",
      "\u001b[K     |█████                           | 112 kB 22.7 MB/s eta 0:00:01\r",
      "\u001b[K     |█████▌                          | 122 kB 22.7 MB/s eta 0:00:01\r",
      "\u001b[K     |██████                          | 133 kB 22.7 MB/s eta 0:00:01\r",
      "\u001b[K     |██████▍                         | 143 kB 22.7 MB/s eta 0:00:01\r",
      "\u001b[K     |██████▉                         | 153 kB 22.7 MB/s eta 0:00:01\r",
      "\u001b[K     |███████▎                        | 163 kB 22.7 MB/s eta 0:00:01\r",
      "\u001b[K     |███████▉                        | 174 kB 22.7 MB/s eta 0:00:01\r",
      "\u001b[K     |████████▎                       | 184 kB 22.7 MB/s eta 0:00:01\r",
      "\u001b[K     |████████▊                       | 194 kB 22.7 MB/s eta 0:00:01\r",
      "\u001b[K     |█████████▏                      | 204 kB 22.7 MB/s eta 0:00:01\r",
      "\u001b[K     |█████████▋                      | 215 kB 22.7 MB/s eta 0:00:01\r",
      "\u001b[K     |██████████                      | 225 kB 22.7 MB/s eta 0:00:01\r",
      "\u001b[K     |██████████▌                     | 235 kB 22.7 MB/s eta 0:00:01\r",
      "\u001b[K     |███████████                     | 245 kB 22.7 MB/s eta 0:00:01\r",
      "\u001b[K     |███████████▍                    | 256 kB 22.7 MB/s eta 0:00:01\r",
      "\u001b[K     |████████████                    | 266 kB 22.7 MB/s eta 0:00:01\r",
      "\u001b[K     |████████████▍                   | 276 kB 22.7 MB/s eta 0:00:01\r",
      "\u001b[K     |████████████▉                   | 286 kB 22.7 MB/s eta 0:00:01\r",
      "\u001b[K     |█████████████▎                  | 296 kB 22.7 MB/s eta 0:00:01\r",
      "\u001b[K     |█████████████▊                  | 307 kB 22.7 MB/s eta 0:00:01\r",
      "\u001b[K     |██████████████▏                 | 317 kB 22.7 MB/s eta 0:00:01\r",
      "\u001b[K     |██████████████▋                 | 327 kB 22.7 MB/s eta 0:00:01\r",
      "\u001b[K     |███████████████                 | 337 kB 22.7 MB/s eta 0:00:01\r",
      "\u001b[K     |███████████████▋                | 348 kB 22.7 MB/s eta 0:00:01\r",
      "\u001b[K     |████████████████                | 358 kB 22.7 MB/s eta 0:00:01\r",
      "\u001b[K     |████████████████▌               | 368 kB 22.7 MB/s eta 0:00:01\r",
      "\u001b[K     |█████████████████               | 378 kB 22.7 MB/s eta 0:00:01\r",
      "\u001b[K     |█████████████████▍              | 389 kB 22.7 MB/s eta 0:00:01\r",
      "\u001b[K     |█████████████████▉              | 399 kB 22.7 MB/s eta 0:00:01\r",
      "\u001b[K     |██████████████████▎             | 409 kB 22.7 MB/s eta 0:00:01\r",
      "\u001b[K     |██████████████████▊             | 419 kB 22.7 MB/s eta 0:00:01\r",
      "\u001b[K     |███████████████████▏            | 430 kB 22.7 MB/s eta 0:00:01\r",
      "\u001b[K     |███████████████████▊            | 440 kB 22.7 MB/s eta 0:00:01\r",
      "\u001b[K     |████████████████████▏           | 450 kB 22.7 MB/s eta 0:00:01\r",
      "\u001b[K     |████████████████████▋           | 460 kB 22.7 MB/s eta 0:00:01\r",
      "\u001b[K     |█████████████████████           | 471 kB 22.7 MB/s eta 0:00:01\r",
      "\u001b[K     |█████████████████████▌          | 481 kB 22.7 MB/s eta 0:00:01\r",
      "\u001b[K     |██████████████████████          | 491 kB 22.7 MB/s eta 0:00:01\r",
      "\u001b[K     |██████████████████████▍         | 501 kB 22.7 MB/s eta 0:00:01\r",
      "\u001b[K     |██████████████████████▉         | 512 kB 22.7 MB/s eta 0:00:01\r",
      "\u001b[K     |███████████████████████▍        | 522 kB 22.7 MB/s eta 0:00:01\r",
      "\u001b[K     |███████████████████████▉        | 532 kB 22.7 MB/s eta 0:00:01\r",
      "\u001b[K     |████████████████████████▎       | 542 kB 22.7 MB/s eta 0:00:01\r",
      "\u001b[K     |████████████████████████▊       | 552 kB 22.7 MB/s eta 0:00:01\r",
      "\u001b[K     |█████████████████████████▏      | 563 kB 22.7 MB/s eta 0:00:01\r",
      "\u001b[K     |█████████████████████████▋      | 573 kB 22.7 MB/s eta 0:00:01\r",
      "\u001b[K     |██████████████████████████      | 583 kB 22.7 MB/s eta 0:00:01\r",
      "\u001b[K     |██████████████████████████▌     | 593 kB 22.7 MB/s eta 0:00:01\r",
      "\u001b[K     |███████████████████████████     | 604 kB 22.7 MB/s eta 0:00:01\r",
      "\u001b[K     |███████████████████████████▌    | 614 kB 22.7 MB/s eta 0:00:01\r",
      "\u001b[K     |████████████████████████████    | 624 kB 22.7 MB/s eta 0:00:01\r",
      "\u001b[K     |████████████████████████████▍   | 634 kB 22.7 MB/s eta 0:00:01\r",
      "\u001b[K     |████████████████████████████▉   | 645 kB 22.7 MB/s eta 0:00:01\r",
      "\u001b[K     |█████████████████████████████▎  | 655 kB 22.7 MB/s eta 0:00:01\r",
      "\u001b[K     |█████████████████████████████▊  | 665 kB 22.7 MB/s eta 0:00:01\r",
      "\u001b[K     |██████████████████████████████▏ | 675 kB 22.7 MB/s eta 0:00:01\r",
      "\u001b[K     |██████████████████████████████▋ | 686 kB 22.7 MB/s eta 0:00:01\r",
      "\u001b[K     |███████████████████████████████▏| 696 kB 22.7 MB/s eta 0:00:01\r",
      "\u001b[K     |███████████████████████████████▋| 706 kB 22.7 MB/s eta 0:00:01\r",
      "\u001b[K     |████████████████████████████████| 716 kB 22.7 MB/s \n",
      "\u001b[?25h  Installing build dependencies ... \u001b[?25l\u001b[?25hdone\n",
      "  Getting requirements to build wheel ... \u001b[?25l\u001b[?25hdone\n",
      "    Preparing wheel metadata ... \u001b[?25l\u001b[?25hdone\n",
      "Requirement already satisfied: cython>=0.29.2 in /usr/local/lib/python3.7/dist-packages (from Pyfhel) (0.29.26)\n",
      "Requirement already satisfied: setuptools>=45.0.0 in /usr/local/lib/python3.7/dist-packages (from Pyfhel) (57.4.0)\n",
      "Requirement already satisfied: numpy>=1.16.0 in /usr/local/lib/python3.7/dist-packages (from Pyfhel) (1.19.5)\n",
      "Building wheels for collected packages: Pyfhel\n",
      "  Building wheel for Pyfhel (PEP 517) ... \u001b[?25l\u001b[?25hdone\n",
      "  Created wheel for Pyfhel: filename=Pyfhel-2.3.1-cp37-cp37m-linux_x86_64.whl size=6187022 sha256=3b4ee41f6796325c590a206c459f7ed8faf1668fcfa2bf060505b2f202a272ef\n",
      "  Stored in directory: /root/.cache/pip/wheels/97/26/59/0bac9d03308c3f7b3bf5b39366949696d8ce34f4c2054206ff\n",
      "Successfully built Pyfhel\n",
      "Installing collected packages: Pyfhel\n",
      "Successfully installed Pyfhel-2.3.1\n"
     ]
    }
   ],
   "source": [
    "!pip install Pyfhel"
   ]
  },
  {
   "cell_type": "code",
   "execution_count": 3,
   "metadata": {
    "colab": {
     "base_uri": "https://localhost:8080/"
    },
    "id": "SRqTwLQMN67X",
    "outputId": "817dc32c-1987-4985-e6e6-2171061c2fa2"
   },
   "outputs": [
    {
     "name": "stdout",
     "output_type": "stream",
     "text": [
      "The cloud tried to decrypt, but couldn't!\n",
      "Client decrypt results 2.0\n"
     ]
    }
   ],
   "source": [
    "\"\"\"\n",
    "Client/Server demo with Pyfhel\n",
    "========================================\n",
    "Context Parameters shows how several parameters affect performance.\n",
    "\"\"\"\n",
    "\n",
    "from Pyfhel import Pyfhel, PyPtxt, PyCtxt\n",
    "import tempfile\n",
    "from pathlib import Path\n",
    "\n",
    "# Using a temporary dir as a \"secure channel\"\n",
    "# This can be changed into real communication using other python libraries.\n",
    "secure_channel = tempfile.TemporaryDirectory()\n",
    "sec_con = Path(secure_channel.name)\n",
    "pk_file = sec_con / \"mypk.pk\"\n",
    "contx_file = sec_con / \"mycontx.con\"\n",
    "\n",
    "\n",
    "##### CLIENT\n",
    "#HE Object Creation, including the public and private keys\n",
    "HE = Pyfhel()\n",
    "HE.contextGen(p=65537, m=2**12)\n",
    "HE.keyGen() # Generates both a public and a private key\n",
    "\n",
    "# Saving only the public key and the context\n",
    "HE.savepublicKey(pk_file)\n",
    "HE.saveContext(contx_file)\n",
    "\n",
    "# Serializing two float values\n",
    "a = 1.5\n",
    "b = 2.5\n",
    "ca = HE.encryptFrac(a)\n",
    "cb = HE.encryptFrac(b)\n",
    "\n",
    "ca.to_file(sec_con / \"ca.ctxt\")\n",
    "cb.to_file(sec_con / \"cb.ctxt\")\n",
    "\n",
    "\n",
    "\n",
    "\n",
    "##### SEMI-HONEST CLOUD\n",
    "# Generating a second HE, acting as the honest-but-curious Cloud provider,\n",
    "#  that will perform the operations and try to decrypt everything\n",
    "HE_Cl = Pyfhel()\n",
    "HE_Cl.restoreContext(contx_file)\n",
    "HE_Cl.restorepublicKey(pk_file)\n",
    "\n",
    "# loading the two ciphertexts. There is clearly potential for improvement here\n",
    "c2a = PyCtxt(pyfhel=HE_Cl, fileName=sec_con / \"ca.ctxt\", encoding=float)\n",
    "c2b = PyCtxt(pyfhel=HE_Cl, fileName=sec_con / \"cb.ctxt\", encoding=float)\n",
    "\n",
    "# Attempting to decrypt results raises an error (missing secret key)\n",
    "#> ---------------------------------------------------------------------------\n",
    "#> RuntimeError                              Traceback (most recent call last)\n",
    "#> Pyfhel/Pyfhel.pyx in Pyfhel.Pyfhel.Pyfhel.decryptFrac()\n",
    "#> RuntimeError: Missing a Private Key [...]\n",
    "try:\n",
    "    print(HE_Cl.decrypt(c2a))\n",
    "    raise Exception(\"This should not be reached!\")\n",
    "except RuntimeError:\n",
    "    print(\"The cloud tried to decrypt, but couldn't!\")\n",
    "\n",
    "# The cloud operates with the ciphertexts:\n",
    "c_mean = (c2a + c2b) / 2\n",
    "\n",
    "# And sends the result back\n",
    "c_mean.to_file(sec_con / \"c_mean.ctxt\")\n",
    "\n",
    "\n",
    "\n",
    "\n",
    "##### CLIENT\n",
    "# Load and decrypt Result\n",
    "c_res = PyCtxt(pyfhel=HE, fileName=sec_con / \"c_mean.ctxt\", encoding=float)\n",
    "print(\"Client decrypt results\", c_res.decrypt())\n",
    "\n",
    "\n",
    "# Cleaning up secure channel\n",
    "secure_channel.cleanup()\n",
    "\n",
    "\n",
    "\n",
    "# sphinx_gallery_thumbnail_path = 'static/thumbnails/clientServer.png'"
   ]
  }
 ],
 "metadata": {
  "colab": {
   "collapsed_sections": [],
   "name": "colab-github-demo.ipynb",
   "provenance": []
  },
  "kernelspec": {
   "display_name": "Python 3",
   "language": "python",
   "name": "python3"
  },
  "language_info": {
   "codemirror_mode": {
    "name": "ipython",
    "version": 3
   },
   "file_extension": ".py",
   "mimetype": "text/x-python",
   "name": "python",
   "nbconvert_exporter": "python",
   "pygments_lexer": "ipython3",
   "version": "3.8.8"
  }
 },
 "nbformat": 4,
 "nbformat_minor": 1
}
