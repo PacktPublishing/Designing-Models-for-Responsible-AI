{
 "cells": [
  {
   "cell_type": "markdown",
   "metadata": {},
   "source": [
    "In this notebook we learn about how the learned functions differ when we compare a standard and a Differentially Private\n",
    "ExplainableBoostingRegressor. Here we have used the California housing dataset and evaluated the performance metrics \n",
    "(feature importance score and density) to understand the differences.                  "
   ]
  },
  {
   "cell_type": "markdown",
   "metadata": {},
   "source": [
    "## Load Data"
   ]
  },
  {
   "cell_type": "code",
   "execution_count": 1,
   "metadata": {},
   "outputs": [],
   "source": [
    "import pandas as pd\n",
    "from sklearn.datasets import fetch_california_housing\n",
    "from sklearn.model_selection import train_test_split\n",
    "\n",
    "california_housing = fetch_california_housing()\n",
    "feature_names = list(california_housing.feature_names)\n",
    "df = pd.DataFrame(california_housing.data, columns=feature_names)\n",
    "df[\"target\"] = california_housing.target\n",
    "# df = df.sample(frac=0.1, random_state=1)\n",
    "train_cols = df.columns[0:-1]\n",
    "label = df.columns[-1]\n",
    "X = df[train_cols]\n",
    "y = df[label]\n",
    "\n",
    "seed = 1\n",
    "X_train, X_test, y_train, y_test = train_test_split(X, y, test_size=0.20, random_state=seed)"
   ]
  },
  {
   "cell_type": "markdown",
   "metadata": {},
   "source": [
    "## Fit and compare DP-EBM vs. standard EBM"
   ]
  },
  {
   "cell_type": "code",
   "execution_count": 2,
   "metadata": {},
   "outputs": [
    {
     "name": "stderr",
     "output_type": "stream",
     "text": [
      "/opt/anaconda3/lib/python3.8/site-packages/interpret/glassbox/ebm/ebm.py:843: UserWarning: Possible privacy violation: assuming min/max values per feature/target are public info.Pass a privacy schema with known public ranges to avoid this warning.\n",
      "  warn(\"Possible privacy violation: assuming min/max values per feature/target are public info.\"\n"
     ]
    },
    {
     "name": "stdout",
     "output_type": "stream",
     "text": [
      "DP EBM with eps: 0.05 and delta: 1e-06 trained in 2.89 seconds with a test MAE of 0.826,      MSE of 1.151 and RMSE of 1.073\n",
      "EBM trained in -0.00 seconds with a test MAE of 0.826,      MSE of 1.151 and RMSE of 1.073\n"
     ]
    }
   ],
   "source": [
    "from interpret.privacy import DPExplainableBoostingRegressor\n",
    "from interpret.glassbox import ExplainableBoostingRegressor, LinearRegression, RegressionTree\n",
    "import time\n",
    "from sklearn.metrics import mean_absolute_error, mean_squared_error\n",
    "\n",
    "start = time.time()\n",
    "dpebm = DPExplainableBoostingRegressor(epsilon=.05, delta=1e-6)\n",
    "_ = dpebm.fit(X_train, y_train)\n",
    "y_pred = dpebm.predict(X_test)\n",
    "\n",
    "dp_mae = mean_absolute_error(y_test, y_pred)\n",
    "dp_mse = mean_squared_error(y_test, y_pred)\n",
    "dp_rmse = mean_squared_error(y_test, y_pred, squared=False)\n",
    "end = time.time()\n",
    "\n",
    "print(f\"DP EBM with eps: {dpebm.epsilon} and delta: {dpebm.delta} trained in {end - start:.2f} seconds with a test MAE of {dp_mae:.3f},\\\n",
    "      MSE of {dp_mse:.3f} and RMSE of {dp_rmse:.3f}\")\n",
    "\n",
    "\n",
    "start = time.time()\n",
    "ebm = ExplainableBoostingRegressor()\n",
    "_ = ebm.fit(X_train, y_train)\n",
    "\n",
    "ebm_mae = mean_absolute_error(y_test, y_pred)\n",
    "ebm_mse = mean_squared_error(y_test, y_pred)\n",
    "ebm_rmse = mean_squared_error(y_test, y_pred, squared=False)\n",
    "print(f\"EBM trained in {end - start:.2f} seconds with a test MAE of {ebm_mae:.3f},\\\n",
    "      MSE of {ebm_mse:.3f} and RMSE of {ebm_rmse:.3f}\")"
   ]
  },
  {
   "cell_type": "markdown",
   "metadata": {},
   "source": [
    "## See differences in learned shape functions"
   ]
  },
  {
   "cell_type": "code",
   "execution_count": 3,
   "metadata": {
    "scrolled": false
   },
   "outputs": [
    {
     "name": "stderr",
     "output_type": "stream",
     "text": [
      "/opt/anaconda3/lib/python3.8/site-packages/interpret/visual/udash.py:5: UserWarning: \n",
      "The dash_html_components package is deprecated. Please replace\n",
      "`import dash_html_components as html` with `from dash import html`\n",
      "  import dash_html_components as html\n",
      "/opt/anaconda3/lib/python3.8/site-packages/interpret/visual/udash.py:6: UserWarning: \n",
      "The dash_core_components package is deprecated. Please replace\n",
      "`import dash_core_components as dcc` with `from dash import dcc`\n",
      "  import dash_core_components as dcc\n",
      "/opt/anaconda3/lib/python3.8/site-packages/interpret/visual/udash.py:7: UserWarning: \n",
      "The dash_table package is deprecated. Please replace\n",
      "`import dash_table` with `from dash import dash_table`\n",
      "\n",
      "Also, if you're using any of the table format helpers (e.g. Group), replace \n",
      "`from dash_table.Format import Group` with \n",
      "`from dash.dash_table.Format import Group`\n",
      "  import dash_table as dt\n"
     ]
    },
    {
     "data": {
      "text/html": [
       "<!-- http://127.0.0.1:7110/140688685445472/ -->\n",
       "<iframe src=\"http://127.0.0.1:7110/140688685445472/\" width=100% height=800 frameBorder=\"0\"></iframe>"
      ]
     },
     "metadata": {},
     "output_type": "display_data"
    },
    {
     "data": {
      "text/html": [
       "<!-- http://127.0.0.1:7110/140688740207872/ -->\n",
       "<iframe src=\"http://127.0.0.1:7110/140688740207872/\" width=100% height=800 frameBorder=\"0\"></iframe>"
      ]
     },
     "metadata": {},
     "output_type": "display_data"
    }
   ],
   "source": [
    "from interpret import show\n",
    "show(ebm.explain_global(name='Standard EBM'))\n",
    "show(dpebm.explain_global(name='DP EBM'))"
   ]
  }
 ],
 "metadata": {
  "interpreter": {
   "hash": "4e82109feb0bcd05aa1d1dad481507dcb726f7a15c255cdce6cade250a27f8b6"
  },
  "kernelspec": {
   "display_name": "Python 3",
   "language": "python",
   "name": "python3"
  },
  "language_info": {
   "codemirror_mode": {
    "name": "ipython",
    "version": 3
   },
   "file_extension": ".py",
   "mimetype": "text/x-python",
   "name": "python",
   "nbconvert_exporter": "python",
   "pygments_lexer": "ipython3",
   "version": "3.8.8"
  }
 },
 "nbformat": 4,
 "nbformat_minor": 1
}
