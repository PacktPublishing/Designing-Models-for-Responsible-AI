{
 "cells": [
  {
   "cell_type": "markdown",
   "metadata": {},
   "source": [
    "In this notebook we learn about how to use interpretable machine learning for a Classification model on adult_income. \n",
    "Here we study about both Global and Local explanations to understand the models overall prediction as well as a single prediction of an outcome. We also compare the performance of Logistic Regression and Classification tree."
   ]
  },
  {
   "cell_type": "markdown",
   "metadata": {},
   "source": [
    "## Setup a classification experiment"
   ]
  },
  {
   "cell_type": "code",
   "execution_count": 1,
   "metadata": {},
   "outputs": [],
   "source": [
    "import pandas as pd\n",
    "from sklearn.model_selection import train_test_split\n",
    "\n",
    "df = pd.read_csv(\n",
    "    \"https://archive.ics.uci.edu/ml/machine-learning-databases/adult/adult.data\",\n",
    "    header=None)\n",
    "df.columns = [\n",
    "    \"Age\", \"WorkClass\", \"fnlwgt\", \"Education\", \"EducationNum\",\n",
    "    \"MaritalStatus\", \"Occupation\", \"Relationship\", \"Race\", \"Gender\",\n",
    "    \"CapitalGain\", \"CapitalLoss\", \"HoursPerWeek\", \"NativeCountry\", \"Income\"\n",
    "]\n",
    "# df = df.sample(frac=0.1, random_state=1)\n",
    "train_cols = df.columns[0:-1]\n",
    "label = df.columns[-1]\n",
    "X = df[train_cols]\n",
    "y = df[label].apply(lambda x: 0 if x == \" <=50K\" else 1) #Turning response into 0 and 1\n",
    "\n",
    "seed = 1\n",
    "X_train, X_test, y_train, y_test = train_test_split(X, y, test_size=0.20, random_state=seed)"
   ]
  },
  {
   "cell_type": "markdown",
   "metadata": {},
   "source": [
    "## Explore the dataset"
   ]
  },
  {
   "cell_type": "code",
   "execution_count": 2,
   "metadata": {},
   "outputs": [
    {
     "name": "stderr",
     "output_type": "stream",
     "text": [
      "/opt/anaconda3/lib/python3.8/site-packages/interpret/visual/udash.py:5: UserWarning: \n",
      "The dash_html_components package is deprecated. Please replace\n",
      "`import dash_html_components as html` with `from dash import html`\n",
      "  import dash_html_components as html\n",
      "/opt/anaconda3/lib/python3.8/site-packages/interpret/visual/udash.py:6: UserWarning: \n",
      "The dash_core_components package is deprecated. Please replace\n",
      "`import dash_core_components as dcc` with `from dash import dcc`\n",
      "  import dash_core_components as dcc\n",
      "/opt/anaconda3/lib/python3.8/site-packages/interpret/visual/udash.py:7: UserWarning: \n",
      "The dash_table package is deprecated. Please replace\n",
      "`import dash_table` with `from dash import dash_table`\n",
      "\n",
      "Also, if you're using any of the table format helpers (e.g. Group), replace \n",
      "`from dash_table.Format import Group` with \n",
      "`from dash.dash_table.Format import Group`\n",
      "  import dash_table as dt\n"
     ]
    },
    {
     "data": {
      "text/html": [
       "<!-- http://127.0.0.1:7001/140532339248768/ -->\n",
       "<iframe src=\"http://127.0.0.1:7001/140532339248768/\" width=100% height=800 frameBorder=\"0\"></iframe>"
      ]
     },
     "metadata": {},
     "output_type": "display_data"
    }
   ],
   "source": [
    "from interpret import show\n",
    "from interpret.data import ClassHistogram\n",
    "\n",
    "hist = ClassHistogram().explain_data(X_train, y_train, name = 'Train Data')\n",
    "show(hist)"
   ]
  },
  {
   "cell_type": "markdown",
   "metadata": {},
   "source": [
    "## Train the Explainable Boosting Machine (EBM)"
   ]
  },
  {
   "cell_type": "code",
   "execution_count": 3,
   "metadata": {},
   "outputs": [
    {
     "data": {
      "text/html": [
       "<style>#sk-container-id-1 {color: black;background-color: white;}#sk-container-id-1 pre{padding: 0;}#sk-container-id-1 div.sk-toggleable {background-color: white;}#sk-container-id-1 label.sk-toggleable__label {cursor: pointer;display: block;width: 100%;margin-bottom: 0;padding: 0.3em;box-sizing: border-box;text-align: center;}#sk-container-id-1 label.sk-toggleable__label-arrow:before {content: \"▸\";float: left;margin-right: 0.25em;color: #696969;}#sk-container-id-1 label.sk-toggleable__label-arrow:hover:before {color: black;}#sk-container-id-1 div.sk-estimator:hover label.sk-toggleable__label-arrow:before {color: black;}#sk-container-id-1 div.sk-toggleable__content {max-height: 0;max-width: 0;overflow: hidden;text-align: left;background-color: #f0f8ff;}#sk-container-id-1 div.sk-toggleable__content pre {margin: 0.2em;color: black;border-radius: 0.25em;background-color: #f0f8ff;}#sk-container-id-1 input.sk-toggleable__control:checked~div.sk-toggleable__content {max-height: 200px;max-width: 100%;overflow: auto;}#sk-container-id-1 input.sk-toggleable__control:checked~label.sk-toggleable__label-arrow:before {content: \"▾\";}#sk-container-id-1 div.sk-estimator input.sk-toggleable__control:checked~label.sk-toggleable__label {background-color: #d4ebff;}#sk-container-id-1 div.sk-label input.sk-toggleable__control:checked~label.sk-toggleable__label {background-color: #d4ebff;}#sk-container-id-1 input.sk-hidden--visually {border: 0;clip: rect(1px 1px 1px 1px);clip: rect(1px, 1px, 1px, 1px);height: 1px;margin: -1px;overflow: hidden;padding: 0;position: absolute;width: 1px;}#sk-container-id-1 div.sk-estimator {font-family: monospace;background-color: #f0f8ff;border: 1px dotted black;border-radius: 0.25em;box-sizing: border-box;margin-bottom: 0.5em;}#sk-container-id-1 div.sk-estimator:hover {background-color: #d4ebff;}#sk-container-id-1 div.sk-parallel-item::after {content: \"\";width: 100%;border-bottom: 1px solid gray;flex-grow: 1;}#sk-container-id-1 div.sk-label:hover label.sk-toggleable__label {background-color: #d4ebff;}#sk-container-id-1 div.sk-serial::before {content: \"\";position: absolute;border-left: 1px solid gray;box-sizing: border-box;top: 0;bottom: 0;left: 50%;z-index: 0;}#sk-container-id-1 div.sk-serial {display: flex;flex-direction: column;align-items: center;background-color: white;padding-right: 0.2em;padding-left: 0.2em;position: relative;}#sk-container-id-1 div.sk-item {position: relative;z-index: 1;}#sk-container-id-1 div.sk-parallel {display: flex;align-items: stretch;justify-content: center;background-color: white;position: relative;}#sk-container-id-1 div.sk-item::before, #sk-container-id-1 div.sk-parallel-item::before {content: \"\";position: absolute;border-left: 1px solid gray;box-sizing: border-box;top: 0;bottom: 0;left: 50%;z-index: -1;}#sk-container-id-1 div.sk-parallel-item {display: flex;flex-direction: column;z-index: 1;position: relative;background-color: white;}#sk-container-id-1 div.sk-parallel-item:first-child::after {align-self: flex-end;width: 50%;}#sk-container-id-1 div.sk-parallel-item:last-child::after {align-self: flex-start;width: 50%;}#sk-container-id-1 div.sk-parallel-item:only-child::after {width: 0;}#sk-container-id-1 div.sk-dashed-wrapped {border: 1px dashed gray;margin: 0 0.4em 0.5em 0.4em;box-sizing: border-box;padding-bottom: 0.4em;background-color: white;}#sk-container-id-1 div.sk-label label {font-family: monospace;font-weight: bold;display: inline-block;line-height: 1.2em;}#sk-container-id-1 div.sk-label-container {text-align: center;}#sk-container-id-1 div.sk-container {/* jupyter's `normalize.less` sets `[hidden] { display: none; }` but bootstrap.min.css set `[hidden] { display: none !important; }` so we also need the `!important` here to be able to override the default hidden behavior on the sphinx rendered scikit-learn.org. See: https://github.com/scikit-learn/scikit-learn/issues/21755 */display: inline-block !important;position: relative;}#sk-container-id-1 div.sk-text-repr-fallback {display: none;}</style><div id=\"sk-container-id-1\" class=\"sk-top-container\"><div class=\"sk-text-repr-fallback\"><pre>ExplainableBoostingClassifier(feature_names=[&#x27;Age&#x27;, &#x27;WorkClass&#x27;, &#x27;fnlwgt&#x27;,\n",
       "                                             &#x27;Education&#x27;, &#x27;EducationNum&#x27;,\n",
       "                                             &#x27;MaritalStatus&#x27;, &#x27;Occupation&#x27;,\n",
       "                                             &#x27;Relationship&#x27;, &#x27;Race&#x27;, &#x27;Gender&#x27;,\n",
       "                                             &#x27;CapitalGain&#x27;, &#x27;CapitalLoss&#x27;,\n",
       "                                             &#x27;HoursPerWeek&#x27;, &#x27;NativeCountry&#x27;,\n",
       "                                             &#x27;Relationship x HoursPerWeek&#x27;,\n",
       "                                             &#x27;Age x Relationship&#x27;,\n",
       "                                             &#x27;EducationNum x Occupation&#x27;,\n",
       "                                             &#x27;MaritalStatus x HoursPerWeek&#x27;,\n",
       "                                             &#x27;Occupation x Relationship&#x27;,\n",
       "                                             &#x27;Occ...\n",
       "                              feature_types=[&#x27;continuous&#x27;, &#x27;categorical&#x27;,\n",
       "                                             &#x27;continuous&#x27;, &#x27;categorical&#x27;,\n",
       "                                             &#x27;continuous&#x27;, &#x27;categorical&#x27;,\n",
       "                                             &#x27;categorical&#x27;, &#x27;categorical&#x27;,\n",
       "                                             &#x27;categorical&#x27;, &#x27;categorical&#x27;,\n",
       "                                             &#x27;continuous&#x27;, &#x27;continuous&#x27;,\n",
       "                                             &#x27;continuous&#x27;, &#x27;categorical&#x27;,\n",
       "                                             &#x27;interaction&#x27;, &#x27;interaction&#x27;,\n",
       "                                             &#x27;interaction&#x27;, &#x27;interaction&#x27;,\n",
       "                                             &#x27;interaction&#x27;, &#x27;interaction&#x27;,\n",
       "                                             &#x27;interaction&#x27;, &#x27;interaction&#x27;,\n",
       "                                             &#x27;interaction&#x27;, &#x27;interaction&#x27;],\n",
       "                              n_jobs=-1, random_state=1)</pre><b>In a Jupyter environment, please rerun this cell to show the HTML representation or trust the notebook. <br />On GitHub, the HTML representation is unable to render, please try loading this page with nbviewer.org.</b></div><div class=\"sk-container\" hidden><div class=\"sk-item\"><div class=\"sk-estimator sk-toggleable\"><input class=\"sk-toggleable__control sk-hidden--visually\" id=\"sk-estimator-id-1\" type=\"checkbox\" checked><label for=\"sk-estimator-id-1\" class=\"sk-toggleable__label sk-toggleable__label-arrow\">ExplainableBoostingClassifier</label><div class=\"sk-toggleable__content\"><pre>ExplainableBoostingClassifier(feature_names=[&#x27;Age&#x27;, &#x27;WorkClass&#x27;, &#x27;fnlwgt&#x27;,\n",
       "                                             &#x27;Education&#x27;, &#x27;EducationNum&#x27;,\n",
       "                                             &#x27;MaritalStatus&#x27;, &#x27;Occupation&#x27;,\n",
       "                                             &#x27;Relationship&#x27;, &#x27;Race&#x27;, &#x27;Gender&#x27;,\n",
       "                                             &#x27;CapitalGain&#x27;, &#x27;CapitalLoss&#x27;,\n",
       "                                             &#x27;HoursPerWeek&#x27;, &#x27;NativeCountry&#x27;,\n",
       "                                             &#x27;Relationship x HoursPerWeek&#x27;,\n",
       "                                             &#x27;Age x Relationship&#x27;,\n",
       "                                             &#x27;EducationNum x Occupation&#x27;,\n",
       "                                             &#x27;MaritalStatus x HoursPerWeek&#x27;,\n",
       "                                             &#x27;Occupation x Relationship&#x27;,\n",
       "                                             &#x27;Occ...\n",
       "                              feature_types=[&#x27;continuous&#x27;, &#x27;categorical&#x27;,\n",
       "                                             &#x27;continuous&#x27;, &#x27;categorical&#x27;,\n",
       "                                             &#x27;continuous&#x27;, &#x27;categorical&#x27;,\n",
       "                                             &#x27;categorical&#x27;, &#x27;categorical&#x27;,\n",
       "                                             &#x27;categorical&#x27;, &#x27;categorical&#x27;,\n",
       "                                             &#x27;continuous&#x27;, &#x27;continuous&#x27;,\n",
       "                                             &#x27;continuous&#x27;, &#x27;categorical&#x27;,\n",
       "                                             &#x27;interaction&#x27;, &#x27;interaction&#x27;,\n",
       "                                             &#x27;interaction&#x27;, &#x27;interaction&#x27;,\n",
       "                                             &#x27;interaction&#x27;, &#x27;interaction&#x27;,\n",
       "                                             &#x27;interaction&#x27;, &#x27;interaction&#x27;,\n",
       "                                             &#x27;interaction&#x27;, &#x27;interaction&#x27;],\n",
       "                              n_jobs=-1, random_state=1)</pre></div></div></div></div></div>"
      ],
      "text/plain": [
       "ExplainableBoostingClassifier(feature_names=['Age', 'WorkClass', 'fnlwgt',\n",
       "                                             'Education', 'EducationNum',\n",
       "                                             'MaritalStatus', 'Occupation',\n",
       "                                             'Relationship', 'Race', 'Gender',\n",
       "                                             'CapitalGain', 'CapitalLoss',\n",
       "                                             'HoursPerWeek', 'NativeCountry',\n",
       "                                             'Relationship x HoursPerWeek',\n",
       "                                             'Age x Relationship',\n",
       "                                             'EducationNum x Occupation',\n",
       "                                             'MaritalStatus x HoursPerWeek',\n",
       "                                             'Occupation x Relationship',\n",
       "                                             'Occ...\n",
       "                              feature_types=['continuous', 'categorical',\n",
       "                                             'continuous', 'categorical',\n",
       "                                             'continuous', 'categorical',\n",
       "                                             'categorical', 'categorical',\n",
       "                                             'categorical', 'categorical',\n",
       "                                             'continuous', 'continuous',\n",
       "                                             'continuous', 'categorical',\n",
       "                                             'interaction', 'interaction',\n",
       "                                             'interaction', 'interaction',\n",
       "                                             'interaction', 'interaction',\n",
       "                                             'interaction', 'interaction',\n",
       "                                             'interaction', 'interaction'],\n",
       "                              n_jobs=-1, random_state=1)"
      ]
     },
     "execution_count": 3,
     "metadata": {},
     "output_type": "execute_result"
    }
   ],
   "source": [
    "from interpret.glassbox import ExplainableBoostingClassifier, LogisticRegression, ClassificationTree, DecisionListClassifier\n",
    "\n",
    "ebm = ExplainableBoostingClassifier(random_state=seed, n_jobs=-1)\n",
    "ebm.fit(X_train, y_train)   #Works on dataframes and numpy arrays"
   ]
  },
  {
   "cell_type": "markdown",
   "metadata": {},
   "source": [
    "## Global Explanations: What the model learned overall"
   ]
  },
  {
   "cell_type": "code",
   "execution_count": 4,
   "metadata": {},
   "outputs": [
    {
     "data": {
      "text/html": [
       "<!-- http://127.0.0.1:7001/140532391103552/ -->\n",
       "<iframe src=\"http://127.0.0.1:7001/140532391103552/\" width=100% height=800 frameBorder=\"0\"></iframe>"
      ]
     },
     "metadata": {},
     "output_type": "display_data"
    }
   ],
   "source": [
    "ebm_global = ebm.explain_global(name='EBM')\n",
    "show(ebm_global)"
   ]
  },
  {
   "cell_type": "markdown",
   "metadata": {},
   "source": [
    "## Local Explanations: How an individual prediction was made"
   ]
  },
  {
   "cell_type": "code",
   "execution_count": 5,
   "metadata": {},
   "outputs": [
    {
     "data": {
      "text/html": [
       "<!-- http://127.0.0.1:7001/140532391222912/ -->\n",
       "<iframe src=\"http://127.0.0.1:7001/140532391222912/\" width=100% height=800 frameBorder=\"0\"></iframe>"
      ]
     },
     "metadata": {},
     "output_type": "display_data"
    }
   ],
   "source": [
    "ebm_local = ebm.explain_local(X_test[:5], y_test[:5], name='EBM')\n",
    "show(ebm_local)"
   ]
  },
  {
   "cell_type": "markdown",
   "metadata": {},
   "source": [
    "## Evaluate EBM performance"
   ]
  },
  {
   "cell_type": "code",
   "execution_count": 6,
   "metadata": {
    "scrolled": false
   },
   "outputs": [
    {
     "data": {
      "text/html": [
       "<!-- http://127.0.0.1:7001/140532391221136/ -->\n",
       "<iframe src=\"http://127.0.0.1:7001/140532391221136/\" width=100% height=800 frameBorder=\"0\"></iframe>"
      ]
     },
     "metadata": {},
     "output_type": "display_data"
    }
   ],
   "source": [
    "from interpret.perf import ROC\n",
    "\n",
    "ebm_perf = ROC(ebm.predict_proba).explain_perf(X_test, y_test, name='EBM')\n",
    "show(ebm_perf)"
   ]
  },
  {
   "cell_type": "markdown",
   "metadata": {},
   "source": [
    "## Let's test out a few other Explainable Models"
   ]
  },
  {
   "cell_type": "code",
   "execution_count": 7,
   "metadata": {
    "scrolled": true
   },
   "outputs": [
    {
     "data": {
      "text/plain": [
       "<interpret.glassbox.decisiontree.ClassificationTree at 0x7fd03f74b8b0>"
      ]
     },
     "execution_count": 7,
     "metadata": {},
     "output_type": "execute_result"
    }
   ],
   "source": [
    "from interpret.glassbox import LogisticRegression, ClassificationTree\n",
    "\n",
    "# We have to transform categorical variables to use Logistic Regression and Decision Tree\n",
    "X_enc = pd.get_dummies(X, prefix_sep='.')\n",
    "feature_names = list(X_enc.columns)\n",
    "X_train_enc, X_test_enc, y_train, y_test = train_test_split(X_enc, y, test_size=0.20, random_state=seed)\n",
    "\n",
    "lr = LogisticRegression(random_state=seed, feature_names=feature_names, penalty='l1', solver='liblinear')\n",
    "lr.fit(X_train_enc, y_train)\n",
    "\n",
    "tree = ClassificationTree()\n",
    "tree.fit(X_train_enc, y_train)"
   ]
  },
  {
   "cell_type": "markdown",
   "metadata": {},
   "source": [
    "## Compare performance using the Dashboard"
   ]
  },
  {
   "cell_type": "code",
   "execution_count": 8,
   "metadata": {
    "scrolled": false
   },
   "outputs": [
    {
     "data": {
      "text/html": [
       "<!-- http://127.0.0.1:7001/140531974227712/ -->\n",
       "<iframe src=\"http://127.0.0.1:7001/140531974227712/\" width=100% height=800 frameBorder=\"0\"></iframe>"
      ]
     },
     "metadata": {},
     "output_type": "display_data"
    },
    {
     "data": {
      "text/html": [
       "<!-- http://127.0.0.1:7001/140531974227760/ -->\n",
       "<iframe src=\"http://127.0.0.1:7001/140531974227760/\" width=100% height=800 frameBorder=\"0\"></iframe>"
      ]
     },
     "metadata": {},
     "output_type": "display_data"
    },
    {
     "data": {
      "text/html": [
       "<!-- http://127.0.0.1:7001/140532391221136/ -->\n",
       "<iframe src=\"http://127.0.0.1:7001/140532391221136/\" width=100% height=800 frameBorder=\"0\"></iframe>"
      ]
     },
     "metadata": {},
     "output_type": "display_data"
    }
   ],
   "source": [
    "lr_perf = ROC(lr.predict_proba).explain_perf(X_test_enc, y_test, name='Logistic Regression')\n",
    "tree_perf = ROC(tree.predict_proba).explain_perf(X_test_enc, y_test, name='Classification Tree')\n",
    "\n",
    "show(lr_perf)\n",
    "show(tree_perf)\n",
    "show(ebm_perf)"
   ]
  },
  {
   "cell_type": "markdown",
   "metadata": {},
   "source": [
    "## Glassbox: All of our models have global and local explanations"
   ]
  },
  {
   "cell_type": "code",
   "execution_count": 9,
   "metadata": {
    "scrolled": false
   },
   "outputs": [
    {
     "data": {
      "text/html": [
       "<!-- http://127.0.0.1:7001/140532391220944/ -->\n",
       "<iframe src=\"http://127.0.0.1:7001/140532391220944/\" width=100% height=800 frameBorder=\"0\"></iframe>"
      ]
     },
     "metadata": {},
     "output_type": "display_data"
    },
    {
     "data": {
      "text/html": [
       "<!-- http://127.0.0.1:7001/140531974382688/ -->\n",
       "<iframe src=\"http://127.0.0.1:7001/140531974382688/\" width=100% height=800 frameBorder=\"0\"></iframe>"
      ]
     },
     "metadata": {},
     "output_type": "display_data"
    },
    {
     "data": {
      "text/html": [
       "<!-- http://127.0.0.1:7001/140532391103552/ -->\n",
       "<iframe src=\"http://127.0.0.1:7001/140532391103552/\" width=100% height=800 frameBorder=\"0\"></iframe>"
      ]
     },
     "metadata": {},
     "output_type": "display_data"
    }
   ],
   "source": [
    "lr_global = lr.explain_global(name='Logistic Regression')\n",
    "tree_global = tree.explain_global(name='Classification Tree')\n",
    "\n",
    "show(lr_global)\n",
    "show(tree_global)\n",
    "show(ebm_global)"
   ]
  },
  {
   "cell_type": "markdown",
   "metadata": {},
   "source": [
    "## Dashboard: look at everything at once"
   ]
  },
  {
   "cell_type": "code",
   "execution_count": 10,
   "metadata": {
    "pycharm": {
     "name": "#%%\n"
    }
   },
   "outputs": [
    {
     "data": {
      "text/html": [
       "<!-- http://127.0.0.1:7001/140531974502464/ -->\n",
       "<a href=\"http://127.0.0.1:7001/140531974502464/\" target=\"_new\">Open in new window</a><iframe src=\"http://127.0.0.1:7001/140531974502464/\" width=100% height=800 frameBorder=\"0\"></iframe>"
      ]
     },
     "metadata": {},
     "output_type": "display_data"
    }
   ],
   "source": [
    "# Do everything in one shot with the InterpretML Dashboard by passing a list into show\n",
    "\n",
    "show([hist, lr_global, lr_perf, tree_global, tree_perf, ebm_global, ebm_perf], share_tables=True)"
   ]
  },
  {
   "cell_type": "code",
   "execution_count": null,
   "metadata": {},
   "outputs": [],
   "source": []
  }
 ],
 "metadata": {
  "kernelspec": {
   "display_name": "Python 3",
   "language": "python",
   "name": "python3"
  },
  "language_info": {
   "codemirror_mode": {
    "name": "ipython",
    "version": 3
   },
   "file_extension": ".py",
   "mimetype": "text/x-python",
   "name": "python",
   "nbconvert_exporter": "python",
   "pygments_lexer": "ipython3",
   "version": "3.8.8"
  }
 },
 "nbformat": 4,
 "nbformat_minor": 2
}
