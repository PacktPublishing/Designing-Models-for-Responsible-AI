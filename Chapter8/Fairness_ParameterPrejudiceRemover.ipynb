{
  "nbformat": 4,
  "nbformat_minor": 0,
  "metadata": {
    "colab": {
      "provenance": [],
      "authorship_tag": "ABX9TyN+pTBzLukgAK5psb2ubWYU",
      "include_colab_link": true
    },
    "kernelspec": {
      "name": "python3",
      "display_name": "Python 3"
    },
    "language_info": {
      "name": "python"
    },
    "accelerator": "GPU",
    "gpuClass": "standard"
  },
  "cells": [
    {
      "cell_type": "markdown",
      "metadata": {
        "id": "view-in-github",
        "colab_type": "text"
      },
      "source": [
        "<a href=\"https://colab.research.google.com/github/amita-kapoor/Designing-Models-for-Responsible-AI/blob/main/Chapter8/Fairness_ParameterPrejudiceRemover.ipynb\" target=\"_parent\"><img src=\"https://colab.research.google.com/assets/colab-badge.svg\" alt=\"Open In Colab\"/></a>"
      ]
    },
    {
      "cell_type": "code",
      "execution_count": null,
      "metadata": {
        "colab": {
          "base_uri": "https://localhost:8080/"
        },
        "id": "eGwHvOA2JdnY",
        "outputId": "b12ff4e2-6250-4995-f3ff-4b84baa68c81"
      },
      "outputs": [
        {
          "output_type": "stream",
          "name": "stdout",
          "text": [
            "fatal: destination path 'nnabla-examples' already exists and is not an empty directory.\n",
            "/content/nnabla-examples/responsible_ai/prejudice_remover_regularizer\n",
            "Looking in indexes: https://pypi.org/simple, https://us-python.pkg.dev/colab-wheels/public/simple/\n",
            "Requirement already satisfied: nnabla-ext-cuda100 in /usr/local/lib/python3.7/dist-packages (1.25.0)\n",
            "Requirement already satisfied: setuptools in /usr/local/lib/python3.7/dist-packages (from nnabla-ext-cuda100) (57.4.0)\n",
            "Requirement already satisfied: nnabla==1.25.0 in /usr/local/lib/python3.7/dist-packages (from nnabla-ext-cuda100) (1.25.0)\n",
            "Requirement already satisfied: numpy in /usr/local/lib/python3.7/dist-packages (from nnabla==1.25.0->nnabla-ext-cuda100) (1.21.6)\n",
            "Requirement already satisfied: contextlib2 in /usr/local/lib/python3.7/dist-packages (from nnabla==1.25.0->nnabla-ext-cuda100) (0.5.5)\n",
            "Requirement already satisfied: pyyaml in /usr/local/lib/python3.7/dist-packages (from nnabla==1.25.0->nnabla-ext-cuda100) (6.0)\n",
            "Requirement already satisfied: configparser in /usr/local/lib/python3.7/dist-packages (from nnabla==1.25.0->nnabla-ext-cuda100) (5.3.0)\n",
            "Requirement already satisfied: scipy in /usr/local/lib/python3.7/dist-packages (from nnabla==1.25.0->nnabla-ext-cuda100) (1.7.3)\n",
            "Requirement already satisfied: tqdm in /usr/local/lib/python3.7/dist-packages (from nnabla==1.25.0->nnabla-ext-cuda100) (4.64.0)\n",
            "Requirement already satisfied: imageio in /usr/local/lib/python3.7/dist-packages (from nnabla==1.25.0->nnabla-ext-cuda100) (2.9.0)\n",
            "Requirement already satisfied: protobuf>=3.6 in /usr/local/lib/python3.7/dist-packages (from nnabla==1.25.0->nnabla-ext-cuda100) (3.17.3)\n",
            "Requirement already satisfied: pillow in /usr/local/lib/python3.7/dist-packages (from nnabla==1.25.0->nnabla-ext-cuda100) (7.1.2)\n",
            "Requirement already satisfied: h5py<=3.1.0 in /usr/local/lib/python3.7/dist-packages (from nnabla==1.25.0->nnabla-ext-cuda100) (3.1.0)\n",
            "Requirement already satisfied: boto3 in /usr/local/lib/python3.7/dist-packages (from nnabla==1.25.0->nnabla-ext-cuda100) (1.24.65)\n",
            "Requirement already satisfied: six in /usr/local/lib/python3.7/dist-packages (from nnabla==1.25.0->nnabla-ext-cuda100) (1.15.0)\n",
            "Requirement already satisfied: Cython in /usr/local/lib/python3.7/dist-packages (from nnabla==1.25.0->nnabla-ext-cuda100) (0.29.32)\n",
            "Requirement already satisfied: cached-property in /usr/local/lib/python3.7/dist-packages (from h5py<=3.1.0->nnabla==1.25.0->nnabla-ext-cuda100) (1.5.2)\n",
            "Requirement already satisfied: botocore<1.28.0,>=1.27.65 in /usr/local/lib/python3.7/dist-packages (from boto3->nnabla==1.25.0->nnabla-ext-cuda100) (1.27.65)\n",
            "Requirement already satisfied: s3transfer<0.7.0,>=0.6.0 in /usr/local/lib/python3.7/dist-packages (from boto3->nnabla==1.25.0->nnabla-ext-cuda100) (0.6.0)\n",
            "Requirement already satisfied: jmespath<2.0.0,>=0.7.1 in /usr/local/lib/python3.7/dist-packages (from boto3->nnabla==1.25.0->nnabla-ext-cuda100) (1.0.1)\n",
            "Requirement already satisfied: urllib3<1.27,>=1.25.4 in /usr/local/lib/python3.7/dist-packages (from botocore<1.28.0,>=1.27.65->boto3->nnabla==1.25.0->nnabla-ext-cuda100) (1.26.12)\n",
            "Requirement already satisfied: python-dateutil<3.0.0,>=2.1 in /usr/local/lib/python3.7/dist-packages (from botocore<1.28.0,>=1.27.65->boto3->nnabla==1.25.0->nnabla-ext-cuda100) (2.8.2)\n"
          ]
        }
      ],
      "source": [
        "!git clone https://github.com/sony/nnabla-examples.git\n",
        "%cd nnabla-examples/responsible_ai/prejudice_remover_regularizer\n",
        "!pip install nnabla-ext-cuda100"
      ]
    },
    {
      "cell_type": "code",
      "source": [
        "import matplotlib.pyplot as plt\n",
        "import numpy as np\n",
        "import os\n",
        "import sys\n",
        "import pandas as pd\n",
        "from sklearn.model_selection import train_test_split\n",
        "from sklearn.preprocessing import StandardScaler\n",
        "from sklearn import metrics\n",
        "import nnabla as nn\n",
        "from nnabla.logger import logger\n",
        "from nnabla.ext_utils import get_extension_context\n",
        "import nnabla.functions as F\n",
        "import nnabla.parametric_functions as PF\n",
        "import nnabla.solvers as Sol\n",
        "from nnabla.utils.data_iterator import data_iterator\n",
        "from nnabla.utils.data_source import DataSource\n",
        "from sklearn.metrics import confusion_matrix, ConfusionMatrixDisplay\n",
        "from IPython.display import Markdown\n",
        "\n",
        "from utils import load_adult_dataset, CVS, fairness_plot"
      ],
      "metadata": {
        "id": "AkvFy1R8Jmfr"
      },
      "execution_count": null,
      "outputs": []
    },
    {
      "cell_type": "code",
      "source": [
        "X, y, S = load_adult_dataset()\n",
        "S = S.drop(['race'], axis = 1)\n",
        "\n",
        "# split into train/test set\n",
        "X_train, X_test, y_train, y_test, S_train, S_test = train_test_split(X, y, S, test_size=0.3, stratify=y, random_state=89)\n",
        "\n",
        "scale_orig = StandardScaler()\n",
        "X_train = scale_orig.fit_transform(X_train)\n",
        "X_test = scale_orig.fit_transform(X_test)"
      ],
      "metadata": {
        "colab": {
          "base_uri": "https://localhost:8080/",
          "height": 93
        },
        "id": "ULwgVO3cJtSz",
        "outputId": "c79bae50-39d1-4962-9c80-3537bb595fb7"
      },
      "execution_count": null,
      "outputs": [
        {
          "output_type": "display_data",
          "data": {
            "text/plain": [
              "<IPython.core.display.Markdown object>"
            ],
            "text/markdown": "features : 28750 samples, 88 attributes"
          },
          "metadata": {}
        },
        {
          "output_type": "display_data",
          "data": {
            "text/plain": [
              "<IPython.core.display.Markdown object>"
            ],
            "text/markdown": "targets : 28750 samples"
          },
          "metadata": {}
        },
        {
          "output_type": "display_data",
          "data": {
            "text/plain": [
              "<IPython.core.display.Markdown object>"
            ],
            "text/markdown": "sensitives attributes : 28750 samples, 2 attributes"
          },
          "metadata": {}
        }
      ]
    },
    {
      "cell_type": "code",
      "source": [
        "class dataGenerator(DataSource):\n",
        "    def __init__(self,features, labels, senstive_features, shuffle=False):\n",
        "        super(dataGenerator, self).__init__(shuffle=shuffle)\n",
        "        self.x = features\n",
        "        self.y = labels.reshape(-1, 1)\n",
        "        self.s = senstive_features\n",
        "        self._size = self.y.size\n",
        "        self._variables = ('x', 'y', 's')\n",
        "        \n",
        "    def _get_data(self, idx):\n",
        "        return self.x[idx], self.y[idx], self.s[idx]\n",
        "\n",
        "train_data = dataGenerator(X_train, y_train.to_numpy(), S_train.to_numpy(), shuffle=True)\n",
        "test_data = dataGenerator(X_test, y_test.to_numpy(), S_test.to_numpy())\n",
        "\n",
        "batchsize = 32\n",
        "test_batchsize = X_test.shape[0]\n",
        "\n",
        "train_loader = data_iterator(train_data, batch_size=batchsize)\n",
        "test_loader = data_iterator(test_data, batch_size=test_batchsize)"
      ],
      "metadata": {
        "id": "jAD8jphQKOg4"
      },
      "execution_count": null,
      "outputs": []
    },
    {
      "cell_type": "code",
      "source": [
        "ctx = get_extension_context(\"cudnn\", device_id=0) # For one default GPU\n",
        "nn.set_default_context(ctx)"
      ],
      "metadata": {
        "id": "U4_wpSapLGG-"
      },
      "execution_count": null,
      "outputs": []
    },
    {
      "cell_type": "code",
      "source": [
        "n_feat = nn.Variable((batchsize, 88))\n",
        "n_class = nn.Variable((batchsize, 1))\n",
        "n_senstive = nn.Variable((batchsize, 1))\n",
        "\n",
        "test_feat = nn.Variable((test_batchsize, 88))\n",
        "test_class = nn.Variable((test_batchsize, 1))\n",
        "test_senstive = nn.Variable((test_batchsize, 1))"
      ],
      "metadata": {
        "id": "Roeez5PWLg2N"
      },
      "execution_count": null,
      "outputs": []
    },
    {
      "cell_type": "code",
      "source": [
        "def Classifier(n_features, n_hidden=32, p_dropout=0.2,train=True):\n",
        "    with nn.parameter_scope('classifier'):\n",
        "        layer1 = PF.affine(n_features, n_hidden, name='layer1')\n",
        "        layer1 = F.relu(layer1)\n",
        "        if (train):\n",
        "            layer1 = F.dropout(layer1,p_dropout)\n",
        "        layer2 = PF.affine(layer1, n_hidden, name='layer2')\n",
        "        layer2 = F.relu(layer2)\n",
        "        if (train):\n",
        "            layer2 = F.dropout(layer2,p_dropout)\n",
        "        layer3 = PF.affine(layer2, n_hidden, name='layer3')\n",
        "        layer3 = F.relu(layer3)\n",
        "        if (train):\n",
        "            layer3 = F.dropout(layer3,p_dropout)\n",
        "        layer4 = PF.affine(layer3, 1, name='layer4')\n",
        "    return layer4"
      ],
      "metadata": {
        "id": "9Yk9GTrpLq81"
      },
      "execution_count": null,
      "outputs": []
    },
    {
      "cell_type": "code",
      "source": [
        "clf = Classifier(n_feat)\n",
        "clf_sigm = F.sigmoid(clf)\n",
        "clf.persistent = True\n",
        "clf_sigm.persistent = True"
      ],
      "metadata": {
        "id": "uBNVS_6nMQ8J"
      },
      "execution_count": null,
      "outputs": []
    },
    {
      "cell_type": "code",
      "source": [
        "t_clf = Classifier(test_feat,train=False)"
      ],
      "metadata": {
        "id": "rl1RKfWKMWKl"
      },
      "execution_count": null,
      "outputs": []
    },
    {
      "cell_type": "code",
      "source": [
        "loss = F.sum(F.sigmoid_cross_entropy(clf, n_class))\n",
        "loss.persistent = True\n",
        "learning_rate = 1e-03\n",
        "clf_solver = Sol.Adam(learning_rate)\n",
        "with nn.parameter_scope(\"classifier\"):\n",
        "    clf_solver.set_parameters(nn.get_parameters())\n",
        "clf_solver.weight_decay(1e-05)\n",
        "clf_solver.update()"
      ],
      "metadata": {
        "id": "B-e9R9owNE6w"
      },
      "execution_count": null,
      "outputs": []
    },
    {
      "cell_type": "code",
      "source": [
        "max_iter = int(train_loader.size / batchsize)\n",
        "total_epochs = 10\n",
        "for epoch in range(total_epochs):\n",
        "    for i in range(max_iter):\n",
        "        n_feat.d, n_class.d, _ = train_loader.next()\n",
        "        clf_solver.zero_grad()\n",
        "        loss.forward(clear_no_need_grad=True)\n",
        "        loss.backward(clear_buffer=True)\n",
        "        clf_solver.update()"
      ],
      "metadata": {
        "id": "HkazdIRGQtNX"
      },
      "execution_count": null,
      "outputs": []
    },
    {
      "cell_type": "code",
      "source": [
        "test_feat.d, test_class.d,test_senstive.d = test_loader.next()\n",
        "t_clf_out = F.sigmoid(t_clf)\n",
        "t_clf_out.forward(clear_buffer=True)\n",
        "y_pre_clf = t_clf_out.d.ravel()\n",
        "preds = np.where(y_pre_clf > 0.5, 1, 0)\n",
        "clf_accuracy = metrics.accuracy_score(y_test, preds) * 100\n",
        "\n",
        "out_f = t_clf_out.d[test_senstive.d == 1]\n",
        "out_m = t_clf_out.d[test_senstive.d == 0]\n",
        "\n",
        "clf_cv_score = CVS(out_f,out_m)"
      ],
      "metadata": {
        "id": "8CWM1TAcNWZu"
      },
      "execution_count": null,
      "outputs": []
    },
    {
      "cell_type": "code",
      "source": [
        "print(\"Classifier accuracy : \", clf_accuracy,\"Classifier CV2NB Score :\", clf_cv_score)"
      ],
      "metadata": {
        "colab": {
          "base_uri": "https://localhost:8080/"
        },
        "id": "W6bfcDqbNoRo",
        "outputId": "cef0ff53-e2bd-460a-a1ca-5792ffc93758"
      },
      "execution_count": null,
      "outputs": [
        {
          "output_type": "stream",
          "name": "stdout",
          "text": [
            "Classifier accuracy :  84.57971014492753 Classifier CV2NB Score : 0.1611\n"
          ]
        }
      ]
    },
    {
      "cell_type": "code",
      "source": [
        "def pr_loss(output_f, output_m, eta):\n",
        "    \"\"\"\n",
        "    Prejudice Remover Regularizer\n",
        "    \n",
        "    Args:\n",
        "        output_f (NNabla Variable): output of unprivileged class\n",
        "        output_m (NNabla Variable) : output of privileged class\n",
        "        eta : Parameter for Prejudice Remover(eta)\n",
        "    Returns:\n",
        "        Prejudice Index\n",
        "    \"\"\"\n",
        "    N_female = F.constant(output_f.shape[0])\n",
        "    N_male   = F.constant(output_m.shape[0])\n",
        "    Dxisi = F.stack(N_male,N_female,axis=0) #male sample, #female sample\n",
        "    # Pr[y|s]\n",
        "    y_pred_female = F.sum(output_f)\n",
        "    y_pred_male   = F.sum(output_m)\n",
        "    P_ys = F.stack(y_pred_male,y_pred_female,axis=0) / Dxisi\n",
        "    P = F.concatenate(output_f,output_m,axis=0)\n",
        "    P_y =  F.sum(P) / (output_f.shape[0]+output_m.shape[0])\n",
        "    P_s1y1 = F.log(P_ys[1]) - F.log(P_y)\n",
        "    P_s1y0 = F.log(1-P_ys[1]) - F.log(1-P_y)\n",
        "    P_s0y1 = F.log(P_ys[0]) - F.log(P_y)\n",
        "    P_s0y0 = F.log(1-P_ys[0]) - F.log(1-P_y)\n",
        "    \n",
        "    P_s1y1 = F.reshape(P_s1y1,(P_s1y1.d.size,))\n",
        "    P_s1y0 = F.reshape(P_s1y0,(P_s1y0.d.size,))\n",
        "    P_s0y1 = F.reshape(P_s0y1,(P_s0y1.d.size,))\n",
        "    P_s0y0 = F.reshape(P_s0y0,(P_s0y0.d.size,))\n",
        "    \n",
        "    # PI\n",
        "    PI_s1y1 = output_f * P_s1y1\n",
        "    PI_s1y0 =(1- output_f) * P_s1y0\n",
        "    PI_s0y1 = output_m * P_s0y1\n",
        "    PI_s0y0 = (1- output_m )* P_s0y0\n",
        "    PI = F.sum(PI_s1y1) + F.sum(PI_s1y0) + F.sum(PI_s0y1) + F.sum(PI_s0y0)\n",
        "    PI = eta * PI\n",
        "    return PI"
      ],
      "metadata": {
        "id": "iYgVfSObP6M1"
      },
      "execution_count": null,
      "outputs": []
    },
    {
      "cell_type": "code",
      "source": [
        "max_iter = int(train_loader.size / batchsize)\n",
        "acc = [] # to plot the accuracy\n",
        "cvs_score = [] # to plot the CV score\n",
        "eta_value = [0.0,0.5,1.0,2.0,10.0,15.0,20.0,50.0] # Parameter for Prejudice Remover\n",
        "for eta in eta_value :\n",
        "    nn.clear_parameters()\n",
        "    for epoch in range(total_epochs):\n",
        "        for i in range(max_iter):\n",
        "            n_feat.d, n_class.d, n_senstive.d = train_loader.next()\n",
        "            clf_solver.zero_grad()\n",
        "            clf_sigm.forward(clear_no_need_grad=True)\n",
        "            output_f = clf_sigm[n_senstive.d == 0]\n",
        "            output_m = clf_sigm[n_senstive.d == 1]\n",
        "            PILoss = pr_loss(output_f,output_m,eta)\n",
        "            t_loss = loss + PILoss\n",
        "            t_loss.forward(clear_no_need_grad=True)\n",
        "            t_loss.backward(clear_buffer=True)\n",
        "            clf_solver.update()\n",
        "    test_feat.d, test_class.d,test_senstive.d = test_loader.next()\n",
        "    t_clf_out = F.sigmoid(t_clf)\n",
        "    t_clf_out.forward(clear_buffer=True)\n",
        "    y_pre_clf = t_clf_out.d.ravel()\n",
        "    preds = np.where(y_pre_clf > 0.5, 1, 0)\n",
        "    clf_accuracy = metrics.accuracy_score(y_test, preds) * 100\n",
        "    out_f = t_clf_out.d[test_senstive.d == 0]\n",
        "    out_m = t_clf_out.d[test_senstive.d == 1]\n",
        "    cvscore = CVS(out_f,out_m)\n",
        "    acc.append(clf_accuracy)\n",
        "    cvs_score.append(cvscore)"
      ],
      "metadata": {
        "colab": {
          "base_uri": "https://localhost:8080/"
        },
        "id": "dyCuxoY2QUkN",
        "outputId": "ea8ae718-7207-4504-ffee-50840b8c65da"
      },
      "execution_count": null,
      "outputs": [
        {
          "output_type": "stream",
          "name": "stderr",
          "text": [
            "/usr/local/lib/python3.7/dist-packages/ipykernel_launcher.py:12: DeprecationWarning: `np.bool` is a deprecated alias for the builtin `bool`. To silence this warning, use `bool` by itself. Doing this will not modify any behavior and is safe. If you specifically wanted the numpy scalar type, use `np.bool_` here.\n",
            "Deprecated in NumPy 1.20; for more details and guidance: https://numpy.org/devdocs/release/1.20.0-notes.html#deprecations\n",
            "  if sys.path[0] == '':\n",
            "/usr/local/lib/python3.7/dist-packages/ipykernel_launcher.py:13: DeprecationWarning: `np.bool` is a deprecated alias for the builtin `bool`. To silence this warning, use `bool` by itself. Doing this will not modify any behavior and is safe. If you specifically wanted the numpy scalar type, use `np.bool_` here.\n",
            "Deprecated in NumPy 1.20; for more details and guidance: https://numpy.org/devdocs/release/1.20.0-notes.html#deprecations\n",
            "  del sys.path[0]\n",
            "/usr/local/lib/python3.7/dist-packages/ipykernel_launcher.py:12: DeprecationWarning: `np.bool` is a deprecated alias for the builtin `bool`. To silence this warning, use `bool` by itself. Doing this will not modify any behavior and is safe. If you specifically wanted the numpy scalar type, use `np.bool_` here.\n",
            "Deprecated in NumPy 1.20; for more details and guidance: https://numpy.org/devdocs/release/1.20.0-notes.html#deprecations\n",
            "  if sys.path[0] == '':\n",
            "/usr/local/lib/python3.7/dist-packages/ipykernel_launcher.py:13: DeprecationWarning: `np.bool` is a deprecated alias for the builtin `bool`. To silence this warning, use `bool` by itself. Doing this will not modify any behavior and is safe. If you specifically wanted the numpy scalar type, use `np.bool_` here.\n",
            "Deprecated in NumPy 1.20; for more details and guidance: https://numpy.org/devdocs/release/1.20.0-notes.html#deprecations\n",
            "  del sys.path[0]\n",
            "/usr/local/lib/python3.7/dist-packages/ipykernel_launcher.py:12: DeprecationWarning: `np.bool` is a deprecated alias for the builtin `bool`. To silence this warning, use `bool` by itself. Doing this will not modify any behavior and is safe. If you specifically wanted the numpy scalar type, use `np.bool_` here.\n",
            "Deprecated in NumPy 1.20; for more details and guidance: https://numpy.org/devdocs/release/1.20.0-notes.html#deprecations\n",
            "  if sys.path[0] == '':\n",
            "/usr/local/lib/python3.7/dist-packages/ipykernel_launcher.py:13: DeprecationWarning: `np.bool` is a deprecated alias for the builtin `bool`. To silence this warning, use `bool` by itself. Doing this will not modify any behavior and is safe. If you specifically wanted the numpy scalar type, use `np.bool_` here.\n",
            "Deprecated in NumPy 1.20; for more details and guidance: https://numpy.org/devdocs/release/1.20.0-notes.html#deprecations\n",
            "  del sys.path[0]\n",
            "/usr/local/lib/python3.7/dist-packages/ipykernel_launcher.py:12: DeprecationWarning: `np.bool` is a deprecated alias for the builtin `bool`. To silence this warning, use `bool` by itself. Doing this will not modify any behavior and is safe. If you specifically wanted the numpy scalar type, use `np.bool_` here.\n",
            "Deprecated in NumPy 1.20; for more details and guidance: https://numpy.org/devdocs/release/1.20.0-notes.html#deprecations\n",
            "  if sys.path[0] == '':\n",
            "/usr/local/lib/python3.7/dist-packages/ipykernel_launcher.py:13: DeprecationWarning: `np.bool` is a deprecated alias for the builtin `bool`. To silence this warning, use `bool` by itself. Doing this will not modify any behavior and is safe. If you specifically wanted the numpy scalar type, use `np.bool_` here.\n",
            "Deprecated in NumPy 1.20; for more details and guidance: https://numpy.org/devdocs/release/1.20.0-notes.html#deprecations\n",
            "  del sys.path[0]\n",
            "/usr/local/lib/python3.7/dist-packages/ipykernel_launcher.py:12: DeprecationWarning: `np.bool` is a deprecated alias for the builtin `bool`. To silence this warning, use `bool` by itself. Doing this will not modify any behavior and is safe. If you specifically wanted the numpy scalar type, use `np.bool_` here.\n",
            "Deprecated in NumPy 1.20; for more details and guidance: https://numpy.org/devdocs/release/1.20.0-notes.html#deprecations\n",
            "  if sys.path[0] == '':\n",
            "/usr/local/lib/python3.7/dist-packages/ipykernel_launcher.py:13: DeprecationWarning: `np.bool` is a deprecated alias for the builtin `bool`. To silence this warning, use `bool` by itself. Doing this will not modify any behavior and is safe. If you specifically wanted the numpy scalar type, use `np.bool_` here.\n",
            "Deprecated in NumPy 1.20; for more details and guidance: https://numpy.org/devdocs/release/1.20.0-notes.html#deprecations\n",
            "  del sys.path[0]\n",
            "/usr/local/lib/python3.7/dist-packages/ipykernel_launcher.py:12: DeprecationWarning: `np.bool` is a deprecated alias for the builtin `bool`. To silence this warning, use `bool` by itself. Doing this will not modify any behavior and is safe. If you specifically wanted the numpy scalar type, use `np.bool_` here.\n",
            "Deprecated in NumPy 1.20; for more details and guidance: https://numpy.org/devdocs/release/1.20.0-notes.html#deprecations\n",
            "  if sys.path[0] == '':\n",
            "/usr/local/lib/python3.7/dist-packages/ipykernel_launcher.py:13: DeprecationWarning: `np.bool` is a deprecated alias for the builtin `bool`. To silence this warning, use `bool` by itself. Doing this will not modify any behavior and is safe. If you specifically wanted the numpy scalar type, use `np.bool_` here.\n",
            "Deprecated in NumPy 1.20; for more details and guidance: https://numpy.org/devdocs/release/1.20.0-notes.html#deprecations\n",
            "  del sys.path[0]\n",
            "/usr/local/lib/python3.7/dist-packages/ipykernel_launcher.py:12: DeprecationWarning: `np.bool` is a deprecated alias for the builtin `bool`. To silence this warning, use `bool` by itself. Doing this will not modify any behavior and is safe. If you specifically wanted the numpy scalar type, use `np.bool_` here.\n",
            "Deprecated in NumPy 1.20; for more details and guidance: https://numpy.org/devdocs/release/1.20.0-notes.html#deprecations\n",
            "  if sys.path[0] == '':\n",
            "/usr/local/lib/python3.7/dist-packages/ipykernel_launcher.py:13: DeprecationWarning: `np.bool` is a deprecated alias for the builtin `bool`. To silence this warning, use `bool` by itself. Doing this will not modify any behavior and is safe. If you specifically wanted the numpy scalar type, use `np.bool_` here.\n",
            "Deprecated in NumPy 1.20; for more details and guidance: https://numpy.org/devdocs/release/1.20.0-notes.html#deprecations\n",
            "  del sys.path[0]\n",
            "/usr/local/lib/python3.7/dist-packages/ipykernel_launcher.py:12: DeprecationWarning: `np.bool` is a deprecated alias for the builtin `bool`. To silence this warning, use `bool` by itself. Doing this will not modify any behavior and is safe. If you specifically wanted the numpy scalar type, use `np.bool_` here.\n",
            "Deprecated in NumPy 1.20; for more details and guidance: https://numpy.org/devdocs/release/1.20.0-notes.html#deprecations\n",
            "  if sys.path[0] == '':\n",
            "/usr/local/lib/python3.7/dist-packages/ipykernel_launcher.py:13: DeprecationWarning: `np.bool` is a deprecated alias for the builtin `bool`. To silence this warning, use `bool` by itself. Doing this will not modify any behavior and is safe. If you specifically wanted the numpy scalar type, use `np.bool_` here.\n",
            "Deprecated in NumPy 1.20; for more details and guidance: https://numpy.org/devdocs/release/1.20.0-notes.html#deprecations\n",
            "  del sys.path[0]\n"
          ]
        }
      ]
    },
    {
      "cell_type": "code",
      "source": [
        "fairness_plot(eta_value,'Parameter for Prejudice Remover(eta)',acc,\"Accuracy\",cvs_score,\"CV2NB Score\")"
      ],
      "metadata": {
        "colab": {
          "base_uri": "https://localhost:8080/"
        },
        "id": "qPeq-9QSRF7V",
        "outputId": "f40c4f21-85ff-42fd-b7cb-dc6189cff229"
      },
      "execution_count": null,
      "outputs": [
        {
          "output_type": "display_data",
          "data": {
            "text/plain": [
              "<Figure size 720x504 with 2 Axes>"
            ],
            "image/png": "[encoded data removed]"
          },
          "metadata": {
            "needs_background": "light"
          }
        }
      ]
    }
  ]
}