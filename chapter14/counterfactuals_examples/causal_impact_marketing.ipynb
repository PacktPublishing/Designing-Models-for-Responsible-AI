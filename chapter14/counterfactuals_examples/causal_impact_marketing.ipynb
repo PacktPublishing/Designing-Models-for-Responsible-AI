{
 "cells": [
  {
   "cell_type": "markdown",
   "id": "b6b80425",
   "metadata": {},
   "source": [
    "This notebook illustrates how a a retailer can use deep learning to generate new product descriptions for every page on their e-commerce platform and  wanted to observe whether this had worked or not. The work was delivered to the site on a single date and the traffic was trending upwards anyway, so a simple before-and-after test would \n",
    "show an improvement even if you’d done nothing.\n",
    "\n",
    "By running this scenario through a causal impact model, we could make a prediction on, say, the number of \n",
    "organic search impressions generated, and make a prediction on what we would expect to see in the next period\n",
    "if nothing was changed. Then you’d be able to assess whether the number of impressions fell significantly \n",
    "outside the forecast range, thus giving you a good indicator of whether the changes worked or not."
   ]
  },
  {
   "cell_type": "code",
   "execution_count": 1,
   "id": "46b6997e",
   "metadata": {},
   "outputs": [],
   "source": [
    "%matplotlib inline\n",
    "\n",
    "import sys\n",
    "import os\n",
    "import warnings\n",
    "import logging\n",
    "\n",
    "\n",
    "\n",
    "logging.getLogger('tensorflow').setLevel(logging.FATAL)\n",
    "os.environ['TF_CPP_MIN_LOG_LEVEL'] = '3'\n",
    "warnings.filterwarnings(\"ignore\")\n",
    "sys.path.append(os.path.abspath('../'))\n",
    "\n",
    "\n",
    "import numpy as np\n",
    "import pandas as pd\n",
    "import tensorflow as tf\n",
    "import tensorflow_probability as tfp\n",
    "import matplotlib.pyplot as plt\n",
    "from causalimpact import CausalImpact\n",
    "\n",
    "\n",
    "tfd = tfp.distributions\n",
    "plt.rcParams['figure.figsize'] = [15, 10]"
   ]
  },
  {
   "cell_type": "code",
   "execution_count": 2,
   "id": "43de2101",
   "metadata": {},
   "outputs": [
    {
     "data": {
      "text/html": [
       "<div>\n",
       "<style scoped>\n",
       "    .dataframe tbody tr th:only-of-type {\n",
       "        vertical-align: middle;\n",
       "    }\n",
       "\n",
       "    .dataframe tbody tr th {\n",
       "        vertical-align: top;\n",
       "    }\n",
       "\n",
       "    .dataframe thead th {\n",
       "        text-align: right;\n",
       "    }\n",
       "</style>\n",
       "<table border=\"1\" class=\"dataframe\">\n",
       "  <thead>\n",
       "    <tr style=\"text-align: right;\">\n",
       "      <th></th>\n",
       "      <th>date</th>\n",
       "      <th>clicks</th>\n",
       "      <th>impressions</th>\n",
       "      <th>ctr</th>\n",
       "      <th>position</th>\n",
       "    </tr>\n",
       "  </thead>\n",
       "  <tbody>\n",
       "    <tr>\n",
       "      <th>0</th>\n",
       "      <td>2021-07-04</td>\n",
       "      <td>136</td>\n",
       "      <td>6301</td>\n",
       "      <td>2.16</td>\n",
       "      <td>31.97</td>\n",
       "    </tr>\n",
       "    <tr>\n",
       "      <th>1</th>\n",
       "      <td>2021-07-05</td>\n",
       "      <td>264</td>\n",
       "      <td>8697</td>\n",
       "      <td>3.04</td>\n",
       "      <td>27.66</td>\n",
       "    </tr>\n",
       "    <tr>\n",
       "      <th>2</th>\n",
       "      <td>2021-07-06</td>\n",
       "      <td>299</td>\n",
       "      <td>9236</td>\n",
       "      <td>3.24</td>\n",
       "      <td>26.38</td>\n",
       "    </tr>\n",
       "    <tr>\n",
       "      <th>3</th>\n",
       "      <td>2021-07-07</td>\n",
       "      <td>276</td>\n",
       "      <td>10008</td>\n",
       "      <td>2.76</td>\n",
       "      <td>26.77</td>\n",
       "    </tr>\n",
       "    <tr>\n",
       "      <th>4</th>\n",
       "      <td>2021-07-08</td>\n",
       "      <td>283</td>\n",
       "      <td>9725</td>\n",
       "      <td>2.91</td>\n",
       "      <td>25.83</td>\n",
       "    </tr>\n",
       "  </tbody>\n",
       "</table>\n",
       "</div>"
      ],
      "text/plain": [
       "         date  clicks  impressions   ctr  position\n",
       "0  2021-07-04     136         6301  2.16     31.97\n",
       "1  2021-07-05     264         8697  3.04     27.66\n",
       "2  2021-07-06     299         9236  3.24     26.38\n",
       "3  2021-07-07     276        10008  2.76     26.77\n",
       "4  2021-07-08     283         9725  2.91     25.83"
      ]
     },
     "execution_count": 2,
     "metadata": {},
     "output_type": "execute_result"
    }
   ],
   "source": [
    "df = pd.read_csv('https://raw.githubusercontent.com/flyandlure/datasets/master/causal_impact_dataset.csv')\n",
    "df.head()"
   ]
  },
  {
   "cell_type": "code",
   "execution_count": 3,
   "id": "632501ed",
   "metadata": {},
   "outputs": [
    {
     "data": {
      "text/html": [
       "<div>\n",
       "<style scoped>\n",
       "    .dataframe tbody tr th:only-of-type {\n",
       "        vertical-align: middle;\n",
       "    }\n",
       "\n",
       "    .dataframe tbody tr th {\n",
       "        vertical-align: top;\n",
       "    }\n",
       "\n",
       "    .dataframe thead th {\n",
       "        text-align: right;\n",
       "    }\n",
       "</style>\n",
       "<table border=\"1\" class=\"dataframe\">\n",
       "  <thead>\n",
       "    <tr style=\"text-align: right;\">\n",
       "      <th></th>\n",
       "      <th>clicks</th>\n",
       "      <th>impressions</th>\n",
       "      <th>ctr</th>\n",
       "      <th>position</th>\n",
       "    </tr>\n",
       "    <tr>\n",
       "      <th>date</th>\n",
       "      <th></th>\n",
       "      <th></th>\n",
       "      <th></th>\n",
       "      <th></th>\n",
       "    </tr>\n",
       "  </thead>\n",
       "  <tbody>\n",
       "    <tr>\n",
       "      <th>2021-07-04</th>\n",
       "      <td>136</td>\n",
       "      <td>6301</td>\n",
       "      <td>2.16</td>\n",
       "      <td>31.97</td>\n",
       "    </tr>\n",
       "    <tr>\n",
       "      <th>2021-07-05</th>\n",
       "      <td>264</td>\n",
       "      <td>8697</td>\n",
       "      <td>3.04</td>\n",
       "      <td>27.66</td>\n",
       "    </tr>\n",
       "    <tr>\n",
       "      <th>2021-07-06</th>\n",
       "      <td>299</td>\n",
       "      <td>9236</td>\n",
       "      <td>3.24</td>\n",
       "      <td>26.38</td>\n",
       "    </tr>\n",
       "    <tr>\n",
       "      <th>2021-07-07</th>\n",
       "      <td>276</td>\n",
       "      <td>10008</td>\n",
       "      <td>2.76</td>\n",
       "      <td>26.77</td>\n",
       "    </tr>\n",
       "    <tr>\n",
       "      <th>2021-07-08</th>\n",
       "      <td>283</td>\n",
       "      <td>9725</td>\n",
       "      <td>2.91</td>\n",
       "      <td>25.83</td>\n",
       "    </tr>\n",
       "  </tbody>\n",
       "</table>\n",
       "</div>"
      ],
      "text/plain": [
       "            clicks  impressions   ctr  position\n",
       "date                                           \n",
       "2021-07-04     136         6301  2.16     31.97\n",
       "2021-07-05     264         8697  3.04     27.66\n",
       "2021-07-06     299         9236  3.24     26.38\n",
       "2021-07-07     276        10008  2.76     26.77\n",
       "2021-07-08     283         9725  2.91     25.83"
      ]
     },
     "execution_count": 3,
     "metadata": {},
     "output_type": "execute_result"
    }
   ],
   "source": [
    "df['date'] = pd.to_datetime(df['date'])\n",
    "df = df.set_index('date')\n",
    "df.head()"
   ]
  },
  {
   "cell_type": "markdown",
   "id": "d6027e22",
   "metadata": {},
   "source": [
    "### Define the pre-period and post-period dates\n"
   ]
  },
  {
   "cell_type": "markdown",
   "id": "550b990a",
   "metadata": {},
   "source": [
    "Now we’ve got our data prepared, we need to define the pre_period and post_period dates, which need to be \n",
    "provided in list format. The pre_period list will contain two dates: the start date is the earliest date \n",
    "in the dataframe (2021-07-04), while the end date is the day before the site change was made. \n",
    "The post_period contains the date reflecting the day the change was made, plus the end date for this period.\n",
    "\n"
   ]
  },
  {
   "cell_type": "code",
   "execution_count": 4,
   "id": "8e1be2a7",
   "metadata": {},
   "outputs": [],
   "source": [
    "pre_period = ['2021-07-04', '2021-07-17']\n",
    "post_period = ['2021-07-18', '2021-07-31']"
   ]
  },
  {
   "cell_type": "markdown",
   "id": "61ab2f15",
   "metadata": {},
   "source": [
    "### Fit the CausalImpact model\n"
   ]
  },
  {
   "cell_type": "markdown",
   "id": "b9d92136",
   "metadata": {},
   "source": [
    "All we need to do now is pass in the dataframe column containing the metric we want to examine, i.e. clicks \n",
    "and the pre_period and post_period lists containing the four dates. There are various other settings you can \n",
    "configure with CausalImpact, but we’ll just create a simple base model to keep things simple. \n",
    "As this dataset is very small, the model should fit in seconds, with the function returning an object called model \n",
    "that you can manipulate in a number of different ways.\n",
    "\n"
   ]
  },
  {
   "cell_type": "code",
   "execution_count": 5,
   "id": "7b1c3d41",
   "metadata": {},
   "outputs": [
    {
     "name": "stdout",
     "output_type": "stream",
     "text": [
      "WARNING:tensorflow:From /opt/anaconda3/lib/python3.8/site-packages/tensorflow/python/autograph/impl/api.py:458: StructuralTimeSeries.joint_log_prob (from tensorflow_probability.python.sts.structural_time_series) is deprecated and will be removed after 2022-03-01.\n",
      "Instructions for updating:\n",
      "Please use `StructuralTimeSeries.joint_distribution(observed_time_series).log_prob`\n",
      "WARNING:tensorflow:From /Users/shachatt1/Desktop/sharmi/books/My_book_responsible_ai/python_code/causual_impact/tfcausalimpact-master/causalimpact/model.py:408: calling one_step_predictive (from tensorflow_probability.python.sts.forecast) with timesteps_are_event_shape=True is deprecated and will be removed after 2021-12-31.\n",
      "Instructions for updating:\n",
      "`Predictive distributions returned by`tfp.sts.one_step_predictive` will soon compute per-timestep probabilities (treating timesteps as part of the batch shape) instead of a single probability for an entire series (the current approach, in which timesteps are treated as event shape). Please update your code to pass `timesteps_are_event_shape=False` (this will soon be the default) and to explicitly sum over the per-timestep log probabilities if this is required.\n"
     ]
    }
   ],
   "source": [
    "model = CausalImpact(df['clicks'], pre_period, post_period)"
   ]
  },
  {
   "cell_type": "markdown",
   "id": "1013f495",
   "metadata": {},
   "source": [
    "### Examine the model outputs\n"
   ]
  },
  {
   "cell_type": "markdown",
   "id": "ca9cdba0",
   "metadata": {},
   "source": [
    "The above model predicted that in the absence of intervention we should expect to see an average of 243 clicks in \n",
    "the post-intervention period, but we actually generated 344.\n",
    "\n",
    "By subtracting the actual number of clicks in the post-intervention period to what was predicted by the model \n",
    "in the absence of intervention, you get to see the causal effect of that the intervention probably had upon your response variable - the clicks. The site changes made increased clicks by nearly 42%, which was statistically significant and is unlikely to be random \n",
    "(but may, of course, have been caused by something els"
   ]
  },
  {
   "cell_type": "code",
   "execution_count": 6,
   "id": "ceafb506",
   "metadata": {},
   "outputs": [
    {
     "name": "stdout",
     "output_type": "stream",
     "text": [
      "Analysis report {CausalImpact}\n",
      "\n",
      "\n",
      "During the post-intervention period, the response variable had\n",
      "an average value of approx. 344.36. By contrast, in the absence of an\n",
      "intervention, we would have expected an average response of 242.44.\n",
      "The 95% interval of this counterfactual prediction is [204.2, 279.78].\n",
      "Subtracting this prediction from the observed response yields\n",
      "an estimate of the causal effect the intervention had on the\n",
      "response variable. This effect is 101.92 with a 95% interval of\n",
      "[64.58, 140.15]. For a discussion of the significance of this effect,\n",
      "see below.\n",
      "\n",
      "\n",
      "Summing up the individual data points during the post-intervention\n",
      "period (which can only sometimes be meaningfully interpreted), the\n",
      "response variable had an overall value of 4821.0.\n",
      "By contrast, had the intervention not taken place, we would have expected\n",
      "a sum of 3394.14. The 95% interval of this prediction is [2858.84, 3916.95].\n",
      "\n",
      "\n",
      "The above results are given in terms of absolute numbers. In relative\n",
      "terms, the response variable showed an increase of +42.04%. The 95%\n",
      "interval of this percentage is [26.64%, 57.81%].\n",
      "\n",
      "\n",
      "This means that the positive effect observed during the intervention\n",
      "period is statistically significant and unlikely to be due to random\n",
      "fluctuations. It should be noted, however, that the question of whether\n",
      "this increase also bears substantive significance can only be answered\n",
      "by comparing the absolute effect (101.92) to the original goal\n",
      "of the underlying intervention.\n",
      "\n",
      "\n",
      "The probability of obtaining this effect by chance is very small\n",
      "(Bayesian one-sided tail-area probability p = 0.0).\n",
      "This means the causal effect can be considered statistically\n",
      "significant.\n"
     ]
    }
   ],
   "source": [
    "print(model.summary(output='report'))"
   ]
  },
  {
   "cell_type": "markdown",
   "id": "b0ecc87c",
   "metadata": {},
   "source": [
    "To see the actual statistics from the Causal Impact model, you can print the output of model.summary(). \n",
    "This shows you various data points mentioned in the verbose summary above, including the absolute and relative\n",
    "effects, the prediction and the actual.\n",
    "\n"
   ]
  },
  {
   "cell_type": "code",
   "execution_count": 7,
   "id": "8828bf46",
   "metadata": {},
   "outputs": [
    {
     "name": "stdout",
     "output_type": "stream",
     "text": [
      "Posterior Inference {Causal Impact}\n",
      "                          Average            Cumulative\n",
      "Actual                    344.36             4821.0\n",
      "Prediction (s.d.)         242.44 (19.28)     3394.14 (269.93)\n",
      "95% CI                    [204.2, 279.78]    [2858.84, 3916.95]\n",
      "\n",
      "Absolute effect (s.d.)    101.92 (19.28)     1426.86 (269.93)\n",
      "95% CI                    [64.58, 140.15]    [904.05, 1962.16]\n",
      "\n",
      "Relative effect (s.d.)    42.04% (7.95%)     42.04% (7.95%)\n",
      "95% CI                    [26.64%, 57.81%]   [26.64%, 57.81%]\n",
      "\n",
      "Posterior tail-area probability p: 0.0\n",
      "Posterior prob. of a causal effect: 100.0%\n",
      "\n",
      "For more details run the command: print(impact.summary('report'))\n"
     ]
    }
   ],
   "source": [
    "print(model.summary())\n"
   ]
  },
  {
   "cell_type": "markdown",
   "id": "787d5b01",
   "metadata": {},
   "source": [
    "If you want to observe the time series data in a plot, you can run model.plot(). \n",
    "This will show the whole time series and place a line on the chart indicating the start of \n",
    "the post-intervention period at which the site change was made. It will plot the predicted response \n",
    "variable - y - as well as the actual value recorded, and a confidence interval. It also shows the cumulative effect,\n",
    "which in our case is positive, as the site change seemed to work rather well.\n",
    "\n"
   ]
  },
  {
   "cell_type": "code",
   "execution_count": 8,
   "id": "0f3f125a",
   "metadata": {},
   "outputs": [
    {
     "data": {
      "image/png": "[encoded data removed]",
      "text/plain": [
       "<Figure size 720x504 with 3 Axes>"
      ]
     },
     "metadata": {
      "needs_background": "light"
     },
     "output_type": "display_data"
    }
   ],
   "source": [
    "model.plot()\n"
   ]
  },
  {
   "cell_type": "markdown",
   "id": "6dc2cdb8",
   "metadata": {},
   "source": [
    "You can output the inferences dataframe. This gives you all the raw data, and the various predictions and actual data, should you wish to analyse them separately.\n",
    "\n"
   ]
  },
  {
   "cell_type": "markdown",
   "id": "b9cfee32",
   "metadata": {},
   "source": [
    "### Further reading"
   ]
  },
  {
   "cell_type": "markdown",
   "id": "59eddb78",
   "metadata": {},
   "source": [
    "\n",
    "Brodersen, K.H., Gallusser, F., Koehler, J., Remy, N. and Scott, S.L., 2015. Inferring causal impact using Bayesian structural time-series models. The Annals of Applied Statistics, 9(1), pp.247-274."
   ]
  },
  {
   "cell_type": "code",
   "execution_count": null,
   "id": "fe618b26",
   "metadata": {},
   "outputs": [],
   "source": []
  }
 ],
 "metadata": {
  "kernelspec": {
   "display_name": "Python 3",
   "language": "python",
   "name": "python3"
  },
  "language_info": {
   "codemirror_mode": {
    "name": "ipython",
    "version": 3
   },
   "file_extension": ".py",
   "mimetype": "text/x-python",
   "name": "python",
   "nbconvert_exporter": "python",
   "pygments_lexer": "ipython3",
   "version": "3.8.8"
  }
 },
 "nbformat": 4,
 "nbformat_minor": 5
}
